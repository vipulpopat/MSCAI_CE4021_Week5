{
 "cells": [
  {
   "cell_type": "code",
   "execution_count": 1,
   "metadata": {},
   "outputs": [
    {
     "data": {
      "image/png": "[encoded data removed]",
      "text/plain": [
       "<IPython.core.display.Image object>"
      ]
     },
     "metadata": {},
     "output_type": "display_data"
    }
   ],
   "source": [
    "clear, clc, close all\n",
    "\n",
    "#rng(0)\n",
    "data = load('test.mat');\n",
    "data = data.data;\n",
    "\n",
    "#data(:,1) = randn(30,1);\n",
    "#data(:,2) = 3.4 + 1.2 * data(:,1);\n",
    "#data(:,2) = data(:,2) + 0.2*randn(size(data(:,1)));\n",
    "#data = sortrows(data,1);\n",
    "\n",
    "figure\n",
    "axes('LineWidth',0.6,...\n",
    "    'FontName','Helvetica',...\n",
    "    'FontSize',8,...\n",
    "    'XAxisLocation','Origin',...\n",
    "    'YAxisLocation','Origin');\n",
    "line(data(:,1),data(:,2),...\n",
    "    'LineStyle','None',...\n",
    "    'Marker','o');\n",
    "axis equal"
   ]
  },
  {
   "cell_type": "markdown",
   "metadata": {},
   "source": [
    "Step 1\n",
    "\n",
    "First we have to mean center the data, i.e. substract the univariate means from the two columns, i.e. the two variables of data. In the following steps we therefore study the deviations from the mean(s) only."
   ]
  },
  {
   "cell_type": "code",
   "execution_count": 2,
   "metadata": {},
   "outputs": [],
   "source": [
    "data(:,1) = data(:,1)-mean(data(:,1));\n",
    "data(:,2) = data(:,2)-mean(data(:,2));"
   ]
  },
  {
   "cell_type": "markdown",
   "metadata": {},
   "source": [
    "Step 2\n",
    "\n",
    "Next we calculate the covariance matrix of data. The covariance matrix contains all necessary information to rotate the coordinate system."
   ]
  },
  {
   "cell_type": "code",
   "execution_count": 3,
   "metadata": {},
   "outputs": [
    {
     "name": "stdout",
     "output_type": "stream",
     "text": [
      "C =\n",
      "\n",
      "    34.434   135.768\n",
      "   135.768   540.935\n",
      "\n"
     ]
    }
   ],
   "source": [
    "C = cov(data)"
   ]
  },
  {
   "cell_type": "markdown",
   "metadata": {},
   "source": [
    "Step 3\n",
    "\n",
    "The rotation helps to create new variables which are uncorrelated, i.e. the covariance is zero for all pairs of the new variables. The decorrelation is achieved by diagonalizing the covariance matrix C. The eigenvectors V belonging to the diagonalized covariance matrix are a linear combination of the old base vectors, thus expressing the correlation between the old and the new time series. We find the eigenvalues of the covariance matrix C by solving the equation"
   ]
  },
  {
   "cell_type": "code",
   "execution_count": 4,
   "metadata": {},
   "outputs": [
    {
     "name": "stdout",
     "output_type": "stream",
     "text": [
      "V =\n",
      "\n",
      "  -0.96988   0.24358\n",
      "   0.24358   0.96988\n",
      "\n",
      "D =\n",
      "\n",
      "Diagonal Matrix\n",
      "\n",
      "     0.33676           0\n",
      "           0   575.03236\n",
      "\n"
     ]
    }
   ],
   "source": [
    "[V,D] = eig(C)"
   ]
  },
  {
   "cell_type": "code",
   "execution_count": 5,
   "metadata": {},
   "outputs": [
    {
     "data": {
      "image/png": "[encoded data removed]",
      "text/plain": [
       "<IPython.core.display.Image object>"
      ]
     },
     "metadata": {},
     "output_type": "display_data"
    }
   ],
   "source": [
    "figure\n",
    "axes('LineWidth',0.6,...\n",
    "    'FontName','Helvetica',...\n",
    "    'FontSize',8,...\n",
    "    'XAxisLocation','Origin',...\n",
    "    'YAxisLocation','Origin');\n",
    "line(data(:,1),data(:,2),...\n",
    "    'LineStyle','None',...\n",
    "    'Marker','o');\n",
    "line([0 V(1,1)],[0 V(2,1)],...\n",
    "    'Color',[0.8 0.5 0.3],...\n",
    "    'LineWidth',0.75);\n",
    "line([0 V(1,2)],[0 V(2,2)],...\n",
    "    'Color',[0.8 0.5 0.3],...\n",
    "    'LineWidth',0.75);\n",
    "axis equal"
   ]
  },
  {
   "cell_type": "markdown",
   "metadata": {},
   "source": [
    "Step 4\n",
    "\n",
    "Calculating the data set in the new coordinate system. We need to flip newdata left/right since the second column is the one with the larges eigenvalue."
   ]
  },
  {
   "cell_type": "code",
   "execution_count": 6,
   "metadata": {},
   "outputs": [],
   "source": [
    "newdata = V * data';\n",
    "newdata = newdata';\n",
    "#newdata = fliplr(newdata)"
   ]
  },
  {
   "cell_type": "code",
   "execution_count": 7,
   "metadata": {},
   "outputs": [
    {
     "name": "stdout",
     "output_type": "stream",
     "text": [
      "ans =\n",
      "\n",
      "     0.33676   575.03236\n",
      "\n",
      "ans =\n",
      "\n",
      "   5.8530e-04   9.9941e-01\n",
      "\n"
     ]
    }
   ],
   "source": [
    "var(newdata)\n",
    "var(newdata)/sum(var(newdata))"
   ]
  },
  {
   "cell_type": "code",
   "execution_count": 8,
   "metadata": {},
   "outputs": [
    {
     "data": {
      "image/png": "[encoded data removed]",
      "text/plain": [
       "<IPython.core.display.Image object>"
      ]
     },
     "metadata": {},
     "output_type": "display_data"
    }
   ],
   "source": [
    "figure\n",
    "axes('LineWidth',0.6,...\n",
    "    'FontName','Helvetica',...\n",
    "    'FontSize',8,...\n",
    "    'XAxisLocation','Origin',...\n",
    "    'YAxisLocation','Origin')\n",
    "line(newdata(:,1),newdata(:,2),...\n",
    "    'LineStyle','None',...\n",
    "    'Marker','o');\n",
    "axis equal"
   ]
  },
  {
   "cell_type": "code",
   "execution_count": 9,
   "metadata": {},
   "outputs": [
    {
     "name": "stdout",
     "output_type": "stream",
     "text": [
      "newdata =\n",
      "\n",
      "  -38.925301    0.028839\n",
      "  -30.983931   -0.921192\n",
      "  -32.921777    0.609487\n",
      "  -26.228334   -0.095116\n",
      "  -25.740729    0.921431\n",
      "  -18.720956    0.039512\n",
      "  -13.157022   -0.135039\n",
      "  -10.474653    0.121063\n",
      "   -4.089838   -0.538816\n",
      "    0.113548   -0.272989\n",
      "   -1.305514    0.800293\n",
      "    5.111671    0.029613\n",
      "   13.921625   -1.120338\n",
      "   17.650685   -0.766548\n",
      "   16.891796    0.257705\n",
      "   21.988106   -0.041657\n",
      "   27.187760   -0.095949\n",
      "   32.470741   -0.333828\n",
      "   31.179252    0.531050\n",
      "   36.032872    0.982481\n",
      "\n",
      "tsd =\n",
      "\n",
      "   2.637415\n",
      "   4.189353\n",
      "   2.987919\n",
      "   1.223190\n",
      "   3.673438\n",
      "   0.614122\n",
      "   0.355189\n",
      "   0.234325\n",
      "   0.891191\n",
      "   0.221316\n",
      "   1.904814\n",
      "   0.048044\n",
      "   4.064193\n",
      "   2.286635\n",
      "   0.693410\n",
      "   0.845935\n",
      "   1.312786\n",
      "   2.164468\n",
      "   2.528024\n",
      "   5.124235\n",
      "\n"
     ]
    }
   ],
   "source": [
    "pkg load statistics\n",
    "[coeff,newdata,latend,tsd] = princomp(data);\n",
    "newdata\n",
    "tsd"
   ]
  },
  {
   "cell_type": "code",
   "execution_count": 10,
   "metadata": {},
   "outputs": [
    {
     "name": "stdout",
     "output_type": "stream",
     "text": [
      "ans =\n",
      "\n",
      "   1.0000e+00  -2.0962e-15\n",
      "  -2.0962e-15   1.0000e+00\n",
      "\n"
     ]
    }
   ],
   "source": [
    "corrcoef(newdata)"
   ]
  }
 ],
 "metadata": {
  "kernelspec": {
   "display_name": "Octave",
   "language": "octave",
   "name": "octave"
  },
  "language_info": {
   "file_extension": ".m",
   "help_links": [
    {
     "text": "GNU Octave",
     "url": "https://www.gnu.org/software/octave/support.html"
    },
    {
     "text": "Octave Kernel",
     "url": "https://github.com/Calysto/octave_kernel"
    },
    {
     "text": "MetaKernel Magics",
     "url": "https://github.com/calysto/metakernel/blob/master/metakernel/magics/README.md"
    }
   ],
   "mimetype": "text/x-octave",
   "name": "octave",
   "version": "4.2.2"
  }
 },
 "nbformat": 4,
 "nbformat_minor": 2
}
