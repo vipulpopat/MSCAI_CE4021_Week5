{
 "cells": [
  {
   "cell_type": "code",
   "execution_count": 1,
   "metadata": {},
   "outputs": [
    {
     "data": {
      "image/png": "[encoded data removed]",
      "text/plain": [
       "<IPython.core.display.Image object>"
      ]
     },
     "metadata": {},
     "output_type": "display_data"
    }
   ],
   "source": [
    "clear, clc, close all\n",
    "\n",
    "#rng(0)\n",
    "data = load('test.mat');\n",
    "data = data.data;\n",
    "\n",
    "#data(:,1) = randn(30,1);\n",
    "#data(:,2) = 3.4 + 1.2 * data(:,1);\n",
    "#data(:,2) = data(:,2) + 0.2*randn(size(data(:,1)));\n",
    "#data = sortrows(data,1);\n",
    "\n",
    "figure\n",
    "axes('LineWidth',0.6,...\n",
    "    'FontName','Helvetica',...\n",
    "    'FontSize',8,...\n",
    "    'XAxisLocation','Origin',...\n",
    "    'YAxisLocation','Origin');\n",
    "line(data(:,1),data(:,2),...\n",
    "    'LineStyle','None',...\n",
    "    'Marker','o');\n",
    "axis equal"
   ]
  },
  {
   "cell_type": "markdown",
   "metadata": {},
   "source": [
    "Step 1\n",
    "\n",
    "First we have to mean center the data, i.e. substract the univariate means from the two columns, i.e. the two variables of data. In the following steps we therefore study the deviations from the mean(s) only."
   ]
  },
  {
   "cell_type": "code",
   "execution_count": 2,
   "metadata": {},
   "outputs": [],
   "source": [
    "data(:,1) = data(:,1)-mean(data(:,1));\n",
    "data(:,2) = data(:,2)-mean(data(:,2));"
   ]
  },
  {
   "cell_type": "markdown",
   "metadata": {},
   "source": [
    "Step 2\n",
    "\n",
    "Next we calculate the covariance matrix of data. The covariance matrix contains all necessary information to rotate the coordinate system."
   ]
  },
  {
   "cell_type": "code",
   "execution_count": 3,
   "metadata": {},
   "outputs": [
    {
     "name": "stdout",
     "output_type": "stream",
     "text": [
      "C =\n",
      "\n",
      "    35.376   143.519\n",
      "   143.519   591.541\n",
      "\n"
     ]
    }
   ],
   "source": [
    "C = cov(data)"
   ]
  },
  {
   "cell_type": "markdown",
   "metadata": {},
   "source": [
    "Step 3\n",
    "\n",
    "The rotation helps to create new variables which are uncorrelated, i.e. the covariance is zero for all pairs of the new variables. The decorrelation is achieved by diagonalizing the covariance matrix C. The eigenvectors V belonging to the diagonalized covariance matrix are a linear combination of the old base vectors, thus expressing the correlation between the old and the new time series. We find the eigenvalues of the covariance matrix C by solving the equation"
   ]
  },
  {
   "cell_type": "code",
   "execution_count": 4,
   "metadata": {},
   "outputs": [
    {
     "name": "stdout",
     "output_type": "stream",
     "text": [
      "V =\n",
      "\n",
      "  -0.97176   0.23598\n",
      "   0.23598   0.97176\n",
      "\n",
      "D =\n",
      "\n",
      "Diagonal Matrix\n",
      "\n",
      "     0.52428           0\n",
      "           0   626.39254\n",
      "\n"
     ]
    }
   ],
   "source": [
    "[V,D] = eig(C)"
   ]
  },
  {
   "cell_type": "code",
   "execution_count": 5,
   "metadata": {},
   "outputs": [
    {
     "data": {
      "image/png": "[encoded data removed]",
      "text/plain": [
       "<IPython.core.display.Image object>"
      ]
     },
     "metadata": {},
     "output_type": "display_data"
    }
   ],
   "source": [
    "figure\n",
    "axes('LineWidth',0.6,...\n",
    "    'FontName','Helvetica',...\n",
    "    'FontSize',8,...\n",
    "    'XAxisLocation','Origin',...\n",
    "    'YAxisLocation','Origin');\n",
    "line(data(:,1),data(:,2),...\n",
    "    'LineStyle','None',...\n",
    "    'Marker','o');\n",
    "line([0 V(1,1)],[0 V(2,1)],...\n",
    "    'Color',[0.8 0.5 0.3],...\n",
    "    'LineWidth',0.75);\n",
    "line([0 V(1,2)],[0 V(2,2)],...\n",
    "    'Color',[0.8 0.5 0.3],...\n",
    "    'LineWidth',0.75);\n",
    "axis equal"
   ]
  },
  {
   "cell_type": "markdown",
   "metadata": {},
   "source": [
    "Step 4\n",
    "\n",
    "Calculating the data set in the new coordinate system. We need to flip newdata left/right since the second column is the one with the larges eigenvalue."
   ]
  },
  {
   "cell_type": "code",
   "execution_count": 6,
   "metadata": {},
   "outputs": [],
   "source": [
    "newdata = V * data';\n",
    "newdata = newdata';\n",
    "#newdata = fliplr(newdata)"
   ]
  },
  {
   "cell_type": "code",
   "execution_count": 7,
   "metadata": {},
   "outputs": [
    {
     "name": "stdout",
     "output_type": "stream",
     "text": [
      "ans =\n",
      "\n",
      "     0.52428   626.39254\n",
      "\n",
      "ans =\n",
      "\n",
      "   8.3628e-04   9.9916e-01\n",
      "\n"
     ]
    }
   ],
   "source": [
    "var(newdata)\n",
    "var(newdata)/sum(var(newdata))"
   ]
  },
  {
   "cell_type": "code",
   "execution_count": 8,
   "metadata": {},
   "outputs": [
    {
     "data": {
      "image/png": "[encoded data removed]",
      "text/plain": [
       "<IPython.core.display.Image object>"
      ]
     },
     "metadata": {},
     "output_type": "display_data"
    }
   ],
   "source": [
    "figure\n",
    "axes('LineWidth',0.6,...\n",
    "    'FontName','Helvetica',...\n",
    "    'FontSize',8,...\n",
    "    'XAxisLocation','Origin',...\n",
    "    'YAxisLocation','Origin')\n",
    "line(newdata(:,1),newdata(:,2),...\n",
    "    'LineStyle','None',...\n",
    "    'Marker','o');\n",
    "axis equal"
   ]
  },
  {
   "cell_type": "code",
   "execution_count": 9,
   "metadata": {},
   "outputs": [
    {
     "name": "stdout",
     "output_type": "stream",
     "text": [
      "newdata =\n",
      "\n",
      "  -42.30397   -0.44616\n",
      "  -36.66642   -0.10192\n",
      "  -30.93751    0.26792\n",
      "  -26.90966    0.25314\n",
      "  -18.69170    1.22550\n",
      "  -18.09741    0.16382\n",
      "  -17.96099   -0.71694\n",
      "  -11.48355   -0.33012\n",
      "   -6.22619   -0.11207\n",
      "    1.97065    1.04634\n",
      "    0.17929   -0.54547\n",
      "    3.99473   -0.80230\n",
      "   13.05403    0.95155\n",
      "   16.80928    0.29154\n",
      "   17.22254   -0.22516\n",
      "   26.09048    0.83900\n",
      "   23.23994   -0.93575\n",
      "   26.85754   -1.56519\n",
      "   37.12699    0.18438\n",
      "   42.73194    0.55790\n",
      "\n",
      "tsd =\n",
      "\n",
      "   3.236724\n",
      "   2.166113\n",
      "   1.664913\n",
      "   1.278259\n",
      "   3.422375\n",
      "   0.574047\n",
      "   1.495405\n",
      "   0.418385\n",
      "   0.085841\n",
      "   2.094437\n",
      "   0.567566\n",
      "   1.253222\n",
      "   1.999061\n",
      "   0.613195\n",
      "   0.570230\n",
      "   2.429368\n",
      "   2.532381\n",
      "   5.824276\n",
      "   2.265400\n",
      "   3.508800\n",
      "\n"
     ]
    }
   ],
   "source": [
    "pkg load statistics\n",
    "[coeff,newdata,latend,tsd] = princomp(data);\n",
    "newdata\n",
    "tsd"
   ]
  },
  {
   "cell_type": "code",
   "execution_count": 10,
   "metadata": {},
   "outputs": [
    {
     "name": "stdout",
     "output_type": "stream",
     "text": [
      "ans =\n",
      "\n",
      "   1.0000e+00   3.2605e-15\n",
      "   3.2605e-15   1.0000e+00\n",
      "\n"
     ]
    }
   ],
   "source": [
    "corrcoef(newdata)"
   ]
  }
 ],
 "metadata": {
  "kernelspec": {
   "display_name": "Octave",
   "language": "octave",
   "name": "octave"
  },
  "language_info": {
   "file_extension": ".m",
   "help_links": [
    {
     "text": "GNU Octave",
     "url": "https://www.gnu.org/software/octave/support.html"
    },
    {
     "text": "Octave Kernel",
     "url": "https://github.com/Calysto/octave_kernel"
    },
    {
     "text": "MetaKernel Magics",
     "url": "https://github.com/calysto/metakernel/blob/master/metakernel/magics/README.md"
    }
   ],
   "mimetype": "text/x-octave",
   "name": "octave",
   "version": "4.2.2"
  }
 },
 "nbformat": 4,
 "nbformat_minor": 2
}
