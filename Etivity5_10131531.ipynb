{
 "cells": [
  {
   "cell_type": "code",
   "execution_count": 1,
   "metadata": {},
   "outputs": [],
   "source": [
    " %matplotlib inline\n",
    "import numpy as np\n",
    "import random as rand\n",
    "import matplotlib.pyplot as plt\n",
    "from numpy.linalg import eig\n",
    "from sklearn.decomposition import PCA\n",
    "\n",
    "a_x = 0.05\n",
    "a_y= 10"
   ]
  },
  {
   "cell_type": "code",
   "execution_count": 2,
   "metadata": {},
   "outputs": [
    {
     "data": {
      "text/plain": [
       "[<matplotlib.lines.Line2D at 0x11140e7b8>]"
      ]
     },
     "execution_count": 2,
     "metadata": {},
     "output_type": "execute_result"
    },
    {
     "data": {
      "image/png": "[encoded data removed]",
      "text/plain": [
       "<Figure size 432x288 with 1 Axes>"
      ]
     },
     "metadata": {
      "needs_background": "light"
     },
     "output_type": "display_data"
    }
   ],
   "source": [
    "# Step 1. Get Some data\n",
    "\n",
    "# Set the random seed so the results stay they same between runs for testing and debugging\n",
    "# rand.seed(4021)\n",
    "data =  np.array([[n*(1+a_x*(rand.random()-0.5)),4*n+ a_y*(rand.random()-0.5)] for n in range(20)])\n",
    "# data = np.array([[2.5, 2.4],\n",
    "# [0.5, 0.7],\n",
    "# [2.2, 2.9],\n",
    "# [1.9, 2.2],\n",
    "# [3.1, 3.0],\n",
    "# [2.3, 2.7],\n",
    "# [2, 1.6],\n",
    "# [1, 1.1],\n",
    "# [1.5, 1.6],\n",
    "# [1.1, 0.9]])\n",
    "# print(data)\n",
    "\n",
    "plt.plot(data[:, 0], data[:, 1], 'bx')"
   ]
  },
  {
   "cell_type": "code",
   "execution_count": 3,
   "metadata": {},
   "outputs": [
    {
     "data": {
      "text/plain": [
       "[<matplotlib.lines.Line2D at 0x1138c4208>]"
      ]
     },
     "execution_count": 3,
     "metadata": {},
     "output_type": "execute_result"
    },
    {
     "data": {
      "image/png": "[encoded data removed]",
      "text/plain": [
       "<Figure size 432x288 with 1 Axes>"
      ]
     },
     "metadata": {
      "needs_background": "light"
     },
     "output_type": "display_data"
    }
   ],
   "source": [
    "# Step 2. Subtract the mean from each column of the dataset\n",
    "means = np.mean(data.T, axis=1)\n",
    "mean_subtracted = data - means\n",
    "plt.plot(mean_subtracted[:, 0], mean_subtracted[:, 1] ,'bx')"
   ]
  },
  {
   "cell_type": "code",
   "execution_count": 4,
   "metadata": {},
   "outputs": [
    {
     "name": "stdout",
     "output_type": "stream",
     "text": [
      "[[ -9.45185945 -40.58765149]\n",
      " [ -8.46829512 -31.70062431]\n",
      " [ -7.43817581 -25.50045991]\n",
      " [ -6.42139656 -27.44763196]\n",
      " [ -5.40255193 -22.72467263]\n",
      " [ -4.52490753 -21.81353835]\n",
      " [ -3.40200408 -15.75775636]\n",
      " [ -2.37801379 -12.00654377]\n",
      " [ -1.39757266  -4.43534083]\n",
      " [ -0.56954481  -4.99073818]\n",
      " [  0.35447275   7.06466587]\n",
      " [  1.65459386  11.04337445]\n",
      " [  2.75124291  14.18387946]\n",
      " [  3.70746226  10.88253631]\n",
      " [  4.36742802  20.40057238]\n",
      " [  5.74569359  19.31701443]\n",
      " [  6.15400985  22.75778585]\n",
      " [  7.21303809  29.17830785]\n",
      " [  8.34104078  32.61909721]\n",
      " [  9.16533963  39.51772399]]\n"
     ]
    },
    {
     "data": {
      "text/plain": [
       "[<matplotlib.lines.Line2D at 0x111444748>]"
      ]
     },
     "execution_count": 4,
     "metadata": {},
     "output_type": "execute_result"
    },
    {
     "data": {
      "image/png": "[encoded data removed]",
      "text/plain": [
       "<Figure size 432x288 with 1 Axes>"
      ]
     },
     "metadata": {
      "needs_background": "light"
     },
     "output_type": "display_data"
    }
   ],
   "source": [
    "print(mean_subtracted)\n",
    "plt.plot(data[:, 0], data[:, 1], 'ro')\n",
    "plt.plot(mean_subtracted[:, 0], mean_subtracted[:, 1], 'gx')"
   ]
  },
  {
   "cell_type": "code",
   "execution_count": 5,
   "metadata": {},
   "outputs": [
    {
     "data": {
      "text/plain": [
       "array([[ 34.02739608, 137.66868022],\n",
       "       [137.66868022, 566.36696955]])"
      ]
     },
     "execution_count": 5,
     "metadata": {},
     "output_type": "execute_result"
    }
   ],
   "source": [
    "# Step 3: Calculate the covariance matrix\n",
    "cov_matrix = np.cov(mean_subtracted.T)\n",
    "cov_matrix"
   ]
  },
  {
   "cell_type": "code",
   "execution_count": 6,
   "metadata": {},
   "outputs": [
    {
     "name": "stdout",
     "output_type": "stream",
     "text": [
      "Eigen Vectors:\n",
      "[[-0.9716545  -0.23640545]\n",
      " [ 0.23640545 -0.9716545 ]]\n",
      "Eigen Values:\n",
      "[5.32335224e-01 5.99862030e+02]\n"
     ]
    }
   ],
   "source": [
    "# Step 4: Calculate the eigenvectors and eigenvalues of the covariance matrix\n",
    "eig_values, eig_vectors = eig(cov_matrix)\n",
    "\n",
    "print(\"Eigen Vectors:\\n%s\" % eig_vectors)\n",
    "print(\"Eigen Values:\\n%s\" % eig_values)"
   ]
  },
  {
   "cell_type": "code",
   "execution_count": 7,
   "metadata": {},
   "outputs": [
    {
     "name": "stdout",
     "output_type": "stream",
     "text": [
      "Eigenvalues in descending order:\n",
      "599.8620304054369\n",
      "0.5323352236653136\n",
      "[(599.8620304054369, array([-0.23640545, -0.9716545 ])), (0.5323352236653136, array([-0.9716545 ,  0.23640545]))]\n"
     ]
    }
   ],
   "source": [
    "# Make a list of (eigenvalue, eigenvector) tuples\n",
    "eig_pairs = [(np.abs(eig_values[i]), eig_vectors[:,i]) for i in range(len(eig_values))]\n",
    "\n",
    "# Sort the (eigenvalue, eigenvector) tuples from high to low\n",
    "eig_pairs.sort()\n",
    "eig_pairs.reverse()\n",
    "\n",
    "# Visually confirm that the list is correctly sorted by decreasing eigenvalues\n",
    "print('Eigenvalues in descending order:')\n",
    "for i in eig_pairs:\n",
    "    print(i[0])\n",
    "    \n",
    "print(eig_pairs)"
   ]
  },
  {
   "cell_type": "code",
   "execution_count": 8,
   "metadata": {},
   "outputs": [
    {
     "name": "stdout",
     "output_type": "stream",
     "text": [
      "[99.91133573961716, 0.08866426038284433]\n"
     ]
    },
    {
     "data": {
      "image/png": "[encoded data removed]",
      "text/plain": [
       "<Figure size 432x288 with 1 Axes>"
      ]
     },
     "metadata": {
      "needs_background": "light"
     },
     "output_type": "display_data"
    }
   ],
   "source": [
    "# Calculate the weight of each of eigenvectors.\n",
    "# This indicates how much each eigenvector or principle component affects the data.\n",
    "tot = sum(eig_values)\n",
    "var_exp = [(i / tot)*100 for i in sorted(eig_values, reverse=True)]\n",
    "cum_var_exp = np.cumsum(var_exp)\n",
    "print(var_exp)\n",
    "\n",
    "objects = ('PC 1', 'PC 2')\n",
    "y_pos = np.arange(len(eig_values))\n",
    "performance = eig_vectors\n",
    " \n",
    "plt.bar(y_pos, var_exp, align='center', alpha=0.5)\n",
    "plt.xticks(y_pos, objects)\n",
    "plt.ylabel('Explained Varience in Percent')\n",
    "plt.title('Principle Component that affects the data most')\n",
    " \n",
    "plt.show()"
   ]
  },
  {
   "cell_type": "markdown",
   "metadata": {},
   "source": [
    "The eigenvector with the highest eigenvalue is the principle component of the dataset. "
   ]
  },
  {
   "cell_type": "markdown",
   "metadata": {},
   "source": [
    "With principle components found. Next step is to reduce the dimensionality of the data by creating a `feature vector`. This feature vector is really a matrix of vectors. \n",
    "\n",
    "It is constructed by taking the eigenvectors you want to keep from the list of eigenvectors you found.\n",
    "\n",
    "By taking a subset of all the eigenvectors you can reduce the dimensionality without too much loss in overall data. \n",
    "\n"
   ]
  },
  {
   "cell_type": "code",
   "execution_count": 9,
   "metadata": {},
   "outputs": [
    {
     "name": "stdout",
     "output_type": "stream",
     "text": [
      "Feature Matrix:\n",
      " [[-0.23640545 -0.9716545 ]\n",
      " [-0.9716545   0.23640545]]\n",
      "\n",
      "Feature Matrix with PC 1 only:\n",
      "\n",
      "[[-0.23640545]\n",
      " [-0.9716545 ]]\n"
     ]
    }
   ],
   "source": [
    "full_feature_matrix = np.hstack((eig_pairs[0][1].reshape(2,1), \n",
    "                                 eig_pairs[1][1].reshape(2,1)))\n",
    "\n",
    "feature_matrix_pc1 = eig_pairs[0][1].reshape(2,1)\n",
    "\n",
    "print('Feature Matrix:\\n', full_feature_matrix)\n",
    "print()\n",
    "print('Feature Matrix with PC 1 only:\\n')\n",
    "print(feature_matrix_pc1)"
   ]
  },
  {
   "cell_type": "code",
   "execution_count": 10,
   "metadata": {},
   "outputs": [
    {
     "name": "stdout",
     "output_type": "stream",
     "text": [
      "[[ 0.         -2.78971022]\n",
      " [ 0.98356434  6.09731695]\n",
      " [ 2.01368364 12.29748136]\n",
      " [ 3.03046289 10.3503093 ]\n",
      " [ 4.04930752 15.07326863]\n",
      " [ 4.92695192 15.98440291]\n",
      " [ 6.04985537 22.0401849 ]\n",
      " [ 7.07384566 25.79139749]\n",
      " [ 8.05428679 33.36260044]\n",
      " [ 8.88231464 32.80720308]\n",
      " [ 9.8063322  44.86260713]\n",
      " [11.10645332 48.84131572]\n",
      " [12.20310236 51.98182073]\n",
      " [13.15932171 48.68047757]\n",
      " [13.81928747 58.19851364]\n",
      " [15.19755304 57.1149557 ]\n",
      " [15.6058693  60.55572712]\n",
      " [16.66489754 66.97624911]\n",
      " [17.79290023 70.41703848]\n",
      " [18.61719908 77.31566525]]\n",
      "\n",
      "[[ 2.71063448e+00 -6.15700541e+00 -1.24249489e+01 -1.07733425e+01\n",
      "  -1.56032876e+01 -1.66960753e+01 -2.28456636e+01 -2.67326230e+01\n",
      "  -3.43209981e+01 -3.39770940e+01 -4.59092244e+01 -5.00825102e+01\n",
      "  -5.33932498e+01 -5.04115404e+01 -5.98158024e+01 -5.90887880e+01\n",
      "  -6.25285572e+01 -6.90174463e+01 -7.26273708e+01 -7.95253212e+01]\n",
      " [-6.59502705e-01  4.85754259e-01  9.50586866e-01 -4.97693351e-01\n",
      "  -3.71124984e-01 -1.00849501e+00 -6.67949313e-01 -7.76106975e-01\n",
      "   6.11166413e-02 -8.74739306e-01  1.07739811e+00  7.54717987e-01\n",
      "   4.31586518e-01 -1.27798383e+00  3.30873082e-01 -1.26448386e+00\n",
      "  -8.47809074e-01 -3.58972225e-01 -6.41579749e-01  1.88359545e-01]]\n",
      "\n",
      "[[  2.71063448  -6.15700541 -12.42494886 -10.77334253 -15.60328763\n",
      "  -16.69607527 -22.84566358 -26.73262305 -34.32099807 -33.97709403\n",
      "  -45.90922438 -50.08251019 -53.39324982 -50.41154036 -59.81580242\n",
      "  -59.08878797 -62.52855718 -69.0174463  -72.62737075 -79.52532122]]\n",
      "\n"
     ]
    },
    {
     "data": {
      "text/plain": [
       "[<matplotlib.lines.Line2D at 0x113a6ccf8>]"
      ]
     },
     "execution_count": 10,
     "metadata": {},
     "output_type": "execute_result"
    },
    {
     "data": {
      "image/png": "[encoded data removed]",
      "text/plain": [
       "<Figure size 432x288 with 1 Axes>"
      ]
     },
     "metadata": {
      "needs_background": "light"
     },
     "output_type": "display_data"
    }
   ],
   "source": [
    "# Step 5: Choosing components and forming a feature vector and projecting data\n",
    "adjust_data_with_all_pcs = full_feature_matrix.T.dot(data.T)\n",
    "adjust_data_with_pc1 = feature_matrix_pc1.T.dot(data.T)\n",
    "\n",
    "print(data)\n",
    "print()\n",
    "print(adjust_data_with_all_pcs)\n",
    "print()\n",
    "print(adjust_data_with_pc1)\n",
    "print()\n",
    "plt.plot(adjust_data_with_all_pcs[:, 0], 'bx')\n",
    "plt.plot(adjust_data_with_all_pcs[: ,1], 'rx')"
   ]
  },
  {
   "cell_type": "code",
   "execution_count": 11,
   "metadata": {},
   "outputs": [
    {
     "data": {
      "text/plain": [
       "[<matplotlib.lines.Line2D at 0x113b5acc0>]"
      ]
     },
     "execution_count": 11,
     "metadata": {},
     "output_type": "execute_result"
    },
    {
     "data": {
      "image/png": "[encoded data removed]",
      "text/plain": [
       "<Figure size 432x288 with 1 Axes>"
      ]
     },
     "metadata": {
      "needs_background": "light"
     },
     "output_type": "display_data"
    }
   ],
   "source": [
    "plt.plot(adjust_data_with_all_pcs[:, 0], 'b--')\n",
    "plt.plot(adjust_data_with_all_pcs[: ,1], 'g--')"
   ]
  },
  {
   "cell_type": "code",
   "execution_count": 12,
   "metadata": {},
   "outputs": [
    {
     "name": "stdout",
     "output_type": "stream",
     "text": [
      "[[ 41.67164521  -0.41120034]\n",
      " [ 32.80400532   0.73405663]\n",
      " [ 26.53606187   1.19888923]\n",
      " [ 28.1876682   -0.24939098]\n",
      " [ 23.3577231   -0.12282262]\n",
      " [ 22.26493545  -0.76019264]\n",
      " [ 16.11534715  -0.41964694]\n",
      " [ 12.22838768  -0.52780461]\n",
      " [  4.64001266   0.30941901]\n",
      " [  4.9839167   -0.62643694]\n",
      " [ -6.94821366   1.32570048]\n",
      " [-11.12149946   1.00302036]\n",
      " [-14.43223909   0.67988889]\n",
      " [-11.45052964  -1.02968146]\n",
      " [-20.85479169   0.57917545]\n",
      " [-20.12777724  -1.01618149]\n",
      " [-23.56754646  -0.59950671]\n",
      " [-30.05643558  -0.11066986]\n",
      " [-33.66636003  -0.39327738]\n",
      " [-40.56431049   0.43666191]]\n",
      "[[ 41.67164521]\n",
      " [ 32.80400532]\n",
      " [ 26.53606187]\n",
      " [ 28.1876682 ]\n",
      " [ 23.3577231 ]\n",
      " [ 22.26493545]\n",
      " [ 16.11534715]\n",
      " [ 12.22838768]\n",
      " [  4.64001266]\n",
      " [  4.9839167 ]\n",
      " [ -6.94821366]\n",
      " [-11.12149946]\n",
      " [-14.43223909]\n",
      " [-11.45052964]\n",
      " [-20.85479169]\n",
      " [-20.12777724]\n",
      " [-23.56754646]\n",
      " [-30.05643558]\n",
      " [-33.66636003]\n",
      " [-40.56431049]]\n",
      "[[-0.23640545 -0.9716545 ]]\n",
      "[[-0.23640545 -0.9716545 ]\n",
      " [-0.9716545   0.23640545]]\n"
     ]
    },
    {
     "data": {
      "image/png": "[encoded data removed]",
      "text/plain": [
       "<Figure size 432x288 with 1 Axes>"
      ]
     },
     "metadata": {
      "needs_background": "light"
     },
     "output_type": "display_data"
    }
   ],
   "source": [
    "from sklearn.decomposition import PCA as sklearnPCA\n",
    "pca_2_comp = sklearnPCA(n_components=2)\n",
    "pc2_comp_sklearn = pca_2_comp.fit_transform(data)\n",
    "print(pc2_comp_sklearn)\n",
    "plt.plot(pc2_comp_sklearn[:, 0], pc2_comp_sklearn[:, 1] , '--r')\n",
    "\n",
    "pca_1_comp = sklearnPCA(n_components=1)\n",
    "pc1_comp_sklearn = pca_1_comp.fit_transform(data)\n",
    "print(pc1_comp_sklearn)\n",
    "plt.plot(pc1_comp_sklearn[:, 0], '--b')\n",
    "print(pca_1_comp.components_)\n",
    "print(pca_2_comp.components_)"
   ]
  },
  {
   "cell_type": "code",
   "execution_count": 13,
   "metadata": {},
   "outputs": [],
   "source": [
    "class PCA:\n",
    "    \n",
    "    def __init__(self, n_components):\n",
    "        self.n_components = n_components\n",
    "        self.eigenvectors = None\n",
    "        self.eigenvalues = None\n",
    "        self.eig_pairs = None\n",
    "        \n",
    "    def fit(self, data):\n",
    "        \"\"\"Get eigenvectors and eigenvalues on the dataset provided\"\"\"\n",
    "\n",
    "        # Subtract the mean from each column of the dataset\n",
    "        means = np.mean(data.T, axis=1)\n",
    "        mean_subtracted = data - means\n",
    "        \n",
    "        # Calculate the covariance matrix\n",
    "        cov_matrix = np.cov(mean_subtracted.T)\n",
    "        \n",
    "        # Calculate the eigenvectors and eigenvalues based on covariance matrix\n",
    "        self.eigenvalues, self.eigenvectors = eig(cov_matrix)\n",
    "        \n",
    "        # Make a list of (eigenvalue, eigenvector) tuples\n",
    "        eig_pairs = [(np.abs(eig_values[i]), eig_vectors[:,i]) for i in range(len(eig_values))]\n",
    "\n",
    "        # Sort the (eigenvalue, eigenvector) tuples from high to low\n",
    "        eig_pairs.sort()\n",
    "        eig_pairs.reverse()\n",
    "        self.eig_pairs = eig_pairs\n",
    "\n",
    "        # Visually confirm that the list is correctly sorted by decreasing eigenvalues\n",
    "        print('Eigenvalues in descending order:')\n",
    "        for i in eig_pairs:\n",
    "            print(i[0])\n",
    "        \n",
    "        return self.eigenvalues, self.eigenvectors\n",
    "    \n",
    "    def transform(self, eigenvalues, eigenvectors):\n",
    "        \"\"\"Reduce dimensionality of data give a list of eigenvectors and eigenvalues\"\"\"\n",
    "        feature_matrix = self.eig_pairs[: self.n_components]\n",
    "        projected_data = feature_matrix[0][1].T.dot(data.T)\n",
    "        plt.plot(projected_data, 'bx')\n",
    "        \n",
    "        return projected_data\n"
   ]
  },
  {
   "cell_type": "code",
   "execution_count": 14,
   "metadata": {},
   "outputs": [
    {
     "name": "stdout",
     "output_type": "stream",
     "text": [
      "Eigenvalues in descending order:\n",
      "599.8620304054369\n",
      "0.5323352236653136\n",
      "[  2.71063448  -6.15700541 -12.42494886 -10.77334253 -15.60328763\n",
      " -16.69607527 -22.84566358 -26.73262305 -34.32099807 -33.97709403\n",
      " -45.90922438 -50.08251019 -53.39324982 -50.41154036 -59.81580242\n",
      " -59.08878797 -62.52855718 -69.0174463  -72.62737075 -79.52532122]\n"
     ]
    },
    {
     "data": {
      "image/png": "[encoded data removed]",
      "text/plain": [
       "<Figure size 432x288 with 1 Axes>"
      ]
     },
     "metadata": {
      "needs_background": "light"
     },
     "output_type": "display_data"
    }
   ],
   "source": [
    "pca_1 = PCA(1)\n",
    "eig_values, eig_vectors = pca_1.fit(data)\n",
    "reduced_data = pca_1.transform(eig_values, eig_vectors)\n",
    "print(reduced_data)"
   ]
  },
  {
   "cell_type": "code",
   "execution_count": 15,
   "metadata": {},
   "outputs": [
    {
     "name": "stdout",
     "output_type": "stream",
     "text": [
      "Eigenvalues in descending order:\n",
      "599.8620304054369\n",
      "0.5323352236653136\n",
      "[  2.71063448  -6.15700541 -12.42494886 -10.77334253 -15.60328763\n",
      " -16.69607527 -22.84566358 -26.73262305 -34.32099807 -33.97709403\n",
      " -45.90922438 -50.08251019 -53.39324982 -50.41154036 -59.81580242\n",
      " -59.08878797 -62.52855718 -69.0174463  -72.62737075 -79.52532122]\n"
     ]
    },
    {
     "data": {
      "image/png": "[encoded data removed]",
      "text/plain": [
       "<Figure size 432x288 with 1 Axes>"
      ]
     },
     "metadata": {
      "needs_background": "light"
     },
     "output_type": "display_data"
    }
   ],
   "source": [
    "pca_1 = PCA(2)\n",
    "eig_values, eig_vectors = pca_1.fit(data)\n",
    "reduced_data = pca_1.transform(eig_values, eig_vectors)\n",
    "print(reduced_data)"
   ]
  },
  {
   "cell_type": "code",
   "execution_count": null,
   "metadata": {},
   "outputs": [],
   "source": []
  }
 ],
 "metadata": {
  "kernelspec": {
   "display_name": "week5",
   "language": "python",
   "name": "week5"
  },
  "language_info": {
   "codemirror_mode": {
    "name": "ipython",
    "version": 3
   },
   "file_extension": ".py",
   "mimetype": "text/x-python",
   "name": "python",
   "nbconvert_exporter": "python",
   "pygments_lexer": "ipython3",
   "version": "3.7.0"
  }
 },
 "nbformat": 4,
 "nbformat_minor": 2
}
