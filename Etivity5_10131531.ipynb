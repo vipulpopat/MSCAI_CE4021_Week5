{
 "cells": [
  {
   "cell_type": "markdown",
   "metadata": {},
   "source": [
    "### Student Name: Cathal Cronin\n",
    "\n",
    "### Student ID: 10131531\n",
    "\n",
    "I followed a mix of online sites and the tutorial linked in the module material.\n",
    "https://machinelearningmastery.com/calculate-principal-component-analysis-scratch-python/\n",
    "\n",
    "Also from my class mates I've taken snippets that were nicer than how I was originally doing it for eaiser readbility, like the sorting of the eigenvectors for examples or the types of plots being used in matplotlib. Without some of the feedback on the forum I wouldn't have been able to get as far as I did with the problem."
   ]
  },
  {
   "cell_type": "markdown",
   "metadata": {},
   "source": [
    "- The 'as' keyword allows you to invoke functionality from the module using an alias for the module name. For example: np.mean() instead of numpy.mean()\n",
    "- The from keyword allows you to only import the functionality of interest, for example above we import only the PCA class from the sklearn.decomposition module"
   ]
  },
  {
   "cell_type": "code",
   "execution_count": 1,
   "metadata": {},
   "outputs": [],
   "source": [
    "import numpy as np\n",
    "import random as rand\n",
    "import matplotlib.pyplot as plt\n",
    "from numpy.linalg import eig\n",
    "from sklearn.decomposition import PCA"
   ]
  },
  {
   "cell_type": "markdown",
   "metadata": {},
   "source": [
    "As per E-tivity instructions: Use of the matrix class is discouraged, but to allow us to simplify the code slightly, we will use it this week. Its first use will be to store the data that you will perform the PCA transform on. Note that you will likely obtain a higher score if your final version does not use the matrix class."
   ]
  },
  {
   "cell_type": "code",
   "execution_count": 2,
   "metadata": {},
   "outputs": [],
   "source": [
    "a_x = 0.05\n",
    "a_y= 10"
   ]
  },
  {
   "cell_type": "code",
   "execution_count": 3,
   "metadata": {},
   "outputs": [
    {
     "data": {
      "text/plain": [
       "matrix([[ 0.        ,  4.12972485],\n",
       "        [ 0.99281377,  1.58287669],\n",
       "        [ 1.95143748,  4.1798439 ],\n",
       "        [ 3.04111748, 12.45493627],\n",
       "        [ 3.95025557, 11.97635406],\n",
       "        [ 4.95486338, 16.5017806 ],\n",
       "        [ 6.08648276, 20.30549485],\n",
       "        [ 7.06423237, 31.44971399],\n",
       "        [ 8.01881302, 27.67927465],\n",
       "        [ 9.03871466, 32.77405678],\n",
       "        [10.17349883, 38.15103938],\n",
       "        [11.06982859, 48.13750985],\n",
       "        [11.71936374, 52.43480246],\n",
       "        [12.94949289, 49.69674428],\n",
       "        [13.95921108, 54.25310367],\n",
       "        [14.79135268, 57.17610137],\n",
       "        [16.20294736, 60.65884926],\n",
       "        [17.15125516, 72.56742162],\n",
       "        [17.78685132, 67.18445251],\n",
       "        [18.80837559, 72.69621284]])"
      ]
     },
     "execution_count": 3,
     "metadata": {},
     "output_type": "execute_result"
    }
   ],
   "source": [
    "# Set the random seed so the results stay they same between runs for testing and debugging\n",
    "rand.seed(4021)\n",
    "data =  np.matrix([[n*(1+a_x*(rand.random()-0.5)),4*n+ a_y*(rand.random()-0.5)] for n in range(20)])\n",
    "data"
   ]
  },
  {
   "cell_type": "markdown",
   "metadata": {},
   "source": [
    "The numpy shape property is very useful to get an insight in the dimensions of your data, for example to check whether the features (in this case 2) or the samples (in this case 20) are in the rows or the columns. The notation used here (with columns containing the features and rows containing separate examples) is the standard for Scikitlearn and many other machine learning algorithms.\n"
   ]
  },
  {
   "cell_type": "code",
   "execution_count": 4,
   "metadata": {},
   "outputs": [
    {
     "data": {
      "text/plain": [
       "(20, 2)"
      ]
     },
     "execution_count": 4,
     "metadata": {},
     "output_type": "execute_result"
    }
   ],
   "source": [
    "data.shape"
   ]
  },
  {
   "cell_type": "code",
   "execution_count": 5,
   "metadata": {},
   "outputs": [],
   "source": [
    "class PCA_10131531:\n",
    "    \n",
    "    def __init__(self, n_components=2):\n",
    "        self.n_components = n_components\n",
    "        self.eigenvectors = None\n",
    "        self.eigenvalues = None\n",
    "        self.eig_pairs = None\n",
    "        self.data = None\n",
    "        self.centered_data = None\n",
    "        \n",
    "    def fit(self, data):\n",
    "        \"\"\"Get eigenvectors and eigenvalues on the dataset provided\"\"\"\n",
    "        self.data = data\n",
    "        \n",
    "        # Subtract the mean from each column of the dataset\n",
    "        means = np.mean(self.data, axis=0)\n",
    "        self.centered_data = self.data - means\n",
    "        \n",
    "        # Calculate the covariance matrix\n",
    "        cov_matrix = np.cov(self.centered_data, rowvar=False)\n",
    "        \n",
    "        # Calculate the eigenvectors and eigenvalues based on covariance matrix\n",
    "        self.eigenvalues, self.eigenvectors = eig(cov_matrix)\n",
    "        \n",
    "        #         Tried a few different methods to sort the eigenvectors, in the end I like how one class \n",
    "        #         mate was solving it in an elegant way.\n",
    "        #         # Make a list of (eigenvalue, eigenvector) tuples\n",
    "        #         eig_pairs = [(np.abs(self.eigenvalues[i]), self.eigenvectors[:,i]) for i in range(len(self.eigenvalues))]\n",
    "        #         print(self.eigenvalues)\n",
    "        #         sorted_eigen_valies = sorted(self.eigenvalues, reverse=True)\n",
    "\n",
    "        #         print(eig_pairs)\n",
    "        #         # Sort the (eigenvalue, eigenvector) tuples from high to low\n",
    "        #         eig_pairs = sorted(eig_pairs, key=lambda x: x[0])\n",
    "        #         eig_pairs.reverse()\n",
    "        #         self.eig_pairs = eig_pairs\n",
    "\n",
    "        #         # Visually confirm that the list is correctly sorted by decreasing eigenvalues\n",
    "        #         print('Eigenvalues in descending order:')\n",
    "        #         for i in eig_pairs:\n",
    "        #             print(i)\n",
    "\n",
    "        #         print('sorted eigenvalues')\n",
    "        #         print(sorted_eigen_valies)\n",
    "        \n",
    "        # Sort eigenvectors by the absolute value, magnitude matters not sign here.\n",
    "        sorted_eigen_values_indexes = np.abs(self.eigenvalues).argsort()[::-1]\n",
    "        sorted_eigen_values = self.eigenvalues[sorted_eigen_values_indexes]\n",
    "        sorted_eigen_vectors = self.eigenvectors.T[sorted_eigen_values_indexes]\n",
    "        self.eigenvalues = sorted_eigen_values[:self.n_components]\n",
    "        self.eigenvectors = sorted_eigen_vectors.T[:self.n_components,:]\n",
    "        \n",
    "        return self.eigenvalues, self.eigenvectors\n",
    "    \n",
    "    def transform(self):\n",
    "        \"\"\"Reduce dimensionality of data give a list of eigenvectors and eigenvalues\"\"\"\n",
    "        feature_matrix = self.eigenvectors\n",
    "        projected_data = self.centered_data.dot(feature_matrix.T)\n",
    "        \n",
    "        return projected_data\n",
    "    \n",
    "    def inverse_transform(self, transformed_data):\n",
    "        \"\"\"Transform the projected data back to it's orignal starting state\"\"\"\n",
    "        original_data = transformed_data.dot(self.eigenvectors) + self.means\n",
    "    \n",
    "        \n",
    "        \n",
    "    \n",
    "    "
   ]
  },
  {
   "cell_type": "markdown",
   "metadata": {},
   "source": [
    "I've seen people squaring the eigenvector to remove the sign but taking the absolute value should and does work from what I can see it returns the correct order of eigenvectors. "
   ]
  },
  {
   "cell_type": "code",
   "execution_count": 6,
   "metadata": {},
   "outputs": [],
   "source": [
    "# Create instance of library based PCA\n",
    "sklearn = PCA(n_components=2)\n",
    "sklearn.fit(data)\n",
    "sklearn_transform = sklearn.transform(data)\n",
    "sklearn_eigenvectors = sklearn.components_\n",
    "sklearn_eigenvalues = sklearn.explained_variance_\n",
    "\n",
    "# Create instance of my custom PCA\n",
    "custom_pca = PCA_10131531(n_components=2)\n",
    "custom_pca_eigenvalues, custom_pca_eigenvectors = custom_pca.fit(data)\n",
    "custom_pca_transform = custom_pca.transform()"
   ]
  },
  {
   "cell_type": "code",
   "execution_count": 8,
   "metadata": {},
   "outputs": [
    {
     "name": "stdout",
     "output_type": "stream",
     "text": [
      "Custom PCA eigen vectors: \n",
      "[[-0.2387596  -0.97107871]\n",
      " [-0.97107871  0.2387596 ]]\n",
      "\n",
      "scikit PCA eigen vectors: \n",
      "[[ 0.2387596   0.97107871]\n",
      " [-0.97107871  0.2387596 ]]\n",
      "\n"
     ]
    }
   ],
   "source": [
    "# As required for the assignment, below I compare my custom PCA class with the scikit's one.\n",
    "print(\"Custom PCA eigen vectors: \\n%s\\n\" % (custom_pca_eigenvectors))\n",
    "print(\"scikit PCA eigen vectors: \\n%s\\n\" % (sklearn_eigenvectors))"
   ]
  },
  {
   "cell_type": "code",
   "execution_count": 9,
   "metadata": {
    "scrolled": true
   },
   "outputs": [
    {
     "data": {
      "image/png": "[encoded data removed]",
      "text/plain": [
       "<Figure size 432x288 with 1 Axes>"
      ]
     },
     "metadata": {
      "needs_background": "light"
     },
     "output_type": "display_data"
    }
   ],
   "source": [
    "# Calculate the weight of each of eigenvectors.\n",
    "# This indicates how much each eigenvector or principle component affects the data.\n",
    "tot = sum(custom_pca_eigenvalues)\n",
    "var_exp = [(i / tot)*100 for i in sorted(custom_pca_eigenvalues, reverse=True)]\n",
    "cum_var_exp = np.cumsum(var_exp)\n",
    "\n",
    "objects = ('PC 1', 'PC 2')\n",
    "y_pos = np.arange(len(custom_pca_eigenvalues))\n",
    "performance = custom_pca_eigenvectors\n",
    "\n",
    "plt.bar(y_pos, var_exp, align='center', alpha=0.5)\n",
    "plt.xticks(y_pos, objects)\n",
    "plt.ylabel('Explained Varience in Percent')\n",
    "plt.title('Principle Component that affects the data most')\n",
    " \n",
    "plt.show()"
   ]
  },
  {
   "cell_type": "markdown",
   "metadata": {},
   "source": [
    "Vectors are the same but the signs are different for the scikit vectors, this is bellieved to be because of the way the calculations are performed internally.\n",
    "\n",
    "The eigenvector with the highest eigenvalue is the principle component of the dataset. \n",
    "\n",
    "We can see in the above that PC1 affects the data most so when doing the transform we can remove and not use PC 2 because it does not affect the data really.\n",
    "\n",
    "With principle components found. Next step is to reduce the dimensionality of the data by creating a `feature vector`. This feature vector is really a matrix of vectors. \n",
    "\n",
    "It is constructed by taking the eigenvectors you want to keep from the list of eigenvectors you found.\n",
    "\n",
    "By taking a subset of all the eigenvectors you can reduce the dimensionality without too much loss in overall data. "
   ]
  },
  {
   "cell_type": "code",
   "execution_count": 10,
   "metadata": {
    "scrolled": true
   },
   "outputs": [
    {
     "name": "stdout",
     "output_type": "stream",
     "text": [
      "Custom PCA eigen values: \n",
      "[597.93953654   0.64418848]\n",
      "\n",
      "scikit PCA eigen values: \n",
      "[[ 0.2387596   0.97107871]\n",
      " [-0.97107871  0.2387596 ]]\n",
      "\n"
     ]
    }
   ],
   "source": [
    "print(\"Custom PCA eigen values: \\n%s\\n\" % (custom_pca_eigenvalues))\n",
    "print(\"scikit PCA eigen values: \\n%s\\n\" % (sklearn_eigenvectors))"
   ]
  },
  {
   "cell_type": "markdown",
   "metadata": {},
   "source": [
    "My PCA class and scikit's class both return the same eigenvalues. "
   ]
  },
  {
   "cell_type": "code",
   "execution_count": 11,
   "metadata": {},
   "outputs": [
    {
     "name": "stdout",
     "output_type": "stream",
     "text": [
      "Custom PCA Transform: \n",
      "[[ 33.98970226   1.41098532]\n",
      " [ 36.22584847  -0.16119943]\n",
      " [ 33.4751083   -0.47204765]\n",
      " [ 25.17917074   0.44554501]\n",
      " [ 25.42684629  -0.55156572]\n",
      " [ 20.79244118  -0.44662996]\n",
      " [ 16.82855029  -0.63734818]\n",
      " [  5.77318927   1.07396926]\n",
      " [  9.20666733  -0.75323226]\n",
      " [  4.01572159  -0.5272089 ]\n",
      " [ -1.47669233  -0.34536746]\n",
      " [-11.38834849   1.16859146]\n",
      " [-15.71644059   1.56386155]\n",
      " [-13.35127574  -0.28442833]\n",
      " [-18.01693923  -0.17706965]\n",
      " [-21.05408185  -0.28725088]\n",
      " [-24.77313595  -0.82648094]\n",
      " [-36.56371458   1.09592348]\n",
      " [-31.48818258  -0.80652596]\n",
      " [-37.08443439  -0.48252075]]\n",
      "\n",
      "scikit PCA Transform: \n",
      "[[-33.98970226   1.41098532]\n",
      " [-36.22584847  -0.16119943]\n",
      " [-33.4751083   -0.47204765]\n",
      " [-25.17917074   0.44554501]\n",
      " [-25.42684629  -0.55156572]\n",
      " [-20.79244118  -0.44662996]\n",
      " [-16.82855029  -0.63734818]\n",
      " [ -5.77318927   1.07396926]\n",
      " [ -9.20666733  -0.75323226]\n",
      " [ -4.01572159  -0.5272089 ]\n",
      " [  1.47669233  -0.34536746]\n",
      " [ 11.38834849   1.16859146]\n",
      " [ 15.71644059   1.56386155]\n",
      " [ 13.35127574  -0.28442833]\n",
      " [ 18.01693923  -0.17706965]\n",
      " [ 21.05408185  -0.28725088]\n",
      " [ 24.77313595  -0.82648094]\n",
      " [ 36.56371458   1.09592348]\n",
      " [ 31.48818258  -0.80652596]\n",
      " [ 37.08443439  -0.48252075]]\n",
      "\n"
     ]
    }
   ],
   "source": [
    "print(\"Custom PCA Transform: \\n%s\\n\" % (custom_pca_transform))\n",
    "print(\"scikit PCA Transform: \\n%s\\n\" % (sklearn_transform))"
   ]
  },
  {
   "cell_type": "markdown",
   "metadata": {},
   "source": [
    "### Assignment Objective 1: `Custom PCA Transform` vs `SK Learn PCA Output`\n",
    "---\n",
    "\n",
    "From the above output we can see that my custom PCA class is producing the same transform results as sk learn. The only difference I can see is the signs of the values are different. As mentioned briefly before, and from discussion on the forum the sign doesn't matter too much. What's most important is the magintude of the vector and the vector with the strongest weighting on the data. \n",
    "\n",
    "Below I compare the differences between the calcualted values and in the section following that I plot the points of my transform and sk leanrn. Interestingly because of the negative sign in the data, it gets plotted as an inverse image of the other but most importantly the data was transformed the same way as sk learn.\n",
    "\n",
    "The below data is for n_components=2, n_components=1 is further down."
   ]
  },
  {
   "cell_type": "code",
   "execution_count": 12,
   "metadata": {},
   "outputs": [
    {
     "data": {
      "text/plain": [
       "[<matplotlib.lines.Line2D at 0x11cc092b0>]"
      ]
     },
     "execution_count": 12,
     "metadata": {},
     "output_type": "execute_result"
    },
    {
     "data": {
      "image/png": "[encoded data removed]",
      "text/plain": [
       "<Figure size 432x288 with 1 Axes>"
      ]
     },
     "metadata": {
      "needs_background": "light"
     },
     "output_type": "display_data"
    }
   ],
   "source": [
    "# Data Graphed When n_components=2\n",
    "plt.plot(sklearn_transform[:, 0], sklearn_transform[:, 1], 'r--')\n",
    "plt.plot(custom_pca_transform[:, 0], custom_pca_transform[:, 1], 'g--')"
   ]
  },
  {
   "cell_type": "markdown",
   "metadata": {},
   "source": [
    "Below we can see that the vectors are indeed the same. Again the reason the point in different directions is because of the sign of the vectors and values returned by my method.\n",
    "\n"
   ]
  },
  {
   "cell_type": "code",
   "execution_count": null,
   "metadata": {},
   "outputs": [],
   "source": [
    "# Took this plot from a classmate @Cormac. I liked how it visualises the eigenvectors and shows that they have to be orthogonal to each other\n",
    "origin = (0, 0)\n",
    "plt.quiver(*origin, *sklearn_eigenvectors, color=['r'], scale=3, alpha=0.7)\n",
    "plt.quiver(*origin, *custom_pca_eigenvectors, color=['g'], scale=3)\n",
    "plt.show()"
   ]
  },
  {
   "cell_type": "markdown",
   "metadata": {},
   "source": [
    "### Assignment Objective 2: `Transformed Data` vs `Original Data`\n",
    "\n",
    "From the data below we can see when compared and graphed against the original data set, the data is flattened to the main axis. From this we know PCA has been applied.\n",
    "\n",
    "The below data is for n_components=2, n_components=1 is further down."
   ]
  },
  {
   "cell_type": "code",
   "execution_count": 13,
   "metadata": {},
   "outputs": [
    {
     "data": {
      "text/plain": [
       "[<matplotlib.lines.Line2D at 0x11f26edd8>]"
      ]
     },
     "execution_count": 13,
     "metadata": {},
     "output_type": "execute_result"
    },
    {
     "data": {
      "image/png": "[encoded data removed]",
      "text/plain": [
       "<Figure size 432x288 with 1 Axes>"
      ]
     },
     "metadata": {
      "needs_background": "light"
     },
     "output_type": "display_data"
    }
   ],
   "source": [
    "# Data Graphed When n_components=2\n",
    "plt.plot(sklearn_transform[:, 0], sklearn_transform[:, 1], 'r--')\n",
    "plt.plot(custom_pca_transform[:, 0], custom_pca_transform[:, 1], 'g--')\n",
    "plt.plot(data[:, 0], data[:, 1])"
   ]
  },
  {
   "cell_type": "markdown",
   "metadata": {},
   "source": [
    "### Setting n_components=1 and repeating the process above "
   ]
  },
  {
   "cell_type": "markdown",
   "metadata": {},
   "source": [
    "#### Assignment Objective 1: `Custom PCA Transform` vs `SK Learn PCA Output`\n",
    "\n",
    "#### Assignment Objective 2: `Transformed Data` vs `Original Data`"
   ]
  },
  {
   "cell_type": "code",
   "execution_count": 18,
   "metadata": {},
   "outputs": [],
   "source": [
    "# Create instance of library based PCA\n",
    "sklearn = PCA(n_components=1)\n",
    "sklearn.fit(data)\n",
    "sklearn_transform = sklearn.transform(data)\n",
    "sklearn_eigenvectors = sklearn.components_\n",
    "sklearn_eigenvalues = sklearn.explained_variance_\n",
    "\n",
    "# Create instance of my custom PCA\n",
    "custom_pca = PCA_10131531(n_components=1)\n",
    "custom_pca_eigenvalues, custom_pca_eigenvectors = custom_pca.fit(data)\n",
    "custom_pca_transform = custom_pca.transform()"
   ]
  },
  {
   "cell_type": "code",
   "execution_count": 19,
   "metadata": {},
   "outputs": [
    {
     "name": "stdout",
     "output_type": "stream",
     "text": [
      "[[0.2387596  0.97107871]]\n",
      "[[-0.2387596  -0.97107871]]\n"
     ]
    },
    {
     "data": {
      "image/png": "[encoded data removed]",
      "text/plain": [
       "<Figure size 432x288 with 1 Axes>"
      ]
     },
     "metadata": {
      "needs_background": "light"
     },
     "output_type": "display_data"
    }
   ],
   "source": [
    "plt.plot(sklearn_transform[:, 0], np.zeros(sklearn_transform.shape), 'r--')\n",
    "plt.plot(custom_pca_transform[:, 0],np.zeros(custom_pca_transform.shape), 'g--')\n",
    "print(sklearn_eigenvectors)\n",
    "print(custom_pca_eigenvectors)"
   ]
  },
  {
   "cell_type": "code",
   "execution_count": 20,
   "metadata": {},
   "outputs": [
    {
     "data": {
      "image/png": "[encoded data removed]",
      "text/plain": [
       "<Figure size 432x288 with 1 Axes>"
      ]
     },
     "metadata": {
      "needs_background": "light"
     },
     "output_type": "display_data"
    }
   ],
   "source": [
    "plt.plot(data[:,0], data[:,1], 'r--')\n",
    "plt.plot(custom_pca_transform[:,0], np.zeros(custom_pca_transform.shape),'g--')\n",
    "plt.show()"
   ]
  },
  {
   "cell_type": "markdown",
   "metadata": {},
   "source": [
    "* From the graphs above we can see that the transform has flattened the data along the major x axis. \n",
    "* Both my custom class and the sk learn based one both give the same values and results except the sign is oppisite. This is similar to the result when n_components was set to 2. \n",
    "* From this we can say that only using 1 principle component from this data set is enough to get similar results. The original data gets shifted or projected towards it's major access based on the weight of the strongest eigenvector. \n",
    "* Finally, we were able to reduce the dimensionality of the data with very little loss in data. Again this can be seen from the histogram above showing the weighting of each principle component."
   ]
  },
  {
   "cell_type": "markdown",
   "metadata": {},
   "source": [
    "### Task Completion:\n",
    "\n",
    "- [x] Create custom PCA class\n",
    "- [x] Create a fit method\n",
    "- [x] Create a transform method\n",
    "- [x] Allow class to set the n_components\n",
    "- [x] Store results of fit (eigenvectors, eigenvalues)\n",
    "- [x] Don't use np matrix class\n",
    "- [x] Respond to peers\n",
    "- [x] Compare transformed data when using custom PCA vs sklearn based PCA where n_components=1\n",
    "- [x] Compare transformed data vs original dataset using n_components=1"
   ]
  }
 ],
 "metadata": {
  "kernelspec": {
   "display_name": "week5",
   "language": "python",
   "name": "week5"
  },
  "language_info": {
   "codemirror_mode": {
    "name": "ipython",
    "version": 3
   },
   "file_extension": ".py",
   "mimetype": "text/x-python",
   "name": "python",
   "nbconvert_exporter": "python",
   "pygments_lexer": "ipython3",
   "version": "3.7.0"
  }
 },
 "nbformat": 4,
 "nbformat_minor": 1
}
