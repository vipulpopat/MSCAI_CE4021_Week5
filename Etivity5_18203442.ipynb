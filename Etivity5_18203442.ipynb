{
 "cells": [
  {
   "cell_type": "markdown",
   "metadata": {},
   "source": [
    "**Student Name:** Andrew Kenny\n",
    "\n",
    "**Student ID:**   18203442\n",
    "\n",
    "**Task: **        Making use of Numpy, write a Python class to apply the PCA transform to the provided data set. Compare the output of your implementation to the PCA functionality provided by the Scikitlearn module.\n",
    "- Create a 'fit' method that calculates the eigen vectors and eigen values of your dataset. Compare your results to the output of Scikitlearn's fit method and document your findings as a comment (use markdown) directly under the cell with your PCA class.\n",
    "- Use the Scikitlean's PCA class with n_components=2 and n_components=1 and observe the differences. In the cell directly below, comment on what you have observed.\n",
    "- Add a property to your class and initialise this property in a suitable fashion to allow you to choose the number of principal components similar to the Scikitlearn PCA class.\n",
    "- Store those results from your fit method that are required to transform the data set, in suitable class properties.\n",
    "- Create a 'transform' method to perform the PCA data transformation on your data set using the parameters obtained using your 'fit' method.\n",
    "- For the case where n_components = 1, compare the resulting dataset of your transform method with the resulting dataset from Scikitlearn’s transform method by plotting the points on an XY plot. If there are any differences, explain these in a comment directly under the cell with your plot\n",
    "- For the case where n_components = 1, compare the dataset resulting from your transform method with the original dataset by plotting the points on an XY plot. Comment on the differences between original and transformed data in the cell directly below your plot. In your comment, explain why and how PCA can be used for dimensionality reduction\n",
    "\n",
    "**Acknowledgements: **  \n",
    "- Abhi Sinha for his suggestion on returning only the eigenvalues and eigenvectors from the fit methods so that a call to fit method returns the expected values and recommendation to give a different name my PCA class to avoid confusion\n",
    "\n",
    "**Sources: ** \n",
    "- https://plot.ly/ipython-notebooks/principal-component-analysis/\n",
    "- http://www.iro.umontreal.ca/~pift6080/H09/documents/papers/pca_tutorial.pdf\n"
   ]
  },
  {
   "cell_type": "markdown",
   "metadata": {},
   "source": [
    "### **Python class to apply the PCA transform to provided data set**"
   ]
  },
  {
   "cell_type": "code",
   "execution_count": 163,
   "metadata": {
    "collapsed": true
   },
   "outputs": [],
   "source": [
    "# Import packages\n",
    "\n",
    "import numpy as np\n",
    "import random as rand\n",
    "from numpy.linalg import eig\n",
    "import matplotlib.pyplot as plt\n",
    "from sklearn.decomposition import PCA"
   ]
  },
  {
   "cell_type": "code",
   "execution_count": 277,
   "metadata": {
    "collapsed": false
   },
   "outputs": [
    {
     "name": "stdout",
     "output_type": "stream",
     "text": [
      "Centred data: [[ -9.51223257 -33.40225499]\n",
      " [ -8.49373921 -35.87137308]\n",
      " [ -7.49647205 -30.9665156 ]\n",
      " [ -6.55594706 -22.89999394]\n",
      " [ -5.59485331 -20.27074622]\n",
      " [ -4.48446429 -13.67128022]\n",
      " [ -3.43849209 -15.81874503]\n",
      " [ -2.34459463  -6.72135512]\n",
      " [ -1.4949536   -4.00535977]\n",
      " [ -0.48972155   2.32445171]\n",
      " [  0.66837695   1.78396509]\n",
      " [  1.65406009   5.06264086]\n",
      " [  2.67258257   8.08715123]\n",
      " [  3.34960867  12.23816632]\n",
      " [  4.70478827  18.61984024]\n",
      " [  5.27013445  18.35236647]\n",
      " [  6.85974351  29.73172201]\n",
      " [  7.60509893  31.29582522]\n",
      " [  8.29209462  36.65459438]\n",
      " [  9.34104435  40.27689086]]\n",
      "---------------------------------\n",
      "Eigen values: [3.75558237e-01 5.89144358e+02]\n",
      "---------------------------------\n",
      "Eigen vectors: [[-0.97013378 -0.2425705 ]\n",
      " [ 0.2425705  -0.97013378]]\n",
      "---------------------------------\n",
      "Sorted Eigen vectors: [[-0.97013378 -0.2425705 ]\n",
      " [ 0.2425705  -0.97013378]]\n",
      "---------------------------------\n",
      "Sorted Eigen values: [3.75558237e-01 5.89144358e+02]\n",
      "---------------------------------\n",
      "Transformed data: [[  1.12573639  34.71204293]\n",
      " [ -0.46127364  36.86036135]\n",
      " [ -0.23898246  31.86008582]\n",
      " [  0.80528268  23.80633706]\n",
      " [  0.51067111  21.02248203]\n",
      " [  1.03428099  14.35076952]\n",
      " [ -0.50136359  16.18037567]\n",
      " [  0.64416797   7.08934314]\n",
      " [  0.47872286   4.24836646]\n",
      " [  1.03893884  -2.13623712]\n",
      " [ -0.21567775  -1.89281333]\n",
      " [ -0.37661224  -5.3126651 ]\n",
      " [ -0.6310583   -8.49390829]\n",
      " [ -0.28095038 -12.68517481]\n",
      " [ -0.04765004 -19.20497885]\n",
      " [ -0.66099271 -19.08262981]\n",
      " [  0.55716982 -30.5077193 ]\n",
      " [  0.21348065 -32.20590989]\n",
      " [  0.84688225 -37.57127777]\n",
      " [  0.70792296 -41.33983421]]\n",
      "---------------------------------\n"
     ]
    }
   ],
   "source": [
    "# Matrix class to store data\n",
    "\n",
    "a_x = 0.05\n",
    "a_y= 10\n",
    "\n",
    "data =  np.matrix([[n*(1+a_x*(rand.random()-0.5)), 4*n+ a_y*(rand.random()-0.5)] for n in range(20)])\n",
    "\n",
    "class my_PCA:\n",
    "    \"\"\"Class to apply PCA transformation\"\"\"\n",
    "    \n",
    "    def __init__(self, n_components=None):\n",
    "        self.n_components = n_components\n",
    "        \n",
    "    def fit(self, data):\n",
    "        \"\"\"Fit method:\n",
    "        1. Find mean of each column\n",
    "        2. Centres data\n",
    "        3. Calculates covariance of centred matrix \n",
    "        4. Calculates calculate the eigendecomposition of the covariance\n",
    "        5. Returns eigenvalues and a list of eigenvectors\n",
    "        \"\"\"\n",
    "        mean_data = np.mean(data, axis=0)\n",
    "\n",
    "        centred_data = data - mean_data\n",
    "\n",
    "        cov_data = np.cov(centred_data, rowvar=False)\n",
    "    \n",
    "        eig_values, eig_vectors = eig(cov_data)\n",
    "        return eig_values, eig_vectors\n",
    "    \n",
    "    def transform(self,data):\n",
    "        \"\"\"Transform method:\n",
    "        1. Sorts eigenvectors\n",
    "        2. Sorts eigenvalues\n",
    "        3. Performs PCA data transformation\n",
    "        \"\"\"\n",
    "        sorted_eigvalues_indices = eig_values.argsort()\n",
    "\n",
    "        eigen_vectors_sorted = eig_vectors[sorted_indices, :]\n",
    "\n",
    "        eigen_values_sorted = eig_values[sorted_indices]\n",
    "\n",
    "        projected_data = eigen_vectors_sorted.T.dot(centred_data.T).T\n",
    "        return projected_data\n",
    "\n",
    "#Output\n",
    "\n",
    "print(\"Centred data:\", centred_data)\n",
    "print(\"---------------------------------\")\n",
    "print(\"Eigen values:\", eig_values)\n",
    "print(\"---------------------------------\")\n",
    "print(\"Eigen vectors:\",eig_vectors)\n",
    "print(\"---------------------------------\")\n",
    "print(\"Sorted Eigen vectors:\", eigen_vectors_sorted)\n",
    "print(\"---------------------------------\")\n",
    "print(\"Sorted Eigen values:\", eigen_values_sorted)\n",
    "print(\"---------------------------------\")\n",
    "print(\"Transformed data:\", projected_data)\n",
    "print(\"---------------------------------\")"
   ]
  },
  {
   "cell_type": "markdown",
   "metadata": {},
   "source": [
    "### **Comparison of results between Scikit Learn's fit method and own**"
   ]
  },
  {
   "cell_type": "code",
   "execution_count": 278,
   "metadata": {
    "collapsed": false
   },
   "outputs": [
    {
     "name": "stdout",
     "output_type": "stream",
     "text": [
      "[[-0.23542266 -0.97189309]\n",
      " [-0.97189309  0.23542266]]\n"
     ]
    }
   ],
   "source": [
    "# Scikit Learn fit method (n_components=2)\n",
    "pca = PCA(n_components=2)\n",
    "pca.fit(data)\n",
    "print(pca.components_)"
   ]
  },
  {
   "cell_type": "markdown",
   "metadata": {},
   "source": [
    "The Eigen vectors returned differs slightly from that returned by the Scikit Learn fit method:\n",
    "\n",
    "- **Own fit method results**:\n",
    "<br />[[-0.97013378 -0.2425705 ]\n",
    "<br /> [ 0.2425705  -0.97013378]]\n",
    "\n",
    "\n",
    "- **Scikitlearn method results**:\n",
    "<br />[[ 0.24110274  0.9704996 ]\n",
    "<br /> [-0.9704996   0.24110274]]\n",
    " \n",
    "The values are within 0.001 in all cases but do differ slightly. Polarity and orientation also differs however this is not of high importance per this week's BBB as in both cases they refer to different directions of the same line. It should also be noted that the vectors returned by Scikitlearn are shown in rows while those returned by my own are represented in columns."
   ]
  },
  {
   "cell_type": "markdown",
   "metadata": {},
   "source": [
    "### **Comparison of results between Scikit Learn's PCA class where n_components=2 and n_components=1**"
   ]
  },
  {
   "cell_type": "code",
   "execution_count": 279,
   "metadata": {
    "collapsed": false
   },
   "outputs": [
    {
     "name": "stdout",
     "output_type": "stream",
     "text": [
      "[[-0.23542266 -0.97189309]\n",
      " [-0.97189309  0.23542266]]\n",
      "[[-0.23542266 -0.97189309]]\n"
     ]
    }
   ],
   "source": [
    "# Scikitlean's PCA class where n_components=2\n",
    "\n",
    "scikit_pca_n2 = PCA(n_components=2)\n",
    "scikit_pca_n2.fit(data)\n",
    "scikit_pca.transform(data)\n",
    "\n",
    "print(scikit_pca_n2.components_)\n",
    "\n",
    "# Scikitlean's PCA class where n_components=1\n",
    "\n",
    "scikit_pca_n1 = PCA(n_components=1)\n",
    "scikit_pca_n1.fit(data)\n",
    "scikit_pca_data = scikit_pca_n1.transform(data)\n",
    "\n",
    "print(scikit_pca_n1.components_)"
   ]
  },
  {
   "cell_type": "markdown",
   "metadata": {},
   "source": [
    "Results returned using Scikit Learn's PCA class differ when changing the number of components from 2 to 1. Doing so selects the eigen vector with the largest values and reduces the dimension from 2 to 1."
   ]
  },
  {
   "cell_type": "markdown",
   "metadata": {
    "collapsed": false
   },
   "source": [
    "### **Compare the resulting dataset of own transform method with that of Scikit Learn’s transform method by plotting the points on an XY plot (n_components = 1)**"
   ]
  },
  {
   "cell_type": "code",
   "execution_count": 280,
   "metadata": {
    "collapsed": false
   },
   "outputs": [
    {
     "data": {
      "image/png": "[encoded data removed]",
      "text/plain": [
       "<Figure size 432x288 with 1 Axes>"
      ]
     },
     "metadata": {},
     "output_type": "display_data"
    }
   ],
   "source": [
    "# Reduces dimensions of eigen vector using own PCA transform method to 1\n",
    "\n",
    "eig_vectors_matrix = np.matrix([eigen_vectors_sorted[:,0], eigen_vectors_sorted[:,1]])\n",
    "centred_data_n1 = np.dot(eig_vectors_matrix[:,1].T,centred_data.T)\n",
    "\n",
    "# Plots results on XY Plot\n",
    "\n",
    "plt.plot(scikit_pca_data[:], scikit_pca_data[:], 'ob')\n",
    "plt.plot(centred_data_n1, np.zeros_like(centred_data_n1), 'xr')\n",
    "plt.title('OWN TRANSFORM METHOD v SCIKIT LEARN METHOD')\n",
    "plt.show()"
   ]
  },
  {
   "cell_type": "markdown",
   "metadata": {},
   "source": [
    "**Explanation of differences**\n",
    "\n",
    "Both methods reduce the dimension of the eigen vector to 1, selecting only that with the highest values. Both are in straight lines and have different variances."
   ]
  },
  {
   "cell_type": "markdown",
   "metadata": {
    "collapsed": true
   },
   "source": [
    "### **Compare the dataset resulting from your transform method with the original dataset by plotting the points on an XY plot. (n_components = 1) **"
   ]
  },
  {
   "cell_type": "code",
   "execution_count": 281,
   "metadata": {
    "collapsed": false
   },
   "outputs": [
    {
     "data": {
      "image/png": "[encoded data removed]",
      "text/plain": [
       "<Figure size 432x288 with 1 Axes>"
      ]
     },
     "metadata": {},
     "output_type": "display_data"
    }
   ],
   "source": [
    "plt.plot(centred_data_n1, np.zeros_like(centred_data_n1), 'xr')\n",
    "plt.plot(data[:,0], data[:,1], 'ob')\n",
    "plt.title('TRANSFORMED DATASET v ORIGINAL DATASET')\n",
    "plt.show()"
   ]
  },
  {
   "cell_type": "markdown",
   "metadata": {},
   "source": [
    "**Differences between original and transformed data & explanation how PCA can be used for dimensionality reduction**\n",
    "\n",
    "The original dataset has 2 dimensions while the transformed dataset has 1.\n",
    "\n",
    "PCA can be used for dimensionality reduction by reducing the number of features by selecting the most important ones that still represent the entire dataset. "
   ]
  }
 ],
 "metadata": {
  "kernelspec": {
   "display_name": "Python 2",
   "language": "python",
   "name": "python2"
  },
  "language_info": {
   "codemirror_mode": {
    "name": "ipython",
    "version": 3
   },
   "file_extension": ".py",
   "mimetype": "text/x-python",
   "name": "python",
   "nbconvert_exporter": "python",
   "pygments_lexer": "ipython3",
   "version": "3.4.9"
  }
 },
 "nbformat": 4,
 "nbformat_minor": 1
}
