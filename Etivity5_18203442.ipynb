{
 "cells": [
  {
   "cell_type": "markdown",
   "metadata": {},
   "source": [
    "**Student Name:** Andrew Kenny\n",
    "\n",
    "**Student ID:**   18203442\n",
    "\n",
    "**Task: **        Making use of Numpy, write a Python class to apply the PCA transform to the provided data set. Compare the output of your implementation to the PCA functionality provided by the Scikitlearn module.\n",
    "- Create a 'fit' method that calculates the eigen vectors and eigen values of your dataset. Compare your results to the output of Scikitlearn's fit method and document your findings as a comment (use markdown) directly under the cell with your PCA class.\n",
    "- Use the Scikitlean's PCA class with n_components=2 and n_components=1 and observe the differences. In the cell directly below, comment on what you have observed.\n",
    "- Add a property to your class and initialise this property in a suitable fashion to allow you to choose the number of principal components similar to the Scikitlearn PCA class.\n",
    "- Store those results from your fit method that are required to transform the data set, in suitable class properties.\n",
    "- Create a 'transform' method to perform the PCA data transformation on your data set using the parameters obtained using your 'fit' method."
   ]
  },
  {
   "cell_type": "code",
   "execution_count": 171,
   "metadata": {
    "collapsed": false
   },
   "outputs": [
    {
     "name": "stdout",
     "output_type": "stream",
     "text": [
      "[[-0.97017944 -0.24238783]\n",
      " [ 0.24238783 -0.97017944]]\n",
      "[4.20563276e-01 5.97383290e+02]\n"
     ]
    }
   ],
   "source": [
    "import numpy as np\n",
    "import random as rand\n",
    "from numpy.linalg import eig\n",
    "import matplotlib.pyplot as plt\n",
    "from sklearn.decomposition import PCA\n",
    "\n",
    "# Matrix class to store data\n",
    "\n",
    "a_x = 0.05\n",
    "a_y= 10\n",
    "\n",
    "data =  np.matrix([[n*(1+a_x*(rand.random()-0.5)),4*n+ a_y*(rand.random()-0.5)] for n in range(20)])\n",
    "\n",
    "class PCA:\n",
    "    \n",
    "    def __init__(self, n_component = None):\n",
    "        \"\"\"Property to allow choice in number of principal components\"\"\"\n",
    "        self.n_component = n_component\n",
    "        \n",
    "    def fit(self, data):\n",
    "        \n",
    "        \"\"\"Find mean of each column\"\"\"\n",
    "        mean_data = np.mean(data, axis=0) \n",
    "        return self.mean_data\n",
    "    \n",
    "        \"\"\"Centres data\"\"\"\n",
    "        centred_data = data - self.mean_data\n",
    "        return centred_data\n",
    "\n",
    "        \"\"\"Calculates covariance of centred matrix\"\"\"\n",
    "        cov_data = np.cov(centred_data,rowvar=False) \n",
    "        return cov_data\n",
    "\n",
    "        \"\"\"Calculates eigenvector and eigenvalue and stores results from fit method in suitable class properties\"\"\"\n",
    "        values, vectors = eig(cov_data)\n",
    "        return values, vectors\n",
    "\n",
    "    def transform(self,data):\n",
    "        \"\"\"Method to perform PCA data transformation on dataset, using parameters obtained by fit method.\"\"\"\n",
    "        # sort eigenvectors and eigenvalues\n",
    "        # Eigenvalues should be ordered from highest to lowest to give components in order of significance\n",
    "        \n",
    "        # reduce the dimensions of the data (from 2) to 1\n",
    "        \n",
    "        # use own PCA results to calculate the new values of the data points into the original dataset\n",
    "        projected_data = vectors.T.dot(centred_data.T).T\n",
    "        return projected_data\n",
    "        \n",
    "#Output\n",
    "\n",
    "print(vectors)\n",
    "print(values)\n",
    "#print(sorted_eigenvalues)\n",
    "#print(reduced)\n",
    "#print(projected_data)"
   ]
  },
  {
   "cell_type": "code",
   "execution_count": 61,
   "metadata": {
    "collapsed": false
   },
   "outputs": [
    {
     "name": "stdout",
     "output_type": "stream",
     "text": [
      "[[ 0.24238783  0.97017944]\n",
      " [-0.97017944  0.24238783]]\n"
     ]
    }
   ],
   "source": [
    "# Scikitlearn method to calculate Eigen vectors (n_components=2)\n",
    "\n",
    "pca = PCA(n_components=2)\n",
    "pca.fit(data)\n",
    "print(pca.components_)"
   ]
  },
  {
   "cell_type": "markdown",
   "metadata": {},
   "source": [
    "**Comparison of results between Scikitlearn's fit method and own**\n",
    "\n",
    "TODO"
   ]
  },
  {
   "cell_type": "code",
   "execution_count": 68,
   "metadata": {
    "collapsed": false
   },
   "outputs": [
    {
     "name": "stdout",
     "output_type": "stream",
     "text": [
      "[[0.24238783 0.97017944]]\n"
     ]
    }
   ],
   "source": [
    "# Scikitlean's PCA class where n_components=1\n",
    "\n",
    "pca = PCA(n_components=1)\n",
    "pca.fit(data)\n",
    "print(pca.components_)"
   ]
  },
  {
   "cell_type": "markdown",
   "metadata": {},
   "source": [
    "**Differences observed between Scikitlean's PCA class where n_components=2 and n_components=1**\n",
    "\n",
    "TODO"
   ]
  }
 ],
 "metadata": {
  "kernelspec": {
   "display_name": "Python 2",
   "language": "python",
   "name": "python2"
  },
  "language_info": {
   "codemirror_mode": {
    "name": "ipython",
    "version": 3
   },
   "file_extension": ".py",
   "mimetype": "text/x-python",
   "name": "python",
   "nbconvert_exporter": "python",
   "pygments_lexer": "ipython3",
   "version": "3.4.9"
  }
 },
 "nbformat": 4,
 "nbformat_minor": 1
}
