{
 "cells": [
  {
   "cell_type": "markdown",
   "metadata": {},
   "source": [
    "Student Name: Fergus Mc Hale\n",
    "Student ID: 18203485"
   ]
  },
  {
   "cell_type": "markdown",
   "metadata": {},
   "source": [
    "- References\n",
    "- https://stackoverflow.com/questions/36771525/python-pca-projection-into-lower-dimensional-space\n",
    "- http://nasseralkmim.github.io/notes/2017/03/20/linear-algebra-change-of-basis-explained-using-python/\n",
    "- http://people.cs.pitt.edu/~iyad/PCA.pdf\n",
    "- http://people.duke.edu/~ccc14/sta-663-2016/09_PCA.html#Change-of-basis-via-PCA\n",
    "- https://github.com/minsuk-heo/python_tutorial/blob/master/data_science/pca/PCA.ipynb\n",
    "- https://plot.ly/ipython-notebooks/principal-component-analysis/\n",
    "- https://stackoverflow.com/questions/13224362/principal-component-analysis-pca-in-python\n",
    "- https://github.com/echen/principal-components-analysis/blob/master/pca.py\n",
    "- https://medium.com/district-data-labs/principal-component-analysis-with-python-4962cd026465\n",
    "- https://alyssaq.github.io/2015/understanding-eigenvectors-and-eigenvalues-visually/\n",
    "- https://community.esri.com/blogs/dan_patterson/2014/11/29/using-numpy-linalg-to-replicate-matrix-operations-reinventing-the-wheel\n",
    "- https://stackoverflow.com/questions/23838056/what-is-the-difference-between-transform-and-fit-transform-in-sklearn\n",
    "- https://www.kaggle.com/nirajvermafcb/principal-component-analysis-\n",
    "Revision Code Source Cormac Lavery "
   ]
  },
  {
   "cell_type": "markdown",
   "metadata": {},
   "source": [
    "- Making use of Numpy, write a Python class to apply the PCA transform to the provided (see Notebook) data set. Compare the output of your implementation to the PCA functionality provided by the Scikitlearn module.\n",
    "\n",
    "- Create a 'fit' method that calculates the eigen vectors and eigen values of your dataset. Compare your results to the output of Scikitlearn's fit method and document your findings as a comment (use markdown) directly under the cell with your PCA class.\n",
    "- Use the Scikitlean's PCA class with n_components=2 and n_components=1 and observe the differences. In the cell directly below, comment on what you have observed.\n",
    "- Add a property to your class and initialise this property in a suitable fashion to allow you to choose the number of principal components similar to the Scikitlearn PCA class.\n",
    "- Store those results from your fit method that are required to transform the data set, in suitable class properties.\n",
    "- Create a 'transform' method to perform the PCA data transformation on your data set using the parameters obtained using your 'fit' method.\n",
    " \n",
    "\n",
    "- N.B.:\n",
    "\n",
    "- Limit your code to the aspects explicitly listed. \n",
    "- Use the Jupyter Notebook provided in the repository for week 5. This notebook contains the data that needs to be transformed.\n",
    "- The required modules have already been imported for you. You should not import any other modules.\n",
    "- If you find creating a class with this functionality daunting, please start by creating normal functions in your notebook. If time permits, you can then change to use of a class later. \n",
    " \n",
    "\n",
    "- HINTS:\n",
    "\n",
    "- Numpy.mean() will 'flatten' your tensor by default. To obtain the mean along a given axis, you may use the axis parameter.\n",
    "\n",
    "- Numpy.cov() assumes by default that data is presented with one observation per column. This can be changed using the rowvar parameter. \n",
    "\n",
    "- A Numpy.matrix is a convenient way of performing the matrix operations required for PCA whilst retaining a matrix/vector like structure. Use of this class is discouraged, but would form a good starting point for tackling this week's challenge. Once you have the code working with the matrix class, changing to arrays is relatively straight forward.\n",
    "\n",
    "- You can use Scikitlearn as follows to check the Eigen vectors that you have found with your 'fit' mehod:\n",
    "\n",
    "- pca = PCA(n_components=2)\n",
    "- pca.fit(data)\n",
    "- print(pca.components_)\n",
    "\n",
    "- You can use Scikitlearn to obtain \n",
    "- GIT push your implementation and post your manual calculations to E-tivity 5: Linear Algebra in Numpy and Beyond and provide the name of your branch.\n",
    "\n",
    "- Respond (Complete by Wednesday Week 6)\n",
    "\n",
    "- Respond to a post of one of your peers with a respectful and in-depth assessment of the implementation with a view to pointing out potential improvements or sound alternative solutions.\n",
    "\n",
    "- Reflect (Complete by Saturday Week 6)\n",
    "\n",
    "- With your code (containing any corrections you have made based on your peers’ feedback), do the following:\n",
    "\n",
    "- For the case where n_components = 1, compare the resulting dataset of your transform method with the resulting dataset from Scikitlearn’s transform method by plotting the points on an XY plot. If there are any differences, explain these in a comment directly under the cell with your plot.\n",
    " - For the case where n_components = 1, compare the dataset resulting from your transform method with the original dataset by plotting the points on an XY plot. Comment on the differences between original and transformed data in the cell directly below your plot. In your comment, explain why and how PCA can be used for dimensionality reduction\n",
    " \n",
    "- HINTS:\n",
    "\n",
    "- You can use Scitkitlean as follows to calculate the new values of the data points in the original dataset when you reduce the dimensions of the data (from 2) to 1: \n",
    "- pca = PCA(n_components=1)\n",
    "- pca.fit(data)\n",
    "- data_pca = pca.transform(data)\n",
    "- data_reduced = pca.inverse_transform(data_pca)\n",
    "\n",
    "- You can use plots to compare the values in your original dataset with the dataset with reduced dimensionality:\n",
    "- plt.plot(data[:,0], data[:,1], 'or')\n",
    "- plt.plot(data_reduced[:,0], data_reduced[:,1],'xb')\n",
    " - plt.show()\n",
    "\n",
    "- You can use your own PCA results to calculate the new values of the data points int the original dataset when you reduce the dimensions of the data (from 2) to 1:\n",
    "- reduced = np.dot(features[:,0],red_highvar.T)+mean.T\n",
    "\n",
    "- with:\n",
    "\n",
    "- reduced: a 2x20 matrix of the new values of the dataset with dimensionality reduction applied\n",
    "- features[:,0]: the 2x1 matrix (or column vector) which contains the Eigen vector associated with the highest variance\n",
    "- red_highvar: a 20x1 matrix containing the reduced dataset which is the output of your transform method with n_components set to 1. \n",
    "- mean: a 1x2 matrix of the per-column mean values of your original data\n",
    "- T: the transform operator as provided by Numpy"
   ]
  },
  {
   "cell_type": "markdown",
   "metadata": {},
   "source": [
    "- The 'as' keyword allows you to invoke functionality from the module using an alias for the module name. For example: np.mean() instead of numpy.mean()\n",
    "- The from keyword allows you to only import the functionality of interest, for example above we import only the PCA class from the sklearn.decomposition module\n",
    "- As per E-tivity instructions: Use of the matrix class is discouraged, but to allow us to simplify the code slightly, we will use it this week. \n",
    "- Its first use will be to store the data that you will perform the PCA transform on. Note that you will likely obtain a higher score if your final version does not use the matrix class.\n",
    "- The numpy shape property is very useful to get an insight in the dimensions of your data, for example to check whether the features (in this case 2) or the samples (in this case 20) are in the rows or the columns. The notation used here (with columns containing the features and rows containing separate examples) is the standard for Scikitlearn and many other machine learning algorithms.\n",
    "- data.shape"
   ]
  },
  {
   "cell_type": "markdown",
   "metadata": {},
   "source": [
    " - PCA Implementation"
   ]
  },
  {
   "cell_type": "code",
   "execution_count": 15,
   "metadata": {},
   "outputs": [],
   "source": [
    "from sklearn.decomposition import PCA\n",
    "import numpy as np\n",
    "from numpy.linalg import linalg as nla\n",
    "import random as rand\n",
    "import matplotlib.pyplot as plt\n",
    "\n",
    "a_x = 0.05\n",
    "a_y= 10\n",
    "\n",
    "data =  np.array([[n*(1+a_x*(rand.random()-0.5)),4*n+ a_y*(rand.random()-0.5)] for n in range(20)])\n",
    "\n",
    "class pca:\n",
    "    \n",
    "    def __init__(self,n_components=None):\n",
    "        self.n_components = n_components\n",
    "        \n",
    "    def fit(self, data):\n",
    "        \"\"\"Given an array finds the eigenvalues and eigenvectors\n",
    "            Args:\n",
    "            data (array) The dataset that has been supplied\n",
    "            Returns: eigenvectors, eigenvalues (tuple) The result of the operation performed on the dataset\n",
    "            \"\"\"\n",
    "        self.mean = centered_data = self.get_covariance(data)\n",
    "        covariance = self.get_covariance(centered_data)\n",
    "        eigen_values, eigen_vectors = self.get_eigen(covariance)\n",
    "        indexes = self.get_eigen_values_squared(eigen_values)\n",
    "        sorted_eigen_values = eigen_values[indexes]\n",
    "        sorted_eigen_vectors = eigen_vectors[indexes]\n",
    "        self.eigen_values = sorted_eigen_values[:self.n_components]\n",
    "        self.eigen_vectors = sorted_eigen_vectors.T[:self.n_components,:]\n",
    "         \n",
    "    def transform(self, data):\n",
    "        \"\"\"Given data selects an eigenvector returns the transform \n",
    "            Args:\n",
    "            data (array) The dataset that has been supplied\n",
    "            Returns: transformed result ()\n",
    "            \"\"\"\n",
    "        centered_data = self.get_centered(data)\n",
    "        matrix = data - centered_data\n",
    "        return np.dot(matrix, self.eigen_vectors.T) \n",
    "    \n",
    "    def get_eigen_values_squared(self, eigenvalues):\n",
    "        \"\"\"Gets the square of the eigen values and sorts them in descending order\"\"\"\n",
    "        return np.square(eigenvalues).argsort()[::-1]\n",
    "    \n",
    "    def get_centered(self, data):\n",
    "        \"\"\"Gets the mean matrix of the data\"\"\"\n",
    "        return np.mean(data, axis=0)\n",
    "    \n",
    "    def get_covariance(self, centered_data):\n",
    "        \"\"\"Gets the covariance matrix from centered data\"\"\"\n",
    "        return np.cov(centered_data, rowvar=False)\n",
    "    \n",
    "    def get_eigen(self, covariance):\n",
    "        \"\"\"Gets the eigen values and vectors from a covariance matrix\"\"\"\n",
    "        return nla.eig(covariance)\n",
    "    \n",
    "    def graph(self, data, transformed_data):\n",
    "        \"\"\"Projects a visulzation of data and transformed data \n",
    "            Args:\n",
    "            data (array) Dataset\n",
    "            transformed_data (array) Dataset\n",
    "            Returns: None\n",
    "            \"\"\"\n",
    "        plt.plot(data[:,0], data[:,1], 'or')\n",
    "        plt.plot(transformed_data,'xb')\n",
    "        plt.show()\n"
   ]
  },
  {
   "cell_type": "code",
   "execution_count": 16,
   "metadata": {},
   "outputs": [
    {
     "name": "stdout",
     "output_type": "stream",
     "text": [
      "PCA Implementation\n",
      "Fit\n",
      "[97395.32275142]\n",
      "[[ 0.23798859 -0.97126795]]\n",
      "Transform\n",
      "[[ 39.69057819]\n",
      " [ 29.23219121]\n",
      " [ 29.38140392]\n",
      " [ 26.76802335]\n",
      " [ 18.75313523]\n",
      " [ 12.72048731]\n",
      " [ 10.60903452]\n",
      " [  8.62798093]\n",
      " [  4.64805794]\n",
      " [ -1.65313513]\n",
      " [ -2.29985955]\n",
      " [ -9.71660714]\n",
      " [ -6.117722  ]\n",
      " [-12.05887708]\n",
      " [-13.72157234]\n",
      " [-18.96815337]\n",
      " [-21.830726  ]\n",
      " [-29.79418295]\n",
      " [-33.73031615]\n",
      " [-30.53974088]]\n"
     ]
    },
    {
     "data": {
      "image/png": "[encoded data removed]",
      "text/plain": [
       "<Figure size 432x288 with 1 Axes>"
      ]
     },
     "metadata": {},
     "output_type": "display_data"
    },
    {
     "name": "stdout",
     "output_type": "stream",
     "text": [
      "Scikitlean\n",
      "Fit\n",
      "[[-0.23911241 -0.97099189]]\n",
      "Transform\n",
      "[[ 44.20776368]\n",
      " [ 33.27507989]\n",
      " [ 32.95573871]\n",
      " [ 29.83782757]\n",
      " [ 21.36755641]\n",
      " [ 14.81058188]\n",
      " [ 12.30167042]\n",
      " [  9.81339123]\n",
      " [  5.36055119]\n",
      " [ -1.42033756]\n",
      " [ -2.52824598]\n",
      " [-10.48129821]\n",
      " [ -7.24499565]\n",
      " [-13.66889392]\n",
      " [-15.72855488]\n",
      " [-21.75273227]\n",
      " [-24.99910209]\n",
      " [-33.23672658]\n",
      " [-37.9700275 ]\n",
      " [-34.89924635]]\n"
     ]
    },
    {
     "data": {
      "image/png": "[encoded data removed]",
      "text/plain": [
       "<Figure size 432x288 with 1 Axes>"
      ]
     },
     "metadata": {},
     "output_type": "display_data"
    }
   ],
   "source": [
    "for value in [1]:\n",
    "    print(\"PCA Implementation\")     \n",
    "    implementated_pca = pca(value)\n",
    "    print(\"Fit\")\n",
    "    implementated_pca.fit(data)\n",
    "\n",
    "    print(implementated_pca.eigen_values)\n",
    "    print(implementated_pca.eigen_vectors)\n",
    "    print(\"Transform\")\n",
    "    transformed_data = implementated_pca.transform(data)\n",
    "    print(transformed_data)\n",
    "    implementated_pca.graph(data, transformed_data)\n",
    "    \n",
    "    \n",
    "    print(\"Scikitlean\")\n",
    "    pca_one = PCA(value)\n",
    "    print(\"Fit\")\n",
    "    pca_one.fit(data)\n",
    "    print(pca_one.components_)\n",
    "    print(\"Transform\")\n",
    "    scikit_learn_transform = pca_one.transform(data)\n",
    "    print(scikit_learn_transform)\n",
    "    implementated_pca.graph(data, scikit_learn_transform)"
   ]
  },
  {
   "cell_type": "code",
   "execution_count": 17,
   "metadata": {},
   "outputs": [
    {
     "name": "stdout",
     "output_type": "stream",
     "text": [
      "PCA Implementation\n",
      "Fit\n",
      "[97395.32275142     0.        ]\n",
      "[[ 0.23798859 -0.97126795]\n",
      " [-0.97126795 -0.23798859]]\n",
      "Transform\n",
      "[[ 39.69057819  19.49913135]\n",
      " [ 29.23219121  15.90643438]\n",
      " [ 29.38140392  14.93180655]\n",
      " [ 26.76802335  13.20092067]\n",
      " [ 18.75313523  10.24927178]\n",
      " [ 12.72048731   7.63574369]\n",
      " [ 10.60903452   6.25924596]\n",
      " [  8.62798093   4.67786959]\n",
      " [  4.64805794   2.67953475]\n",
      " [ -1.65313513   0.09636769]\n",
      " [ -2.29985955  -1.05786944]\n",
      " [ -9.71660714  -4.03724303]\n",
      " [ -6.117722    -3.9357676 ]\n",
      " [-12.05887708  -6.43707161]\n",
      " [-13.72157234  -7.70227158]\n",
      " [-18.96815337 -10.66934103]\n",
      " [-21.830726   -12.20085991]\n",
      " [-29.79418295 -14.74875738]\n",
      " [-33.73031615 -17.43616644]\n",
      " [-30.53974088 -16.91097838]]\n"
     ]
    },
    {
     "data": {
      "image/png": "[encoded data removed]",
      "text/plain": [
       "<Figure size 432x288 with 1 Axes>"
      ]
     },
     "metadata": {},
     "output_type": "display_data"
    },
    {
     "name": "stdout",
     "output_type": "stream",
     "text": [
      "Scikitlean\n",
      "Fit\n",
      "[[-0.23911241 -0.97099189]\n",
      " [ 0.97099189 -0.23911241]]\n",
      "Transform\n",
      "[[ 44.20776368   1.1098426 ]\n",
      " [ 33.27507989  -0.55201029]\n",
      " [ 32.95573871   0.38082681]\n",
      " [ 29.83782757   0.70386553]\n",
      " [ 21.36755641  -0.3939365 ]\n",
      " [ 14.81058188  -0.87295106]\n",
      " [ 12.30167042  -0.63140981]\n",
      " [  9.81339123  -0.14789022]\n",
      " [  5.36055119  -0.2209979 ]\n",
      " [ -1.42033756  -0.85134231]\n",
      " [ -2.52824598  -0.12811706]\n",
      " [-10.48129821  -0.92421503]\n",
      " [ -7.24499565   0.65332013]\n",
      " [-13.66889392   0.11724514]\n",
      " [-15.72855488   0.46807731]\n",
      " [-21.75273227   0.66657277]\n",
      " [-24.99910209   0.69747753]\n",
      " [-33.23672658  -0.7342944 ]\n",
      " [-37.9700275   -0.17646429]\n",
      " [-34.89924635   0.83640106]]\n"
     ]
    },
    {
     "data": {
      "image/png": "[encoded data removed]",
      "text/plain": [
       "<Figure size 432x288 with 1 Axes>"
      ]
     },
     "metadata": {},
     "output_type": "display_data"
    }
   ],
   "source": [
    "for value in [2]:\n",
    "    print(\"PCA Implementation\")     \n",
    "    implementated_pca = pca(value)\n",
    "    print(\"Fit\")\n",
    "    implementated_pca.fit(data)\n",
    "\n",
    "    print(implementated_pca.eigen_values)\n",
    "    print(implementated_pca.eigen_vectors)\n",
    "    print(\"Transform\")\n",
    "    transformed_data = implementated_pca.transform(data)\n",
    "    print(transformed_data)\n",
    "    implementated_pca.graph(data, transformed_data)\n",
    "    \n",
    "    \n",
    "    print(\"Scikitlean\")\n",
    "    pca_one = PCA(value)\n",
    "    print(\"Fit\")\n",
    "    pca_one.fit(data)\n",
    "    print(pca_one.components_)\n",
    "    print(\"Transform\")\n",
    "    scikit_learn_transform = pca_one.transform(data)\n",
    "    print(scikit_learn_transform)\n",
    "    implementated_pca.graph(data, scikit_learn_transform)"
   ]
  },
  {
   "cell_type": "code",
   "execution_count": null,
   "metadata": {},
   "outputs": [],
   "source": []
  }
 ],
 "metadata": {
  "kernelspec": {
   "display_name": "Python 3",
   "language": "python",
   "name": "python3"
  },
  "language_info": {
   "codemirror_mode": {
    "name": "ipython",
    "version": 3
   },
   "file_extension": ".py",
   "mimetype": "text/x-python",
   "name": "python",
   "nbconvert_exporter": "python",
   "pygments_lexer": "ipython3",
   "version": "3.6.5"
  }
 },
 "nbformat": 4,
 "nbformat_minor": 1
}
