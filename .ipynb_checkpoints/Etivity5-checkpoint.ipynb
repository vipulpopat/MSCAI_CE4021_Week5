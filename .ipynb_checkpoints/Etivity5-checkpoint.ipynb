{
 "cells": [
  {
   "cell_type": "markdown",
   "metadata": {},
   "source": [
    "Student Name: Fergus Mc Hale\n",
    "Student ID: 18203485"
   ]
  },
  {
   "cell_type": "markdown",
   "metadata": {},
   "source": [
    "- TODO\n",
    "- Comments\n",
    "- Refactoring\n",
    "- Graphs"
   ]
  },
  {
   "cell_type": "markdown",
   "metadata": {},
   "source": [
    "- References\n",
    "- https://stackoverflow.com/questions/36771525/python-pca-projection-into-lower-dimensional-space\n",
    "- http://nasseralkmim.github.io/notes/2017/03/20/linear-algebra-change-of-basis-explained-using-python/\n",
    "- http://people.cs.pitt.edu/~iyad/PCA.pdf\n",
    "- http://people.duke.edu/~ccc14/sta-663-2016/09_PCA.html#Change-of-basis-via-PCA\n",
    "- https://github.com/minsuk-heo/python_tutorial/blob/master/data_science/pca/PCA.ipynb\n",
    "- https://plot.ly/ipython-notebooks/principal-component-analysis/\n",
    "- https://stackoverflow.com/questions/13224362/principal-component-analysis-pca-in-python\n",
    "- https://github.com/echen/principal-components-analysis/blob/master/pca.py\n",
    "- https://medium.com/district-data-labs/principal-component-analysis-with-python-4962cd026465\n",
    "- https://alyssaq.github.io/2015/understanding-eigenvectors-and-eigenvalues-visually/\n",
    "- https://community.esri.com/blogs/dan_patterson/2014/11/29/using-numpy-linalg-to-replicate-matrix-operations-reinventing-the-wheel\n",
    "- https://stackoverflow.com/questions/23838056/what-is-the-difference-between-transform-and-fit-transform-in-sklearn\n",
    "- https://www.kaggle.com/nirajvermafcb/principal-component-analysis-explained"
   ]
  },
  {
   "cell_type": "markdown",
   "metadata": {},
   "source": [
    "- Making use of Numpy, write a Python class to apply the PCA transform to the provided (see Notebook) data set. Compare the output of your implementation to the PCA functionality provided by the Scikitlearn module.\n",
    "\n",
    "- Create a 'fit' method that calculates the eigen vectors and eigen values of your dataset. Compare your results to the output of Scikitlearn's fit method and document your findings as a comment (use markdown) directly under the cell with your PCA class.\n",
    "- Use the Scikitlean's PCA class with n_components=2 and n_components=1 and observe the differences. In the cell directly below, comment on what you have observed.\n",
    "- Add a property to your class and initialise this property in a suitable fashion to allow you to choose the number of principal components similar to the Scikitlearn PCA class.\n",
    "- Store those results from your fit method that are required to transform the data set, in suitable class properties.\n",
    "- Create a 'transform' method to perform the PCA data transformation on your data set using the parameters obtained using your 'fit' method.\n",
    " \n",
    "\n",
    "- N.B.:\n",
    "\n",
    "- Limit your code to the aspects explicitly listed. \n",
    "- Use the Jupyter Notebook provided in the repository for week 5. This notebook contains the data that needs to be transformed.\n",
    "- The required modules have already been imported for you. You should not import any other modules.\n",
    "- If you find creating a class with this functionality daunting, please start by creating normal functions in your notebook. If time permits, you can then change to use of a class later. \n",
    " \n",
    "\n",
    "- HINTS:\n",
    "\n",
    "- Numpy.mean() will 'flatten' your tensor by default. To obtain the mean along a given axis, you may use the axis parameter.\n",
    "\n",
    "- Numpy.cov() assumes by default that data is presented with one observation per column. This can be changed using the rowvar parameter. \n",
    "\n",
    "- A Numpy.matrix is a convenient way of performing the matrix operations required for PCA whilst retaining a matrix/vector like structure. Use of this class is discouraged, but would form a good starting point for tackling this week's challenge. Once you have the code working with the matrix class, changing to arrays is relatively straight forward.\n",
    "\n",
    "- You can use Scikitlearn as follows to check the Eigen vectors that you have found with your 'fit' mehod:\n",
    "\n",
    "- pca = PCA(n_components=2)\n",
    "- pca.fit(data)\n",
    "- print(pca.components_)\n",
    "\n",
    "- You can use Scikitlearn to obtain \n",
    "- GIT push your implementation and post your manual calculations to E-tivity 5: Linear Algebra in Numpy and Beyond and provide the name of your branch.\n",
    "\n",
    "- Respond (Complete by Wednesday Week 6)\n",
    "\n",
    "- Respond to a post of one of your peers with a respectful and in-depth assessment of the implementation with a view to pointing out potential improvements or sound alternative solutions.\n",
    "\n",
    "- Reflect (Complete by Saturday Week 6)\n",
    "\n",
    "- With your code (containing any corrections you have made based on your peers’ feedback), do the following:\n",
    "\n",
    "- For the case where n_components = 1, compare the resulting dataset of your transform method with the resulting dataset from Scikitlearn’s transform method by plotting the points on an XY plot. If there are any differences, explain these in a comment directly under the cell with your plot.\n",
    " - For the case where n_components = 1, compare the dataset resulting from your transform method with the original dataset by plotting the points on an XY plot. Comment on the differences between original and transformed data in the cell directly below your plot. In your comment, explain why and how PCA can be used for dimensionality reduction\n",
    " \n",
    "- HINTS:\n",
    "\n",
    "- You can use Scitkitlean as follows to calculate the new values of the data points in the original dataset when you reduce the dimensions of the data (from 2) to 1: \n",
    "- pca = PCA(n_components=1)\n",
    "- pca.fit(data)\n",
    "- data_pca = pca.transform(data)\n",
    "- data_reduced = pca.inverse_transform(data_pca)\n",
    "\n",
    "- You can use plots to compare the values in your original dataset with the dataset with reduced dimensionality:\n",
    "- plt.plot(data[:,0], data[:,1], 'or')\n",
    "- plt.plot(data_reduced[:,0], data_reduced[:,1],'xb')\n",
    " - plt.show()\n",
    "\n",
    "- You can use your own PCA results to calculate the new values of the data points int the original dataset when you reduce the dimensions of the data (from 2) to 1:\n",
    "- reduced = np.dot(features[:,0],red_highvar.T)+mean.T\n",
    "\n",
    "- with:\n",
    "\n",
    "- reduced: a 2x20 matrix of the new values of the dataset with dimensionality reduction applied\n",
    "- features[:,0]: the 2x1 matrix (or column vector) which contains the Eigen vector associated with the highest variance\n",
    "- red_highvar: a 20x1 matrix containing the reduced dataset which is the output of your transform method with n_components set to 1. \n",
    "- mean: a 1x2 matrix of the per-column mean values of your original data\n",
    "- T: the transform operator as provided by Numpy"
   ]
  },
  {
   "cell_type": "markdown",
   "metadata": {},
   "source": [
    "- The 'as' keyword allows you to invoke functionality from the module using an alias for the module name. For example: np.mean() instead of numpy.mean()\n",
    "- The from keyword allows you to only import the functionality of interest, for example above we import only the PCA class from the sklearn.decomposition module\n",
    "- As per E-tivity instructions: Use of the matrix class is discouraged, but to allow us to simplify the code slightly, we will use it this week. \n",
    "- Its first use will be to store the data that you will perform the PCA transform on. Note that you will likely obtain a higher score if your final version does not use the matrix class.\n",
    "- The numpy shape property is very useful to get an insight in the dimensions of your data, for example to check whether the features (in this case 2) or the samples (in this case 20) are in the rows or the columns. The notation used here (with columns containing the features and rows containing separate examples) is the standard for Scikitlearn and many other machine learning algorithms.\n",
    "- data.shape"
   ]
  },
  {
   "cell_type": "markdown",
   "metadata": {},
   "source": [
    "2. Use the Scikitlean's PCA class with n_components=2 and n_components=1 and observe the differences. In the cell directly below, comment on what you have observed"
   ]
  },
  {
   "cell_type": "markdown",
   "metadata": {},
   "source": [
    "- Original Data Graphed"
   ]
  },
  {
   "cell_type": "code",
   "execution_count": 45,
   "metadata": {},
   "outputs": [
    {
     "data": {
      "text/plain": [
       "[<matplotlib.lines.Line2D at 0x1c4bd27ba20>]"
      ]
     },
     "execution_count": 45,
     "metadata": {},
     "output_type": "execute_result"
    },
    {
     "data": {
      "image/png": "[encoded data removed]",
      "text/plain": [
       "<Figure size 432x288 with 1 Axes>"
      ]
     },
     "metadata": {},
     "output_type": "display_data"
    }
   ],
   "source": [
    "import matplotlib.pyplot as plt\n",
    "data =  np.matrix([[n*(1+a_x*(rand.random()-0.5)),4*n+ a_y*(rand.random()-0.5)] for n in range(20)])\n",
    "plt.plot(data[:, 0], data[:, 1], 'go')"
   ]
  },
  {
   "cell_type": "markdown",
   "metadata": {},
   "source": [
    "- Scikit Learn n_components = 1"
   ]
  },
  {
   "cell_type": "code",
   "execution_count": 1,
   "metadata": {},
   "outputs": [
    {
     "name": "stdout",
     "output_type": "stream",
     "text": [
      "PCA(copy=True, iterated_power='auto', n_components=1, random_state=None,\n",
      "  svd_solver='auto', tol=0.0, whiten=False)\n",
      "[[-37.30285291]\n",
      " [-35.4401548 ]\n",
      " [-28.1350853 ]\n",
      " [-22.6702613 ]\n",
      " [-23.08569771]\n",
      " [-21.58005969]\n",
      " [-16.94998136]\n",
      " [-13.13608559]\n",
      " [ -6.28730449]\n",
      " [ -0.60984166]\n",
      " [  2.84815343]\n",
      " [  3.81564876]\n",
      " [  8.6346103 ]\n",
      " [ 15.33705871]\n",
      " [ 19.06569631]\n",
      " [ 20.83423711]\n",
      " [ 25.54964412]\n",
      " [ 33.45240016]\n",
      " [ 38.36947719]\n",
      " [ 37.29039872]]\n",
      "[[ 0.46317982  1.28025796]\n",
      " [ 0.91539605  3.08722912]\n",
      " [ 2.68888311 10.17375041]\n",
      " [ 4.01560487 15.47508144]\n",
      " [ 3.91474736 15.07207378]\n",
      " [ 4.28027839 16.53266713]\n",
      " [ 5.4043449  21.02422585]\n",
      " [ 6.33026283 24.72402003]\n",
      " [ 7.99297455 31.36790386]\n",
      " [ 9.37131966 36.87551213]\n",
      " [10.21083386 40.23005322]\n",
      " [10.44571738 41.16860367]\n",
      " [11.61563999 45.84339473]\n",
      " [13.24282581 52.34532375]\n",
      " [14.1480452  55.96241046]\n",
      " [14.5774024  57.67804122]\n",
      " [15.72218458 62.25237583]\n",
      " [17.64077489 69.91870247]\n",
      " [18.83451747 74.68867367]\n",
      " [18.57254437 73.64187835]]\n"
     ]
    },
    {
     "data": {
      "text/plain": [
       "<Figure size 640x480 with 1 Axes>"
      ]
     },
     "metadata": {},
     "output_type": "display_data"
    }
   ],
   "source": [
    "from sklearn.decomposition import PCA\n",
    "import numpy as np\n",
    "import random as rand\n",
    "import matplotlib.pyplot as plt\n",
    "\n",
    "a_x = 0.05\n",
    "a_y= 10\n",
    "data =  np.matrix([[n*(1+a_x*(rand.random()-0.5)),4*n+ a_y*(rand.random()-0.5)] for n in range(20)])\n",
    "\n",
    "pca = PCA(n_components=1)\n",
    "pca_fit = pca.fit(data)\n",
    "print(pca_fit)\n",
    "data_pca = pca.transform(data)\n",
    "print(data_pca)\n",
    "data_reduced = pca.inverse_transform(data_pca)\n",
    "print(data_reduced)\n",
    "\n",
    "plt.plot(data[:,0], data[:,1], 'or')\n",
    "plt.plot(data_reduced[:,0], data_reduced[:,1],'xb')\n",
    "plt.show()"
   ]
  },
  {
   "cell_type": "code",
   "execution_count": null,
   "metadata": {},
   "outputs": [],
   "source": [
    "- Scikit learn N_Components = 2"
   ]
  },
  {
   "cell_type": "code",
   "execution_count": 1,
   "metadata": {},
   "outputs": [
    {
     "ename": "NameError",
     "evalue": "name 'data' is not defined",
     "output_type": "error",
     "traceback": [
      "\u001b[1;31m---------------------------------------------------------------------------\u001b[0m",
      "\u001b[1;31mNameError\u001b[0m                                 Traceback (most recent call last)",
      "\u001b[1;32m<ipython-input-1-1202d922742f>\u001b[0m in \u001b[0;36m<module>\u001b[1;34m()\u001b[0m\n\u001b[0;32m      7\u001b[0m \u001b[1;33m\u001b[0m\u001b[0m\n\u001b[0;32m      8\u001b[0m \u001b[0mpca\u001b[0m \u001b[1;33m=\u001b[0m \u001b[0mPCA\u001b[0m\u001b[1;33m(\u001b[0m\u001b[0mn_components\u001b[0m\u001b[1;33m=\u001b[0m\u001b[1;36m2\u001b[0m\u001b[1;33m)\u001b[0m\u001b[1;33m\u001b[0m\u001b[0m\n\u001b[1;32m----> 9\u001b[1;33m \u001b[0mpca\u001b[0m\u001b[1;33m.\u001b[0m\u001b[0mfit\u001b[0m\u001b[1;33m(\u001b[0m\u001b[0mdata\u001b[0m\u001b[1;33m)\u001b[0m\u001b[1;33m\u001b[0m\u001b[0m\n\u001b[0m\u001b[0;32m     10\u001b[0m \u001b[0mdata_pca\u001b[0m \u001b[1;33m=\u001b[0m \u001b[0mpca\u001b[0m\u001b[1;33m.\u001b[0m\u001b[0mtransform\u001b[0m\u001b[1;33m(\u001b[0m\u001b[0mdata\u001b[0m\u001b[1;33m)\u001b[0m\u001b[1;33m\u001b[0m\u001b[0m\n\u001b[0;32m     11\u001b[0m \u001b[0mprint\u001b[0m\u001b[1;33m(\u001b[0m\u001b[0mdata_pca\u001b[0m\u001b[1;33m)\u001b[0m\u001b[1;33m\u001b[0m\u001b[0m\n",
      "\u001b[1;31mNameError\u001b[0m: name 'data' is not defined"
     ]
    }
   ],
   "source": [
    "from sklearn.decomposition import PCA\n",
    "import numpy as np\n",
    "import random as rand\n",
    "\n",
    "a_x = 0.05\n",
    "a_y= 10\n",
    "\n",
    "pca = PCA(n_components=2)\n",
    "pca.fit(data)\n",
    "data_pca = pca.transform(data)\n",
    "print(data_pca)\n",
    "data_reduced = pca.inverse_transform(data_pca)\n",
    "print(data_reduced)\n",
    "\n",
    "plt.plot(data[:,0], data[:,1], 'or')\n",
    "plt.plot(data_reduced[:,0], data_reduced[:,1],'xb')\n",
    "plt.show()"
   ]
  },
  {
   "cell_type": "markdown",
   "metadata": {},
   "source": [
    " - PCA Implementation"
   ]
  },
  {
   "cell_type": "code",
   "execution_count": 15,
   "metadata": {},
   "outputs": [
    {
     "name": "stdout",
     "output_type": "stream",
     "text": [
      "PCA Implementation One\n",
      "Fit\n",
      "[[0.24392045]\n",
      " [0.96979524]]\n",
      "Transform\n",
      "[[-37.08555665]\n",
      " [-30.80137501]\n",
      " [-31.70458705]\n",
      " [-23.79731987]\n",
      " [-22.62783946]\n",
      " [-16.50085526]\n",
      " [-19.2968189 ]\n",
      " [-14.54503557]\n",
      " [ -6.69869143]\n",
      " [ -3.96798814]\n",
      " [ -2.28228074]\n",
      " [  8.7829507 ]\n",
      " [ 14.03663461]\n",
      " [ 12.1163673 ]\n",
      " [ 20.97243494]\n",
      " [ 20.36768306]\n",
      " [ 29.65995432]\n",
      " [ 35.04755263]\n",
      " [ 31.52867616]\n",
      " [ 36.79609437]]\n"
     ]
    },
    {
     "data": {
      "image/png": "[encoded data removed]",
      "text/plain": [
       "<Figure size 432x288 with 1 Axes>"
      ]
     },
     "metadata": {},
     "output_type": "display_data"
    },
    {
     "name": "stdout",
     "output_type": "stream",
     "text": [
      "Scikitlean One\n",
      "Fit\n",
      "[[-0.24392045 -0.96979524]]\n",
      "Transform\n",
      "[[ 37.08555665]\n",
      " [ 30.80137501]\n",
      " [ 31.70458705]\n",
      " [ 23.79731987]\n",
      " [ 22.62783946]\n",
      " [ 16.50085526]\n",
      " [ 19.2968189 ]\n",
      " [ 14.54503557]\n",
      " [  6.69869143]\n",
      " [  3.96798814]\n",
      " [  2.28228074]\n",
      " [ -8.7829507 ]\n",
      " [-14.03663461]\n",
      " [-12.1163673 ]\n",
      " [-20.97243494]\n",
      " [-20.36768306]\n",
      " [-29.65995432]\n",
      " [-35.04755263]\n",
      " [-31.52867616]\n",
      " [-36.79609437]]\n"
     ]
    },
    {
     "data": {
      "image/png": "[encoded data removed]",
      "text/plain": [
       "<Figure size 432x288 with 1 Axes>"
      ]
     },
     "metadata": {},
     "output_type": "display_data"
    },
    {
     "name": "stdout",
     "output_type": "stream",
     "text": [
      "PCA Implementation Two\n",
      "Fit\n",
      "[[ 0.24392045 -0.96979524]\n",
      " [ 0.96979524  0.24392045]]\n",
      "Transform\n",
      "[[ 4.55665896e-01 -3.70855567e+01]\n",
      " [ 1.01787501e+00 -3.08013750e+01]\n",
      " [-2.46020764e-01 -3.17045870e+01]\n",
      " [ 7.56675300e-01 -2.37973199e+01]\n",
      " [ 2.70011009e-02 -2.26278395e+01]\n",
      " [ 4.43851026e-01 -1.65008553e+01]\n",
      " [-1.41115832e+00 -1.92968189e+01]\n",
      " [-1.24168552e+00 -1.45450356e+01]\n",
      " [-8.63609277e-03 -6.69869143e+00]\n",
      " [-3.31305562e-01 -3.96798814e+00]\n",
      " [-9.76625821e-01 -2.28228074e+00]\n",
      " [ 8.34679173e-01  8.78295070e+00]\n",
      " [ 8.35719321e-01  1.40366346e+01]\n",
      " [-4.02887177e-01  1.21163673e+01]\n",
      " [ 9.30200540e-01  2.09724349e+01]\n",
      " [-6.83122007e-01  2.03676831e+01]\n",
      " [ 5.41411301e-01  2.96599543e+01]\n",
      " [ 7.99311222e-01  3.50475526e+01]\n",
      " [-5.68433050e-01  3.15286762e+01]\n",
      " [-7.72515570e-01  3.67960944e+01]]\n"
     ]
    },
    {
     "data": {
      "image/png": "[encoded data removed]",
      "text/plain": [
       "<Figure size 432x288 with 1 Axes>"
      ]
     },
     "metadata": {},
     "output_type": "display_data"
    },
    {
     "name": "stdout",
     "output_type": "stream",
     "text": [
      "Scikitlean One\n",
      "Fit\n",
      "[[-0.24392045 -0.96979524]]\n",
      "Transform\n",
      "[[ 3.70855567e+01 -4.55665896e-01]\n",
      " [ 3.08013750e+01 -1.01787501e+00]\n",
      " [ 3.17045870e+01  2.46020764e-01]\n",
      " [ 2.37973199e+01 -7.56675300e-01]\n",
      " [ 2.26278395e+01 -2.70011009e-02]\n",
      " [ 1.65008553e+01 -4.43851026e-01]\n",
      " [ 1.92968189e+01  1.41115832e+00]\n",
      " [ 1.45450356e+01  1.24168552e+00]\n",
      " [ 6.69869143e+00  8.63609277e-03]\n",
      " [ 3.96798814e+00  3.31305562e-01]\n",
      " [ 2.28228074e+00  9.76625821e-01]\n",
      " [-8.78295070e+00 -8.34679173e-01]\n",
      " [-1.40366346e+01 -8.35719321e-01]\n",
      " [-1.21163673e+01  4.02887177e-01]\n",
      " [-2.09724349e+01 -9.30200540e-01]\n",
      " [-2.03676831e+01  6.83122007e-01]\n",
      " [-2.96599543e+01 -5.41411301e-01]\n",
      " [-3.50475526e+01 -7.99311222e-01]\n",
      " [-3.15286762e+01  5.68433050e-01]\n",
      " [-3.67960944e+01  7.72515570e-01]]\n"
     ]
    },
    {
     "data": {
      "image/png": "[encoded data removed]",
      "text/plain": [
       "<Figure size 432x288 with 1 Axes>"
      ]
     },
     "metadata": {},
     "output_type": "display_data"
    }
   ],
   "source": [
    "from sklearn.decomposition import PCA\n",
    "import numpy as np\n",
    "from numpy.linalg import linalg as nla\n",
    "import random as rand\n",
    "import matplotlib.pyplot as plt\n",
    "\n",
    "a_x = 0.05\n",
    "a_y= 10\n",
    "data =  np.array([[n*(1+a_x*(rand.random()-0.5)),4*n+ a_y*(rand.random()-0.5)] for n in range(20)])\n",
    "\n",
    "\n",
    "class pca:\n",
    "    \n",
    "    def __init__(self,n_components=None):\n",
    "        self.n_components = n_components\n",
    "        self.components_ = []\n",
    "        \n",
    "    def fit(self, data):\n",
    "        \"\"\"Given an array finds the eigenvalues and eigenvectors\n",
    "            Args:\n",
    "            data (array) The dataset that has been supplied\n",
    "            Returns: eigenvectors, eigenvalues (tuple) The result of the operation performed on the dataset\n",
    "            \"\"\"\n",
    "        self.data = data\n",
    "        self.mean_matrix_zero = data.mean(0)\n",
    "        self.covariance_matrix_zero = np.cov(data - self.mean_matrix_zero, rowvar=False)\n",
    "        self.eigenvalues, self.eigenvectors = np.linalg.eigh(self.covariance_matrix_zero)\n",
    "        # sort eigenvectors and value\n",
    "        index = self.eigenvalues.argsort()[::-1]   \n",
    "        eigenValues = self.eigenvalues[index]\n",
    "        eigenVectors = self.eigenvectors[:,index]\n",
    "        # set components based on eigenvectors\n",
    "        self.components_ = eigenVectors[:, :self.n_components]\n",
    "        # return tuple of eigenvalues and eigenvectors\n",
    "        return (eigenValues, eigenVectors)\n",
    "    \n",
    "    def transform(self, data):\n",
    "        \"\"\"Given data selects an eigenvector returns the transform \n",
    "            Args:\n",
    "            data (array) The dataset that has been supplied\n",
    "            Returns: transformed result ()\n",
    "            \"\"\"\n",
    "        selected_eigen_vectors = self.components_.T[::-1]\n",
    "        transform_result = np.dot(data - self.mean_matrix_zero, selected_eigen_vectors.T)\n",
    "        print(transform_result)\n",
    "        return transform_result\n",
    "        \n",
    "    def graph(self, data, transformed_data):\n",
    "        \"\"\"Projects a visulzation of data and transformed data \n",
    "            Args:\n",
    "            data (array) Dataset\n",
    "            transformed_data (array) Dataset\n",
    "            Returns: None\n",
    "            \"\"\"\n",
    "        plt.plot(data[:,0], data[:,1], 'or')\n",
    "        plt.plot(transformed_data,'xb')\n",
    "        plt.show()\n",
    "                 \n",
    "print(\"PCA Implementation One\")     \n",
    "implementated_pca_one = pca(1)\n",
    "print(\"Fit\")\n",
    "implementated_pca_one.fit(data)\n",
    "print(implementated_pca_one.components_)\n",
    "print(\"Transform\")\n",
    "transformed_data = implementated_pca_one.transform(data)\n",
    "implementated_pca_one.graph(data, transformed_data)\n",
    "\n",
    "print(\"Scikitlean One\")\n",
    "pca_one = PCA(1)\n",
    "print(\"Fit\")\n",
    "pca_one.fit(data)\n",
    "print(pca_one.components_)\n",
    "print(\"Transform\")\n",
    "scikit_learn_transform = pca_one.transform(data)\n",
    "print(scikit_learn_transform)\n",
    "implementated_pca_one.graph(data, scikit_learn_transform)\n",
    "\n",
    "\n",
    "print(\"PCA Implementation Two\")     \n",
    "implementated_pca_two = pca(2)\n",
    "print(\"Fit\")\n",
    "implementated_pca_two.fit(data)\n",
    "print(implementated_pca_two.components_)\n",
    "print(\"Transform\")\n",
    "transformed_data = implementated_pca_two.transform(data)\n",
    "implementated_pca_two.graph(data, transformed_data)\n",
    "\n",
    "print(\"Scikitlean One\")\n",
    "pca_two = PCA(2)\n",
    "print(\"Fit\")\n",
    "pca_two.fit(data)\n",
    "print(pca_one.components_)\n",
    "print(\"Transform\")\n",
    "scikit_learn_transform = pca_two.transform(data)\n",
    "print(scikit_learn_transform)\n",
    "implementated_pca_two.graph(data, scikit_learn_transform)\n",
    "\n"
   ]
  }
 ],
 "metadata": {
  "kernelspec": {
   "display_name": "Python 3",
   "language": "python",
   "name": "python3"
  },
  "language_info": {
   "codemirror_mode": {
    "name": "ipython",
    "version": 3
   },
   "file_extension": ".py",
   "mimetype": "text/x-python",
   "name": "python",
   "nbconvert_exporter": "python",
   "pygments_lexer": "ipython3",
   "version": "3.6.5"
  }
 },
 "nbformat": 4,
 "nbformat_minor": 1
}
