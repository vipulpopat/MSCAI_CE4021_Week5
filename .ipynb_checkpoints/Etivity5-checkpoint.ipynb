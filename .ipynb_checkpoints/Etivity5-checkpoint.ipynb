{
 "cells": [
  {
   "cell_type": "markdown",
   "metadata": {},
   "source": [
    "Student Name: Vipul Popat\n",
    "Student ID: 18195121"
   ]
  },
  {
   "cell_type": "markdown",
   "metadata": {},
   "source": [
    "- The 'as' keyword allows you to invoke functionality from the module using an alias for the module name. For example: np.mean() instead of numpy.mean()\n",
    "- The from keyword allows you to only import the functionality of interest, for example above we import only the PCA class from the sklearn.decomposition module"
   ]
  },
  {
   "cell_type": "code",
   "execution_count": 50,
   "metadata": {
    "collapsed": true
   },
   "outputs": [],
   "source": [
    "import numpy as np\n",
    "import random as rand\n",
    "import matplotlib.pyplot as plt\n",
    "from numpy.linalg import eig\n",
    "from sklearn.decomposition import PCA\n",
    "#### added by me\n",
    "from numpy import array\n",
    "from numpy import mean\n",
    "from numpy import cov\n",
    "\n"
   ]
  },
  {
   "cell_type": "markdown",
   "metadata": {},
   "source": [
    "As per E-tivity instructions: Use of the matrix class is discouraged, but to allow us to simplify the code slightly, we will use it this week. Its first use will be to store the data that you will perform the PCA transform on. Note that you will likely obtain a higher score if your final version does not use the matrix class."
   ]
  },
  {
   "cell_type": "code",
   "execution_count": 51,
   "metadata": {
    "collapsed": true
   },
   "outputs": [],
   "source": [
    "a_x = 0.05\n",
    "a_y= 10"
   ]
  },
  {
   "cell_type": "code",
   "execution_count": 52,
   "metadata": {
    "collapsed": true
   },
   "outputs": [],
   "source": [
    "data =  np.array([[n*(1+a_x*(rand.random()-0.5)),4*n+ a_y*(rand.random()-0.5)] for n in range(20)])"
   ]
  },
  {
   "cell_type": "markdown",
   "metadata": {},
   "source": [
    "The numpy shape property is very useful to get an insight in the dimensions of your data, for example to check whether the features (in this case 2) or the samples (in this case 20) are in the rows or the columns. The notation used here (with columns containing the features and rows containing separate examples) is the standard for Scikitlearn and many other machine learning algorithms.\n"
   ]
  },
  {
   "cell_type": "code",
   "execution_count": 53,
   "metadata": {
    "collapsed": false
   },
   "outputs": [
    {
     "data": {
      "text/plain": [
       "(20, 2)"
      ]
     },
     "execution_count": 53,
     "metadata": {},
     "output_type": "execute_result"
    }
   ],
   "source": [
    "data.shape"
   ]
  },
  {
   "cell_type": "code",
   "execution_count": 57,
   "metadata": {
    "collapsed": false
   },
   "outputs": [
    {
     "name": "stdout",
     "output_type": "stream",
     "text": [
      "[[ 0.         -4.41709493]\n",
      " [ 1.02155098  0.20023897]\n",
      " [ 2.04498437  9.41123753]\n",
      " [ 3.04824725 14.59230205]\n",
      " [ 4.08635468 11.33516517]\n",
      " [ 5.1233395  21.98726252]\n",
      " [ 6.14555772 28.82305145]\n",
      " [ 6.83348139 24.83321364]\n",
      " [ 7.94712326 34.61936953]\n",
      " [ 8.8685852  34.14680305]\n",
      " [10.02008526 44.01456267]\n",
      " [10.85010775 47.46663657]\n",
      " [12.24144267 45.61222198]\n",
      " [12.77209046 49.97649288]\n",
      " [14.29586087 51.4857665 ]\n",
      " [14.92396992 60.52327645]\n",
      " [16.10080095 63.76020313]\n",
      " [17.17411124 71.25784793]\n",
      " [18.03353053 75.65985761]\n",
      " [19.05596781 76.02887318]]\n"
     ]
    },
    {
     "data": {
      "text/plain": [
       "[<matplotlib.lines.Line2D at 0x7fabd174b860>]"
      ]
     },
     "execution_count": 57,
     "metadata": {},
     "output_type": "execute_result"
    },
    {
     "data": {
      "image/png": "[encoded data removed]",
      "text/plain": [
       "<Figure size 432x288 with 1 Axes>"
      ]
     },
     "metadata": {},
     "output_type": "display_data"
    }
   ],
   "source": [
    "print(data)\n",
    "plt.plot(data[:, 0], data[:, 1], 'go')"
   ]
  },
  {
   "cell_type": "code",
   "execution_count": 55,
   "metadata": {
    "collapsed": false
   },
   "outputs": [],
   "source": [
    "class CustomPCA:\n",
    "    \n",
    "    def __init__(self, n_components):\n",
    "        self.n_components = n_components\n",
    "\n",
    "\n",
    "    def custom_fit(self, matrix):\n",
    "        # derive mean of each column and substract from original data\n",
    "        self.mean_data = np.mean(data, axis=0)\n",
    "        centered_data = data - self.mean_data\n",
    "        # calculate the covariance\n",
    "        covariance_data = np.cov(centered_data,rowvar=False)\n",
    "        values, vectors = eig(covariance_data) \n",
    "        #(square each value so that magnitude and not sign is taken into account when ordering)\n",
    "        # thanks to Cormac\n",
    "        sorted_eigen_values_indexes = np.square(values).argsort()[::-1]\n",
    "        sorted_eigen_values = values[sorted_eigen_values_indexes]\n",
    "        sorted_eigen_vectors = vectors[sorted_eigen_values_indexes]\n",
    "        self.eigen_values = sorted_eigen_values[:self.n_components]\n",
    "        self.eigen_vectors = sorted_eigen_vectors.T[:self.n_components,:]\n",
    "        \n",
    "    def transform(self, matrix):\n",
    "        # learnt from url posted by Abhijit that transform should be dot product of eigen vector and input data\n",
    "        #matrix = matrix - self.mean_data\n",
    "        return np.dot(matrix, self.eigen_vectors.T)"
   ]
  },
  {
   "cell_type": "code",
   "execution_count": 48,
   "metadata": {
    "collapsed": false
   },
   "outputs": [
    {
     "name": "stdout",
     "output_type": "stream",
     "text": [
      "PCA Eigen Vectors =  [[0.23761397 0.97135967]]\n",
      "PCA Custom Eigen Vectors =  [[ 0.23761397 -0.97135967]]\n",
      "PCA Eigen Values =  [618.65510943]\n",
      "PCA Custom Eigen Values =  [618.65510943]\n",
      "PCA Transformed data =  [[-39.73695003]\n",
      " [-36.35622188]\n",
      " [-25.89672276]\n",
      " [-25.39305589]\n",
      " [-26.29191236]\n",
      " [-14.05906235]\n",
      " [-16.76256241]\n",
      " [-13.69734213]\n",
      " [ -4.34789165]\n",
      " [ -5.93834848]\n",
      " [ -2.15295452]\n",
      " [  9.51581547]\n",
      " [  8.47395137]\n",
      " [ 11.11206694]\n",
      " [ 23.4592919 ]\n",
      " [ 20.07899517]\n",
      " [ 29.48043465]\n",
      " [ 30.08341846]\n",
      " [ 35.16073555]\n",
      " [ 43.26831495]]\n",
      "PCA Custom Transformed data =  [[ 35.20887698]\n",
      " [ 32.30421951]\n",
      " [ 22.31651972]\n",
      " [ 22.31295698]\n",
      " [ 23.70423374]\n",
      " [ 11.85847996]\n",
      " [ 15.11254629]\n",
      " [ 12.56408541]\n",
      " [  3.5886222 ]\n",
      " [  5.7836374 ]\n",
      " [  2.27342082]\n",
      " [ -8.69677813]\n",
      " [ -7.42108479]\n",
      " [ -9.55206132]\n",
      " [-21.39066102]\n",
      " [-17.60104186]\n",
      " [-26.34569257]\n",
      " [-26.35246294]\n",
      " [-31.08546207]\n",
      " [-38.58235431]]\n",
      "PCA Eigen Vectors =  [[ 0.23761397  0.97135967]\n",
      " [-0.97135967  0.23761397]]\n",
      "PCA Custom Eigen Vectors =  [[ 0.23761397 -0.97135967]\n",
      " [-0.97135967 -0.23761397]]\n",
      "PCA Eigen Values =  [6.18655109e+02 6.05228375e-01]\n",
      "PCA Custom Eigen Values =  [6.18655109e+02 6.05228375e-01]\n",
      "PCA Transformed data =  [[-39.73695003   0.08869885]\n",
      " [-36.35622188  -0.11561793]\n",
      " [-25.89672276   1.42092701]\n",
      " [-25.39305589   0.46076   ]\n",
      " [-26.29191236  -0.82584678]\n",
      " [-14.05906235   1.32798727]\n",
      " [-16.76256241  -0.5260328 ]\n",
      " [-13.69734213  -0.89567296]\n",
      " [ -4.34789165   0.58122189]\n",
      " [ -5.93834848  -1.11748849]\n",
      " [ -2.15295452  -0.78762143]\n",
      " [  9.51581547   0.5534805 ]\n",
      " [  8.47395137  -0.20792383]\n",
      " [ 11.11206694  -0.66120176]\n",
      " [ 23.4592919    1.25734273]\n",
      " [ 20.07899517  -0.45625926]\n",
      " [ 29.48043465   0.42072114]\n",
      " [ 30.08341846  -0.72335227]\n",
      " [ 35.16073555  -0.22723403]\n",
      " [ 43.26831495   0.43311214]]\n",
      "PCA Custom Transformed data =  [[ 35.20887698  18.42194471]\n",
      " [ 32.30421951  16.6800971 ]\n",
      " [ 22.31651972  13.21484888]\n",
      " [ 22.31295698  12.13060338]\n",
      " [ 23.70423374  11.40420892]\n",
      " [ 11.85847996   7.66793566]\n",
      " [ 15.11254629   7.2712553 ]\n",
      " [ 12.56408541   5.52839662]\n",
      " [  3.5886222    2.52265166]\n",
      " [  5.7836374    1.74994333]\n",
      " [  2.27342082   0.29515837]\n",
      " [ -8.69677813  -3.90168358]\n",
      " [ -7.42108479  -4.09616708]\n",
      " [ -9.55206132  -5.71606017]\n",
      " [-21.39066102  -9.71385135]\n",
      " [-17.60104186  -9.67354874]\n",
      " [-26.34569257 -13.23546436]\n",
      " [-26.35246294 -14.52869581]\n",
      " [-31.08546207 -16.43237682]\n",
      " [-38.58235431 -19.58919602]]\n"
     ]
    }
   ],
   "source": [
    "for num_components in (1,2):\n",
    "    pca = PCA(n_components=num_components)\n",
    "    pca_custom = CustomPCA(num_components)\n",
    "    \n",
    "    pca_fit = pca.fit(data)\n",
    "    pca_custom_fit = pca_custom.custom_fit(data)\n",
    "    \n",
    "    print(\"PCA Eigen Vectors = \", pca_fit.components_)\n",
    "    print(\"PCA Custom Eigen Vectors = \", pca_custom.eigen_vectors)\n",
    "    print(\"PCA Eigen Values = \", pca_fit.explained_variance_)\n",
    "    print(\"PCA Custom Eigen Values = \", pca_custom.eigen_values)\n",
    "    \n",
    "    data_pca_transform = pca.transform(data)\n",
    "    data_pca_custom_transform = pca_custom.transform(data)\n",
    "\n",
    "    print(\"PCA Transformed data = \", data_pca_transform)\n",
    "    print(\"PCA Custom Transformed data = \" , data_pca_custom_transform)"
   ]
  },
  {
   "cell_type": "code",
   "execution_count": null,
   "metadata": {
    "collapsed": true
   },
   "outputs": [],
   "source": []
  }
 ],
 "metadata": {
  "kernelspec": {
   "display_name": "Python 2",
   "language": "python",
   "name": "python2"
  },
  "language_info": {
   "codemirror_mode": {
    "name": "ipython",
    "version": 3
   },
   "file_extension": ".py",
   "mimetype": "text/x-python",
   "name": "python",
   "nbconvert_exporter": "python",
   "pygments_lexer": "ipython3",
   "version": "3.4.9"
  }
 },
 "nbformat": 4,
 "nbformat_minor": 1
}
