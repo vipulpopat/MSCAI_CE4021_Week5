{
 "cells": [
  {
   "cell_type": "code",
   "execution_count": 15,
   "metadata": {},
   "outputs": [
    {
     "name": "stdout",
     "output_type": "stream",
     "text": [
      "(20, 2)\n",
      "(2, 2)\n",
      "(2,)\n",
      "(2, 2)\n",
      "[[ -0.25036901  42.24929489]\n",
      " [ -0.49515476  39.01144308]\n",
      " [  1.3496211   26.91482301]\n",
      " [ -0.51621201  30.21147384]\n",
      " [  0.1952559   23.03149563]\n",
      " [  1.01762266  14.90166165]\n",
      " [  0.49427033  13.19498668]\n",
      " [ -0.63531433  13.72583645]\n",
      " [ -0.68211772   8.75602307]\n",
      " [  0.54874326   0.20174348]\n",
      " [ -0.15199995  -2.18241383]\n",
      " [ -0.05641495  -6.72276546]\n",
      " [ -0.55241041  -7.43827926]\n",
      " [ -0.14862504 -15.93547563]\n",
      " [  0.95570618 -22.74125787]\n",
      " [ -1.16051061 -19.60897795]\n",
      " [ -0.09461549 -27.43103194]\n",
      " [  0.53117045 -33.77401561]\n",
      " [ -0.94896929 -32.62213994]\n",
      " [  0.60032369 -43.74242429]]\n"
     ]
    }
   ],
   "source": [
    "from numpy import array\n",
    "from numpy import matrix\n",
    "from numpy import mean\n",
    "from numpy import cov\n",
    "from numpy.linalg import eig\n",
    "import random as rand\n",
    "from numpy.linalg import eig\n",
    "# define a matrix\n",
    "\n",
    "a_x = 0.05\n",
    "a_y= 10\n",
    "data =  array([[n*(1+a_x*(rand.random()-0.5)),4*n+ a_y*(rand.random()-0.5)] for n in range(20)])\n",
    "\n",
    "#A = array([[1, 2], [3, 4], [5, 6]])\n",
    "A = data\n",
    "#print(A)\n",
    "# calculate the mean of each column\n",
    "M = mean(A.T, axis=1)\n",
    "#print(M)\n",
    "# center columns by subtracting column means\n",
    "C = A - M\n",
    "print(C.shape)\n",
    "# calculate covariance matrix of centered matrix\n",
    "V = cov(C.T)\n",
    "print(V.shape)\n",
    "# eigendecomposition of covariance matrix\n",
    "values, vectors = eig(V)\n",
    "print (values.shape)\n",
    "print (vectors.shape)\n",
    "#print(vectors)\n",
    "#print(values)\n",
    "# project data\n",
    "P = vectors.T.dot(C.T)\n",
    "print(P.T)"
   ]
  },
  {
   "cell_type": "code",
   "execution_count": null,
   "metadata": {},
   "outputs": [],
   "source": []
  }
 ],
 "metadata": {
  "kernelspec": {
   "display_name": "Python 3",
   "language": "python",
   "name": "python3"
  },
  "language_info": {
   "codemirror_mode": {
    "name": "ipython",
    "version": 3
   },
   "file_extension": ".py",
   "mimetype": "text/x-python",
   "name": "python",
   "nbconvert_exporter": "python",
   "pygments_lexer": "ipython3",
   "version": "3.6.5"
  }
 },
 "nbformat": 4,
 "nbformat_minor": 2
}
