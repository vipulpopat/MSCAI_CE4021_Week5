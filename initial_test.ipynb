{
 "cells": [
  {
   "cell_type": "code",
   "execution_count": 1,
   "metadata": {},
   "outputs": [],
   "source": [
    "import numpy as np\n",
    "import random as rand\n",
    "import matplotlib.pyplot as plt\n",
    "from numpy.linalg import eig\n",
    "from sklearn.decomposition import PCA\n",
    "\n",
    "a_x = 0.05\n",
    "a_y= 10"
   ]
  },
  {
   "cell_type": "code",
   "execution_count": 2,
   "metadata": {},
   "outputs": [
    {
     "data": {
      "text/plain": [
       "[<matplotlib.lines.Line2D at 0x11d5d65c0>]"
      ]
     },
     "execution_count": 2,
     "metadata": {},
     "output_type": "execute_result"
    },
    {
     "data": {
      "image/png": "[encoded data removed]",
      "text/plain": [
       "<Figure size 432x288 with 1 Axes>"
      ]
     },
     "metadata": {
      "needs_background": "light"
     },
     "output_type": "display_data"
    }
   ],
   "source": [
    "# Step 1. Get Some data\n",
    "\n",
    "# Set the random seed so the results stay they same between runs for testing and debugging\n",
    "rand.seed(4021)\n",
    "data =  np.array([[n*(1+a_x*(rand.random()-0.5)),4*n+ a_y*(rand.random()-0.5)] for n in range(20)])\n",
    "plt.plot(data[:, 0], data[:, 1], 'go')"
   ]
  },
  {
   "cell_type": "code",
   "execution_count": 3,
   "metadata": {},
   "outputs": [],
   "source": [
    "# Step 2. Subtract the mean from each column of the dataset\n",
    "means = np.mean(data.T, axis=1)\n",
    "mean_subtracted = data - means\n"
   ]
  },
  {
   "cell_type": "code",
   "execution_count": 4,
   "metadata": {},
   "outputs": [
    {
     "data": {
      "text/plain": [
       "array([[ 34.69369354, 138.48553057],\n",
       "       [138.48553057, 563.89003148]])"
      ]
     },
     "execution_count": 4,
     "metadata": {},
     "output_type": "execute_result"
    }
   ],
   "source": [
    "# Step 3: Calculate the covariance matrix\n",
    "cov_matrix = np.cov(mean_subtracted.T)\n",
    "cov_matrix\n"
   ]
  },
  {
   "cell_type": "code",
   "execution_count": 5,
   "metadata": {},
   "outputs": [
    {
     "name": "stdout",
     "output_type": "stream",
     "text": [
      "Eigen Vectors: [[-0.97107871 -0.2387596 ]\n",
      " [ 0.2387596  -0.97107871]]\n",
      "Eigen Values: [  0.64418848 597.93953654]\n"
     ]
    }
   ],
   "source": [
    "# Step 4: Calculate the eigenvectors and eigenvalues of the covariance matrix\n",
    "eigen_values, eigen_vectors = eig(cov_matrix)\n",
    "\n",
    "print(\"Eigen Vectors: %s\" % eigen_vectors)\n",
    "print(\"Eigen Values: %s\" % eigen_values)"
   ]
  },
  {
   "cell_type": "code",
   "execution_count": 13,
   "metadata": {},
   "outputs": [
    {
     "name": "stdout",
     "output_type": "stream",
     "text": [
      "[[  1.41098532  -0.16119943  -0.47204765   0.44554501  -0.55156572\n",
      "   -0.44662996  -0.63734818   1.07396926  -0.75323226  -0.5272089\n",
      "   -0.34536746   1.16859146   1.56386155  -0.28442833  -0.17706965\n",
      "   -0.28725088  -0.82648094   1.09592348  -0.80652596  -0.48252075]\n",
      " [ 33.98970226  36.22584847  33.4751083   25.17917074  25.42684629\n",
      "   20.79244118  16.82855029   5.77318927   9.20666733   4.01572159\n",
      "   -1.47669233 -11.38834849 -15.71644059 -13.35127574 -18.01693923\n",
      "  -21.05408185 -24.77313595 -36.56371458 -31.48818258 -37.08443439]]\n"
     ]
    },
    {
     "data": {
      "image/png": "[encoded data removed]",
      "text/plain": [
       "<Figure size 432x288 with 1 Axes>"
      ]
     },
     "metadata": {
      "needs_background": "light"
     },
     "output_type": "display_data"
    }
   ],
   "source": [
    "# Step 5: Choosing components and forming a feature vector and projecting data\n",
    "projected_data = eigen_vectors.T.dot(mean_subtracted.T)\n",
    "print(projected_data)\n",
    "result = plt.plot(projected_data[:, 0], projected_data[:, 1], 'or')"
   ]
  }
 ],
 "metadata": {
  "kernelspec": {
   "display_name": "week5",
   "language": "python",
   "name": "week5"
  },
  "language_info": {
   "codemirror_mode": {
    "name": "ipython",
    "version": 3
   },
   "file_extension": ".py",
   "mimetype": "text/x-python",
   "name": "python",
   "nbconvert_exporter": "python",
   "pygments_lexer": "ipython3",
   "version": "3.7.0"
  }
 },
 "nbformat": 4,
 "nbformat_minor": 2
}
