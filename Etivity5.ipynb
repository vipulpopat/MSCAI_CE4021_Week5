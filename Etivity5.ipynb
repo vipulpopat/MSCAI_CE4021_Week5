{
 "cells": [
  {
   "cell_type": "markdown",
   "metadata": {},
   "source": [
    "Student Name: Fergus Mc Hale\n",
    "Student ID: 18203485"
   ]
  },
  {
   "cell_type": "markdown",
   "metadata": {},
   "source": [
    "- TODO\n",
    "- Comments\n",
    "- Refactoring\n",
    "- Graphs"
   ]
  },
  {
   "cell_type": "markdown",
   "metadata": {},
   "source": [
    "- References\n",
    "- https://stackoverflow.com/questions/36771525/python-pca-projection-into-lower-dimensional-space\n",
    "- http://nasseralkmim.github.io/notes/2017/03/20/linear-algebra-change-of-basis-explained-using-python/\n",
    "- http://people.cs.pitt.edu/~iyad/PCA.pdf\n",
    "- http://people.duke.edu/~ccc14/sta-663-2016/09_PCA.html#Change-of-basis-via-PCA\n",
    "- https://github.com/minsuk-heo/python_tutorial/blob/master/data_science/pca/PCA.ipynb\n",
    "- https://plot.ly/ipython-notebooks/principal-component-analysis/\n",
    "- https://stackoverflow.com/questions/13224362/principal-component-analysis-pca-in-python\n",
    "- https://github.com/echen/principal-components-analysis/blob/master/pca.py\n",
    "- https://medium.com/district-data-labs/principal-component-analysis-with-python-4962cd026465\n",
    "- https://alyssaq.github.io/2015/understanding-eigenvectors-and-eigenvalues-visually/\n",
    "- https://community.esri.com/blogs/dan_patterson/2014/11/29/using-numpy-linalg-to-replicate-matrix-operations-reinventing-the-wheel\n",
    "- https://stackoverflow.com/questions/23838056/what-is-the-difference-between-transform-and-fit-transform-in-sklearn\n",
    "- https://www.kaggle.com/nirajvermafcb/principal-component-analysis-explained"
   ]
  },
  {
   "cell_type": "markdown",
   "metadata": {},
   "source": [
    "- Making use of Numpy, write a Python class to apply the PCA transform to the provided (see Notebook) data set. Compare the output of your implementation to the PCA functionality provided by the Scikitlearn module.\n",
    "\n",
    "- Create a 'fit' method that calculates the eigen vectors and eigen values of your dataset. Compare your results to the output of Scikitlearn's fit method and document your findings as a comment (use markdown) directly under the cell with your PCA class.\n",
    "- Use the Scikitlean's PCA class with n_components=2 and n_components=1 and observe the differences. In the cell directly below, comment on what you have observed.\n",
    "- Add a property to your class and initialise this property in a suitable fashion to allow you to choose the number of principal components similar to the Scikitlearn PCA class.\n",
    "- Store those results from your fit method that are required to transform the data set, in suitable class properties.\n",
    "- Create a 'transform' method to perform the PCA data transformation on your data set using the parameters obtained using your 'fit' method.\n",
    " \n",
    "\n",
    "- N.B.:\n",
    "\n",
    "- Limit your code to the aspects explicitly listed. \n",
    "- Use the Jupyter Notebook provided in the repository for week 5. This notebook contains the data that needs to be transformed.\n",
    "- The required modules have already been imported for you. You should not import any other modules.\n",
    "- If you find creating a class with this functionality daunting, please start by creating normal functions in your notebook. If time permits, you can then change to use of a class later. \n",
    " \n",
    "\n",
    "- HINTS:\n",
    "\n",
    "- Numpy.mean() will 'flatten' your tensor by default. To obtain the mean along a given axis, you may use the axis parameter.\n",
    "\n",
    "- Numpy.cov() assumes by default that data is presented with one observation per column. This can be changed using the rowvar parameter. \n",
    "\n",
    "- A Numpy.matrix is a convenient way of performing the matrix operations required for PCA whilst retaining a matrix/vector like structure. Use of this class is discouraged, but would form a good starting point for tackling this week's challenge. Once you have the code working with the matrix class, changing to arrays is relatively straight forward.\n",
    "\n",
    "- You can use Scikitlearn as follows to check the Eigen vectors that you have found with your 'fit' mehod:\n",
    "\n",
    "- pca = PCA(n_components=2)\n",
    "- pca.fit(data)\n",
    "- print(pca.components_)\n",
    "\n",
    "- You can use Scikitlearn to obtain \n",
    "- GIT push your implementation and post your manual calculations to E-tivity 5: Linear Algebra in Numpy and Beyond and provide the name of your branch.\n",
    "\n",
    "- Respond (Complete by Wednesday Week 6)\n",
    "\n",
    "- Respond to a post of one of your peers with a respectful and in-depth assessment of the implementation with a view to pointing out potential improvements or sound alternative solutions.\n",
    "\n",
    "- Reflect (Complete by Saturday Week 6)\n",
    "\n",
    "- With your code (containing any corrections you have made based on your peers’ feedback), do the following:\n",
    "\n",
    "- For the case where n_components = 1, compare the resulting dataset of your transform method with the resulting dataset from Scikitlearn’s transform method by plotting the points on an XY plot. If there are any differences, explain these in a comment directly under the cell with your plot.\n",
    " - For the case where n_components = 1, compare the dataset resulting from your transform method with the original dataset by plotting the points on an XY plot. Comment on the differences between original and transformed data in the cell directly below your plot. In your comment, explain why and how PCA can be used for dimensionality reduction\n",
    " \n",
    "- HINTS:\n",
    "\n",
    "- You can use Scitkitlean as follows to calculate the new values of the data points in the original dataset when you reduce the dimensions of the data (from 2) to 1: \n",
    "- pca = PCA(n_components=1)\n",
    "- pca.fit(data)\n",
    "- data_pca = pca.transform(data)\n",
    "- data_reduced = pca.inverse_transform(data_pca)\n",
    "\n",
    "- You can use plots to compare the values in your original dataset with the dataset with reduced dimensionality:\n",
    "- plt.plot(data[:,0], data[:,1], 'or')\n",
    "- plt.plot(data_reduced[:,0], data_reduced[:,1],'xb')\n",
    " - plt.show()\n",
    "\n",
    "- You can use your own PCA results to calculate the new values of the data points int the original dataset when you reduce the dimensions of the data (from 2) to 1:\n",
    "- reduced = np.dot(features[:,0],red_highvar.T)+mean.T\n",
    "\n",
    "- with:\n",
    "\n",
    "- reduced: a 2x20 matrix of the new values of the dataset with dimensionality reduction applied\n",
    "- features[:,0]: the 2x1 matrix (or column vector) which contains the Eigen vector associated with the highest variance\n",
    "- red_highvar: a 20x1 matrix containing the reduced dataset which is the output of your transform method with n_components set to 1. \n",
    "- mean: a 1x2 matrix of the per-column mean values of your original data\n",
    "- T: the transform operator as provided by Numpy"
   ]
  },
  {
   "cell_type": "markdown",
   "metadata": {},
   "source": [
    "- The 'as' keyword allows you to invoke functionality from the module using an alias for the module name. For example: np.mean() instead of numpy.mean()\n",
    "- The from keyword allows you to only import the functionality of interest, for example above we import only the PCA class from the sklearn.decomposition module\n",
    "- As per E-tivity instructions: Use of the matrix class is discouraged, but to allow us to simplify the code slightly, we will use it this week. \n",
    "- Its first use will be to store the data that you will perform the PCA transform on. Note that you will likely obtain a higher score if your final version does not use the matrix class.\n",
    "- The numpy shape property is very useful to get an insight in the dimensions of your data, for example to check whether the features (in this case 2) or the samples (in this case 20) are in the rows or the columns. The notation used here (with columns containing the features and rows containing separate examples) is the standard for Scikitlearn and many other machine learning algorithms.\n",
    "- data.shape"
   ]
  },
  {
   "cell_type": "markdown",
   "metadata": {},
   "source": [
    "2. Use the Scikitlean's PCA class with n_components=2 and n_components=1 and observe the differences. In the cell directly below, comment on what you have observed"
   ]
  },
  {
   "cell_type": "markdown",
   "metadata": {},
   "source": [
    "- Original Data Graphed"
   ]
  },
  {
   "cell_type": "code",
   "execution_count": 45,
   "metadata": {},
   "outputs": [
    {
     "data": {
      "text/plain": [
       "[<matplotlib.lines.Line2D at 0x1c4bd27ba20>]"
      ]
     },
     "execution_count": 45,
     "metadata": {},
     "output_type": "execute_result"
    },
    {
     "data": {
      "image/png": "[encoded data removed]",
      "text/plain": [
       "<Figure size 432x288 with 1 Axes>"
      ]
     },
     "metadata": {},
     "output_type": "display_data"
    }
   ],
   "source": [
    "import matplotlib.pyplot as plt\n",
    "data =  np.matrix([[n*(1+a_x*(rand.random()-0.5)),4*n+ a_y*(rand.random()-0.5)] for n in range(20)])\n",
    "plt.plot(data[:, 0], data[:, 1], 'go')"
   ]
  },
  {
   "cell_type": "markdown",
   "metadata": {},
   "source": [
    "- Scikit Learn n_components = 1"
   ]
  },
  {
   "cell_type": "code",
   "execution_count": 1,
   "metadata": {},
   "outputs": [
    {
     "name": "stdout",
     "output_type": "stream",
     "text": [
      "PCA(copy=True, iterated_power='auto', n_components=1, random_state=None,\n",
      "  svd_solver='auto', tol=0.0, whiten=False)\n",
      "[[-37.30285291]\n",
      " [-35.4401548 ]\n",
      " [-28.1350853 ]\n",
      " [-22.6702613 ]\n",
      " [-23.08569771]\n",
      " [-21.58005969]\n",
      " [-16.94998136]\n",
      " [-13.13608559]\n",
      " [ -6.28730449]\n",
      " [ -0.60984166]\n",
      " [  2.84815343]\n",
      " [  3.81564876]\n",
      " [  8.6346103 ]\n",
      " [ 15.33705871]\n",
      " [ 19.06569631]\n",
      " [ 20.83423711]\n",
      " [ 25.54964412]\n",
      " [ 33.45240016]\n",
      " [ 38.36947719]\n",
      " [ 37.29039872]]\n",
      "[[ 0.46317982  1.28025796]\n",
      " [ 0.91539605  3.08722912]\n",
      " [ 2.68888311 10.17375041]\n",
      " [ 4.01560487 15.47508144]\n",
      " [ 3.91474736 15.07207378]\n",
      " [ 4.28027839 16.53266713]\n",
      " [ 5.4043449  21.02422585]\n",
      " [ 6.33026283 24.72402003]\n",
      " [ 7.99297455 31.36790386]\n",
      " [ 9.37131966 36.87551213]\n",
      " [10.21083386 40.23005322]\n",
      " [10.44571738 41.16860367]\n",
      " [11.61563999 45.84339473]\n",
      " [13.24282581 52.34532375]\n",
      " [14.1480452  55.96241046]\n",
      " [14.5774024  57.67804122]\n",
      " [15.72218458 62.25237583]\n",
      " [17.64077489 69.91870247]\n",
      " [18.83451747 74.68867367]\n",
      " [18.57254437 73.64187835]]\n"
     ]
    },
    {
     "data": {
      "text/plain": [
       "<Figure size 640x480 with 1 Axes>"
      ]
     },
     "metadata": {},
     "output_type": "display_data"
    }
   ],
   "source": [
    "from sklearn.decomposition import PCA\n",
    "import numpy as np\n",
    "import random as rand\n",
    "import matplotlib.pyplot as plt\n",
    "\n",
    "a_x = 0.05\n",
    "a_y= 10\n",
    "data =  np.matrix([[n*(1+a_x*(rand.random()-0.5)),4*n+ a_y*(rand.random()-0.5)] for n in range(20)])\n",
    "\n",
    "pca = PCA(n_components=1)\n",
    "pca_fit = pca.fit(data)\n",
    "print(pca_fit)\n",
    "data_pca = pca.transform(data)\n",
    "print(data_pca)\n",
    "data_reduced = pca.inverse_transform(data_pca)\n",
    "print(data_reduced)\n",
    "\n",
    "plt.plot(data[:,0], data[:,1], 'or')\n",
    "plt.plot(data_reduced[:,0], data_reduced[:,1],'xb')\n",
    "plt.show()"
   ]
  },
  {
   "cell_type": "code",
   "execution_count": null,
   "metadata": {},
   "outputs": [],
   "source": [
    "- Scikit learn N_Components = 2"
   ]
  },
  {
   "cell_type": "code",
   "execution_count": 43,
   "metadata": {},
   "outputs": [
    {
     "name": "stdout",
     "output_type": "stream",
     "text": [
      "[[ 41.31264433   0.80015661]\n",
      " [ 34.73090535   0.11017547]\n",
      " [ 27.71453359  -0.68264269]\n",
      " [ 25.65227967  -0.12223533]\n",
      " [ 20.42037727  -0.38266191]\n",
      " [ 15.53414583  -0.78739574]\n",
      " [ 15.69080796   0.30660507]\n",
      " [  8.89872696  -0.39907169]\n",
      " [  3.78019397  -0.54053592]\n",
      " [  6.30924428   0.92634133]\n",
      " [ -4.4418096   -0.55772707]\n",
      " [ -1.16202422   1.32095868]\n",
      " [-11.75319543  -0.35839994]\n",
      " [-17.13979892  -0.67733326]\n",
      " [-17.41644737   0.32919107]\n",
      " [-21.43198088   0.20405724]\n",
      " [-23.74310992   0.76839357]\n",
      " [-29.11553902   0.44614058]\n",
      " [-35.81608084  -0.92247716]\n",
      " [-38.023873     0.21846109]]\n",
      "[[ 1.77635684e-15 -7.69213707e-01]\n",
      " [ 9.84268470e-01  5.77498812e+00]\n",
      " [ 1.97809475e+00  1.27657208e+01]\n",
      " [ 3.03822863e+00  1.46212702e+01]\n",
      " [ 4.09946009e+00  1.97510278e+01]\n",
      " [ 4.93423398e+00  2.45824064e+01]\n",
      " [ 5.95388101e+00  2.41561427e+01]\n",
      " [ 6.97575677e+00  3.09078917e+01]\n",
      " [ 8.12368344e+00  3.58980476e+01]\n",
      " [ 8.90874772e+00  3.30817560e+01]\n",
      " [ 1.01709417e+01  4.38611106e+01]\n",
      " [ 1.11661785e+01  4.02147485e+01]\n",
      " [ 1.21992012e+01  5.08883617e+01]\n",
      " [ 1.32426325e+01  5.61825535e+01]\n",
      " [ 1.42863741e+01  5.61976849e+01]\n",
      " [ 1.51732318e+01  6.01160584e+01]\n",
      " [ 1.62996419e+01  6.22115281e+01]\n",
      " [ 1.73363017e+01  6.74928327e+01]\n",
      " [ 1.76934846e+01  7.43223858e+01]\n",
      " [ 1.93520948e+01  7.61730879e+01]]\n"
     ]
    },
    {
     "data": {
      "image/png": "[encoded data removed]",
      "text/plain": [
       "<Figure size 432x288 with 1 Axes>"
      ]
     },
     "metadata": {},
     "output_type": "display_data"
    }
   ],
   "source": [
    "from sklearn.decomposition import PCA\n",
    "import numpy as np\n",
    "import random as rand\n",
    "\n",
    "a_x = 0.05\n",
    "a_y= 10\n",
    "\n",
    "pca = PCA(n_components=2)\n",
    "pca.fit(data)\n",
    "data_pca = pca.transform(data)\n",
    "print(data_pca)\n",
    "data_reduced = pca.inverse_transform(data_pca)\n",
    "print(data_reduced)\n",
    "\n",
    "plt.plot(data[:,0], data[:,1], 'or')\n",
    "plt.plot(data_reduced[:,0], data_reduced[:,1],'xb')\n",
    "plt.show()"
   ]
  },
  {
   "cell_type": "markdown",
   "metadata": {},
   "source": [
    " - PCA Implementation"
   ]
  },
  {
   "cell_type": "code",
   "execution_count": 8,
   "metadata": {},
   "outputs": [
    {
     "name": "stdout",
     "output_type": "stream",
     "text": [
      "PCA Implementation\n",
      "Fit\n",
      "[[0.24516767]\n",
      " [0.96948069]]\n",
      "Transform\n",
      "[[-34.66018357]\n",
      " [-35.04685526]\n",
      " [-30.33142609]\n",
      " [-23.39711238]\n",
      " [-24.8641837 ]\n",
      " [-22.04887803]\n",
      " [-14.91437783]\n",
      " [ -6.7924257 ]\n",
      " [ -5.8235469 ]\n",
      " [ -6.05126306]\n",
      " [  3.33549798]\n",
      " [  2.51656144]\n",
      " [  6.33072024]\n",
      " [ 19.43832725]\n",
      " [ 23.65532597]\n",
      " [ 25.19329473]\n",
      " [ 24.03223383]\n",
      " [ 26.8543547 ]\n",
      " [ 33.0621391 ]\n",
      " [ 39.5117973 ]]\n"
     ]
    },
    {
     "data": {
      "image/png": "[encoded data removed]",
      "text/plain": [
       "<Figure size 432x288 with 1 Axes>"
      ]
     },
     "metadata": {},
     "output_type": "display_data"
    },
    {
     "name": "stdout",
     "output_type": "stream",
     "text": [
      "Scikitlean\n",
      "Fit\n",
      "[[0.24516767 0.96948069]]\n",
      "Transform\n",
      "[[-34.66018357]\n",
      " [-35.04685526]\n",
      " [-30.33142609]\n",
      " [-23.39711238]\n",
      " [-24.8641837 ]\n",
      " [-22.04887803]\n",
      " [-14.91437783]\n",
      " [ -6.7924257 ]\n",
      " [ -5.8235469 ]\n",
      " [ -6.05126306]\n",
      " [  3.33549798]\n",
      " [  2.51656144]\n",
      " [  6.33072024]\n",
      " [ 19.43832725]\n",
      " [ 23.65532597]\n",
      " [ 25.19329473]\n",
      " [ 24.03223383]\n",
      " [ 26.8543547 ]\n",
      " [ 33.0621391 ]\n",
      " [ 39.5117973 ]]\n"
     ]
    },
    {
     "data": {
      "image/png": "[encoded data removed]",
      "text/plain": [
       "<Figure size 432x288 with 1 Axes>"
      ]
     },
     "metadata": {},
     "output_type": "display_data"
    }
   ],
   "source": [
    "from sklearn.decomposition import PCA\n",
    "import numpy as np\n",
    "from numpy.linalg import linalg as nla\n",
    "import random as rand\n",
    "import matplotlib.pyplot as plt\n",
    "\n",
    "a_x = 0.05\n",
    "a_y= 10\n",
    "data =  np.array([[n*(1+a_x*(rand.random()-0.5)),4*n+ a_y*(rand.random()-0.5)] for n in range(20)])\n",
    "\n",
    "\n",
    "class pca:\n",
    "    \n",
    "    def __init__(self,n_components=None):\n",
    "        self.n_components = n_components\n",
    "        self.components_ = []\n",
    "        \n",
    "    def fit(self, data):\n",
    "        \"\"\"Given an array finds the eigenvalues and eigenvectors\n",
    "            Args:\n",
    "            data (array) The dataset that has been supplied\n",
    "            Returns: eigenvectors, eigenvalues (tuple) The result of the operation performed on the dataset\n",
    "            \"\"\"\n",
    "        row, columns = data.shape \n",
    "        self.data = data\n",
    "        self.mean_matrix_zero = data.mean(0)\n",
    "        self.covariance_matrix_zero = np.cov(data - self.mean_matrix_zero, rowvar=False)\n",
    "        self.eigenvalues, self.eigenvectors = np.linalg.eigh(self.covariance_matrix_zero)\n",
    "        # sort eigenvectors and value\n",
    "        index = self.eigenvalues.argsort()[::-1]   \n",
    "        eigenValues = self.eigenvalues[index]\n",
    "        eigenVectors = self.eigenvectors[:,index]\n",
    "        # restrict based on n components\n",
    "        self.eigen_vectors = eigenVectors[:, :self.n_components]\n",
    "        # set components based on eigenvectors\n",
    "        self.components_ = self.eigen_vectors \n",
    "        # return tuple of eigenvalues and eigenvectors\n",
    "        return (eigenValues, eigenVectors)\n",
    "    \n",
    "    def transform(self, data):\n",
    "        \"\"\"Given data selects an eigenvector returns the transform \n",
    "            Args:\n",
    "            data (array) The dataset that has been supplied\n",
    "            Returns: transformed result ()\n",
    "            \"\"\"\n",
    "        selected_eigen_vectors = self.eigen_vectors.T[::-1]\n",
    "        transform_result = np.dot(data - self.mean_matrix_zero, selected_eigen_vectors[:1].T)\n",
    "        print(transform_result)\n",
    "        return transform_result\n",
    "        \n",
    "    def graph(self, data, transformed_data):\n",
    "        \"\"\"Projects a visulzation of data and transformed data \n",
    "            Args:\n",
    "            data (array) Dataset\n",
    "            transformed_data (array) Dataset\n",
    "            Returns: None\n",
    "            \"\"\"\n",
    "        plt.plot(data[:,0], data[:,1], 'or')\n",
    "        plt.plot(transformed_data,'xb')\n",
    "        plt.show()\n",
    "                 \n",
    "print(\"PCA Implementation\")     \n",
    "implementated_pca = pca(1)\n",
    "print(\"Fit\")\n",
    "implementated_pca.fit(data)\n",
    "print(implementated_pca.components_)\n",
    "print(\"Transform\")\n",
    "transformed_data = implementated_pca.transform(data)\n",
    "implementated_pca.graph(data, transformed_data)\n",
    "\n",
    "print(\"Scikitlean\")\n",
    "pca = PCA(1)\n",
    "print(\"Fit\")\n",
    "pca.fit(data)\n",
    "print(pca.components_)\n",
    "print(\"Transform\")\n",
    "scikit_learn_transform = pca.transform(data)\n",
    "print(scikit_learn_transform)\n",
    "implementated_pca.graph(data, scikit_learn_transform)"
   ]
  },
  {
   "cell_type": "code",
   "execution_count": null,
   "metadata": {},
   "outputs": [],
   "source": []
  }
 ],
 "metadata": {
  "kernelspec": {
   "display_name": "Python 3",
   "language": "python",
   "name": "python3"
  },
  "language_info": {
   "codemirror_mode": {
    "name": "ipython",
    "version": 3
   },
   "file_extension": ".py",
   "mimetype": "text/x-python",
   "name": "python",
   "nbconvert_exporter": "python",
   "pygments_lexer": "ipython3",
   "version": "3.6.5"
  }
 },
 "nbformat": 4,
 "nbformat_minor": 1
}
