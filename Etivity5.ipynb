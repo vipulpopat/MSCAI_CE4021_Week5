{
 "cells": [
  {
   "cell_type": "markdown",
   "metadata": {},
   "source": [
    "Student Name: Martin Power\n",
    "\n",
    "Student ID: 9939245"
   ]
  },
  {
   "cell_type": "markdown",
   "metadata": {},
   "source": [
    "### Purpose\n",
    "\n",
    "The purpose of this E-tivity is to help you become confident in using Numpy’s functionality for matrix manipulation and to learn about a very useful data processing technique: principal components analysis, or PCA. You will find that using Numpy is much easier for matrix manipulation than what you have done to date!\n",
    "\n",
    "### Task (Complete by Saturday Week 5)\n",
    "\n",
    "Making use of Numpy, write a Python class to apply the PCA transform to the provided (see Notebook) data set. Compare the output of your implementation to the PCA functionality provided by the Scikitlearn module.\n",
    "\n",
    "Create a 'fit' method that calculates the eigen vectors and eigen values of your dataset. Compare your results to the output of Scikitlearn's fit method and document your findings as a comment (use markdown) directly under the cell with your PCA class.\n",
    "Use the Scikitlean's PCA class with n_components=2 and n_components=1 and observe the differences. In the cell directly below, comment on what you have observed.\n",
    "Add a property to your class and initialise this property in a suitable fashion to allow you to choose the number of principal components similar to the Scikitlearn PCA class.\n",
    "Store those results from your fit method that are required to transform the data set, in suitable class properties.\n",
    "Create a 'transform' method to perform the PCA data transformation on your data set using the parameters obtained using your 'fit' method.\n",
    " \n",
    "\n",
    "N.B.:\n",
    "\n",
    "Limit your code to the aspects explicitly listed. \n",
    "Use the Jupyter Notebook provided in the repository for week 5. This notebook contains the data that needs to be transformed.\n",
    "The required modules have already been imported for you. You should not import any other modules.\n",
    "If you find creating a class with this functionality daunting, please start by creating normal functions in your notebook. If time permits, you can then change to use of a class later. \n",
    " \n",
    "\n",
    "HINTS:\n",
    "\n",
    "Numpy.mean() will 'flatten' your tensor by default. To obtain the mean along a given axis, you may use the axis parameter.\n",
    "\n",
    "Numpy.cov() assumes by default that data is presented with one observation per column. This can be changed using the rowvar parameter. \n",
    "\n",
    "A Numpy.matrix is a convenient way of performing the matrix operations required for PCA whilst retaining a matrix/vector like structure. Use of this class is discouraged, but would form a good starting point for tackling this week's challenge. Once you have the code working with the matrix class, changing to arrays is relatively straight forward.\n",
    "\n",
    "You can use Scikitlearn as follows to check the Eigen vectors that you have found with your 'fit' mehod:\n",
    "\n",
    "pca = PCA(n_components=2)\n",
    "pca.fit(data)\n",
    "print(pca.components_)\n",
    "\n",
    "You can use Scikitlearn to obtain \n",
    "GIT push your implementation and post your manual calculations to E-tivity 5: Linear Algebra in Numpy and Beyond and provide the name of your branch.\n",
    "\n",
    "### Respond (Complete by Wednesday Week 6)\n",
    "\n",
    "Respond to a post of one of your peers with a respectful and in-depth assessment of the implementation with a view to pointing out potential improvements or sound alternative solutions.\n",
    "\n",
    "### Reflect (Complete by Saturday Week 6)\n",
    "\n",
    "With your code (containing any corrections you have made based on your peers’ feedback), do the following:\n",
    "\n",
    "For the case where n_components = 1, compare the resulting dataset of your transform method with the resulting dataset from Scikitlearn’s transform method by plotting the points on an XY plot. If there are any differences, explain these in a comment directly under the cell with your plot.\n",
    "For the case where n_components = 1, compare the dataset resulting from your transform method with the original dataset by plotting the points on an XY plot. Comment on the differences between original and transformed data in the cell directly below your plot. In your comment, explain why and how PCA can be used for dimensionality reduction\n",
    " \n",
    "\n",
    "## HINTS:\n",
    "\n",
    "You can use Scitkitlean as follows to calculate the new values of the data points in the original dataset when you reduce the dimensions of the data (from 2) to 1: \n",
    "pca = PCA(n_components=1)\n",
    "pca.fit(data)\n",
    "data_pca = pca.transform(data)\n",
    "data_reduced = pca.inverse_transform(data_pca)\n",
    "\n",
    "You can use plots to compare the values in your original dataset with the dataset with reduced dimensionality:\n",
    "plt.plot(data[:,0], data[:,1], 'or')\n",
    "plt.plot(data_reduced[:,0], data_reduced[:,1],'xb')\n",
    "plt.show()\n",
    "\n",
    "You can use your own PCA results to calculate the new values of the data points int the original dataset when you reduce the dimensions of the data (from 2) to 1:\n",
    "reduced = np.dot(features[:,0],red_highvar.T)+mean.T\n",
    "\n",
    "with:\n",
    "\n",
    "reduced: a 2x20 matrix of the new values of the dataset with dimensionality reduction applied\n",
    "features[:,0]: the 2x1 matrix (or column vector) which contains the Eigen vector associated with the highest variance\n",
    "red_highvar: a 20x1 matrix containing the reduced dataset which is the output of your transform method with n_components set to 1. \n",
    "mean: a 1x2 matrix of the per-column mean values of your original data\n",
    "T: the transform operator as provided by Numpy"
   ]
  },
  {
   "cell_type": "markdown",
   "metadata": {},
   "source": [
    "### Rubric\n",
    "\n",
    "#### Accomplished\n",
    "Solution exceeding Developing level with 'fit' and 'transform' function. Correctly working implementation with efficient use of flow control elements, data types and operators. All required comments present with reasonable explanations of observations and all required graphs present. Solution may use the numpy matrix class.\n",
    "\n",
    "#### Exemplary\n",
    "Solution exceeding Accomplished level without use of the numpy matrix class. High quality content for required comments, and graphs displaying salient information to compare the two approaches."
   ]
  },
  {
   "cell_type": "markdown",
   "metadata": {},
   "source": [
    "- The 'as' keyword allows you to invoke functionality from the module using an alias for the module name. For example: np.mean() instead of numpy.mean()\n",
    "- The from keyword allows you to only import the functionality of interest, for example above we import only the PCA class from the sklearn.decomposition module"
   ]
  },
  {
   "cell_type": "code",
   "execution_count": 58,
   "metadata": {
    "collapsed": true
   },
   "outputs": [],
   "source": [
    "import numpy as np\n",
    "import random as rand\n",
    "import matplotlib.pyplot as plt\n",
    "from numpy.linalg import eig\n",
    "from numpy.linalg import eigh\n",
    "from sklearn.decomposition import PCA"
   ]
  },
  {
   "cell_type": "markdown",
   "metadata": {},
   "source": [
    "As per E-tivity instructions: Use of the matrix class is discouraged, but to allow us to simplify the code slightly, we will use it this week. Its first use will be to store the data that you will perform the PCA transform on. Note that you will likely obtain a higher score if your final version does not use the matrix class."
   ]
  },
  {
   "cell_type": "code",
   "execution_count": 59,
   "metadata": {
    "collapsed": true
   },
   "outputs": [],
   "source": [
    "a_x = 0.05\n",
    "a_y= 10"
   ]
  },
  {
   "cell_type": "code",
   "execution_count": 60,
   "metadata": {
    "collapsed": true
   },
   "outputs": [],
   "source": [
    "#data =  np.matrix([[n*(1+a_x*(rand.random()-0.5)),4*n+ a_y*(rand.random()-0.5)] for n in range(20)])\n",
    "data =  np.matrix([[n*(1+a_x*(rand.random()-0.5)),4*n+ a_y*(rand.random()-0.5)] for n in range(4)]) # MPP REDUCE TO 4 TEMP TODO"
   ]
  },
  {
   "cell_type": "markdown",
   "metadata": {},
   "source": [
    "The numpy shape property is very useful to get an insight in the dimensions of your data, for example to check whether the features (in this case 2) or the samples (in this case 20) are in the rows or the columns. The notation used here (with columns containing the features and rows containing separate examples) is the standard for Scikitlearn and many other machine learning algorithms.\n"
   ]
  },
  {
   "cell_type": "code",
   "execution_count": 61,
   "metadata": {
    "collapsed": false,
    "scrolled": true
   },
   "outputs": [
    {
     "data": {
      "text/plain": [
       "(4, 2)"
      ]
     },
     "execution_count": 61,
     "metadata": {},
     "output_type": "execute_result"
    }
   ],
   "source": [
    "data.shape"
   ]
  },
  {
   "cell_type": "code",
   "execution_count": 62,
   "metadata": {
    "collapsed": false
   },
   "outputs": [
    {
     "name": "stdout",
     "output_type": "stream",
     "text": [
      "\n",
      "Eigen Vectors obtained using Scikitlearn\n",
      "[[-0.15643987 -0.98768748]\n",
      " [-0.98768748  0.15643987]]\n",
      "\n",
      "Dimensions reduced from 2 to 1 using Scikitlearn\n",
      "\n",
      "Original Dataset versus Dataset with Reduced Dimensionality\n"
     ]
    },
    {
     "data": {
      "image/png": "[encoded data removed]",
      "text/plain": [
       "<Figure size 432x288 with 1 Axes>"
      ]
     },
     "metadata": {},
     "output_type": "display_data"
    }
   ],
   "source": [
    "# You can use Scikitlearn as follows to check the Eigen vectors \n",
    "# that you have found with your 'fit' method:\n",
    "\n",
    "print(\"\\nEigen Vectors obtained using Scikitlearn\")\n",
    "pca = PCA(n_components=2)\n",
    "pca.fit(data)\n",
    "print(pca.components_)\n",
    "\n",
    "# You can use Scitkitlean as follows to calculate the new values\n",
    "# of the data points in the original dataset when you reduce the\n",
    "# dimensions of the data (from 2) to 1: \n",
    "\n",
    "print(\"\\nDimensions reduced from 2 to 1 using Scikitlearn\")\n",
    "pca = PCA(n_components=1)\n",
    "pca.fit(data)\n",
    "data_pca = pca.transform(data)\n",
    "data_reduced = pca.inverse_transform(data_pca)\n",
    "# print(data_reduced)\n",
    "\n",
    "# You can use plots to compare the values in your original dataset\n",
    "# with the dataset with reduced dimensionality:\n",
    "\n",
    "print(\"\\nOriginal Dataset versus Dataset with Reduced Dimensionality\")\n",
    "# TODO : Add title to Plot\n",
    "plt.plot(data[:,0], data[:,1], 'or')\n",
    "plt.plot(data_reduced[:,0], data_reduced[:,1],'xb')\n",
    "plt.show()"
   ]
  },
  {
   "cell_type": "code",
   "execution_count": 68,
   "metadata": {
    "collapsed": false
   },
   "outputs": [
    {
     "name": "stdout",
     "output_type": "stream",
     "text": [
      "[[ 0.         -2.42057487]\n",
      " [ 0.99631495  5.24607247]\n",
      " [ 2.03621632 10.65739702]\n",
      " [ 3.0112412  16.86776275]]\n",
      "[[1.51094311 7.58766434]]\n",
      "[[ -1.51094311 -10.00823921]\n",
      " [ -0.51462817  -2.34159187]\n",
      " [  0.5252732    3.06973268]\n",
      " [  1.50029808   9.28009841]]\n",
      "[[ 1.6915325  10.6207638 ]\n",
      " [10.6207638  67.06379657]]\n",
      "\n",
      "values\n",
      " [9.30916590e-03 6.87460199e+01]\n",
      "\n",
      "vectors\n",
      " [[-0.98768748 -0.15643987]\n",
      " [ 0.15643987 -0.98768748]] \n",
      "\n",
      "[[ 1.26864938  7.96557285]\n",
      " [ 7.96557285 50.29784743]]\n",
      "[[ 1.6915325  10.6207638 ]\n",
      " [10.6207638  67.06379657]]\n"
     ]
    }
   ],
   "source": [
    "print(data)\n",
    "mean = data.mean(0)\n",
    "print(mean)\n",
    "C = data-mean\n",
    "print(C)\n",
    "V = np.cov(C,rowvar=False)\n",
    "print(V)\n",
    "values, vectors = eig(V)\n",
    "print(\"\\nvalues\\n\",values)\n",
    "print(\"\\nvectors\\n\",vectors,\"\\n\")\n"
   ]
  },
  {
   "cell_type": "code",
   "execution_count": 46,
   "metadata": {
    "collapsed": false
   },
   "outputs": [
    {
     "name": "stdout",
     "output_type": "stream",
     "text": [
      "[[1 2]\n",
      " [3 4]\n",
      " [5 6]]\n",
      "[3. 4.]\n",
      "[3. 4.]\n",
      "[[-2. -2.]\n",
      " [ 0.  0.]\n",
      " [ 2.  2.]]\n",
      "[[4. 4.]\n",
      " [4. 4.]]\n",
      "******************\n",
      "Eigenvectors\n",
      "\n",
      "[[ 0.70710678 -0.70710678]\n",
      " [ 0.70710678  0.70710678]]\n",
      "******************\n",
      "Eigenvalues\n",
      " [8. 0.]\n",
      "[[-2.82842712  0.        ]\n",
      " [ 0.          0.        ]\n",
      " [ 2.82842712  0.        ]]\n",
      "[[ 0.         -1.87989023]\n",
      " [ 0.97902449  0.81596893]\n",
      " [ 2.04012962  8.98509464]\n",
      " [ 2.96476956  9.79213211]]\n",
      "******************\n",
      "Eigenvectors\n",
      "\n",
      "[[-0.20770614 -0.97819127]\n",
      " [-0.97819127  0.20770614]]\n",
      "******************\n",
      "[35.65898998  0.11964763]\n",
      "[[ 6.48136682  0.15310016]\n",
      " [ 3.64095152 -0.24462655]\n",
      " [-4.57041397  0.41418723]\n",
      " [-5.55190438 -0.32266085]]\n"
     ]
    }
   ],
   "source": [
    "# define a matrix\n",
    "A = np.array([[1, 2], [3, 4], [5, 6]])\n",
    "print(A)\n",
    "# calculate the mean of each column\n",
    "M = np.mean(A.T, axis=1)\n",
    "M2 = np.mean(A, axis=0)\n",
    "print(M)\n",
    "print(M2)\n",
    "# center columns by subtracting column means\n",
    "C = A - M\n",
    "print(C)\n",
    "# calculate covariance matrix of centered matrix\n",
    "V = np.cov(C.T)\n",
    "print(V)\n",
    "# eigendecomposition of covariance matrix\n",
    "values, vectors = eig(V)\n",
    "print(\"******************\")\n",
    "print(\"Eigenvectors\\n\")\n",
    "print(vectors)\n",
    "print(\"******************\")\n",
    "print(\"Eigenvalues\\n\",values)\n",
    "# project data\n",
    "P = vectors.T.dot(C.T)\n",
    "print(P.T)\n",
    "\n",
    "# skikit\n",
    "# define a matrix\n",
    "A = data # np.array([[1, 2], [3, 4], [5, 6]])\n",
    "print(A)\n",
    "# create the PCA instance\n",
    "pca = PCA(2)\n",
    "# fit on data\n",
    "pca.fit(A)\n",
    "# access values and vectors\n",
    "print(\"******************\")\n",
    "print(\"Eigenvectors\\n\")\n",
    "print(pca.components_)\n",
    "print(\"******************\")\n",
    "print(pca.explained_variance_)\n",
    "# transform data\n",
    "B = pca.transform(A)\n",
    "print(B)\n",
    "\n",
    "\n",
    "# print(\"\\nEigen Vectors obtained using Scikitlearn\")\n",
    "# pca = PCA(n_components=2)\n",
    "# pca.fit(A)\n",
    "# print(pca.components_)"
   ]
  },
  {
   "cell_type": "code",
   "execution_count": null,
   "metadata": {
    "collapsed": true
   },
   "outputs": [],
   "source": []
  }
 ],
 "metadata": {
  "kernelspec": {
   "display_name": "Python 3.6",
   "language": "python",
   "name": "python3.6"
  },
  "language_info": {
   "codemirror_mode": {
    "name": "ipython",
    "version": 3
   },
   "file_extension": ".py",
   "mimetype": "text/x-python",
   "name": "python",
   "nbconvert_exporter": "python",
   "pygments_lexer": "ipython3",
   "version": "3.6.6"
  }
 },
 "nbformat": 4,
 "nbformat_minor": 1
}
