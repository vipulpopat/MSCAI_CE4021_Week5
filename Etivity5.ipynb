{
 "cells": [
  {
   "cell_type": "markdown",
   "metadata": {},
   "source": [
    "Student Name: Michel Danjou\n",
    "\n",
    "Student ID: 18263461"
   ]
  },
  {
   "cell_type": "markdown",
   "metadata": {},
   "source": [
    "- The 'as' keyword allows you to invoke functionality from the module using an alias for the module name. For example: np.mean() instead of numpy.mean()\n",
    "- The from keyword allows you to only import the functionality of interest, for example above we import only the PCA class from the sklearn.decomposition module"
   ]
  },
  {
   "cell_type": "code",
   "execution_count": 1,
   "metadata": {},
   "outputs": [],
   "source": [
    "import numpy as np\n",
    "import random as rand\n",
    "import matplotlib.pyplot as plt\n",
    "from numpy.linalg import eig\n",
    "from sklearn.decomposition import PCA\n"
   ]
  },
  {
   "cell_type": "markdown",
   "metadata": {},
   "source": [
    "As per E-tivity instructions: Use of the matrix class is discouraged, but to allow us to simplify the code slightly, we will use it this week. Its first use will be to store the data that you will perform the PCA transform on. Note that you will likely obtain a higher score if your final version does not use the matrix class."
   ]
  },
  {
   "cell_type": "code",
   "execution_count": 2,
   "metadata": {},
   "outputs": [],
   "source": [
    "a_x = 0.05\n",
    "a_y= 10\n"
   ]
  },
  {
   "cell_type": "code",
   "execution_count": 3,
   "metadata": {},
   "outputs": [],
   "source": [
    "#data =  np.matrix([[n*(1+a_x*(rand.random()-0.5)),4*n+ a_y*(rand.random()-0.5)] for n in range(20)])\n",
    "data =  np.matrix([[n*(1+a_x*(rand.random()-0.5)),4*n+ a_y*(rand.random()-0.5)] for n in range(20)])\n"
   ]
  },
  {
   "cell_type": "markdown",
   "metadata": {},
   "source": [
    "The numpy shape property is very useful to get an insight in the dimensions of your data, for example to check whether the features (in this case 2) or the samples (in this case 20) are in the rows or the columns. The notation used here (with columns containing the features and rows containing separate examples) is the standard for Scikitlearn and many other machine learning algorithms.\n"
   ]
  },
  {
   "cell_type": "code",
   "execution_count": 4,
   "metadata": {},
   "outputs": [
    {
     "data": {
      "text/plain": [
       "(20, 2)"
      ]
     },
     "execution_count": 4,
     "metadata": {},
     "output_type": "execute_result"
    }
   ],
   "source": [
    "data.shape\n"
   ]
  },
  {
   "cell_type": "code",
   "execution_count": 2,
   "metadata": {},
   "outputs": [
    {
     "name": "stdout",
     "output_type": "stream",
     "text": [
      "Once deleted, variables cannot be recovered. Proceed (y/[n])? y\n",
      "Data:\n",
      " [[ 0.         -0.16152685]\n",
      " [ 1.01462933 -0.40509494]\n",
      " [ 2.00748106  8.22687368]\n",
      " [ 3.0174011  10.43155848]\n",
      " [ 3.92930518 17.90199463]\n",
      " [ 5.11455208 19.59523015]\n",
      " [ 5.99205673 28.59497851]\n",
      " [ 7.05449094 28.31758939]\n",
      " [ 8.1264076  35.69086188]\n",
      " [ 9.01955813 33.46355007]\n",
      " [ 9.8148167  35.64991387]\n",
      " [11.00440608 44.94356847]\n",
      " [12.18079479 51.54720035]\n",
      " [12.92398599 50.78932817]\n",
      " [14.01024359 58.95342551]\n",
      " [14.78660523 59.77194871]\n",
      " [16.26848139 60.4951201 ]\n",
      " [16.65489847 64.4628153 ]\n",
      " [17.76440916 76.06607629]\n",
      " [19.40267044 79.01659835]]\n",
      "(20, 2)\n",
      "================================================================================\n",
      "Scikit.pca with nb_components= 2\n",
      "Eigen_values: [6.22911315e+02 4.32632920e-01]\n",
      "Eigen_vectors: [[ 0.23547476  0.97188047]\n",
      " [ 0.97188047 -0.23547476]]\n",
      "Transformed_data: [[-3.94893669e+01 -2.11559622e-01]\n",
      " [-3.94871664e+01  8.31892939e-01]\n",
      " [-3.08641332e+01 -2.35784561e-01]\n",
      " [-2.84836324e+01  2.26589379e-01]\n",
      " [-2.10085311e+01 -6.46247989e-01]\n",
      " [-1.90838128e+01  1.06956099e-01]\n",
      " [-1.01305030e+01 -1.15942782e+00]\n",
      " [-1.01499156e+01 -6.15506316e-02]\n",
      " [-2.73156683e+00 -7.55995300e-01]\n",
      " [-4.68593326e+00  6.36515950e-01]\n",
      " [-2.37378568e+00  8.94578744e-01]\n",
      " [ 6.93865396e+00 -1.37703626e-01]\n",
      " [ 1.36336046e+01 -5.49383019e-01]\n",
      " [ 1.30720462e+01  3.51369749e-01]\n",
      " [ 2.12623592e+01 -5.15356537e-01]\n",
      " [ 2.22406795e+01  4.64326266e-02]\n",
      " [ 2.32924600e+01  1.31635051e+00]\n",
      " [ 2.72395770e+01  7.57609662e-01]\n",
      " [ 3.87778214e+01 -8.96353613e-01]\n",
      " [ 4.20311453e+01  1.06706115e-03]]\n"
     ]
    },
    {
     "data": {
      "image/png": "[encoded data removed]",
      "text/plain": [
       "<Figure size 432x288 with 1 Axes>"
      ]
     },
     "metadata": {},
     "output_type": "display_data"
    },
    {
     "name": "stdout",
     "output_type": "stream",
     "text": [
      "================================================================================\n",
      "Scikit.pca with nb_components= 1\n",
      "Eigen_values: [622.91131511]\n",
      "Eigen_vectors: [[0.23547476 0.97188047]]\n",
      "Transformed_data: [[-39.48936692]\n",
      " [-39.48716639]\n",
      " [-30.86413319]\n",
      " [-28.48363243]\n",
      " [-21.00853108]\n",
      " [-19.08381282]\n",
      " [-10.13050301]\n",
      " [-10.14991563]\n",
      " [ -2.73156683]\n",
      " [ -4.68593326]\n",
      " [ -2.37378568]\n",
      " [  6.93865396]\n",
      " [ 13.63360462]\n",
      " [ 13.07204622]\n",
      " [ 21.26235919]\n",
      " [ 22.24067947]\n",
      " [ 23.29246004]\n",
      " [ 27.23957697]\n",
      " [ 38.77782142]\n",
      " [ 42.03114535]]\n"
     ]
    },
    {
     "data": {
      "image/png": "[encoded data removed]",
      "text/plain": [
       "<Figure size 432x288 with 1 Axes>"
      ]
     },
     "metadata": {},
     "output_type": "display_data"
    },
    {
     "name": "stdout",
     "output_type": "stream",
     "text": [
      "================================================================================\n",
      "PCA Homebrew nb_components=2\n",
      "\n",
      "eigen_values:\n",
      "[6.22911315e+02 4.32632920e-01]\n",
      "eigen_vectors:\n",
      "[[-0.23547476 -0.97188047]\n",
      " [-0.97188047  0.23547476]]\n",
      "projected  :\n",
      "[[ 3.94893669e+01  2.11559622e-01]\n",
      " [ 3.94871664e+01 -8.31892939e-01]\n",
      " [ 3.08641332e+01  2.35784561e-01]\n",
      " [ 2.84836324e+01 -2.26589379e-01]\n",
      " [ 2.10085311e+01  6.46247989e-01]\n",
      " [ 1.90838128e+01 -1.06956099e-01]\n",
      " [ 1.01305030e+01  1.15942782e+00]\n",
      " [ 1.01499156e+01  6.15506316e-02]\n",
      " [ 2.73156683e+00  7.55995300e-01]\n",
      " [ 4.68593326e+00 -6.36515950e-01]\n",
      " [ 2.37378568e+00 -8.94578744e-01]\n",
      " [-6.93865396e+00  1.37703626e-01]\n",
      " [-1.36336046e+01  5.49383019e-01]\n",
      " [-1.30720462e+01 -3.51369749e-01]\n",
      " [-2.12623592e+01  5.15356537e-01]\n",
      " [-2.22406795e+01 -4.64326266e-02]\n",
      " [-2.32924600e+01 -1.31635051e+00]\n",
      " [-2.72395770e+01 -7.57609662e-01]\n",
      " [-3.87778214e+01  8.96353613e-01]\n",
      " [-4.20311453e+01 -1.06706115e-03]]\n"
     ]
    },
    {
     "data": {
      "image/png": "[encoded data removed]",
      "text/plain": [
       "<Figure size 432x288 with 1 Axes>"
      ]
     },
     "metadata": {},
     "output_type": "display_data"
    },
    {
     "name": "stdout",
     "output_type": "stream",
     "text": [
      "================================================================================\n",
      "PCA Homebrew nb_components=1\n",
      "\n",
      "eigen_values:\n",
      "[622.91131511]\n",
      "eigen_vectors:\n",
      "[[-0.23547476 -0.97188047]]\n",
      "projected  :\n",
      "[[ 39.48936692]\n",
      " [ 39.48716639]\n",
      " [ 30.86413319]\n",
      " [ 28.48363243]\n",
      " [ 21.00853108]\n",
      " [ 19.08381282]\n",
      " [ 10.13050301]\n",
      " [ 10.14991563]\n",
      " [  2.73156683]\n",
      " [  4.68593326]\n",
      " [  2.37378568]\n",
      " [ -6.93865396]\n",
      " [-13.63360462]\n",
      " [-13.07204622]\n",
      " [-21.26235919]\n",
      " [-22.24067947]\n",
      " [-23.29246004]\n",
      " [-27.23957697]\n",
      " [-38.77782142]\n",
      " [-42.03114535]]\n"
     ]
    },
    {
     "data": {
      "image/png": "[encoded data removed]",
      "text/plain": [
       "<Figure size 432x288 with 1 Axes>"
      ]
     },
     "metadata": {},
     "output_type": "display_data"
    }
   ],
   "source": [
    "%reset\n",
    "\n",
    "import numpy as np\n",
    "import random as rand\n",
    "import matplotlib.pyplot as plt\n",
    "from numpy.linalg import eig\n",
    "from sklearn.decomposition import PCA\n",
    "\n",
    "        \n",
    "class Log:\n",
    "    DEBUG = 1\n",
    "    INFO = 2\n",
    "\n",
    "\n",
    "class My_pca:\n",
    "    \"\"\"\n",
    "    Perform the PCA on a dataset\n",
    "    \n",
    "    There is a lot of log statements in this class. I intend to remove\n",
    "    them in the final code. Leaving them in place for the time being as they\n",
    "    are useful for debugging. \n",
    "        \n",
    "    \"\"\"\n",
    "\n",
    "    log_level = Log.INFO\n",
    "    nb_components = 2\n",
    "   \n",
    "\n",
    "    def __init__(self):\n",
    "        \"\"\" init \"\"\"\n",
    "\n",
    "\n",
    "    def __log__(self, message, level=Log.INFO):\n",
    "        \"\"\"\n",
    "        Log a message only if its log level is equal or superior to self.log_level\n",
    "        \"\"\"\n",
    "        if level >= self.log_level:\n",
    "            print(message)\n",
    "\n",
    "        \n",
    "    def fit(self, matrix):\n",
    "        \"\"\" \n",
    "        \"\"\"\n",
    "        self.matrix = matrix\n",
    "        \n",
    "        # Calculate mean values of each column from dataset\n",
    "        m0 = np.mean(self.matrix[:,0])\n",
    "        m1 = np.mean(self.matrix[:,1])\n",
    "        \n",
    "        # Center the columns by subtracting the corresponding mean\n",
    "        c0 = matrix[:,0] - m0\n",
    "        c1 = matrix[:,1] - m1\n",
    "        \n",
    "        # Create a centered matrix \n",
    "        self.c_matrix = []\n",
    "        self.c_matrix = np.append(c0, c1, axis=1)\n",
    "        \n",
    "        # Calculate covariance of centered matrix\n",
    "        my_cov = np.cov(self.c_matrix, rowvar=False)        \n",
    "    \n",
    "        # eigen values, eigen vectors\n",
    "        eigen_values, eigen_vectors = eig(my_cov)\n",
    "        \n",
    "        # order eigen values and eigen vectors       \n",
    "        sorted_eigen_values_indexes = eigen_values.argsort()[::-1]\n",
    "        sorted_eigen_values = eigen_values[sorted_eigen_values_indexes]\n",
    "        sorted_eigen_vectors = eigen_vectors.T[sorted_eigen_values_indexes]\n",
    "\n",
    "        # use nb_components to decide how many eigen vectors to keep\n",
    "        filtered_sorted_eigen_values = sorted_eigen_values[:self.nb_components]\n",
    "        filtered_sorted_eigen_vectors = sorted_eigen_vectors[:self.nb_components] \n",
    "        \n",
    "        # save results as class variables\n",
    "        self.eigen_values = filtered_sorted_eigen_values\n",
    "        self.eigen_vectors = filtered_sorted_eigen_vectors\n",
    "        \n",
    "        return(self.eigen_values, self.eigen_vectors)\n",
    "         \n",
    "    \n",
    "    def transform(self, data):\n",
    "        \"\"\"\n",
    "        Calculate projection of dataset onto the eigen vector basis\n",
    "        \"\"\"\n",
    "        self.fit(data)\n",
    "        self.__log__(\"=\"*80)\n",
    "        self.__log__(\"PCA Homebrew nb_components={}\\n\".format(self.nb_components))\n",
    "        \n",
    "        self.__log__(\"eigen_values shape:{}\".format(self.eigen_values.shape), Log.DEBUG)\n",
    "        self.__log__(\"eigen_values:\\n{}\".format(self.eigen_values), Log.INFO)        \n",
    "\n",
    "        self.__log__(\"eigen_vectors shape:\\n{}\".format(self.eigen_vectors.shape), Log.DEBUG)\n",
    "        self.__log__(\"eigen_vectors:\\n{}\".format(self.eigen_vectors), Log.INFO)\n",
    "\n",
    "        self.__log__(\"self.c_matrix shape:\\n{}\".format(self.c_matrix.shape), Log.DEBUG)\n",
    "        self.__log__(\"self.c_matrix:\\n{}\".format(self.c_matrix), Log.DEBUG)\n",
    "        \n",
    "        self.projection = self.eigen_vectors.dot(self.c_matrix.T).T\n",
    "        \n",
    "        self.__log__(\"projected shape :\\n{}\".format(self.projection.shape), Log.DEBUG)\n",
    "        self.__log__(\"projected  :\\n{}\".format(self.projection), Log.INFO)\n",
    "        \n",
    "        self.draw()\n",
    "        return (self.eigen_values, self.eigen_vectors, self.projection)\n",
    "        \n",
    "\n",
    "    def draw(self):\n",
    "        plt.plot(data[:,0], data[:,1], 'bo')\n",
    "        if self.nb_components == 2:\n",
    "            plt.plot(self.projection[:,0], self.projection[:,1], 'xr')\n",
    "        elif self.nb_components == 1:\n",
    "            plt.plot(self.projection, np.zeros_like(self.projection),'xr', label=\"MyPCA Transformed dataset\")            \n",
    "        plt.show()\n",
    "        \n",
    "\n",
    "def build_dataset():\n",
    "    \"\"\"\n",
    "    Create a dataset\n",
    "    \"\"\"\n",
    "    a_x = 0.05\n",
    "    a_y= 10\n",
    "\n",
    "    data =  np.matrix([[n*(1+a_x*(rand.random()-0.5)),4*n+ a_y*(rand.random()-0.5)] for n in range(20)])\n",
    "\n",
    "    print(\"Data:\\n\", data)\n",
    "    print(data.shape)\n",
    "    return data\n",
    "\n",
    "\n",
    "def scikit_pca( matrix, nb_components):\n",
    "    \"\"\"\n",
    "    Calculate the PCA using Scikit APIs\n",
    "    \"\"\"\n",
    "    print(\"=\"*80)\n",
    "    print(\"Scikit.pca with nb_components=\",nb_components)\n",
    "\n",
    "    pca = PCA(nb_components)\n",
    "    pca.fit(matrix)\n",
    "    projection = pca.transform(matrix)\n",
    "    \n",
    "    print(\"Eigen_values:\", pca.explained_variance_)\n",
    "    print(\"Eigen_vectors:\", pca.components_)\n",
    "    print(\"Transformed_data:\", pca.transform(data))\n",
    "        \n",
    "    plt.plot(data[:,0], data[:,1], 'bo')\n",
    "\n",
    "    if nb_components == 2:\n",
    "        plt.plot(projection[:,0], projection[:,1], 'xr')\n",
    "    elif nb_components == 1:\n",
    "        plt.plot(projection, np.zeros_like(projection),'xr', label=\"MyPCA Transformed dataset\")            \n",
    "    plt.show()\n",
    "     \n",
    "    return pca\n",
    "\n",
    "      \n",
    "def test():\n",
    "\n",
    "    my_pca = My_pca()\n",
    "\n",
    "    # Calculate PCA using scikit, nb_components=2\n",
    "    pca = scikit_pca(data, 2)\n",
    "\n",
    "    # Calculate PCA using scikit, nb_components=1\n",
    "    pca = scikit_pca(data, 1)\n",
    "    \n",
    "    # Calculate PCA using homebrew code, nb_components=2\n",
    "    \n",
    "    # Please note that the user can call the fit() API also. \n",
    "    # We are not doing it here because fit() is called by transform() internally\n",
    "    # So this API works my_pca.fit(data) but for brevity's sake I am simply \n",
    "    # calling my_pca.transform(data)\n",
    "    my_pca.nb_components=2\n",
    "    my_pca.transform(data)\n",
    "        \n",
    "    # Calculate PCA using homebrew code, nb_components=1\n",
    "    my_pca.nb_components=1\n",
    "    my_pca.transform(data)\n",
    "    \n",
    "\n",
    "data = build_dataset()    \n",
    "test()"
   ]
  },
  {
   "cell_type": "markdown",
   "metadata": {},
   "source": [
    "# Comparison between Scikit and homebrew PCA\n",
    "## Scikit\n",
    "\n",
    "  * There are 2 eigen values: **580** and **0.45**. \n",
    "  * Because the 2nd eigen value is low we can deduct that the second eigen vector will not carry significant information and can be ignored.\n",
    "  * Looking at the values of the eigen vectors we can clearly see that they are **orthogonal**\n",
    "  * The first eigen vector is **[-0.24191617 -0.97029715]**\n",
    "\n",
    "```python\n",
    "scikit.pca with nb_components=2\n",
    "eigen_values: [5.80787811e+02 4.56934586e-01]\n",
    "eigen_vectors: [[-0.24191617 -0.97029715]\n",
    " [-0.97029715  0.24191617]]\n",
    "```\n",
    "## Homebrew implementation\n",
    "  * There are 2 eigen values: **580** and **0.45**. \n",
    "  * Because the 2nd eigen value is low we can deduct that the second eigen vector will not carry significant information and can be ignored.\n",
    "  * Looking at the values of the eigen vectors we can clearly see that they are **orthogonal**\n",
    "  * The first eigen vector is **[ 0.24191617 -0.97029715]**\n",
    "  \n",
    "```python\n",
    "pca homebrew nb_components= 2\n",
    "eigen_values: [5.80787811e+02 4.56934586e-01]\n",
    "eigen_vectors: [[ 0.24191617 -0.97029715]\n",
    " [-0.97029715 -0.24191617]]\n",
    "```\n",
    "`I note sign discrepencies between the eigen vectors returned by Scikit and the Homebrew implementation. The eigen basis is therefore different. I am looking for an explanation.`\n"
   ]
  },
  {
   "cell_type": "code",
   "execution_count": 23,
   "metadata": {},
   "outputs": [
    {
     "name": "stdout",
     "output_type": "stream",
     "text": [
      "================================================================================\n",
      "Scikit.pca with nb_components= 2\n"
     ]
    },
    {
     "data": {
      "image/png": "[encoded data removed]",
      "text/plain": [
       "<Figure size 432x288 with 1 Axes>"
      ]
     },
     "metadata": {},
     "output_type": "display_data"
    },
    {
     "name": "stdout",
     "output_type": "stream",
     "text": [
      "Eigen_values: [6.55465005e+02 3.40778367e-01]\n",
      "Eigen_vectors: [[-0.22886964 -0.97345708]\n",
      " [ 0.97345708 -0.22886964]]\n",
      "Transformed_data: [[ 40.23990684  -0.27765142]\n",
      " [ 36.47156218  -0.14612124]\n",
      " [ 29.61280175  -0.73878939]\n",
      " [ 24.44331485  -0.94741624]\n",
      " [ 28.43889759   1.03706633]\n",
      " [ 22.46903783   0.79251609]\n",
      " [ 11.70668501  -0.9185991 ]\n",
      " [ 14.40814534   0.69593049]\n",
      " [  7.00492248   0.23815628]\n",
      " [  2.41326044   0.28260869]\n",
      " [ -1.25971714   0.14061513]\n",
      " [ -8.30519302  -0.38123532]\n",
      " [ -8.65932974   0.86044327]\n",
      " [-15.10785943  -0.2108334 ]\n",
      " [-19.73974722   0.33220961]\n",
      " [-23.46261029  -0.21381228]\n",
      " [-29.65215097  -0.37066892]\n",
      " [-33.9298406   -0.37630409]\n",
      " [-37.90230132  -0.32287186]\n",
      " [-39.18978455   0.52475736]]\n",
      "\n",
      "scikit.pca with nb_components=2\n",
      "eigen_values: [6.55465005e+02 3.40778367e-01]\n",
      "eigen_vectors: [[-0.22886964 -0.97345708]\n",
      " [ 0.97345708 -0.22886964]]\n",
      "================================================================================\n",
      "Scikit.pca with nb_components= 1\n",
      "Eigen_values: [655.46500491]\n",
      "Eigen_vectors: [[-0.22886964 -0.97345708]]\n",
      "Transformed_data: [[ 40.23990684]\n",
      " [ 36.47156218]\n",
      " [ 29.61280175]\n",
      " [ 24.44331485]\n",
      " [ 28.43889759]\n",
      " [ 22.46903783]\n",
      " [ 11.70668501]\n",
      " [ 14.40814534]\n",
      " [  7.00492248]\n",
      " [  2.41326044]\n",
      " [ -1.25971714]\n",
      " [ -8.30519302]\n",
      " [ -8.65932974]\n",
      " [-15.10785943]\n",
      " [-19.73974722]\n",
      " [-23.46261029]\n",
      " [-29.65215097]\n",
      " [-33.9298406 ]\n",
      " [-37.90230132]\n",
      " [-39.18978455]]\n",
      "\n",
      "scikit.pca with nb_components=1\n",
      "eigen_values: [655.46500491]\n",
      "eigen_vectors: [[-0.22886964 -0.97345708]]\n"
     ]
    }
   ],
   "source": [
    "# Calculate PCA using scikit, nb_components=2\n",
    "pca = scikit_pca(data, 2)\n",
    "print()\n",
    "print(\"scikit.pca with nb_components=2\")\n",
    "print(\"eigen_values:\", pca.explained_variance_)\n",
    "print(\"eigen_vectors:\", pca.components_)\n",
    "\n",
    "# Calculate PCA using scikit, nb_components=1\n",
    "pca = scikit_pca(data, 1)\n",
    "print()\n",
    "print(\"scikit.pca with nb_components=1\")\n",
    "print(\"eigen_values:\", pca.explained_variance_)\n",
    "print(\"eigen_vectors:\", pca.components_)\n",
    "\n"
   ]
  },
  {
   "cell_type": "markdown",
   "metadata": {},
   "source": [
    "# Comparison between nb_component=1 and nb_component=2\n",
    "\n",
    "Since the value of the second eigen vector low, the second eigen vector can be ignored and thus the resulting eigen space can be simplified to **one dimension**.\n"
   ]
  },
  {
   "cell_type": "code",
   "execution_count": null,
   "metadata": {},
   "outputs": [],
   "source": []
  }
 ],
 "metadata": {
  "kernelspec": {
   "display_name": "Python 3",
   "language": "python",
   "name": "python3"
  },
  "language_info": {
   "codemirror_mode": {
    "name": "ipython",
    "version": 3
   },
   "file_extension": ".py",
   "mimetype": "text/x-python",
   "name": "python",
   "nbconvert_exporter": "python",
   "pygments_lexer": "ipython3",
   "version": "3.6.5"
  }
 },
 "nbformat": 4,
 "nbformat_minor": 1
}
