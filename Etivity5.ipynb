{
 "cells": [
  {
   "cell_type": "markdown",
   "metadata": {},
   "source": [
    "Student Name: Eamon OGairbhith\n",
    "Student ID:9638296"
   ]
  },
  {
   "cell_type": "markdown",
   "metadata": {},
   "source": [
    "- The 'as' keyword allows you to invoke functionality from the module using an alias for the module name. For example: np.mean() instead of numpy.mean()\n",
    "- The from keyword allows you to only import the functionality of interest, for example above we import only the PCA class from the sklearn.decomposition module"
   ]
  },
  {
   "cell_type": "code",
   "execution_count": 1,
   "metadata": {},
   "outputs": [],
   "source": [
    "import numpy as np\n",
    "import random as random\n",
    "import matplotlib.pyplot as plt\n",
    "from numpy.linalg import eig\n",
    "from sklearn.decomposition import PCA"
   ]
  },
  {
   "cell_type": "markdown",
   "metadata": {},
   "source": [
    "As per E-tivity instructions: Use of the matrix class is discouraged, but to allow us to simplify the code slightly, we will use it this week. Its first use will be to store the data that you will perform the PCA transform on. Note that you will likely obtain a higher score if your final version does not use the matrix class."
   ]
  },
  {
   "cell_type": "code",
   "execution_count": 2,
   "metadata": {},
   "outputs": [],
   "source": [
    "a_x = 0.05\n",
    "a_y= 10"
   ]
  },
  {
   "cell_type": "code",
   "execution_count": 5,
   "metadata": {},
   "outputs": [
    {
     "data": {
      "text/plain": [
       "array([[ 0.        , -2.51622613],\n",
       "       [ 0.99129236,  8.1547295 ],\n",
       "       [ 1.99302573,  5.60027896],\n",
       "       [ 3.02438178, 13.95868729],\n",
       "       [ 4.0847596 , 16.73643795],\n",
       "       [ 4.99412896, 16.64001115],\n",
       "       [ 6.14482034, 27.12293471],\n",
       "       [ 7.0440443 , 27.87813857],\n",
       "       [ 7.91781725, 36.90582198],\n",
       "       [ 9.11217736, 33.18895965],\n",
       "       [10.23643961, 35.59789662],\n",
       "       [11.06044339, 42.57199026],\n",
       "       [11.87895787, 50.34636127],\n",
       "       [12.69628651, 49.71738007],\n",
       "       [13.90198554, 58.02424585],\n",
       "       [14.85748843, 60.92937476],\n",
       "       [16.06318743, 59.07716676],\n",
       "       [17.38932104, 70.42645118],\n",
       "       [17.63226471, 73.33791701],\n",
       "       [19.17320741, 75.78699978]])"
      ]
     },
     "execution_count": 5,
     "metadata": {},
     "output_type": "execute_result"
    }
   ],
   "source": [
    "data =  np.array([[n*(1+a_x*(random.random()-0.5)),4*n+ a_y*(random.random()-0.5)] for n in range(20)])\n",
    "data"
   ]
  },
  {
   "cell_type": "markdown",
   "metadata": {},
   "source": [
    "The numpy shape property is very useful to get an insight in the dimensions of your data, for example to check whether the features (in this case 2) or the samples (in this case 20) are in the rows or the columns. The notation used here (with columns containing the features and rows containing separate examples) is the standard for Scikitlearn and many other machine learning algorithms.\n"
   ]
  },
  {
   "cell_type": "code",
   "execution_count": 6,
   "metadata": {},
   "outputs": [
    {
     "data": {
      "text/plain": [
       "(20, 2)"
      ]
     },
     "execution_count": 6,
     "metadata": {},
     "output_type": "execute_result"
    }
   ],
   "source": [
    "data.shape"
   ]
  },
  {
   "cell_type": "code",
   "execution_count": 7,
   "metadata": {},
   "outputs": [
    {
     "name": "stdout",
     "output_type": "stream",
     "text": [
      "[[ 0.         -2.51622613]\n",
      " [ 0.99129236  8.1547295 ]\n",
      " [ 1.99302573  5.60027896]\n",
      " [ 3.02438178 13.95868729]\n",
      " [ 4.0847596  16.73643795]\n",
      " [ 4.99412896 16.64001115]\n",
      " [ 6.14482034 27.12293471]\n",
      " [ 7.0440443  27.87813857]\n",
      " [ 7.91781725 36.90582198]\n",
      " [ 9.11217736 33.18895965]\n",
      " [10.23643961 35.59789662]\n",
      " [11.06044339 42.57199026]\n",
      " [11.87895787 50.34636127]\n",
      " [12.69628651 49.71738007]\n",
      " [13.90198554 58.02424585]\n",
      " [14.85748843 60.92937476]\n",
      " [16.06318743 59.07716676]\n",
      " [17.38932104 70.42645118]\n",
      " [17.63226471 73.33791701]\n",
      " [19.17320741 75.78699978]]\n"
     ]
    }
   ],
   "source": [
    "print(data)"
   ]
  },
  {
   "cell_type": "code",
   "execution_count": null,
   "metadata": {},
   "outputs": [],
   "source": []
  },
  {
   "cell_type": "code",
   "execution_count": 8,
   "metadata": {},
   "outputs": [
    {
     "name": "stdout",
     "output_type": "stream",
     "text": [
      "[ 9.50980148 37.97427786]\n"
     ]
    }
   ],
   "source": [
    "# calculating the mean of each column\n",
    "M = np.mean(data.T, axis=1)\n",
    "print(M)"
   ]
  },
  {
   "cell_type": "code",
   "execution_count": 9,
   "metadata": {},
   "outputs": [
    {
     "name": "stdout",
     "output_type": "stream",
     "text": [
      "[[ -9.50980148 -40.49050399]\n",
      " [ -8.51850912 -29.81954836]\n",
      " [ -7.51677575 -32.3739989 ]\n",
      " [ -6.48541971 -24.01559057]\n",
      " [ -5.42504188 -21.23783991]\n",
      " [ -4.51567252 -21.3342667 ]\n",
      " [ -3.36498114 -10.85134315]\n",
      " [ -2.46575718 -10.09613929]\n",
      " [ -1.59198423  -1.06845588]\n",
      " [ -0.39762412  -4.7853182 ]\n",
      " [  0.72663813  -2.37638124]\n",
      " [  1.55064191   4.5977124 ]\n",
      " [  2.36915639  12.37208341]\n",
      " [  3.18648503  11.74310221]\n",
      " [  4.39218405  20.04996799]\n",
      " [  5.34768695  22.9550969 ]\n",
      " [  6.55338595  21.1028889 ]\n",
      " [  7.87951956  32.45217332]\n",
      " [  8.12246323  35.36363915]\n",
      " [  9.66340593  37.81272192]]\n"
     ]
    }
   ],
   "source": [
    "# centering the columns by subtracting the column means\n",
    "C = data - M\n",
    "print(C)"
   ]
  },
  {
   "cell_type": "code",
   "execution_count": 10,
   "metadata": {},
   "outputs": [
    {
     "name": "stdout",
     "output_type": "stream",
     "text": [
      "[[ 34.86628943 139.17564215]\n",
      " [139.17564215 564.68364306]]\n"
     ]
    }
   ],
   "source": [
    "# calculating the covariance matrix of the centered matrix\n",
    "V = np.cov(C.T)\n",
    "print(V)"
   ]
  },
  {
   "cell_type": "code",
   "execution_count": 11,
   "metadata": {},
   "outputs": [
    {
     "name": "stdout",
     "output_type": "stream",
     "text": [
      "[[-0.97089193 -0.23951798]\n",
      " [ 0.23951798 -0.97089193]]\n",
      "[5.31810233e-01 5.99018122e+02]\n"
     ]
    }
   ],
   "source": [
    "# eigendecomposition of covariance matrix\n",
    "values, vectors = eig(V)\n",
    "print(vectors)\n",
    "print(values)"
   ]
  },
  {
   "cell_type": "code",
   "execution_count": 12,
   "metadata": {},
   "outputs": [
    {
     "name": "stdout",
     "output_type": "stream",
     "text": [
      "[[-4.65214238e-01  4.15896720e+01]\n",
      " [ 1.12823376e+00  3.09918949e+01]\n",
      " [-4.56177928e-01  3.32320572e+01]\n",
      " [ 5.44475895e-01  2.48699177e+01]\n",
      " [ 1.80284856e-01  2.19190424e+01]\n",
      " [-7.25710468e-01  2.17948521e+01]\n",
      " [ 6.67941232e-01  1.13414550e+01]\n",
      " [-2.42231508e-02  1.03928533e+01]\n",
      " [ 1.28973025e+00  1.41866404e+00]\n",
      " [-7.60119701e-01  4.74126495e+00]\n",
      " [-1.27467313e+00  2.13316647e+00]\n",
      " [-4.04270925e-01 -4.83528848e+00]\n",
      " [ 6.63141613e-01 -1.25794115e+01]\n",
      " [-2.81048473e-01 -1.21645036e+01]\n",
      " [ 5.37991792e-01 -2.05183591e+01]\n",
      " [ 3.06132351e-01 -2.35677855e+01]\n",
      " [-1.30810819e+00 -2.20582783e+01]\n",
      " [ 1.22717068e-01 -3.33948398e+01]\n",
      " [ 5.84193436e-01 -3.62797478e+01]\n",
      " [-3.25296035e-01 -3.90266260e+01]]\n"
     ]
    }
   ],
   "source": [
    "# project data\n",
    "P = vectors.T.dot(C.T)\n",
    "print(P.T)"
   ]
  },
  {
   "cell_type": "code",
   "execution_count": 13,
   "metadata": {},
   "outputs": [
    {
     "name": "stdout",
     "output_type": "stream",
     "text": [
      "The Eigenvalues of the data are [5.99018122e+02 5.31810233e-01]\n",
      "\n",
      "The Eigenvectors of the data are\n",
      "[[ 0.23951798 -0.97089193]\n",
      " [-0.97089193 -0.23951798]]\n",
      "\n",
      "The transform of the data is\n",
      "[[-126.77340439  -67.18646771]\n",
      " [-514.91172255 -270.37639335]]\n",
      "\n",
      "The inverse transform of the data is\n",
      "[[ 44.37609091 177.14992   ]\n",
      " [148.68544363 602.65792092]]\n",
      "\n"
     ]
    }
   ],
   "source": [
    "class testPCA():\n",
    "    \n",
    "    def __init__(self, num_comp):\n",
    "        \"\"\" Setting the number of components we want to return\n",
    "        \"\"\"\n",
    "        self.n_components = num_comp\n",
    "        \n",
    "    def __str__(self):\n",
    "        \"\"\"\n",
    "        provide access to the tensor's internal matrix\n",
    "        \"\"\"\n",
    "        #Taken from Brian's methodology\n",
    "        return str(self.np_matrix)\n",
    "        \n",
    "    def fit(self, data):\n",
    "        \"\"\"\n",
    "        The fit method calculates the eigenvectors and eigenvalues of the data in matrix using the forumla outlined above\n",
    "           \n",
    "        \"\"\"   \n",
    "        self.np_matrix = data\n",
    "        self.shape = self.np_matrix.shape\n",
    "        #Caclulate the mean\n",
    "        self.np_mean = np.mean(self.np_matrix.T, axis=1)\n",
    "        #Centre the data\n",
    "        self.np_centre = self.np_matrix - self.np_mean\n",
    "        #Calculate covariance\n",
    "        self.np_cov = np.cov(self.np_centre.T)\n",
    "        #Calculate eigenvectors and eigenvalues\n",
    "        self.np_eigenvalues, self.np_eigenvectors = eig(self.np_cov)\n",
    "        \n",
    "        #Sort eigenvectors by eigenvalues descending\n",
    "        #Sort the order for the eigenvalues\n",
    "        array_sort = np.argsort(self.np_eigenvalues)\n",
    "        #Sort the Eigen values and then sort the eigen vectors based on how the eigen values were sorted\n",
    "        self.np_eigenvalues.sort()\n",
    "        self.np_eigenvectors = self.np_eigenvectors[array_sort]\n",
    "        #Reverse both to have them in descending order\n",
    "        self.np_eigenvalues = self.np_eigenvalues[::-1]\n",
    "        self.np_eigenvectors = self.np_eigenvectors[::-1] \n",
    "        #Transpose the eigenvectors as linalg returns the vectors in columns\n",
    "        self.np_eigenvectors = self.np_eigenvectors.T[array_sort]\n",
    "        #Reduce to number of components specified\n",
    "        self.np_eigenvalues = self.np_eigenvalues[:self.n_components]\n",
    "        self.np_eigenvectors = self.np_eigenvectors[:self.n_components]\n",
    "        \n",
    "        #Square each value so that magnitude and not sign is taken into account when ordering as per Cormac's advice\n",
    "        \n",
    "        sorted_eigen_values_indexes = np.square(values).argsort()[::-1]\n",
    "        sorted_eigen_values = values[sorted_eigen_values_indexes]\n",
    "        sorted_eigen_vectors = vectors[:, sorted_eigen_values_indexes]\n",
    "        self.eigen_values = sorted_eigen_values[:self.n_components]\n",
    "        self.eigen_vectors = sorted_eigen_vectors.T[:, :self.n_components]\n",
    "        \n",
    "        return self.np_eigenvalues, self.np_eigenvectors\n",
    "    \n",
    "    def transform(self, data):\n",
    "        \"\"\"\n",
    "        A transform function to transform the data using results from fit.\n",
    "        \"\"\"\n",
    "        #Calculate the projection\n",
    "        data = data - self.np_mean\n",
    "        #self.np_projection = self.np_eigenvectors.dot(data.T)\n",
    "        self.np_projection = self.np_eigenvectors.T.dot(self.np_cov.T)\n",
    "        \n",
    "        #return the projection\n",
    "        return self.np_projection.T\n",
    "    \n",
    "    def inverse_transform(self, data):\n",
    "        \"\"\"\n",
    "        Return the Original Data Reduced with Mean added\n",
    "        \"\"\"\n",
    "        return np.dot(self.np_eigenvectors.T, self.np_projection).T + self.np_mean\n",
    "\n",
    "        \n",
    "#A = testPCA(2)\n",
    "#A.fit(data)\n",
    "#print (A.np_eigenvalues)\n",
    "#print (A.np_eigenvectors)\n",
    "#print (A.transform(data))\n",
    "#A.transform(data)\n",
    "#print (A.inverse_transform(data))\n",
    "\n",
    "A = testPCA(2)\n",
    "A.fit(data)\n",
    "print(f\"The Eigenvalues of the data are {A.np_eigenvalues}\\n\")\n",
    "print(f\"The Eigenvectors of the data are\\n{A.np_eigenvectors}\\n\")\n",
    "print(f\"The transform of the data is\\n{A.transform(data)}\\n\")\n",
    "print(f\"The inverse transform of the data is\\n{A.inverse_transform(data)}\\n\")"
   ]
  },
  {
   "cell_type": "code",
   "execution_count": 18,
   "metadata": {},
   "outputs": [
    {
     "name": "stdout",
     "output_type": "stream",
     "text": [
      "Scikitlearn PCA Eigen vectors\n",
      "\n",
      "[[-0.23951798 -0.97089193]\n",
      " [ 0.97089193 -0.23951798]]\n",
      "\n",
      "Scikitlearn PCA Eigen values\n",
      "\n",
      "[5.99018122e+02 5.31810233e-01]\n",
      "\n",
      "Scikitlearn PCA Variance Ratio\n",
      "\n",
      "[9.99112984e-01 8.87015750e-04]\n",
      "\n",
      "Transform:\n",
      "\n",
      "[[ 4.15896720e+01  4.65214238e-01]\n",
      " [ 3.09918949e+01 -1.12823376e+00]\n",
      " [ 3.32320572e+01  4.56177928e-01]\n",
      " [ 2.48699177e+01 -5.44475895e-01]\n",
      " [ 2.19190424e+01 -1.80284856e-01]\n",
      " [ 2.17948521e+01  7.25710468e-01]\n",
      " [ 1.13414550e+01 -6.67941232e-01]\n",
      " [ 1.03928533e+01  2.42231508e-02]\n",
      " [ 1.41866404e+00 -1.28973025e+00]\n",
      " [ 4.74126495e+00  7.60119701e-01]\n",
      " [ 2.13316647e+00  1.27467313e+00]\n",
      " [-4.83528848e+00  4.04270925e-01]\n",
      " [-1.25794115e+01 -6.63141613e-01]\n",
      " [-1.21645036e+01  2.81048473e-01]\n",
      " [-2.05183591e+01 -5.37991792e-01]\n",
      " [-2.35677855e+01 -3.06132351e-01]\n",
      " [-2.20582783e+01  1.30810819e+00]\n",
      " [-3.33948398e+01 -1.22717068e-01]\n",
      " [-3.62797478e+01 -5.84193436e-01]\n",
      " [-3.90266260e+01  3.25296035e-01]]\n",
      "\n",
      "Inverse Transform:\n",
      "\n",
      "[[ 7.06681784 38.57695926]\n",
      " [17.18973019 35.05863577]\n",
      " [14.46970162 34.69789776]\n",
      " [22.33778449 31.69457342]\n",
      " [24.78070063 29.99973992]\n",
      " [24.46927032 29.1399365 ]\n",
      " [34.37144491 25.51189084]\n",
      " [34.88928594 24.45795665]\n",
      " [43.44490657 21.44732505]\n",
      " [39.55016421 21.17798582]\n",
      " [41.61970064 19.50946496]\n",
      " [48.19342814 17.03902552]\n",
      " [55.54545328 14.38223477]\n",
      " [54.7390156  13.73934929]\n",
      " [62.51529794 10.57910213]\n",
      " [65.10700403  8.95558147]\n",
      " [63.01992364  8.22861517]\n",
      " [73.72121944  4.22272506]\n",
      " [76.48974873  3.2895046 ]\n",
      " [78.49845995  1.20681641]]\n"
     ]
    }
   ],
   "source": [
    "#now calculate using scikit\n",
    "\n",
    "pca = PCA(n_components=2)\n",
    "pca.fit(data)\n",
    "\n",
    "print(\"Scikitlearn PCA Eigen vectors\\n\")\n",
    "print(pca.components_)\n",
    "print(\"\\nScikitlearn PCA Eigen values\\n\")\n",
    "print(pca.explained_variance_)\n",
    "print(\"\\nScikitlearn PCA Variance Ratio\\n\")\n",
    "print(pca.explained_variance_ratio_)\n",
    "print(\"\\nTransform:\\n\")\n",
    "print(pca.transform(data))\n",
    "pca.transform(data)\n",
    "print(\"\\nInverse Transform:\\n\")\n",
    "print(pca.inverse_transform(data))"
   ]
  },
  {
   "cell_type": "code",
   "execution_count": null,
   "metadata": {},
   "outputs": [],
   "source": []
  },
  {
   "cell_type": "code",
   "execution_count": null,
   "metadata": {},
   "outputs": [],
   "source": []
  }
 ],
 "metadata": {
  "kernelspec": {
   "display_name": "Python 3",
   "language": "python",
   "name": "python3"
  },
  "language_info": {
   "codemirror_mode": {
    "name": "ipython",
    "version": 3
   },
   "file_extension": ".py",
   "mimetype": "text/x-python",
   "name": "python",
   "nbconvert_exporter": "python",
   "pygments_lexer": "ipython3",
   "version": "3.6.5"
  }
 },
 "nbformat": 4,
 "nbformat_minor": 1
}
