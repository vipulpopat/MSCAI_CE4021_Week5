{
 "cells": [
  {
   "cell_type": "markdown",
   "metadata": {},
   "source": [
    "Student Name: Abhijit Sinha\n",
    "Student ID: 18195067"
   ]
  },
  {
   "cell_type": "markdown",
   "metadata": {},
   "source": [
    "## Task\n",
    "\n",
    "###### Making use of Numpy, write a Python class to apply the PCA transform to the provided (see Notebook) data set. Compare the output of your implementation to the PCA functionality provided by the Scikitlearn module.\n",
    "\n",
    "- Create a 'fit' method that calculates the eigen vectors and eigen values of your dataset. Compare your results to the output of Scikitlearn's fit method and document your findings as a comment (use markdown) directly under the cell with your PCA class.\n",
    "- Use the Scikitlean's PCA class with n_components=2 and n_components=1 and observe the differences. In the cell directly below, comment on what you have observed.\n",
    "- Add a property to your class and initialise this property in a suitable fashion to allow you to choose the number of principal components similar to the Scikitlearn PCA class.\n",
    "- Store those results from your fit method that are required to transform the data set, in suitable class properties.\n",
    "- Create a 'transform' method to perform the PCA data transformation on your data set using the parameters obtained using your 'fit' method."
   ]
  },
  {
   "cell_type": "markdown",
   "metadata": {},
   "source": [
    "###### N.B.:\n",
    "\n",
    "- Limit your code to the aspects explicitly listed. \n",
    "- Use the Jupyter Notebook provided in the repository for week 5. This notebook contains the data that needs to be transformed.\n",
    "- The required modules have already been imported for you. You should not import any other modules.\n",
    "- If you find creating a class with this functionality daunting, please start by creating normal functions in your notebook. If time permits, you can then change to use of a class later."
   ]
  },
  {
   "cell_type": "markdown",
   "metadata": {},
   "source": [
    "### Reflection:\n",
    "\n",
    "##### With your code (containing any corrections you have made based on your peers’ feedback), do the following:\n",
    "\n",
    "- For the case where n_components = 1, compare the resulting dataset of your transform method with the resulting dataset from Scikitlearn’s transform method by plotting the points on an XY plot. If there are any differences, explain these in a comment directly under the cell with your plot.\n",
    "\n",
    "- For the case where n_components = 1, compare the dataset resulting from your transform method with the original dataset by plotting the points on an XY plot. Comment on the differences between original and transformed data in the cell directly below your plot. In your comment, explain why and how PCA can be used for dimensionality reduction"
   ]
  },
  {
   "cell_type": "code",
   "execution_count": 1,
   "metadata": {
    "collapsed": true
   },
   "outputs": [],
   "source": [
    "%matplotlib inline\n",
    "import numpy as np\n",
    "import random as rand\n",
    "import matplotlib.pyplot as plt\n",
    "from numpy.linalg import eig\n",
    "from sklearn.decomposition import PCA"
   ]
  },
  {
   "cell_type": "markdown",
   "metadata": {},
   "source": [
    "As per E-tivity instructions: Use of the matrix class is discouraged, but to allow us to simplify the code slightly, we will use it this week. Its first use will be to store the data that you will perform the PCA transform on. Note that you will likely obtain a higher score if your final version does not use the matrix class."
   ]
  },
  {
   "cell_type": "code",
   "execution_count": 2,
   "metadata": {
    "collapsed": true
   },
   "outputs": [],
   "source": [
    "a_x = 0.05\n",
    "a_y= 10"
   ]
  },
  {
   "cell_type": "code",
   "execution_count": 3,
   "metadata": {
    "collapsed": true
   },
   "outputs": [],
   "source": [
    "data =  np.array([[n*(1+a_x*(rand.random()-0.5)),4*n+ a_y*(rand.random()-0.5)] for n in range(20)])"
   ]
  },
  {
   "cell_type": "code",
   "execution_count": 4,
   "metadata": {
    "collapsed": false
   },
   "outputs": [
    {
     "data": {
      "text/plain": [
       "(20, 2)"
      ]
     },
     "execution_count": 4,
     "metadata": {},
     "output_type": "execute_result"
    }
   ],
   "source": [
    "data.shape"
   ]
  },
  {
   "cell_type": "markdown",
   "metadata": {},
   "source": [
    "### Created a class to find PCA using numpy\n",
    "- Making use of Numpy, created a Python class to apply the PCA transform to the provided data set. \n",
    "\n",
    "Following the steps from the links below: \n",
    "    - http://www.cs.otago.ac.nz/cosc453/student_tutorials/principal_components.pdf \n",
    "    - https://machinelearningmastery.com/calculate-principal-component-analysis-scratch-python/\n",
    "    \n",
    "- Step 1: Get some data\n",
    "- Step 2: Subtract the mean\n",
    "- Step 3: Calculate the covariance matrix\n",
    "- Step 4: Calculate the eigenvectors and eigenvalues of the covariance matrix\n",
    "- Step 5: Choosing components and forming a feature vector\n",
    "- Step 6: Deriving the new data set"
   ]
  },
  {
   "cell_type": "code",
   "execution_count": 5,
   "metadata": {
    "collapsed": true
   },
   "outputs": [],
   "source": [
    "class New_PCA:\n",
    "    \"\"\"Principal component analysis (PCA)\n",
    "     \n",
    "    Linear dimensionality reduction using Singular Value Decomposition of the\n",
    "    data to project it to a lower dimensional space.\n",
    "    \"\"\"\n",
    "    \n",
    "    def __init__(self,n_components=None):\n",
    "        self.n_components = n_components\n",
    "        self.components_ = []\n",
    "        \n",
    "    def fit(self, data):\n",
    "        \"\"\"Fit the model with provided data.\"\"\"\n",
    "        \n",
    "        # Step 1: Get the data\n",
    "        self.data = data   \n",
    "        \n",
    "        # Step 2: Get mean of data and center around zero mean\n",
    "        self.mean_data = self.data.mean(axis=0)\n",
    "        \n",
    "        # Center data\n",
    "        self.data_with_zero_mean = self.data - self.mean_data\n",
    "\n",
    "        # Step 3: Calculate the covariance matrix of the Centered Data\n",
    "        self.covariance_matrix = np.cov(self.data_with_zero_mean, rowvar=False)\n",
    "        \n",
    "        # Step 4: Calculate the eigenvectors and eigenvalues of the covariance matrix\n",
    "        eigen_vals, eigen_vecs = eig(self.covariance_matrix)    \n",
    "        \n",
    "        # Sort the eigen values and eigen vectors\n",
    "        # Squaring the values before sorting to remove the sign impact, Thanks to Cormac\n",
    "        sort_index = np.square(eigen_vals).argsort()[::-1]\n",
    "        sorted_eig_vals = eigen_vals[sort_index]\n",
    "        sorted_eig_vecs = eigen_vecs[:, sort_index]\n",
    "        \n",
    "        # n_components will filter the eigen vectors\n",
    "        self.eigen_values= sorted_eig_vals[:self.n_components]\n",
    "        self.eigen_vectors = sorted_eig_vecs[:, :self.n_components]         \n",
    "        self.components_ = self.eigen_vectors\n",
    "        \n",
    "        return self.eigen_values, self.eigen_vectors\n",
    "    \n",
    "    def transform(self, data):\n",
    "        \"\"\"Transform the data by calculating the projection.\"\"\" \n",
    "        \n",
    "        # Step 5: Choosing components and forming a feature vector and applying Projection\n",
    "        # Thanks to Brian Parle to highlighting I was not using the data passed as function argument\n",
    "        data = data - self.mean_data\n",
    "        self.projected_data = data.dot(self.eigen_vectors)\n",
    "        return self.projected_data\n",
    "    \n",
    "    def inverse_transform(self, transform_data):\n",
    "        \"\"\"Inverse transform method to return the reconstructed data.\"\"\"\n",
    "\n",
    "        return np.dot(transform_data, self.eigen_vectors.T) + self.mean_data"
   ]
  },
  {
   "cell_type": "markdown",
   "metadata": {},
   "source": [
    "### Test  and Compare the Implemented and Scikit PCA code for n_components = 2"
   ]
  },
  {
   "cell_type": "code",
   "execution_count": 6,
   "metadata": {
    "collapsed": false
   },
   "outputs": [
    {
     "name": "stdout",
     "output_type": "stream",
     "text": [
      "Implemented PCA eigen values: \n",
      "[5.65331140e+02 5.57262984e-01]\n",
      "Scikit PCA eigen values: \n",
      "[5.65331140e+02 5.57262984e-01]\n",
      "\n",
      "Implemented PCA eigen vectors: \n",
      "[[-0.24864801 -0.96859391]\n",
      " [-0.96859391  0.24864801]]\n",
      "Scikit PCA eigen vectors: \n",
      "[[-0.24864801 -0.96859391]\n",
      " [-0.96859391  0.24864801]]\n",
      "\n",
      "Ratio of variance for Prinicpal components: \n",
      "[9.99015242e-01 9.84757739e-04]\n"
     ]
    }
   ],
   "source": [
    "# *************************************************************\n",
    "# Run the Implemented PCA\n",
    "# *************************************************************\n",
    "derived_pca = New_PCA(n_components=2)\n",
    "derived_pca.fit(data)\n",
    "derived_transform_data_2 = derived_pca.transform(data)\n",
    "\n",
    "# Store the PCA values:\n",
    "derived_pca_eigen_vectors = derived_pca.components_\n",
    "derived_pca_eigen_values = derived_pca.eigen_values\n",
    "\n",
    "\n",
    "# *************************************************************\n",
    "# Run the Scikit learn PCA\n",
    "# *************************************************************\n",
    "scikit_pca = PCA(n_components=2)\n",
    "scikit_pca.fit(data)\n",
    "scikit_pca.transform(data)\n",
    "\n",
    "# Store the scikit PCA values:\n",
    "scikit_pca_eigen_vectors = scikit_pca.components_\n",
    "scikit_pca_eigen_values = scikit_pca.explained_variance_\n",
    "\n",
    "# *****************************************************************\n",
    "# Print the values of Implemented vs Scikitlearn PCA implementation\n",
    "# *****************************************************************\n",
    "print(\"Implemented PCA eigen values: \\n{}\".format(derived_pca_eigen_values))\n",
    "print(\"Scikit PCA eigen values: \\n{}\".format(scikit_pca_eigen_values))\n",
    "print()\n",
    "\n",
    "print(\"Implemented PCA eigen vectors: \\n{}\".format(derived_pca_eigen_vectors))\n",
    "print(\"Scikit PCA eigen vectors: \\n{}\".format(scikit_pca_eigen_vectors))\n",
    "print()\n",
    "\n",
    "# How much the Ratio of variance is attributed to each principal component\n",
    "print(\"Ratio of variance for Prinicpal components: \\n{}\".format(scikit_pca.explained_variance_ratio_))"
   ]
  },
  {
   "cell_type": "markdown",
   "metadata": {},
   "source": [
    "###  Compare your results to the output of Scikitlearn's fit method and document your findings as a comment (use markdown) directly under the cell with your PCA class.\n"
   ]
  },
  {
   "cell_type": "markdown",
   "metadata": {},
   "source": [
    "#### Observations of Comparision of result:\n",
    "- The Eigen Values of the Implemented PCA class match up exactly\n",
    "- The Eigen Vectors, a 2x2 matrix, of Implemented PCA class values looks similar but doesn't exacly match up polarity wise\n",
    "- The sign of Eigen vectors are not matching, but since the Eigen vector is a straight line we are more intrested if our feature falls in that line, the polarity/direction is not important here.\n",
    "- Almost 99.9% of the data can be represented by using the 1st principal component, which has the highest eigen value,  which captures the highest variance of the data"
   ]
  },
  {
   "cell_type": "markdown",
   "metadata": {},
   "source": [
    "### Use the Scikitlean's PCA class with n_components=2 and n_components=1 and observe the differences.\n",
    "##### - The below code block will run for n=2 and n=1 for Scikitlearn PCA\n",
    "#####  - Plots the transformed data and compare it with original data"
   ]
  },
  {
   "cell_type": "code",
   "execution_count": 7,
   "metadata": {
    "collapsed": false
   },
   "outputs": [
    {
     "data": {
      "image/png": "[encoded data removed]",
      "text/plain": [
       "<Figure size 432x288 with 1 Axes>"
      ]
     },
     "metadata": {},
     "output_type": "display_data"
    },
    {
     "data": {
      "image/png": "[encoded data removed]",
      "text/plain": [
       "<Figure size 432x288 with 1 Axes>"
      ]
     },
     "metadata": {},
     "output_type": "display_data"
    }
   ],
   "source": [
    "for n in (2,1):\n",
    "    scikit_pca = PCA(n_components=n)\n",
    "    scikit_pca.fit(data)\n",
    "    scikit_transform_data = scikit_pca.transform(data)\n",
    "    scikit_pca_result = scikit_pca.inverse_transform(scikit_transform_data)\n",
    "  \n",
    "    plt.title(\"Scikitlearn PCA with {} principal component\".format(n))\n",
    "    \n",
    "    # Plot the original data\n",
    "    plt.plot(data[:,0], data[:,1], 'ro')\n",
    "    \n",
    "    # Plot the rescontructed data after appying scikitlearn PCA tranform\n",
    "    plt.plot(scikit_pca_result[:,0], scikit_pca_result[:,1], 'bx')\n",
    "    plt.show()\n"
   ]
  },
  {
   "cell_type": "markdown",
   "metadata": {},
   "source": [
    "### Observation when n_component =2:\n",
    "- The reconstructed data with 2 principal components exactly matches the original data.\n",
    "\n",
    "### Observation when n_component =1:\n",
    "- The reconstructed data with one principal component doesn't exactly match the original data, but its very similar to the original data.\n",
    "- This indicates that we can be use one principal component to represent the original data."
   ]
  },
  {
   "cell_type": "markdown",
   "metadata": {},
   "source": [
    "### Test the PCA code for n_components = 1"
   ]
  },
  {
   "cell_type": "code",
   "execution_count": 8,
   "metadata": {
    "collapsed": true
   },
   "outputs": [],
   "source": [
    "# *************************************************************\n",
    "# Run the Implemented PCA for n=1\n",
    "# *************************************************************\n",
    "derived_pca = New_PCA(n_components=1)\n",
    "derived_pca.fit(data)\n",
    "# Store the projceted data for reconstructing the data\n",
    "derived_transform_data_1 = derived_pca.transform(data)\n",
    "# Store the eigen vectors for reconstructing the data\n",
    "derived_pca_eigen_vector_1 = derived_pca.components_\n",
    "\n",
    "\n",
    "# *************************************************************\n",
    "# Run the Scikit learn PCA for n=1\n",
    "# *************************************************************\n",
    "scikit_pca = PCA(n_components=1)\n",
    "scikit_pca.fit(data)\n",
    "scikit_pca.transform(data)\n",
    "scikit_transform_data_1 = scikit_pca.transform(data)"
   ]
  },
  {
   "cell_type": "markdown",
   "metadata": {},
   "source": [
    "### Compare the resulting dataset of your transform method with the resulting dataset from Scikitlearn’s transform method by plotting the points on an XY plot for n_components = 1"
   ]
  },
  {
   "cell_type": "code",
   "execution_count": 9,
   "metadata": {
    "collapsed": false
   },
   "outputs": [
    {
     "name": "stdout",
     "output_type": "stream",
     "text": [
      "Scikitlearn PCA tranform result: \n",
      "[[ 41.71767048]\n",
      " [ 35.54358941]\n",
      " [ 30.70018906]\n",
      " [ 21.82936262]\n",
      " [ 23.07282077]\n",
      " [ 22.37721423]\n",
      " [  9.05020379]\n",
      " [  5.82449195]\n",
      " [  7.57949901]\n",
      " [  1.75502867]\n",
      " [ -6.33759916]\n",
      " [ -6.11904658]\n",
      " [ -8.85099496]\n",
      " [-11.06347669]\n",
      " [-19.55314177]\n",
      " [-22.37605994]\n",
      " [-28.73344385]\n",
      " [-29.27656344]\n",
      " [-31.20966827]\n",
      " [-35.93007533]]\n",
      "\n",
      "Implemented PCA tranform result: \n",
      "[[ 41.71767048]\n",
      " [ 35.54358941]\n",
      " [ 30.70018906]\n",
      " [ 21.82936262]\n",
      " [ 23.07282077]\n",
      " [ 22.37721423]\n",
      " [  9.05020379]\n",
      " [  5.82449195]\n",
      " [  7.57949901]\n",
      " [  1.75502867]\n",
      " [ -6.33759916]\n",
      " [ -6.11904658]\n",
      " [ -8.85099496]\n",
      " [-11.06347669]\n",
      " [-19.55314177]\n",
      " [-22.37605994]\n",
      " [-28.73344385]\n",
      " [-29.27656344]\n",
      " [-31.20966827]\n",
      " [-35.93007533]]\n"
     ]
    },
    {
     "data": {
      "image/png": "[encoded data removed]",
      "text/plain": [
       "<Figure size 432x288 with 1 Axes>"
      ]
     },
     "metadata": {},
     "output_type": "display_data"
    }
   ],
   "source": [
    "# Compare the resulting dataset of your transform method with the resulting dataset from Scikitlearn’s transform\n",
    "\n",
    "print(\"Scikitlearn PCA tranform result: \")\n",
    "print(scikit_transform_data_1)\n",
    "\n",
    "print(\"\")\n",
    "\n",
    "print(\"Implemented PCA tranform result: \")\n",
    "print(derived_transform_data_1)\n",
    "\n",
    "# Plotting the graphs\n",
    "plt.title(\"For n_components = 1: Implemented PCA vs Scikitlearn PCA\")\n",
    "plt.plot(scikit_transform_data_1[:,0], np.zeros(len(scikit_transform_data_1)), 'ro')\n",
    "plt.plot(derived_transform_data_1[:,0], np.zeros(len(derived_transform_data_1)), 'bx')\n",
    "plt.show()"
   ]
  },
  {
   "cell_type": "markdown",
   "metadata": {},
   "source": [
    "##### If there are any differences, explain these in a comment directly under the cell with your plot.\n",
    "- The sign of the transformed data using implemneted PCA code is not matching the Scikitlearn PCA transform results with n_componenets=1\n",
    "- The magnitude of the transformed values of both the PCA methods are matching"
   ]
  },
  {
   "cell_type": "markdown",
   "metadata": {},
   "source": [
    "### Compare the dataset resulting from your transform method with the original dataset by plotting the points on an XY plot for n_components = 1\n",
    " "
   ]
  },
  {
   "cell_type": "code",
   "execution_count": 10,
   "metadata": {
    "collapsed": false
   },
   "outputs": [
    {
     "data": {
      "image/png": "[encoded data removed]",
      "text/plain": [
       "<Figure size 432x288 with 1 Axes>"
      ]
     },
     "metadata": {},
     "output_type": "display_data"
    }
   ],
   "source": [
    "# Compare the dataset resulting from Implemented PCA transform method with the original dataset\n",
    "\n",
    "plt.title(\"Transformed data from Implemented PCA vs Original dataset with 1 principal component\")\n",
    "plt.plot(data[:,0], data[:,1], 'ro')\n",
    "plt.plot(derived_transform_data_1, np.zeros(len(derived_transform_data_1)), 'bx')\n",
    "plt.show()"
   ]
  },
  {
   "cell_type": "markdown",
   "metadata": {},
   "source": [
    "### Reconstruct the data on Implemented PCA for n_components=1\n",
    "- I will be using the implemented inverse_tranform() method for this\n",
    "- The projected data is of 20x1 and pca is of 2x1, so we need to transform the principal component (changes it to 1x2) to and perform the dot product with the projected data.\n",
    "- The mean needs to be added to recontruct the data."
   ]
  },
  {
   "cell_type": "code",
   "execution_count": 11,
   "metadata": {
    "collapsed": false
   },
   "outputs": [
    {
     "name": "stdout",
     "output_type": "stream",
     "text": [
      "Transformed data shape (20, 1)\n",
      "Reduced data shape (20, 2)\n"
     ]
    }
   ],
   "source": [
    "# Reconstruct the data on Implemented PCA with n_componenets=1\n",
    "reconstructed_data_1 = derived_pca.inverse_transform(derived_transform_data_1)\n",
    "\n",
    "print(\"Transformed data shape\", derived_transform_data_1.shape)\n",
    "print(\"Reduced data shape\", reconstructed_data_1.shape)"
   ]
  },
  {
   "cell_type": "markdown",
   "metadata": {
    "collapsed": true
   },
   "source": [
    "### Compare the dataset resulting from your Reconstructed/Reduced data using Implemented PCA method with the original dataset by plotting the points on an XY plot for n_components = 1"
   ]
  },
  {
   "cell_type": "code",
   "execution_count": 12,
   "metadata": {
    "collapsed": false
   },
   "outputs": [
    {
     "data": {
      "image/png": "[encoded data removed]",
      "text/plain": [
       "<Figure size 432x288 with 1 Axes>"
      ]
     },
     "metadata": {},
     "output_type": "display_data"
    }
   ],
   "source": [
    "# Compare the dataset resulting from Implemented PCA transform method with the original dataset\n",
    "\n",
    "plt.title(\"Reconstructed data from Implemented PCA vs Original dataset with 1 principal component\")\n",
    "plt.plot(data[:,0], data[:,1], 'ro')\n",
    "plt.plot(reconstructed_data_1[:,0], reconstructed_data_1[:,1], 'bx')\n",
    "plt.show()"
   ]
  },
  {
   "cell_type": "markdown",
   "metadata": {},
   "source": [
    "##### Comment on the differences between original and transformed data\n",
    "The transformed data set with one principal component doesn't exactly match the original dataset. However, the reconstructed data is very close to the original dataset and this shows that, even with one dimension (which is the principal component) we can represent the original dataset.\n",
    "\n",
    "##### Why and How PCA can be used for dimensionality reduction ?\n",
    "- PCA performs a linear transformation moving the original set of features to a new space composed by principal component.\n",
    "- The eigenvector with the highest eigenvalue is the principle component of the data set.\n",
    "- The original data has 2 dimensions, and we can see that after we calculate the eigenvectors and eigenvalues, and choose only the first eigenvectors (which has the highest variance), we get the final data set which has only 1 dimension and the reconstruction gives us approximately the same information as the original data.\n",
    "- In machine learning problems with high dimension input data (or where we have more labels/features as compared to the samples), we can use PCA to reduce the number of features. This can improve the model's performance and also significantly reduce the training time of the model as we will only be using the features with high variance."
   ]
  },
  {
   "cell_type": "code",
   "execution_count": null,
   "metadata": {
    "collapsed": true
   },
   "outputs": [],
   "source": []
  }
 ],
 "metadata": {
  "kernelspec": {
   "display_name": "Python 3",
   "language": "python",
   "name": "python3"
  },
  "language_info": {
   "codemirror_mode": {
    "name": "ipython",
    "version": 3
   },
   "file_extension": ".py",
   "mimetype": "text/x-python",
   "name": "python",
   "nbconvert_exporter": "python",
   "pygments_lexer": "ipython3",
   "version": "3.4.9"
  }
 },
 "nbformat": 4,
 "nbformat_minor": 1
}
