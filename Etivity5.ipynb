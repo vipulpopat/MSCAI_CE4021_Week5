{
 "cells": [
  {
   "cell_type": "markdown",
   "metadata": {},
   "source": [
    "Student Name: Cormac Lavery\n",
    "\n",
    "Student ID: 16139658"
   ]
  },
  {
   "cell_type": "markdown",
   "metadata": {},
   "source": [
    "- The 'as' keyword allows you to invoke functionality from the module using an alias for the module name. For example: np.mean() instead of numpy.mean()\n",
    "- The from keyword allows you to only import the functionality of interest, for example above we import only the PCA class from the sklearn.decomposition module"
   ]
  },
  {
   "cell_type": "code",
   "execution_count": 720,
   "metadata": {
    "collapsed": true
   },
   "outputs": [],
   "source": [
    "%matplotlib inline\n",
    "import numpy as np\n",
    "import random as rand\n",
    "import matplotlib.pyplot as plt\n",
    "from numpy.linalg import eig\n",
    "from sklearn.decomposition import PCA"
   ]
  },
  {
   "cell_type": "markdown",
   "metadata": {},
   "source": [
    "As per E-tivity instructions: Use of the matrix class is discouraged, but to allow us to simplify the code slightly, we will use it this week. Its first use will be to store the data that you will perform the PCA transform on. Note that you will likely obtain a higher score if your final version does not use the matrix class."
   ]
  },
  {
   "cell_type": "code",
   "execution_count": 721,
   "metadata": {
    "collapsed": true
   },
   "outputs": [],
   "source": [
    "a_x = 0.05\n",
    "a_y= 10"
   ]
  },
  {
   "cell_type": "code",
   "execution_count": 722,
   "metadata": {
    "collapsed": true
   },
   "outputs": [],
   "source": [
    "data =  np.array([[n*(1+a_x*(rand.random()-0.5)),4*n+ a_y*(rand.random()-0.5)] for n in range(20)])"
   ]
  },
  {
   "cell_type": "markdown",
   "metadata": {},
   "source": [
    "The numpy shape property is very useful to get an insight in the dimensions of your data, for example to check whether the features (in this case 2) or the samples (in this case 20) are in the rows or the columns. The notation used here (with columns containing the features and rows containing separate examples) is the standard for Scikitlearn and many other machine learning algorithms.\n"
   ]
  },
  {
   "cell_type": "code",
   "execution_count": 723,
   "metadata": {},
   "outputs": [
    {
     "data": {
      "text/plain": [
       "(20, 2)"
      ]
     },
     "execution_count": 723,
     "metadata": {},
     "output_type": "execute_result"
    }
   ],
   "source": [
    "data.shape"
   ]
  },
  {
   "cell_type": "code",
   "execution_count": 724,
   "metadata": {},
   "outputs": [],
   "source": [
    "class MyPCA:\n",
    "\n",
    "    def __init__(self, n_components = 2):\n",
    "        self.n_components = n_components\n",
    "\n",
    "\n",
    "    def fit(self, matrix):\n",
    "        # subtract the mean of each column from the column\n",
    "        self.mean = mean_data = np.mean(data, axis=0)\n",
    "        centered_data = data - self.mean\n",
    "        #calculate the covariance of the data with mean subtracted\n",
    "        cov_data = np.cov(centered_data,rowvar=False)\n",
    "        values, vectors = eig(cov_data)        \n",
    "        #(square each value so that magnitude and not sign is taken into account when ordering)\n",
    "        sorted_eigen_values_indexes = np.square(values).argsort()[::-1]\n",
    "        sorted_eigen_values = values[sorted_eigen_values_indexes]\n",
    "        sorted_eigen_vectors = vectors[sorted_eigen_values_indexes]\n",
    "        self.eigen_values = sorted_eigen_values[:self.n_components]\n",
    "        self.eigen_vectors = sorted_eigen_vectors.T[:self.n_components,:]\n",
    "        \n",
    "    def transform(self, matrix):\n",
    "        matrix = matrix - self.mean\n",
    "        return np.dot(matrix, self.eigen_vectors.T)    \n",
    "        "
   ]
  },
  {
   "cell_type": "code",
   "execution_count": 725,
   "metadata": {},
   "outputs": [
    {
     "name": "stdout",
     "output_type": "stream",
     "text": [
      "my pca eigen vectors: \n[[ 0.23853209 -0.97113462]\n [-0.97113462 -0.23853209]]\nscikit pca eigen values: \n[6.12341764e+02 5.81909796e-01]\n\n\nscikit pca eigen vectors: \n[[-0.23853209 -0.97113462]\n [-0.97113462  0.23853209]]\nmy pca eigen values: \n[6.12341764e+02 5.81909796e-01]\n\nmy pca transform: \n[[ 38.617628    19.30742543]\n [ 28.62711273  15.82127047]\n [ 30.75150454  15.36357681]\n [ 18.52818251  11.22879218]\n [ 20.48578302  10.69016411]\n [ 20.26897047   9.68847676]\n [ 17.16642501   7.7505929 ]\n [  5.57264243   3.81572082]\n [  1.1092926    1.67491862]\n [ -0.47881358   0.63302412]\n [ -1.7985529   -0.6898071 ]\n [ -9.68138316  -3.93188813]\n [ -5.48704882  -3.89391294]\n [-12.63825826  -6.64389918]\n [-16.51957623  -8.52349112]\n [-17.25608456 -10.16737284]\n [-22.95581787 -12.54877563]\n [-26.78171266 -14.50327205]\n [-33.38950524 -16.97228009]\n [-34.14078803 -18.09926314]]\nscikit pca transform: \n[[ 4.31681360e+01 -7.80963103e-01]\n [ 3.26993795e+01  7.58130586e-01]\n [ 3.43699794e+01 -6.31696775e-01]\n [ 2.16219927e+01  1.36702309e+00]\n [ 2.31072849e+01 -1.72554114e-02]\n [ 2.24510693e+01 -8.04507783e-01]\n [ 1.88037693e+01 -1.08448063e+00]\n [ 6.70630174e+00  7.99741148e-01]\n [ 1.75903950e+00  9.70392959e-01]\n [-1.31050939e-01  7.82820304e-01]\n [-1.91346954e+00  2.21947532e-01]\n [-1.04013074e+01  1.00086387e+00]\n [-6.66667418e+00 -9.08690357e-01]\n [-1.42781618e+01 -3.26324175e-02]\n [-1.85886075e+01  9.98535863e-02]\n [-2.00029046e+01 -1.01574286e+00]\n [-2.61573246e+01 -4.85503982e-01]\n [-3.04533568e+01 -4.45075894e-01]\n [-3.74530903e+01  4.28224774e-01]\n [-3.86410048e+01 -2.22448638e-01]]\n\ndifference between eigen values: \n[-3.41060513e-13 -5.50670620e-14]\ndifference between eigen vectors: \n[[-4.77064186e-01 -1.11022302e-16]\n [-1.11022302e-16  4.77064186e-01]]\ndifference between transforms: \n[[  4.550508   -20.08838853]\n [  4.07226678 -15.06313988]\n [  3.61847485 -15.99527359]\n [  3.0938102   -9.86176909]\n [  2.62150191 -10.70741952]\n [  2.18209884 -10.49298454]\n [  1.63734429  -8.83507353]\n [  1.13365931  -3.01597967]\n [  0.6497469   -0.70452566]\n [  0.34776264   0.14979618]\n [ -0.11491663   0.91175463]\n [ -0.71992424   4.932752  ]\n [ -1.17962536   2.98522258]\n [ -1.6399035    6.61126677]\n [ -2.06903128   8.62334471]\n [ -2.74682001   9.15162998]\n [ -3.20150672  12.06327164]\n [ -3.67164414  14.05819615]\n [ -4.06358509  17.40050487]\n [ -4.50021675  17.8768145 ]]\n"
     ]
    }
   ],
   "source": [
    "scikit_pca = PCA(n_components=2)\n",
    "scikit_pca.fit(data)\n",
    "scikit_transform = scikit_pca.transform(data)\n",
    "scikit_pca_eigen_vectors = scikit_pca.components_\n",
    "scikit_pca_eigen_values = scikit_pca.explained_variance_\n",
    "\n",
    "\n",
    "my_pca = MyPCA(n_components=2)\n",
    "my_pca.fit(data)\n",
    "my_pca_transform = my_pca.transform(data)\n",
    "my_pca_eigen_vectors = my_pca.eigen_vectors\n",
    "my_pca_eigen_values = my_pca.eigen_values\n",
    "\n",
    "print(\"my pca eigen vectors: \\n{}\".format(my_pca_eigen_vectors))\n",
    "print(\"scikit pca eigen values: \\n{}\".format(scikit_pca_eigen_values))\n",
    "print()\n",
    "print()\n",
    "print(\"scikit pca eigen vectors: \\n{}\".format(scikit_pca_eigen_vectors))\n",
    "print(\"my pca eigen values: \\n{}\".format(my_pca_eigen_values))\n",
    "print()\n",
    "print(\"my pca transform: \\n{}\".format(my_pca_transform))\n",
    "print(\"scikit pca transform: \\n{}\".format(scikit_transform))\n",
    "print()\n",
    "print(\"difference between eigen values: \\n{}\".format(scikit_pca_eigen_values - my_pca_eigen_values))\n",
    "print(\"difference between eigen vectors: \\n{}\".format(scikit_pca_eigen_vectors - my_pca_eigen_vectors))\n",
    "print(\"difference between transforms: \\n{}\".format(scikit_transform - my_pca_transform))\n"
   ]
  },
  {
   "cell_type": "markdown",
   "metadata": {},
   "source": [
    "My eigen values match however I note that the eigen vectors do not match for my PCA class and the scikit implementation. My transform also does not match the scikit PCA transform.\n",
    "\n",
    "The magnitude match but the signs do not. I found the following stack overflow on someone else who had the same issue.\n",
    "https://stackoverflow.com/questions/44765682/in-sklearn-decomposition-pca-why-are-components-negative\n",
    "\n",
    "The answer seems to be that although the sign is different it is not the signs that we are interested in but the plance that the components lie on. In the following chart I will show that the resulting components are either in the same of directly opposite directions"
   ]
  },
  {
   "cell_type": "code",
   "execution_count": 727,
   "metadata": {},
   "outputs": [
    {
     "data": {
      "image/png": "[encoded data removed]",
      "text/plain": [
       "<Figure size 432x288 with 1 Axes>"
      ]
     },
     "metadata": {},
     "output_type": "display_data"
    }
   ],
   "source": [
    "V = scikit_pca_eigen_vectors\n",
    "W = my_pca_eigen_vectors\n",
    "origin = [0], [0] # origin point\n",
    "\n",
    "\n",
    "\n",
    "\n",
    "plt.quiver(*origin, W, V, color=['r','b','g'], scale=3)\n",
    "\n",
    "plt.show()"
   ]
  },
  {
   "cell_type": "markdown",
   "metadata": {},
   "source": [
    "\n",
    "In the following script I show that my transform function is calculating the values correctly by manually changing the eigen vectors in my PCA to the ones caclulated by the scikit PCA."
   ]
  },
  {
   "cell_type": "code",
   "execution_count": 729,
   "metadata": {},
   "outputs": [
    {
     "name": "stdout",
     "output_type": "stream",
     "text": [
      "scikit pca transform: \n[[ 4.31681360e+01 -7.80963103e-01]\n [ 3.26993795e+01  7.58130586e-01]\n [ 3.43699794e+01 -6.31696775e-01]\n [ 2.16219927e+01  1.36702309e+00]\n [ 2.31072849e+01 -1.72554114e-02]\n [ 2.24510693e+01 -8.04507783e-01]\n [ 1.88037693e+01 -1.08448063e+00]\n [ 6.70630174e+00  7.99741148e-01]\n [ 1.75903950e+00  9.70392959e-01]\n [-1.31050939e-01  7.82820304e-01]\n [-1.91346954e+00  2.21947532e-01]\n [-1.04013074e+01  1.00086387e+00]\n [-6.66667418e+00 -9.08690357e-01]\n [-1.42781618e+01 -3.26324175e-02]\n [-1.85886075e+01  9.98535863e-02]\n [-2.00029046e+01 -1.01574286e+00]\n [-2.61573246e+01 -4.85503982e-01]\n [-3.04533568e+01 -4.45075894e-01]\n [-3.74530903e+01  4.28224774e-01]\n [-3.86410048e+01 -2.22448638e-01]]\n\nmy pca transform with scikit eigen vectors: \n[[ 4.31681360e+01 -7.80963103e-01]\n [ 3.26993795e+01  7.58130586e-01]\n [ 3.43699794e+01 -6.31696775e-01]\n [ 2.16219927e+01  1.36702309e+00]\n [ 2.31072849e+01 -1.72554114e-02]\n [ 2.24510693e+01 -8.04507783e-01]\n [ 1.88037693e+01 -1.08448063e+00]\n [ 6.70630174e+00  7.99741148e-01]\n [ 1.75903950e+00  9.70392959e-01]\n [-1.31050939e-01  7.82820304e-01]\n [-1.91346954e+00  2.21947532e-01]\n [-1.04013074e+01  1.00086387e+00]\n [-6.66667418e+00 -9.08690357e-01]\n [-1.42781618e+01 -3.26324175e-02]\n [-1.85886075e+01  9.98535863e-02]\n [-2.00029046e+01 -1.01574286e+00]\n [-2.61573246e+01 -4.85503982e-01]\n [-3.04533568e+01 -4.45075894e-01]\n [-3.74530903e+01  4.28224774e-01]\n [-3.86410048e+01 -2.22448638e-01]]\n\nnew difference between transforms: \n[[0. 0.]\n [0. 0.]\n [0. 0.]\n [0. 0.]\n [0. 0.]\n [0. 0.]\n [0. 0.]\n [0. 0.]\n [0. 0.]\n [0. 0.]\n [0. 0.]\n [0. 0.]\n [0. 0.]\n [0. 0.]\n [0. 0.]\n [0. 0.]\n [0. 0.]\n [0. 0.]\n [0. 0.]\n [0. 0.]]\n\n"
     ]
    }
   ],
   "source": [
    "my_pca.eigen_vectors = scikit_pca_eigen_vectors\n",
    "test_transform = my_pca.transform(data)\n",
    "print(\"scikit pca transform: \\n{}\\n\".format(scikit_transform))\n",
    "print(\"my pca transform with scikit eigen vectors: \\n{}\\n\".format(test_transform))\n",
    "print(\"new difference between transforms: \\n{}\\n\".format(scikit_transform - test_transform))"
   ]
  },
  {
   "cell_type": "markdown",
   "metadata": {},
   "source": []
  }
 ],
 "metadata": {
  "kernelspec": {
   "display_name": "Python 2",
   "language": "python",
   "name": "python2"
  },
  "language_info": {
   "codemirror_mode": {
    "name": "ipython",
    "version": 3
   },
   "file_extension": ".py",
   "mimetype": "text/x-python",
   "name": "python",
   "nbconvert_exporter": "python",
   "pygments_lexer": "ipython3",
   "version": "3.5.4"
  }
 },
 "nbformat": 4,
 "nbformat_minor": 1
}
