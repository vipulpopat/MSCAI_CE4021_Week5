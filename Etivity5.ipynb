{
 "cells": [
  {
   "cell_type": "markdown",
   "metadata": {},
   "source": [
    "Student Name:Ganapathy\n",
    "Student ID:18202799"
   ]
  },
  {
   "cell_type": "markdown",
   "metadata": {},
   "source": [
    "- The 'as' keyword allows you to invoke functionality from the module using an alias for the module name. For example: np.mean() instead of numpy.mean()\n",
    "- The from keyword allows you to only import the functionality of interest, for example above we import only the PCA class from the sklearn.decomposition module"
   ]
  },
  {
   "cell_type": "code",
   "execution_count": 1,
   "metadata": {},
   "outputs": [],
   "source": [
    "import numpy as np\n",
    "import random as rand\n",
    "import matplotlib.pyplot as plt\n",
    "from numpy.linalg import eig\n",
    "from sklearn.decomposition import PCA"
   ]
  },
  {
   "cell_type": "markdown",
   "metadata": {},
   "source": [
    "As per E-tivity instructions: Use of the matrix class is discouraged, but to allow us to simplify the code slightly, we will use it this week. Its first use will be to store the data that you will perform the PCA transform on. Note that you will likely obtain a higher score if your final version does not use the matrix class."
   ]
  },
  {
   "cell_type": "code",
   "execution_count": 20,
   "metadata": {},
   "outputs": [
    {
     "name": "stdout",
     "output_type": "stream",
     "text": [
      "0.7144373885858634\n",
      "\n",
      "Data\n",
      "[[ 0.         -0.65203582]\n",
      " [ 0.99546762  6.8832842 ]\n",
      " [ 2.01905024  3.28516737]\n",
      " [ 3.0537611   9.70817523]\n",
      " [ 4.01778972 15.01587043]\n",
      " [ 5.07839867 17.06372227]\n",
      " [ 6.02724541 23.35311709]\n",
      " [ 7.05513662 30.8171124 ]\n",
      " [ 7.93282854 36.67475001]\n",
      " [ 8.88275598 37.72713493]\n",
      " [10.21330173 35.35028062]\n",
      " [10.74083162 39.38237384]\n",
      " [12.09515077 48.88964487]\n",
      " [12.69949211 50.82933602]\n",
      " [14.0857108  52.55418294]\n",
      " [15.13613574 56.08992201]\n",
      " [15.64185504 65.3173809 ]\n",
      " [17.25770521 69.63722509]\n",
      " [17.57936258 73.73658717]\n",
      " [19.29015001 76.47830256]]\n",
      "\n",
      "Data Shape\n",
      "(20, 2)\n"
     ]
    }
   ],
   "source": [
    "import numpy as np\n",
    "import random as rand\n",
    "import matplotlib.pyplot as plt\n",
    "from numpy.linalg import eig\n",
    "from sklearn.decomposition import PCA\n",
    "\n",
    "class pca:\n",
    "    def __init__(self, a_x, a_y):\n",
    "        self.a_x = a_x\n",
    "        self.a_y = a_y\n",
    "\n",
    "    def shape(self):\n",
    "        print(rand.random())\n",
    "        data =  np.array([[n*(1+self.a_x*(rand.random()-0.5)),4*n+ self.a_y*(rand.random()-0.5)] for n in range(20)])\n",
    "        print (\"\\nData\")\n",
    "        print (data)\n",
    "        print (\"\\nData Shape\")\n",
    "        #print (data.shape)\n",
    "        return data.shape\n",
    "# class PrincipalComponentAnalysis():\n",
    "\n",
    "#     a_x = 0.05\n",
    "#     a_y= 10\n",
    "a_x = 0.05\n",
    "a_y= 10\n",
    "PrincipalComponentAnalysis = pca(a_x, a_y)\n",
    "print(PrincipalComponentAnalysis.shape())"
   ]
  },
  {
   "cell_type": "code",
   "execution_count": 3,
   "metadata": {},
   "outputs": [],
   "source": []
  },
  {
   "cell_type": "markdown",
   "metadata": {},
   "source": [
    "The numpy shape property is very useful to get an insight in the dimensions of your data, for example to check whether the features (in this case 2) or the samples (in this case 20) are in the rows or the columns. The notation used here (with columns containing the features and rows containing separate examples) is the standard for Scikitlearn and many other machine learning algorithms.\n"
   ]
  },
  {
   "cell_type": "code",
   "execution_count": 4,
   "metadata": {},
   "outputs": [
    {
     "data": {
      "text/plain": [
       "(20, 2)"
      ]
     },
     "execution_count": 4,
     "metadata": {},
     "output_type": "execute_result"
    }
   ],
   "source": []
  },
  {
   "cell_type": "code",
   "execution_count": null,
   "metadata": {},
   "outputs": [],
   "source": []
  }
 ],
 "metadata": {
  "kernelspec": {
   "display_name": "Python 3",
   "language": "python",
   "name": "python3"
  },
  "language_info": {
   "codemirror_mode": {
    "name": "ipython",
    "version": 3
   },
   "file_extension": ".py",
   "mimetype": "text/x-python",
   "name": "python",
   "nbconvert_exporter": "python",
   "pygments_lexer": "ipython3",
   "version": "3.5.2"
  }
 },
 "nbformat": 4,
 "nbformat_minor": 1
}
