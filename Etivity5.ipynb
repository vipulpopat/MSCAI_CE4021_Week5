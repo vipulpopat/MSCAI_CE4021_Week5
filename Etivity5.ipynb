{
 "cells": [
  {
   "cell_type": "markdown",
   "metadata": {},
   "source": [
    "Student Name: Fergus Mc Hale\n",
    "Student ID: 18203485"
   ]
  },
  {
   "cell_type": "markdown",
   "metadata": {},
   "source": [
    "- TODO\n",
    "- Comments\n",
    "- Refactoring\n",
    "- Graphs"
   ]
  },
  {
   "cell_type": "markdown",
   "metadata": {},
   "source": [
    "- References\n",
    "- https://stackoverflow.com/questions/36771525/python-pca-projection-into-lower-dimensional-space\n",
    "- http://nasseralkmim.github.io/notes/2017/03/20/linear-algebra-change-of-basis-explained-using-python/\n",
    "- http://people.cs.pitt.edu/~iyad/PCA.pdf\n",
    "- http://people.duke.edu/~ccc14/sta-663-2016/09_PCA.html#Change-of-basis-via-PCA\n",
    "- https://github.com/minsuk-heo/python_tutorial/blob/master/data_science/pca/PCA.ipynb\n",
    "- https://plot.ly/ipython-notebooks/principal-component-analysis/\n",
    "- https://stackoverflow.com/questions/13224362/principal-component-analysis-pca-in-python\n",
    "- https://github.com/echen/principal-components-analysis/blob/master/pca.py\n",
    "- https://medium.com/district-data-labs/principal-component-analysis-with-python-4962cd026465\n",
    "- https://alyssaq.github.io/2015/understanding-eigenvectors-and-eigenvalues-visually/\n",
    "- https://community.esri.com/blogs/dan_patterson/2014/11/29/using-numpy-linalg-to-replicate-matrix-operations-reinventing-the-wheel\n",
    "- https://stackoverflow.com/questions/23838056/what-is-the-difference-between-transform-and-fit-transform-in-sklearn\n",
    "- https://www.kaggle.com/nirajvermafcb/principal-component-analysis-explained"
   ]
  },
  {
   "cell_type": "markdown",
   "metadata": {},
   "source": [
    "- Making use of Numpy, write a Python class to apply the PCA transform to the provided (see Notebook) data set. Compare the output of your implementation to the PCA functionality provided by the Scikitlearn module.\n",
    "\n",
    "- Create a 'fit' method that calculates the eigen vectors and eigen values of your dataset. Compare your results to the output of Scikitlearn's fit method and document your findings as a comment (use markdown) directly under the cell with your PCA class.\n",
    "- Use the Scikitlean's PCA class with n_components=2 and n_components=1 and observe the differences. In the cell directly below, comment on what you have observed.\n",
    "- Add a property to your class and initialise this property in a suitable fashion to allow you to choose the number of principal components similar to the Scikitlearn PCA class.\n",
    "- Store those results from your fit method that are required to transform the data set, in suitable class properties.\n",
    "- Create a 'transform' method to perform the PCA data transformation on your data set using the parameters obtained using your 'fit' method.\n",
    " \n",
    "\n",
    "- N.B.:\n",
    "\n",
    "- Limit your code to the aspects explicitly listed. \n",
    "- Use the Jupyter Notebook provided in the repository for week 5. This notebook contains the data that needs to be transformed.\n",
    "- The required modules have already been imported for you. You should not import any other modules.\n",
    "- If you find creating a class with this functionality daunting, please start by creating normal functions in your notebook. If time permits, you can then change to use of a class later. \n",
    " \n",
    "\n",
    "- HINTS:\n",
    "\n",
    "- Numpy.mean() will 'flatten' your tensor by default. To obtain the mean along a given axis, you may use the axis parameter.\n",
    "\n",
    "- Numpy.cov() assumes by default that data is presented with one observation per column. This can be changed using the rowvar parameter. \n",
    "\n",
    "- A Numpy.matrix is a convenient way of performing the matrix operations required for PCA whilst retaining a matrix/vector like structure. Use of this class is discouraged, but would form a good starting point for tackling this week's challenge. Once you have the code working with the matrix class, changing to arrays is relatively straight forward.\n",
    "\n",
    "- You can use Scikitlearn as follows to check the Eigen vectors that you have found with your 'fit' mehod:\n",
    "\n",
    "- pca = PCA(n_components=2)\n",
    "- pca.fit(data)\n",
    "- print(pca.components_)\n",
    "\n",
    "- You can use Scikitlearn to obtain \n",
    "- GIT push your implementation and post your manual calculations to E-tivity 5: Linear Algebra in Numpy and Beyond and provide the name of your branch.\n",
    "\n",
    "- Respond (Complete by Wednesday Week 6)\n",
    "\n",
    "- Respond to a post of one of your peers with a respectful and in-depth assessment of the implementation with a view to pointing out potential improvements or sound alternative solutions.\n",
    "\n",
    "- Reflect (Complete by Saturday Week 6)\n",
    "\n",
    "- With your code (containing any corrections you have made based on your peers’ feedback), do the following:\n",
    "\n",
    "- For the case where n_components = 1, compare the resulting dataset of your transform method with the resulting dataset from Scikitlearn’s transform method by plotting the points on an XY plot. If there are any differences, explain these in a comment directly under the cell with your plot.\n",
    " - For the case where n_components = 1, compare the dataset resulting from your transform method with the original dataset by plotting the points on an XY plot. Comment on the differences between original and transformed data in the cell directly below your plot. In your comment, explain why and how PCA can be used for dimensionality reduction\n",
    " \n",
    "- HINTS:\n",
    "\n",
    "- You can use Scitkitlean as follows to calculate the new values of the data points in the original dataset when you reduce the dimensions of the data (from 2) to 1: \n",
    "- pca = PCA(n_components=1)\n",
    "- pca.fit(data)\n",
    "- data_pca = pca.transform(data)\n",
    "- data_reduced = pca.inverse_transform(data_pca)\n",
    "\n",
    "- You can use plots to compare the values in your original dataset with the dataset with reduced dimensionality:\n",
    "- plt.plot(data[:,0], data[:,1], 'or')\n",
    "- plt.plot(data_reduced[:,0], data_reduced[:,1],'xb')\n",
    " - plt.show()\n",
    "\n",
    "- You can use your own PCA results to calculate the new values of the data points int the original dataset when you reduce the dimensions of the data (from 2) to 1:\n",
    "- reduced = np.dot(features[:,0],red_highvar.T)+mean.T\n",
    "\n",
    "- with:\n",
    "\n",
    "- reduced: a 2x20 matrix of the new values of the dataset with dimensionality reduction applied\n",
    "- features[:,0]: the 2x1 matrix (or column vector) which contains the Eigen vector associated with the highest variance\n",
    "- red_highvar: a 20x1 matrix containing the reduced dataset which is the output of your transform method with n_components set to 1. \n",
    "- mean: a 1x2 matrix of the per-column mean values of your original data\n",
    "- T: the transform operator as provided by Numpy"
   ]
  },
  {
   "cell_type": "markdown",
   "metadata": {},
   "source": [
    "- The 'as' keyword allows you to invoke functionality from the module using an alias for the module name. For example: np.mean() instead of numpy.mean()\n",
    "- The from keyword allows you to only import the functionality of interest, for example above we import only the PCA class from the sklearn.decomposition module\n",
    "- As per E-tivity instructions: Use of the matrix class is discouraged, but to allow us to simplify the code slightly, we will use it this week. \n",
    "- Its first use will be to store the data that you will perform the PCA transform on. Note that you will likely obtain a higher score if your final version does not use the matrix class.\n",
    "- The numpy shape property is very useful to get an insight in the dimensions of your data, for example to check whether the features (in this case 2) or the samples (in this case 20) are in the rows or the columns. The notation used here (with columns containing the features and rows containing separate examples) is the standard for Scikitlearn and many other machine learning algorithms.\n",
    "- data.shape"
   ]
  },
  {
   "cell_type": "markdown",
   "metadata": {},
   "source": [
    "2. Use the Scikitlean's PCA class with n_components=2 and n_components=1 and observe the differences. In the cell directly below, comment on what you have observed"
   ]
  },
  {
   "cell_type": "markdown",
   "metadata": {},
   "source": [
    "- Original Data Graphed"
   ]
  },
  {
   "cell_type": "code",
   "execution_count": 18,
   "metadata": {},
   "outputs": [
    {
     "data": {
      "text/plain": [
       "[<matplotlib.lines.Line2D at 0x20ef6245f60>]"
      ]
     },
     "execution_count": 18,
     "metadata": {},
     "output_type": "execute_result"
    },
    {
     "data": {
      "image/png": "[encoded data removed]",
      "text/plain": [
       "<Figure size 432x288 with 1 Axes>"
      ]
     },
     "metadata": {},
     "output_type": "display_data"
    }
   ],
   "source": [
    "import matplotlib.pyplot as plt\n",
    "data =  np.matrix([[n*(1+a_x*(rand.random()-0.5)),4*n+ a_y*(rand.random()-0.5)] for n in range(20)])\n",
    "plt.plot(data[:, 0], data[:, 1], 'go')"
   ]
  },
  {
   "cell_type": "markdown",
   "metadata": {},
   "source": [
    "- Scikit Learn n_components = 1"
   ]
  },
  {
   "cell_type": "code",
   "execution_count": 19,
   "metadata": {},
   "outputs": [
    {
     "name": "stdout",
     "output_type": "stream",
     "text": [
      "PCA(copy=True, iterated_power='auto', n_components=1, random_state=None,\n",
      "  svd_solver='auto', tol=0.0, whiten=False)\n",
      "[[ 37.51425633]\n",
      " [ 35.38726329]\n",
      " [ 29.23839614]\n",
      " [ 26.25524185]\n",
      " [ 23.76015335]\n",
      " [ 22.25741831]\n",
      " [ 11.67605431]\n",
      " [  9.81698203]\n",
      " [  6.11696   ]\n",
      " [  1.99373663]\n",
      " [ -0.12958987]\n",
      " [ -5.12759828]\n",
      " [ -8.5410978 ]\n",
      " [-14.47144991]\n",
      " [-19.6456613 ]\n",
      " [-18.4394203 ]\n",
      " [-30.51045168]\n",
      " [-35.2034236 ]\n",
      " [-34.62597183]\n",
      " [-37.32179767]]\n",
      "[[ 0.42839295  1.66207564]\n",
      " [ 0.9431035   3.7258519 ]\n",
      " [ 2.43106641  9.69196734]\n",
      " [ 3.15295922 12.58645872]\n",
      " [ 3.7567451  15.0073902 ]\n",
      " [ 4.1203916  16.46546216]\n",
      " [ 6.6809734  26.73233534]\n",
      " [ 7.13084986 28.53615376]\n",
      " [ 8.02621732 32.1262067 ]\n",
      " [ 9.02399518 36.12688294]\n",
      " [ 9.53781846 38.18710163]\n",
      " [10.74728534 43.03656324]\n",
      " [11.57331729 46.34860946]\n",
      " [13.00840181 52.10270441]\n",
      " [14.26050801 57.12313203]\n",
      " [13.96861003 55.95274196]\n",
      " [16.88967609 67.66500782]\n",
      " [18.02532726 72.21849899]\n",
      " [17.88558984 71.65820979]\n",
      " [18.5379521  74.27391245]]\n"
     ]
    },
    {
     "data": {
      "image/png": "[encoded data removed]",
      "text/plain": [
       "<Figure size 432x288 with 1 Axes>"
      ]
     },
     "metadata": {},
     "output_type": "display_data"
    }
   ],
   "source": [
    "from sklearn.decomposition import PCA\n",
    "import numpy as np\n",
    "import random as rand\n",
    "import matplotlib.pyplot as plt\n",
    "\n",
    "a_x = 0.05\n",
    "a_y= 10\n",
    "data =  np.matrix([[n*(1+a_x*(rand.random()-0.5)),4*n+ a_y*(rand.random()-0.5)] for n in range(20)])\n",
    "\n",
    "pca = PCA(n_components=1)\n",
    "pca_fit = pca.fit(data)\n",
    "print(pca_fit)\n",
    "data_pca = pca.transform(data)\n",
    "print(data_pca)\n",
    "data_reduced = pca.inverse_transform(data_pca)\n",
    "print(data_reduced)\n",
    "\n",
    "plt.plot(data[:,0], data[:,1], 'or')\n",
    "plt.plot(data_reduced[:,0], data_reduced[:,1],'xb')\n",
    "plt.show()"
   ]
  },
  {
   "cell_type": "code",
   "execution_count": null,
   "metadata": {},
   "outputs": [],
   "source": [
    "- Scikit learn N_Components = 2"
   ]
  },
  {
   "cell_type": "code",
   "execution_count": 20,
   "metadata": {},
   "outputs": [
    {
     "name": "stdout",
     "output_type": "stream",
     "text": [
      "[[ 3.75142563e+01 -4.41515314e-01]\n",
      " [ 3.53872633e+01  6.83659888e-02]\n",
      " [ 2.92383961e+01 -4.33446906e-01]\n",
      " [ 2.62552418e+01 -2.18354205e-01]\n",
      " [ 2.37601534e+01  1.86302453e-01]\n",
      " [ 2.22574183e+01  9.79971049e-01]\n",
      " [ 1.16760543e+01 -8.55275476e-01]\n",
      " [ 9.81698203e+00 -1.42643418e-01]\n",
      " [ 6.11696000e+00 -1.94409227e-01]\n",
      " [ 1.99373663e+00  1.29328801e-01]\n",
      " [-1.29589871e-01  6.14884575e-01]\n",
      " [-5.12759828e+00  4.25064798e-01]\n",
      " [-8.54109780e+00  4.77878820e-01]\n",
      " [-1.44714499e+01 -2.49330872e-01]\n",
      " [-1.96456613e+01 -9.79886809e-02]\n",
      " [-1.84394203e+01  8.51833206e-01]\n",
      " [-3.05104517e+01 -8.13855179e-01]\n",
      " [-3.52034236e+01 -7.08556709e-01]\n",
      " [-3.46259718e+01  4.11872405e-01]\n",
      " [-3.73217977e+01  9.87389157e-03]]\n",
      "[[ 0.          1.76891783]\n",
      " [ 1.00943757  3.70930803]\n",
      " [ 2.01050207  9.79685706]\n",
      " [ 2.94109477 12.6392982 ]\n",
      " [ 3.93751042 14.96230691]\n",
      " [ 5.07123674 16.22831919]\n",
      " [ 5.85111773 26.93930325]\n",
      " [ 6.99244597 28.570672  ]\n",
      " [ 7.83758617 32.17325175]\n",
      " [ 9.14948017 36.09558669]\n",
      " [10.13442793 38.03830585]\n",
      " [11.15971671 42.9337019 ]\n",
      " [12.03699298 46.23296768]\n",
      " [12.76648135 52.16303993]\n",
      " [14.16543167 57.14684429]\n",
      " [14.79512573 55.74660704]\n",
      " [16.10000966 67.86195245]\n",
      " [17.3378297  72.38996247]\n",
      " [18.28522091 71.55854088]\n",
      " [18.54753253 74.27152307]]\n"
     ]
    },
    {
     "data": {
      "image/png": "[encoded data removed]",
      "text/plain": [
       "<Figure size 432x288 with 1 Axes>"
      ]
     },
     "metadata": {},
     "output_type": "display_data"
    }
   ],
   "source": [
    "from sklearn.decomposition import PCA\n",
    "import numpy as np\n",
    "import random as rand\n",
    "\n",
    "a_x = 0.05\n",
    "a_y= 10\n",
    "\n",
    "pca = PCA(n_components=2)\n",
    "pca.fit(data)\n",
    "data_pca = pca.transform(data)\n",
    "print(data_pca)\n",
    "data_reduced = pca.inverse_transform(data_pca)\n",
    "print(data_reduced)\n",
    "\n",
    "plt.plot(data[:,0], data[:,1], 'or')\n",
    "plt.plot(data_reduced[:,0], data_reduced[:,1],'xb')\n",
    "plt.show()"
   ]
  },
  {
   "cell_type": "markdown",
   "metadata": {},
   "source": [
    " - PCA Implementation"
   ]
  },
  {
   "cell_type": "code",
   "execution_count": 21,
   "metadata": {},
   "outputs": [
    {
     "name": "stdout",
     "output_type": "stream",
     "text": [
      "PCA Implementation One\n",
      "Fit\n",
      "[[0.24007214]\n",
      " [0.97075505]]\n",
      "Transform\n",
      "[[-36.33434569]\n",
      " [-34.78652414]\n",
      " [-28.76439779]\n",
      " [-27.61245989]\n",
      " [-22.22832697]\n",
      " [-21.4430398 ]\n",
      " [-10.77238302]\n",
      " [-11.87403741]\n",
      " [-10.61419314]\n",
      " [ -6.2880774 ]\n",
      " [  1.639535  ]\n",
      " [  4.28106617]\n",
      " [ 13.72215292]\n",
      " [ 12.1480641 ]\n",
      " [ 20.95610522]\n",
      " [ 25.05543752]\n",
      " [ 27.53528441]\n",
      " [ 32.15771365]\n",
      " [ 30.92793048]\n",
      " [ 42.29449577]]\n"
     ]
    },
    {
     "data": {
      "image/png": "[encoded data removed]",
      "text/plain": [
       "<Figure size 432x288 with 1 Axes>"
      ]
     },
     "metadata": {},
     "output_type": "display_data"
    },
    {
     "name": "stdout",
     "output_type": "stream",
     "text": [
      "Scikitlean One\n",
      "Fit\n",
      "[[0.24007214 0.97075505]]\n",
      "Transform\n",
      "[[-36.33434569]\n",
      " [-34.78652414]\n",
      " [-28.76439779]\n",
      " [-27.61245989]\n",
      " [-22.22832697]\n",
      " [-21.4430398 ]\n",
      " [-10.77238302]\n",
      " [-11.87403741]\n",
      " [-10.61419314]\n",
      " [ -6.2880774 ]\n",
      " [  1.639535  ]\n",
      " [  4.28106617]\n",
      " [ 13.72215292]\n",
      " [ 12.1480641 ]\n",
      " [ 20.95610522]\n",
      " [ 25.05543752]\n",
      " [ 27.53528441]\n",
      " [ 32.15771365]\n",
      " [ 30.92793048]\n",
      " [ 42.29449577]]\n"
     ]
    },
    {
     "data": {
      "image/png": "[encoded data removed]",
      "text/plain": [
       "<Figure size 432x288 with 1 Axes>"
      ]
     },
     "metadata": {},
     "output_type": "display_data"
    },
    {
     "name": "stdout",
     "output_type": "stream",
     "text": [
      "PCA Implementation Two\n",
      "Fit\n",
      "[[ 0.24007214 -0.97075505]\n",
      " [ 0.97075505  0.24007214]]\n",
      "Transform\n",
      "[[ 8.14122972e-01 -3.63343457e+01]\n",
      " [ 1.41562249e-01 -3.47865241e+01]\n",
      " [ 6.01230228e-01 -2.87643978e+01]\n",
      " [-1.74687465e-01 -2.76124599e+01]\n",
      " [ 2.60473907e-01 -2.22283270e+01]\n",
      " [-6.72819936e-01 -2.14430398e+01]\n",
      " [ 8.84738765e-01 -1.07723830e+01]\n",
      " [-4.43212541e-01 -1.18740374e+01]\n",
      " [-1.07639465e+00 -1.06141931e+01]\n",
      " [-8.03532940e-01 -6.28807740e+00]\n",
      " [ 1.98880692e-02  1.63953500e+00]\n",
      " [-3.78441547e-01  4.28106617e+00]\n",
      " [ 9.48930610e-01  1.37221529e+01]\n",
      " [-7.23455082e-01  1.21480641e+01]\n",
      " [ 2.61164379e-01  2.09561052e+01]\n",
      " [ 3.88820016e-01  2.50554375e+01]\n",
      " [ 3.06880427e-01  2.75352844e+01]\n",
      " [-4.81596133e-02  3.21577137e+01]\n",
      " [-1.26298158e+00  3.09279305e+01]\n",
      " [ 9.55873738e-01  4.22944958e+01]]\n"
     ]
    },
    {
     "data": {
      "image/png": "[encoded data removed]",
      "text/plain": [
       "<Figure size 432x288 with 1 Axes>"
      ]
     },
     "metadata": {},
     "output_type": "display_data"
    },
    {
     "name": "stdout",
     "output_type": "stream",
     "text": [
      "Scikitlean One\n",
      "Fit\n",
      "[[0.24007214 0.97075505]]\n",
      "Transform\n",
      "[[-3.63343457e+01 -8.14122972e-01]\n",
      " [-3.47865241e+01 -1.41562249e-01]\n",
      " [-2.87643978e+01 -6.01230228e-01]\n",
      " [-2.76124599e+01  1.74687465e-01]\n",
      " [-2.22283270e+01 -2.60473907e-01]\n",
      " [-2.14430398e+01  6.72819936e-01]\n",
      " [-1.07723830e+01 -8.84738765e-01]\n",
      " [-1.18740374e+01  4.43212541e-01]\n",
      " [-1.06141931e+01  1.07639465e+00]\n",
      " [-6.28807740e+00  8.03532940e-01]\n",
      " [ 1.63953500e+00 -1.98880692e-02]\n",
      " [ 4.28106617e+00  3.78441547e-01]\n",
      " [ 1.37221529e+01 -9.48930610e-01]\n",
      " [ 1.21480641e+01  7.23455082e-01]\n",
      " [ 2.09561052e+01 -2.61164379e-01]\n",
      " [ 2.50554375e+01 -3.88820016e-01]\n",
      " [ 2.75352844e+01 -3.06880427e-01]\n",
      " [ 3.21577137e+01  4.81596133e-02]\n",
      " [ 3.09279305e+01  1.26298158e+00]\n",
      " [ 4.22944958e+01 -9.55873738e-01]]\n"
     ]
    },
    {
     "data": {
      "image/png": "[encoded data removed]",
      "text/plain": [
       "<Figure size 432x288 with 1 Axes>"
      ]
     },
     "metadata": {},
     "output_type": "display_data"
    }
   ],
   "source": [
    "from sklearn.decomposition import PCA\n",
    "import numpy as np\n",
    "from numpy.linalg import linalg as nla\n",
    "import random as rand\n",
    "import matplotlib.pyplot as plt\n",
    "\n",
    "a_x = 0.05\n",
    "a_y= 10\n",
    "data =  np.array([[n*(1+a_x*(rand.random()-0.5)),4*n+ a_y*(rand.random()-0.5)] for n in range(20)])\n",
    "\n",
    "\n",
    "class pca:\n",
    "    \n",
    "    def __init__(self,n_components=None):\n",
    "        self.n_components = n_components\n",
    "        self.components_ = []\n",
    "        \n",
    "    def fit(self, data):\n",
    "        \"\"\"Given an array finds the eigenvalues and eigenvectors\n",
    "            Args:\n",
    "            data (array) The dataset that has been supplied\n",
    "            Returns: eigenvectors, eigenvalues (tuple) The result of the operation performed on the dataset\n",
    "            \"\"\"\n",
    "        self.data = data\n",
    "        self.mean_matrix_zero = data.mean(0)\n",
    "        self.covariance_matrix_zero = np.cov(data - self.mean_matrix_zero, rowvar=False)\n",
    "        self.eigenvalues, self.eigenvectors = np.linalg.eigh(self.covariance_matrix_zero)\n",
    "        # sort eigenvectors and value\n",
    "        index = self.eigenvalues.argsort()[::-1]   \n",
    "        eigenValues = self.eigenvalues[index]\n",
    "        eigenVectors = self.eigenvectors[:,index]\n",
    "        # set components based on eigenvectors\n",
    "        self.components_ = eigenVectors[:, :self.n_components]\n",
    "        # return tuple of eigenvalues and eigenvectors\n",
    "        return (eigenValues, eigenVectors)\n",
    "    \n",
    "    def transform(self, data):\n",
    "        \"\"\"Given data selects an eigenvector returns the transform \n",
    "            Args:\n",
    "            data (array) The dataset that has been supplied\n",
    "            Returns: transformed result ()\n",
    "            \"\"\"\n",
    "        selected_eigen_vectors = self.components_.T[::-1]\n",
    "        transform_result = np.dot(data - self.mean_matrix_zero, selected_eigen_vectors.T)\n",
    "        print(transform_result)\n",
    "        return transform_result\n",
    "        \n",
    "    def graph(self, data, transformed_data):\n",
    "        \"\"\"Projects a visulzation of data and transformed data \n",
    "            Args:\n",
    "            data (array) Dataset\n",
    "            transformed_data (array) Dataset\n",
    "            Returns: None\n",
    "            \"\"\"\n",
    "        plt.plot(data[:,0], data[:,1], 'or')\n",
    "        plt.plot(transformed_data,'xb')\n",
    "        plt.show()\n",
    "                 \n",
    "print(\"PCA Implementation One\")     \n",
    "implementated_pca_one = pca(1)\n",
    "print(\"Fit\")\n",
    "implementated_pca_one.fit(data)\n",
    "print(implementated_pca_one.components_)\n",
    "print(\"Transform\")\n",
    "transformed_data = implementated_pca_one.transform(data)\n",
    "implementated_pca_one.graph(data, transformed_data)\n",
    "\n",
    "print(\"Scikitlean One\")\n",
    "pca_one = PCA(1)\n",
    "print(\"Fit\")\n",
    "pca_one.fit(data)\n",
    "print(pca_one.components_)\n",
    "print(\"Transform\")\n",
    "scikit_learn_transform = pca_one.transform(data)\n",
    "print(scikit_learn_transform)\n",
    "implementated_pca_one.graph(data, scikit_learn_transform)\n",
    "\n",
    "\n",
    "print(\"PCA Implementation Two\")     \n",
    "implementated_pca_two = pca(2)\n",
    "print(\"Fit\")\n",
    "implementated_pca_two.fit(data)\n",
    "print(implementated_pca_two.components_)\n",
    "print(\"Transform\")\n",
    "transformed_data = implementated_pca_two.transform(data)\n",
    "implementated_pca_two.graph(data, transformed_data)\n",
    "\n",
    "print(\"Scikitlean One\")\n",
    "pca_two = PCA(2)\n",
    "print(\"Fit\")\n",
    "pca_two.fit(data)\n",
    "print(pca_one.components_)\n",
    "print(\"Transform\")\n",
    "scikit_learn_transform = pca_two.transform(data)\n",
    "print(scikit_learn_transform)\n",
    "implementated_pca_two.graph(data, scikit_learn_transform)\n",
    "\n"
   ]
  }
 ],
 "metadata": {
  "kernelspec": {
   "display_name": "Python 3",
   "language": "python",
   "name": "python3"
  },
  "language_info": {
   "codemirror_mode": {
    "name": "ipython",
    "version": 3
   },
   "file_extension": ".py",
   "mimetype": "text/x-python",
   "name": "python",
   "nbconvert_exporter": "python",
   "pygments_lexer": "ipython3",
   "version": "3.6.5"
  }
 },
 "nbformat": 4,
 "nbformat_minor": 1
}
