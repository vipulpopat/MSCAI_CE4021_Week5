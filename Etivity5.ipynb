{
 "cells": [
  {
   "cell_type": "markdown",
   "metadata": {},
   "source": [
    "Student Name: Michel Danjou\n",
    "\n",
    "Student ID: 18263461"
   ]
  },
  {
   "cell_type": "markdown",
   "metadata": {},
   "source": [
    "- The 'as' keyword allows you to invoke functionality from the module using an alias for the module name. For example: np.mean() instead of numpy.mean()\n",
    "- The from keyword allows you to only import the functionality of interest, for example above we import only the PCA class from the sklearn.decomposition module"
   ]
  },
  {
   "cell_type": "code",
   "execution_count": 1,
   "metadata": {},
   "outputs": [],
   "source": [
    "import numpy as np\n",
    "import random as rand\n",
    "import matplotlib.pyplot as plt\n",
    "from numpy.linalg import eig\n",
    "from sklearn.decomposition import PCA\n"
   ]
  },
  {
   "cell_type": "markdown",
   "metadata": {},
   "source": [
    "As per E-tivity instructions: Use of the matrix class is discouraged, but to allow us to simplify the code slightly, we will use it this week. Its first use will be to store the data that you will perform the PCA transform on. Note that you will likely obtain a higher score if your final version does not use the matrix class."
   ]
  },
  {
   "cell_type": "code",
   "execution_count": 2,
   "metadata": {},
   "outputs": [],
   "source": [
    "a_x = 0.05\n",
    "a_y= 10\n"
   ]
  },
  {
   "cell_type": "code",
   "execution_count": 3,
   "metadata": {},
   "outputs": [],
   "source": [
    "#data =  np.matrix([[n*(1+a_x*(rand.random()-0.5)),4*n+ a_y*(rand.random()-0.5)] for n in range(20)])\n",
    "data =  np.matrix([[n*(1+a_x*(rand.random()-0.5)),4*n+ a_y*(rand.random()-0.5)] for n in range(20)])\n"
   ]
  },
  {
   "cell_type": "markdown",
   "metadata": {},
   "source": [
    "The numpy shape property is very useful to get an insight in the dimensions of your data, for example to check whether the features (in this case 2) or the samples (in this case 20) are in the rows or the columns. The notation used here (with columns containing the features and rows containing separate examples) is the standard for Scikitlearn and many other machine learning algorithms.\n"
   ]
  },
  {
   "cell_type": "code",
   "execution_count": 4,
   "metadata": {},
   "outputs": [
    {
     "data": {
      "text/plain": [
       "(20, 2)"
      ]
     },
     "execution_count": 4,
     "metadata": {},
     "output_type": "execute_result"
    }
   ],
   "source": [
    "data.shape\n"
   ]
  },
  {
   "cell_type": "code",
   "execution_count": 5,
   "metadata": {},
   "outputs": [
    {
     "name": "stdout",
     "output_type": "stream",
     "text": [
      "Once deleted, variables cannot be recovered. Proceed (y/[n])? y\n",
      "Data:\n",
      " [[ 0.         -3.43069142]\n",
      " [ 1.01778022  8.72497686]\n",
      " [ 2.02288478 12.24960937]\n",
      " [ 3.02398766 14.84420615]\n",
      " [ 4.07273049 18.64078019]\n",
      " [ 5.00520959 16.44697904]\n",
      " [ 5.87738793 26.2489461 ]\n",
      " [ 6.96823071 26.32499256]\n",
      " [ 8.12086461 27.55780782]\n",
      " [ 9.11621968 33.96163681]\n",
      " [10.01494618 35.74658759]\n",
      " [10.93521058 47.88493435]\n",
      " [11.99348307 48.54188145]\n",
      " [13.09433764 55.56427381]\n",
      " [13.67736404 54.19556063]\n",
      " [15.16526222 57.81628033]\n",
      " [15.72236426 63.92425669]\n",
      " [17.19452992 69.19966172]\n",
      " [17.94871209 71.1344965 ]\n",
      " [19.20316118 72.64111699]]\n",
      "(20, 2)\n",
      "================================================================================\n",
      "Scikit.pca with nb_components= 2\n",
      "Eigen_values: [567.74825629   0.58000036]\n",
      "Eigen_vectors: [[-0.24648878 -0.96914565]\n",
      " [ 0.96914565 -0.24648878]]\n",
      "Transformed_data: [[ 4.24098336e+01  9.74894414e-01]\n",
      " [ 3.03783492e+01 -1.03496413e+00]\n",
      " [ 2.67147200e+01 -9.29653774e-01]\n",
      " [ 2.39534172e+01 -5.98978268e-01]\n",
      " [ 2.00154806e+01 -5.18406614e-01]\n",
      " [ 2.19117478e+01  9.26048808e-01]\n",
      " [ 1.21972320e+01 -6.44758223e-01]\n",
      " [ 1.18546514e+01  3.93682710e-01]\n",
      " [ 1.03757625e+01  1.20687771e+00]\n",
      " [ 3.92417566e+00  5.93049770e-01]\n",
      " [ 1.97277239e+00  1.02407631e+00]\n",
      " [-1.00178884e+01 -1.07601971e+00]\n",
      " [-1.09154181e+01 -2.12329618e-01]\n",
      " [-1.79924874e+01 -8.76382113e-01]\n",
      " [-1.68097144e+01  2.60278231e-02]\n",
      " [-2.06854693e+01  5.75551093e-01]\n",
      " [-2.67423074e+01 -3.90083516e-01]\n",
      " [-3.22178156e+01 -2.63668708e-01]\n",
      " [-3.42788497e+01 -9.67139800e-03]\n",
      " [-3.60481920e+01  8.34707433e-01]]\n"
     ]
    },
    {
     "data": {
      "image/png": "[encoded data removed]",
      "text/plain": [
       "<Figure size 432x288 with 1 Axes>"
      ]
     },
     "metadata": {},
     "output_type": "display_data"
    },
    {
     "name": "stdout",
     "output_type": "stream",
     "text": [
      "================================================================================\n",
      "Scikit.pca with nb_components= 1\n",
      "Eigen_values: [567.74825629]\n",
      "Eigen_vectors: [[-0.24648878 -0.96914565]]\n",
      "Transformed_data: [[ 42.40983359]\n",
      " [ 30.37834921]\n",
      " [ 26.71471996]\n",
      " [ 23.95341716]\n",
      " [ 20.01548063]\n",
      " [ 21.91174783]\n",
      " [ 12.19723196]\n",
      " [ 11.85465136]\n",
      " [ 10.3757625 ]\n",
      " [  3.92417566]\n",
      " [  1.97277239]\n",
      " [-10.01788836]\n",
      " [-10.91541808]\n",
      " [-17.99248736]\n",
      " [-16.8097144 ]\n",
      " [-20.68546933]\n",
      " [-26.74230743]\n",
      " [-32.21781556]\n",
      " [-34.2788497 ]\n",
      " [-36.04819202]]\n"
     ]
    },
    {
     "data": {
      "image/png": "[encoded data removed]",
      "text/plain": [
       "<Figure size 432x288 with 1 Axes>"
      ]
     },
     "metadata": {},
     "output_type": "display_data"
    },
    {
     "name": "stdout",
     "output_type": "stream",
     "text": [
      "================================================================================\n",
      "PCA Homebrew nb_components=2\n",
      "\n",
      "eigen_values:\n",
      "[567.74825629   0.58000036]\n",
      "eigen_vectors:\n",
      "[[-0.24648878 -0.96914565]\n",
      " [-0.96914565  0.24648878]]\n",
      "projected  :\n",
      "[[ 4.24098336e+01 -9.74894414e-01]\n",
      " [ 3.03783492e+01  1.03496413e+00]\n",
      " [ 2.67147200e+01  9.29653774e-01]\n",
      " [ 2.39534172e+01  5.98978268e-01]\n",
      " [ 2.00154806e+01  5.18406614e-01]\n",
      " [ 2.19117478e+01 -9.26048808e-01]\n",
      " [ 1.21972320e+01  6.44758223e-01]\n",
      " [ 1.18546514e+01 -3.93682710e-01]\n",
      " [ 1.03757625e+01 -1.20687771e+00]\n",
      " [ 3.92417566e+00 -5.93049770e-01]\n",
      " [ 1.97277239e+00 -1.02407631e+00]\n",
      " [-1.00178884e+01  1.07601971e+00]\n",
      " [-1.09154181e+01  2.12329618e-01]\n",
      " [-1.79924874e+01  8.76382113e-01]\n",
      " [-1.68097144e+01 -2.60278231e-02]\n",
      " [-2.06854693e+01 -5.75551093e-01]\n",
      " [-2.67423074e+01  3.90083516e-01]\n",
      " [-3.22178156e+01  2.63668708e-01]\n",
      " [-3.42788497e+01  9.67139800e-03]\n",
      " [-3.60481920e+01 -8.34707433e-01]]\n"
     ]
    },
    {
     "data": {
      "image/png": "[encoded data removed]",
      "text/plain": [
       "<Figure size 432x288 with 1 Axes>"
      ]
     },
     "metadata": {},
     "output_type": "display_data"
    },
    {
     "name": "stdout",
     "output_type": "stream",
     "text": [
      "================================================================================\n",
      "PCA Homebrew nb_components=1\n",
      "\n",
      "eigen_values:\n",
      "[567.74825629]\n",
      "eigen_vectors:\n",
      "[[-0.24648878 -0.96914565]]\n",
      "projected  :\n",
      "[[ 42.40983359]\n",
      " [ 30.37834921]\n",
      " [ 26.71471996]\n",
      " [ 23.95341716]\n",
      " [ 20.01548063]\n",
      " [ 21.91174783]\n",
      " [ 12.19723196]\n",
      " [ 11.85465136]\n",
      " [ 10.3757625 ]\n",
      " [  3.92417566]\n",
      " [  1.97277239]\n",
      " [-10.01788836]\n",
      " [-10.91541808]\n",
      " [-17.99248736]\n",
      " [-16.8097144 ]\n",
      " [-20.68546933]\n",
      " [-26.74230743]\n",
      " [-32.21781556]\n",
      " [-34.2788497 ]\n",
      " [-36.04819202]]\n"
     ]
    },
    {
     "data": {
      "image/png": "[encoded data removed]",
      "text/plain": [
       "<Figure size 432x288 with 1 Axes>"
      ]
     },
     "metadata": {},
     "output_type": "display_data"
    }
   ],
   "source": [
    "%reset\n",
    "\n",
    "\n",
    "import numpy as np\n",
    "import random as rand\n",
    "import matplotlib.pyplot as plt\n",
    "from numpy.linalg import eig\n",
    "from sklearn.decomposition import PCA\n",
    "\n",
    "        \n",
    "class Log:\n",
    "    DEBUG = 1\n",
    "    INFO = 2\n",
    "\n",
    "\n",
    "class My_pca:\n",
    "    \"\"\"\n",
    "    Perform the PCA on a dataset\n",
    "            \n",
    "    \"\"\"\n",
    "\n",
    "    log_level = Log.INFO\n",
    "    nb_components = 2\n",
    "   \n",
    "\n",
    "    def __init__(self):\n",
    "        \"\"\" init \"\"\"\n",
    "\n",
    "\n",
    "    def __log__(self, message, level=Log.INFO):\n",
    "        \"\"\"\n",
    "        Log a message only if its log level is equal or superior to self.log_level\n",
    "        \"\"\"\n",
    "        if level >= self.log_level:\n",
    "            print(message)\n",
    "\n",
    "        \n",
    "    def fit(self, matrix):\n",
    "        \"\"\" \n",
    "        Fit the model with the matrix\n",
    "        \n",
    "        Steps:\n",
    "        ======\n",
    "        1) Find the mean of the dataset\n",
    "        2) Center the dataset around the mean\n",
    "        3) Calculate the covariance of the centered dataset\n",
    "        4) Find the eigen values and eigen vectors using the covariance\n",
    "        5) Order the eigen vectors based on their associated eigen values\n",
    "        6) Only keep as many eigen vectors as defined in nb_components\n",
    "\n",
    "        \"\"\"\n",
    "        self.matrix = matrix\n",
    "        \n",
    "        # Calculate mean values of each column from dataset\n",
    "        m0 = np.mean(self.matrix[:,0])\n",
    "        m1 = np.mean(self.matrix[:,1])\n",
    "        \n",
    "        # Center the columns by subtracting the corresponding mean\n",
    "        c0 = matrix[:,0] - m0\n",
    "        c1 = matrix[:,1] - m1\n",
    "        \n",
    "        # Create a centered matrix \n",
    "        self.c_matrix = []\n",
    "        self.c_matrix = np.append(c0, c1, axis=1)\n",
    "        \n",
    "        # Calculate covariance of centered matrix\n",
    "        my_cov = np.cov(self.c_matrix, rowvar=False)        \n",
    "    \n",
    "        # eigen values, eigen vectors\n",
    "        eigen_values, eigen_vectors = eig(my_cov)\n",
    "        \n",
    "        # order eigen values and eigen vectors       \n",
    "        sorted_eigen_values_indexes = eigen_values.argsort()[::-1]\n",
    "        sorted_eigen_values = eigen_values[sorted_eigen_values_indexes]\n",
    "        sorted_eigen_vectors = eigen_vectors.T[sorted_eigen_values_indexes]\n",
    "\n",
    "        # use nb_components to decide how many eigen vectors to keep\n",
    "        filtered_sorted_eigen_values = sorted_eigen_values[:self.nb_components]\n",
    "        filtered_sorted_eigen_vectors = sorted_eigen_vectors[:self.nb_components] \n",
    "        \n",
    "        # save results as class variables\n",
    "        self.eigen_values = filtered_sorted_eigen_values\n",
    "        self.eigen_vectors = filtered_sorted_eigen_vectors\n",
    "        \n",
    "        return(self.eigen_values, self.eigen_vectors)\n",
    "         \n",
    "    \n",
    "    def transform(self, data):\n",
    "        \"\"\"\n",
    "        Calculate projection of dataset onto the eigen vector basis\n",
    "        \"\"\"\n",
    "        self.fit(data)\n",
    "        self.__log__(\"=\"*80)\n",
    "        self.__log__(\"PCA Homebrew nb_components={}\\n\".format(self.nb_components))\n",
    "        \n",
    "        self.__log__(\"eigen_values shape:{}\".format(self.eigen_values.shape), Log.DEBUG)\n",
    "        self.__log__(\"eigen_values:\\n{}\".format(self.eigen_values), Log.INFO)        \n",
    "\n",
    "        self.__log__(\"eigen_vectors shape:\\n{}\".format(self.eigen_vectors.shape), Log.DEBUG)\n",
    "        self.__log__(\"eigen_vectors:\\n{}\".format(self.eigen_vectors), Log.INFO)\n",
    "\n",
    "        self.__log__(\"self.c_matrix shape:\\n{}\".format(self.c_matrix.shape), Log.DEBUG)\n",
    "        self.__log__(\"self.c_matrix:\\n{}\".format(self.c_matrix), Log.DEBUG)\n",
    "        \n",
    "        self.projection = self.eigen_vectors.dot(self.c_matrix.T).T\n",
    "        \n",
    "        self.__log__(\"projected shape :\\n{}\".format(self.projection.shape), Log.DEBUG)\n",
    "        self.__log__(\"projected  :\\n{}\".format(self.projection), Log.INFO)\n",
    "        \n",
    "        self.draw()\n",
    "        return (self.eigen_values, self.eigen_vectors, self.projection)\n",
    "        \n",
    "\n",
    "    def draw(self):\n",
    "        \"\"\"\n",
    "        Draws the projection of the centered dataset.\n",
    "        \"\"\"\n",
    "        plt.plot(data[:,0], data[:,1], 'bo')\n",
    "        if self.nb_components == 2:\n",
    "            plt.plot(self.projection[:,0], self.projection[:,1], 'xr')\n",
    "        elif self.nb_components == 1:\n",
    "            plt.plot(self.projection, np.zeros_like(self.projection),'xr', label=\"Transformed dataset\")            \n",
    "        plt.show()\n",
    "        \n",
    "\n",
    "def build_dataset():\n",
    "    \"\"\"\n",
    "    Create a dataset\n",
    "    \"\"\"\n",
    "    a_x = 0.05\n",
    "    a_y= 10\n",
    "\n",
    "    data =  np.matrix([[n*(1+a_x*(rand.random()-0.5)),4*n+ a_y*(rand.random()-0.5)] for n in range(20)])\n",
    "\n",
    "    print(\"Data:\\n\", data)\n",
    "    print(data.shape)\n",
    "    return data\n",
    "\n",
    "\n",
    "def scikit_pca( matrix, nb_components):\n",
    "    \"\"\"\n",
    "    Calculate the PCA using Scikit APIs\n",
    "    \"\"\"\n",
    "    print(\"=\"*80)\n",
    "    print(\"Scikit.pca with nb_components=\",nb_components)\n",
    "\n",
    "    pca = PCA(nb_components)\n",
    "    pca.fit(matrix)\n",
    "    projection = pca.transform(matrix)\n",
    "    \n",
    "    print(\"Eigen_values:\", pca.explained_variance_)\n",
    "    print(\"Eigen_vectors:\", pca.components_)\n",
    "    print(\"Transformed_data:\", pca.transform(data))\n",
    "        \n",
    "    plt.plot(data[:,0], data[:,1], 'bo')\n",
    "\n",
    "    if nb_components == 2:\n",
    "        plt.plot(projection[:,0], projection[:,1], 'xr')\n",
    "    elif nb_components == 1:\n",
    "        plt.plot(projection, np.zeros_like(projection),'xr', label=\"MyPCA Transformed dataset\")            \n",
    "    plt.show()\n",
    "     \n",
    "    return pca\n",
    "\n",
    "      \n",
    "def test():\n",
    "\n",
    "    my_pca = My_pca()\n",
    "\n",
    "    # Calculate PCA using scikit, nb_components=2\n",
    "    pca = scikit_pca(data, 2)\n",
    "\n",
    "    # Calculate PCA using scikit, nb_components=1\n",
    "    pca = scikit_pca(data, 1)\n",
    "    \n",
    "    # Calculate PCA using homebrew code, nb_components=2\n",
    "    \n",
    "    # Please note that the user can call the fit() API also. \n",
    "    # We are not doing it here because fit() is called by transform() internally\n",
    "    # So this my_pca.fit(data) works but for brevity's sake I am simply \n",
    "    # calling my_pca.transform(data)\n",
    "    my_pca.nb_components=2\n",
    "    my_pca.transform(data)\n",
    "        \n",
    "    # Calculate PCA using homebrew code, nb_components=1\n",
    "    my_pca.nb_components=1\n",
    "    my_pca.transform(data)\n",
    "    \n",
    "\n",
    "data = build_dataset()    \n",
    "test()"
   ]
  },
  {
   "cell_type": "markdown",
   "metadata": {},
   "source": [
    "# Comparison between Scikit and homebrew PCA\n",
    "## Scikit\n",
    "*Please note that the values below were taken from a previous run and might be different from what is stored in git.*\n",
    "\n",
    "  * There are 2 eigen values: **622** and **0.43**. \n",
    "  * Because the 2nd eigen value is low we can deduct that the second eigen vector will not carry significant information and can be ignored.\n",
    "  * Looking at the values of the eigen vectors we can clearly see that they are **orthogonal**\n",
    "  * The first eigen vector is **[ 0.23547476  0.97188047]**\n",
    "\n",
    "\n",
    "```python\n",
    "Scikit.pca with nb_components= 2\n",
    "Eigen_values: [6.22911315e+02 4.32632920e-01]\n",
    "Eigen_vectors: [[ 0.23547476  0.97188047]\n",
    " [ 0.97188047 -0.23547476]]\n",
    "\n",
    "```\n",
    "## Homebrew implementation\n",
    "  * There are 2 eigen values: **622** and **0.435**. \n",
    "  * Because the 2nd eigen value is low we can deduct that the second eigen vector will not carry significant information and can be ignored.\n",
    "  * Looking at the values of the eigen vectors we can clearly see that they are **orthogonal**\n",
    "  * The first eigen vector is **[-0.23547476 -0.97188047]**\n",
    "\n",
    "\n",
    "```python\n",
    "PCA Homebrew nb_components=2\n",
    "\n",
    "eigen_values:\n",
    "[6.22911315e+02 4.32632920e-01]\n",
    "eigen_vectors:\n",
    "[[-0.23547476 -0.97188047]\n",
    " [-0.97188047  0.23547476]]\n",
    "```\n",
    "`I note sign discrepencies between the eigen vectors returned by Scikit and the Homebrew implementation. This polarity change does not affect the intent of the transformation.`\n"
   ]
  },
  {
   "cell_type": "code",
   "execution_count": 6,
   "metadata": {},
   "outputs": [
    {
     "name": "stdout",
     "output_type": "stream",
     "text": [
      "================================================================================\n",
      "Scikit.pca with nb_components= 2\n",
      "Eigen_values: [567.74825629   0.58000036]\n",
      "Eigen_vectors: [[-0.24648878 -0.96914565]\n",
      " [ 0.96914565 -0.24648878]]\n",
      "Transformed_data: [[ 4.24098336e+01  9.74894414e-01]\n",
      " [ 3.03783492e+01 -1.03496413e+00]\n",
      " [ 2.67147200e+01 -9.29653774e-01]\n",
      " [ 2.39534172e+01 -5.98978268e-01]\n",
      " [ 2.00154806e+01 -5.18406614e-01]\n",
      " [ 2.19117478e+01  9.26048808e-01]\n",
      " [ 1.21972320e+01 -6.44758223e-01]\n",
      " [ 1.18546514e+01  3.93682710e-01]\n",
      " [ 1.03757625e+01  1.20687771e+00]\n",
      " [ 3.92417566e+00  5.93049770e-01]\n",
      " [ 1.97277239e+00  1.02407631e+00]\n",
      " [-1.00178884e+01 -1.07601971e+00]\n",
      " [-1.09154181e+01 -2.12329618e-01]\n",
      " [-1.79924874e+01 -8.76382113e-01]\n",
      " [-1.68097144e+01  2.60278231e-02]\n",
      " [-2.06854693e+01  5.75551093e-01]\n",
      " [-2.67423074e+01 -3.90083516e-01]\n",
      " [-3.22178156e+01 -2.63668708e-01]\n",
      " [-3.42788497e+01 -9.67139800e-03]\n",
      " [-3.60481920e+01  8.34707433e-01]]\n"
     ]
    },
    {
     "data": {
      "image/png": "[encoded data removed]",
      "text/plain": [
       "<Figure size 432x288 with 1 Axes>"
      ]
     },
     "metadata": {},
     "output_type": "display_data"
    },
    {
     "name": "stdout",
     "output_type": "stream",
     "text": [
      "\n",
      "scikit.pca with nb_components=2\n",
      "eigen_values: [567.74825629   0.58000036]\n",
      "eigen_vectors: [[-0.24648878 -0.96914565]\n",
      " [ 0.96914565 -0.24648878]]\n",
      "================================================================================\n",
      "Scikit.pca with nb_components= 1\n",
      "Eigen_values: [567.74825629]\n",
      "Eigen_vectors: [[-0.24648878 -0.96914565]]\n",
      "Transformed_data: [[ 42.40983359]\n",
      " [ 30.37834921]\n",
      " [ 26.71471996]\n",
      " [ 23.95341716]\n",
      " [ 20.01548063]\n",
      " [ 21.91174783]\n",
      " [ 12.19723196]\n",
      " [ 11.85465136]\n",
      " [ 10.3757625 ]\n",
      " [  3.92417566]\n",
      " [  1.97277239]\n",
      " [-10.01788836]\n",
      " [-10.91541808]\n",
      " [-17.99248736]\n",
      " [-16.8097144 ]\n",
      " [-20.68546933]\n",
      " [-26.74230743]\n",
      " [-32.21781556]\n",
      " [-34.2788497 ]\n",
      " [-36.04819202]]\n"
     ]
    },
    {
     "data": {
      "image/png": "[encoded data removed]",
      "text/plain": [
       "<Figure size 432x288 with 1 Axes>"
      ]
     },
     "metadata": {},
     "output_type": "display_data"
    },
    {
     "name": "stdout",
     "output_type": "stream",
     "text": [
      "\n",
      "scikit.pca with nb_components=1\n",
      "eigen_values: [567.74825629]\n",
      "eigen_vectors: [[-0.24648878 -0.96914565]]\n"
     ]
    }
   ],
   "source": [
    "# Calculate PCA using scikit, nb_components=2\n",
    "pca = scikit_pca(data, 2)\n",
    "print()\n",
    "print(\"scikit.pca with nb_components=2\")\n",
    "print(\"eigen_values:\", pca.explained_variance_)\n",
    "print(\"eigen_vectors:\", pca.components_)\n",
    "\n",
    "# Calculate PCA using scikit, nb_components=1\n",
    "pca = scikit_pca(data, 1)\n",
    "print()\n",
    "print(\"scikit.pca with nb_components=1\")\n",
    "print(\"eigen_values:\", pca.explained_variance_)\n",
    "print(\"eigen_vectors:\", pca.components_)\n",
    "\n"
   ]
  },
  {
   "cell_type": "markdown",
   "metadata": {},
   "source": [
    "# Comparison between nb_component=1 and nb_component=2\n",
    "\n",
    "By comparing the 2 plots, we can clearly see that the red crosses are:\n",
    "  * at the same position on the x axis\n",
    "  * nearly exaclty at the same position on the y axis \n",
    "  \n",
    "We can generalise by saying that, since the second eigen value is low, it can be ignored and thus the resulting eigen space can be simplified to only **one dimension** using the most significant eigen vector.\n"
   ]
  },
  {
   "cell_type": "code",
   "execution_count": null,
   "metadata": {},
   "outputs": [],
   "source": []
  }
 ],
 "metadata": {
  "kernelspec": {
   "display_name": "Python 3",
   "language": "python",
   "name": "python3"
  },
  "language_info": {
   "codemirror_mode": {
    "name": "ipython",
    "version": 3
   },
   "file_extension": ".py",
   "mimetype": "text/x-python",
   "name": "python",
   "nbconvert_exporter": "python",
   "pygments_lexer": "ipython3",
   "version": "3.6.5"
  }
 },
 "nbformat": 4,
 "nbformat_minor": 1
}
