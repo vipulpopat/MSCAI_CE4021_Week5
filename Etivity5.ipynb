{
 "cells": [
  {
   "cell_type": "markdown",
   "metadata": {},
   "source": [
    "Student Name: Vipul Popat\n",
    "Student ID: 18195121"
   ]
  },
  {
   "cell_type": "markdown",
   "metadata": {},
   "source": [
    "- The 'as' keyword allows you to invoke functionality from the module using an alias for the module name. For example: np.mean() instead of numpy.mean()\n",
    "- The from keyword allows you to only import the functionality of interest, for example above we import only the PCA class from the sklearn.decomposition module"
   ]
  },
  {
   "cell_type": "code",
   "execution_count": 58,
   "metadata": {
    "collapsed": true
   },
   "outputs": [],
   "source": [
    "import numpy as np\n",
    "import random as rand\n",
    "import matplotlib.pyplot as plt\n",
    "from numpy.linalg import eig\n",
    "from sklearn.decomposition import PCA\n",
    "#### added by me\n",
    "from numpy import array\n",
    "from numpy import mean\n",
    "from numpy import cov\n",
    "\n"
   ]
  },
  {
   "cell_type": "markdown",
   "metadata": {},
   "source": [
    "As per E-tivity instructions: Use of the matrix class is discouraged, but to allow us to simplify the code slightly, we will use it this week. Its first use will be to store the data that you will perform the PCA transform on. Note that you will likely obtain a higher score if your final version does not use the matrix class."
   ]
  },
  {
   "cell_type": "code",
   "execution_count": 59,
   "metadata": {
    "collapsed": true
   },
   "outputs": [],
   "source": [
    "a_x = 0.05\n",
    "a_y= 10"
   ]
  },
  {
   "cell_type": "code",
   "execution_count": 60,
   "metadata": {
    "collapsed": true
   },
   "outputs": [],
   "source": [
    "data =  np.array([[n*(1+a_x*(rand.random()-0.5)),4*n+ a_y*(rand.random()-0.5)] for n in range(20)])"
   ]
  },
  {
   "cell_type": "markdown",
   "metadata": {},
   "source": [
    "The numpy shape property is very useful to get an insight in the dimensions of your data, for example to check whether the features (in this case 2) or the samples (in this case 20) are in the rows or the columns. The notation used here (with columns containing the features and rows containing separate examples) is the standard for Scikitlearn and many other machine learning algorithms.\n"
   ]
  },
  {
   "cell_type": "code",
   "execution_count": 61,
   "metadata": {
    "collapsed": false
   },
   "outputs": [
    {
     "data": {
      "text/plain": [
       "(20, 2)"
      ]
     },
     "execution_count": 61,
     "metadata": {},
     "output_type": "execute_result"
    }
   ],
   "source": [
    "data.shape"
   ]
  },
  {
   "cell_type": "code",
   "execution_count": 62,
   "metadata": {
    "collapsed": false
   },
   "outputs": [
    {
     "name": "stdout",
     "output_type": "stream",
     "text": [
      "[[ 0.00000000e+00 -2.77835823e+00]\n",
      " [ 1.00755098e+00  6.62231201e-02]\n",
      " [ 2.02717243e+00  5.21482328e+00]\n",
      " [ 3.03562956e+00  8.14416731e+00]\n",
      " [ 3.99939611e+00  1.77688909e+01]\n",
      " [ 4.92894496e+00  1.70192496e+01]\n",
      " [ 5.85366797e+00  1.90564548e+01]\n",
      " [ 7.15205128e+00  3.24674125e+01]\n",
      " [ 8.01355627e+00  3.00412964e+01]\n",
      " [ 8.93290692e+00  3.72173906e+01]\n",
      " [ 9.84152510e+00  3.70575355e+01]\n",
      " [ 1.10459242e+01  4.38392993e+01]\n",
      " [ 1.21843283e+01  4.39675650e+01]\n",
      " [ 1.28589667e+01  5.58825921e+01]\n",
      " [ 1.40584843e+01  5.39481383e+01]\n",
      " [ 1.47927017e+01  6.48066769e+01]\n",
      " [ 1.59079725e+01  6.13771947e+01]\n",
      " [ 1.70942146e+01  7.12737134e+01]\n",
      " [ 1.78037402e+01  6.76055721e+01]\n",
      " [ 1.90982442e+01  7.37920832e+01]]\n"
     ]
    },
    {
     "data": {
      "text/plain": [
       "[<matplotlib.lines.Line2D at 0x7fabd17ef7f0>]"
      ]
     },
     "execution_count": 62,
     "metadata": {},
     "output_type": "execute_result"
    },
    {
     "data": {
      "image/png": "[encoded data removed]",
      "text/plain": [
       "<Figure size 432x288 with 1 Axes>"
      ]
     },
     "metadata": {},
     "output_type": "display_data"
    }
   ],
   "source": [
    "print(data)\n",
    "plt.plot(data[:, 0], data[:, 1], 'go')"
   ]
  },
  {
   "cell_type": "code",
   "execution_count": 69,
   "metadata": {
    "collapsed": false
   },
   "outputs": [],
   "source": [
    "class CustomPCA:\n",
    "    \n",
    "    def __init__(self, n_components):\n",
    "        self.n_components = n_components\n",
    "\n",
    "\n",
    "    def custom_fit(self, matrix):\n",
    "        # derive mean of each column and substract from original data\n",
    "        self.mean_data = np.mean(data, axis=0)\n",
    "        centered_data = data - self.mean_data\n",
    "        # calculate the covariance\n",
    "        covariance_data = np.cov(centered_data,rowvar=False)\n",
    "        values, vectors = eig(covariance_data) \n",
    "        #(square each value so that magnitude and not sign is taken into account when ordering)\n",
    "        # thanks to Cormac\n",
    "        sorted_eigen_values_indexes = np.square(values).argsort()[::-1]\n",
    "        sorted_eigen_values = values[sorted_eigen_values_indexes]\n",
    "        sorted_eigen_vectors = vectors[sorted_eigen_values_indexes]\n",
    "        self.eigen_values = sorted_eigen_values[:self.n_components]\n",
    "        self.eigen_vectors = sorted_eigen_vectors.T[:self.n_components,:]\n",
    "        \n",
    "    def transform(self, matrix):\n",
    "        # learnt from url posted by Abhijit that transform should be dot product of eigen vector and input data\n",
    "        matrix = matrix - self.mean_data\n",
    "        return np.dot(matrix, self.eigen_vectors.T)"
   ]
  },
  {
   "cell_type": "code",
   "execution_count": 70,
   "metadata": {
    "collapsed": false
   },
   "outputs": [
    {
     "name": "stdout",
     "output_type": "stream",
     "text": [
      "PCA Eigen Vectors =  [[-0.23155766 -0.97282118]]\n",
      "PCA Custom Eigen Vectors =  [[ 0.23155766 -0.97282118]]\n",
      "PCA Eigen Values =  [640.6828474]\n",
      "PCA Custom Eigen Values =  [640.6828474]\n",
      "PCA Transformed data =  [[ 40.78425347]\n",
      " [ 37.78367834]\n",
      " [ 32.5389099 ]\n",
      " [ 29.455666  ]\n",
      " [ 19.86936348]\n",
      " [ 20.38338626]\n",
      " [ 18.18742326]\n",
      " [  4.84030894]\n",
      " [  7.00099796]\n",
      " [ -0.19294115]\n",
      " [ -0.24782823]\n",
      " [ -7.1241595 ]\n",
      " [ -7.51254528]\n",
      " [-19.25995374]\n",
      " [-17.65583362]\n",
      " [-28.38926363]\n",
      " [-25.31124019]\n",
      " [-35.21346662]\n",
      " [-31.80931715]\n",
      " [-38.12743851]]\n",
      "PCA Custom Transformed data =  [[ 36.39306398]\n",
      " [ 33.85910114]\n",
      " [ 29.08653501]\n",
      " [ 26.47032306]\n",
      " [ 17.33035559]\n",
      " [ 18.27486669]\n",
      " [ 16.50715708]\n",
      " [  3.76134397]\n",
      " [  6.32100915]\n",
      " [ -0.44716459]\n",
      " [ -0.08125667]\n",
      " [ -6.39981228]\n",
      " [ -6.26098569]\n",
      " [-17.69595875]\n",
      " [-15.53632365]\n",
      " [-25.92972632]\n",
      " [-22.33520392]\n",
      " [-31.68806345]\n",
      " [-27.95532179]\n",
      " [-33.67393854]]\n",
      "PCA Eigen Vectors =  [[-0.23155766 -0.97282118]\n",
      " [-0.97282118  0.23155766]]\n",
      "PCA Custom Eigen Vectors =  [[ 0.23155766 -0.97282118]\n",
      " [-0.97282118 -0.23155766]]\n",
      "PCA Eigen Values =  [6.40682847e+02 5.21933500e-01]\n",
      "PCA Custom Eigen Values =  [6.40682847e+02 5.21933500e-01]\n",
      "PCA Transformed data =  [[ 4.07842535e+01  3.90026437e-02]\n",
      " [ 3.77836783e+01 -2.82479690e-01]\n",
      " [ 3.25389099e+01 -8.21912204e-02]\n",
      " [ 2.94556660e+01 -3.84927635e-01]\n",
      " [ 1.98693635e+01  9.06178342e-01]\n",
      " [ 2.03833863e+01 -1.71691665e-01]\n",
      " [ 1.81874233e+01 -5.99551339e-01]\n",
      " [ 4.84030894e+00  1.24276387e+00]\n",
      " [ 7.00099796e+00 -1.57112190e-01]\n",
      " [-1.92941149e-01  6.10203601e-01]\n",
      " [-2.47828229e-01 -3.10735081e-01]\n",
      " [-7.12415950e+00  8.79693491e-02]\n",
      " [-7.51254528e+00 -9.89793362e-01]\n",
      " [-1.92599537e+01  1.11291989e+00]\n",
      " [-1.76558336e+01 -5.01933847e-01]\n",
      " [-2.83892636e+01  1.29818168e+00]\n",
      " [-2.53112402e+01 -5.80900178e-01]\n",
      " [-3.52134666e+01  5.56713065e-01]\n",
      " [-3.18093172e+01 -9.82914709e-01]\n",
      " [-3.81274385e+01 -8.09701533e-01]]\n",
      "PCA Custom Transformed data =  [[ 36.39306398  18.40928426]\n",
      " [ 33.85910114  16.77043272]\n",
      " [ 29.08653501  14.58632558]\n",
      " [ 26.47032306  12.92696506]\n",
      " [ 17.33035559   9.76071408]\n",
      " [ 18.27486669   9.03001445]\n",
      " [ 16.50715708   7.65869386]\n",
      " [  3.76134397   3.29018909]\n",
      " [  6.32100915   3.01388455]\n",
      " [ -0.44716459   0.45784118]\n",
      " [ -0.08125667  -0.38906616]\n",
      " [ -6.39981228  -3.13110043]\n",
      " [ -6.26098569  -4.26826495]\n",
      " [-17.69595875  -7.68358331]\n",
      " [-15.53632365  -8.40256186]\n",
      " [-25.92972632 -11.63120192]\n",
      " [-22.33520392 -11.92203803]\n",
      " [-31.68806345 -15.3676542 ]\n",
      " [-27.95532179 -15.20850954]\n",
      " [-33.67393854 -17.90036444]]\n"
     ]
    }
   ],
   "source": [
    "for num_components in (1,2):\n",
    "    pca = PCA(n_components=num_components)\n",
    "    pca_custom = CustomPCA(num_components)\n",
    "    \n",
    "    pca_fit = pca.fit(data)\n",
    "    pca_custom_fit = pca_custom.custom_fit(data)\n",
    "    \n",
    "    print(\"PCA Eigen Vectors = \", pca_fit.components_)\n",
    "    print(\"PCA Custom Eigen Vectors = \", pca_custom.eigen_vectors)\n",
    "    print(\"PCA Eigen Values = \", pca_fit.explained_variance_)\n",
    "    print(\"PCA Custom Eigen Values = \", pca_custom.eigen_values)\n",
    "    \n",
    "    data_pca_transform = pca.transform(data)\n",
    "    data_pca_custom_transform = pca_custom.transform(data)\n",
    "\n",
    "    print(\"PCA Transformed data = \", data_pca_transform)\n",
    "    print(\"PCA Custom Transformed data = \" , data_pca_custom_transform)"
   ]
  },
  {
   "cell_type": "code",
   "execution_count": null,
   "metadata": {
    "collapsed": true
   },
   "outputs": [],
   "source": []
  }
 ],
 "metadata": {
  "kernelspec": {
   "display_name": "Python 2",
   "language": "python",
   "name": "python2"
  },
  "language_info": {
   "codemirror_mode": {
    "name": "ipython",
    "version": 3
   },
   "file_extension": ".py",
   "mimetype": "text/x-python",
   "name": "python",
   "nbconvert_exporter": "python",
   "pygments_lexer": "ipython3",
   "version": "3.4.9"
  }
 },
 "nbformat": 4,
 "nbformat_minor": 1
}
