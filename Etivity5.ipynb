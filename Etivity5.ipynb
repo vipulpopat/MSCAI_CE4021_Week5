{
 "cells": [
  {
   "cell_type": "markdown",
   "metadata": {},
   "source": [
    "Student Name: Cormac Lavery\n",
    "\n",
    "Student ID: 16139658"
   ]
  },
  {
   "cell_type": "markdown",
   "metadata": {},
   "source": [
    "- The 'as' keyword allows you to invoke functionality from the module using an alias for the module name. For example: np.mean() instead of numpy.mean()\n",
    "- The from keyword allows you to only import the functionality of interest, for example above we import only the PCA class from the sklearn.decomposition module"
   ]
  },
  {
   "cell_type": "code",
   "execution_count": 604,
   "metadata": {
    "collapsed": true
   },
   "outputs": [],
   "source": [
    "import numpy as np\n",
    "import random as rand\n",
    "import matplotlib.pyplot as plt\n",
    "from numpy.linalg import eig\n",
    "from sklearn.decomposition import PCA"
   ]
  },
  {
   "cell_type": "markdown",
   "metadata": {},
   "source": [
    "As per E-tivity instructions: Use of the matrix class is discouraged, but to allow us to simplify the code slightly, we will use it this week. Its first use will be to store the data that you will perform the PCA transform on. Note that you will likely obtain a higher score if your final version does not use the matrix class."
   ]
  },
  {
   "cell_type": "code",
   "execution_count": 605,
   "metadata": {
    "collapsed": true
   },
   "outputs": [],
   "source": [
    "a_x = 0.05\n",
    "a_y= 10"
   ]
  },
  {
   "cell_type": "code",
   "execution_count": 606,
   "metadata": {
    "collapsed": true
   },
   "outputs": [],
   "source": [
    "data =  np.array([[n*(1+a_x*(rand.random()-0.5)),4*n+ a_y*(rand.random()-0.5)] for n in range(20)])"
   ]
  },
  {
   "cell_type": "markdown",
   "metadata": {},
   "source": [
    "The numpy shape property is very useful to get an insight in the dimensions of your data, for example to check whether the features (in this case 2) or the samples (in this case 20) are in the rows or the columns. The notation used here (with columns containing the features and rows containing separate examples) is the standard for Scikitlearn and many other machine learning algorithms.\n"
   ]
  },
  {
   "cell_type": "code",
   "execution_count": 607,
   "metadata": {},
   "outputs": [
    {
     "data": {
      "text/plain": [
       "(20, 2)"
      ]
     },
     "execution_count": 607,
     "metadata": {},
     "output_type": "execute_result"
    }
   ],
   "source": [
    "data.shape"
   ]
  },
  {
   "cell_type": "code",
   "execution_count": 608,
   "metadata": {},
   "outputs": [],
   "source": [
    "class MyPCA:\n",
    "\n",
    "    def __init__(self, n_components = 2):\n",
    "        self.n_components = n_components\n",
    "\n",
    "\n",
    "    def fit(self, matrix):\n",
    "        # subtract the mean of each column from the column\n",
    "        self.mean = mean_data = np.mean(data, axis=0)\n",
    "        centered_data = data - self.mean\n",
    "        #calculate the covariance of the data with mean subtracted\n",
    "        cov_data = np.cov(centered_data,rowvar=False)\n",
    "        values, vectors = eig(cov_data)        \n",
    "        #(square each value so that magnitude and not sign is taken into account when ordering)\n",
    "        sorted_eigen_values_indexes = np.square(values).argsort()[::-1]\n",
    "        sorted_eigen_values = values[sorted_eigen_values_indexes]\n",
    "        sorted_eigen_vectors = vectors[sorted_eigen_values_indexes]\n",
    "        self.eigen_values = sorted_eigen_values[:self.n_components]\n",
    "        self.eigen_vectors = sorted_eigen_vectors.T[:self.n_components,:]\n",
    "        \n",
    "    def transform(self, matrix):\n",
    "        matrix = matrix - self.mean\n",
    "        return np.dot(matrix, self.eigen_vectors.T)    \n",
    "        "
   ]
  },
  {
   "cell_type": "code",
   "execution_count": 611,
   "metadata": {},
   "outputs": [
    {
     "name": "stdout",
     "output_type": "stream",
     "text": [
      "my pca eigen vectors: \n[[ 0.23121569 -0.97290252]\n [-0.97290252 -0.23121569]]\nmy pca eigen values: \n[6.48597955e+02 3.53524983e-01]\n\nscikit pca eigen vector: \n[[ 0.23121569  0.97290252]\n [-0.97290252  0.23121569]]\nscikit pca eigen values: \n[6.48597955e+02 3.53524983e-01]\n"
     ]
    }
   ],
   "source": [
    "scikit_pca = PCA(n_components=2)\n",
    "scikit_pca.fit(data)\n",
    "scikit_transform = scikit_pca.transform(data)\n",
    "scikit_pca_eigen_vectors = scikit_pca.components_\n",
    "scikit_pca_eigen_values = scikit_pca.explained_variance_\n",
    "\n",
    "\n",
    "my_pca = MyPCA(n_components=2)\n",
    "my_pca.fit(data)\n",
    "my_pca_transform = my_pca.transform(data)\n",
    "my_pca_eigen_vectors = my_pca.eigen_vectors\n",
    "my_pca_eigen_values = my_pca.eigen_values\n",
    "\n",
    "print(\"my pca eigen vectors: \\n{}\".format(my_pca_eigen_vectors))\n",
    "print(\"my pca eigen values: \\n{}\".format(my_pca_eigen_values))\n",
    "print()\n",
    "print(\"scikit pca eigen vectors: \\n{}\".format(scikit_pca_eigen_vectors))\n",
    "print(\"scikit pca eigen values: \\n{}\".format(scikit_pca_eigen_values))\n",
    "\n",
    "\n"
   ]
  },
  {
   "cell_type": "markdown",
   "metadata": {},
   "source": [
    "My eigen values match however I note that the eigen vectors do not match for my PCA class and the scikit implementation.\n",
    "\n",
    "The magnitude match but the signs do not. I found the following stack overflow on someone else who had the same issue.\n",
    "https://stackoverflow.com/questions/44765682/in-sklearn-decomposition-pca-why-are-components-negative\n"
   ]
  },
  {
   "cell_type": "code",
   "execution_count": null,
   "metadata": {},
   "outputs": [],
   "source": []
  }
 ],
 "metadata": {
  "kernelspec": {
   "display_name": "Python 2",
   "language": "python",
   "name": "python2"
  },
  "language_info": {
   "codemirror_mode": {
    "name": "ipython",
    "version": 3
   },
   "file_extension": ".py",
   "mimetype": "text/x-python",
   "name": "python",
   "nbconvert_exporter": "python",
   "pygments_lexer": "ipython3",
   "version": "3.5.4"
  }
 },
 "nbformat": 4,
 "nbformat_minor": 1
}
