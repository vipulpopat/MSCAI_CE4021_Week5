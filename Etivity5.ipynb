{
 "cells": [
  {
   "cell_type": "markdown",
   "metadata": {},
   "source": [
    "Student Name: Abhijit Sinha\n",
    "Student ID: 18195067"
   ]
  },
  {
   "cell_type": "markdown",
   "metadata": {},
   "source": [
    "## Task\n",
    "\n",
    "###### Making use of Numpy, write a Python class to apply the PCA transform to the provided (see Notebook) data set. Compare the output of your implementation to the PCA functionality provided by the Scikitlearn module.\n",
    "\n",
    "- Create a 'fit' method that calculates the eigen vectors and eigen values of your dataset. Compare your results to the output of Scikitlearn's fit method and document your findings as a comment (use markdown) directly under the cell with your PCA class.\n",
    "- Use the Scikitlean's PCA class with n_components=2 and n_components=1 and observe the differences. In the cell directly below, comment on what you have observed.\n",
    "- Add a property to your class and initialise this property in a suitable fashion to allow you to choose the number of principal components similar to the Scikitlearn PCA class.\n",
    "- Store those results from your fit method that are required to transform the data set, in suitable class properties.\n",
    "- Create a 'transform' method to perform the PCA data transformation on your data set using the parameters obtained using your 'fit' method."
   ]
  },
  {
   "cell_type": "markdown",
   "metadata": {},
   "source": [
    "###### N.B.:\n",
    "\n",
    "- Limit your code to the aspects explicitly listed. \n",
    "- Use the Jupyter Notebook provided in the repository for week 5. This notebook contains the data that needs to be transformed.\n",
    "- The required modules have already been imported for you. You should not import any other modules.\n",
    "- If you find creating a class with this functionality daunting, please start by creating normal functions in your notebook. If time permits, you can then change to use of a class later."
   ]
  },
  {
   "cell_type": "markdown",
   "metadata": {},
   "source": [
    "### Reflection:\n",
    "\n",
    "##### With your code (containing any corrections you have made based on your peers’ feedback), do the following:\n",
    "\n",
    "- For the case where n_components = 1, compare the resulting dataset of your transform method with the resulting dataset from Scikitlearn’s transform method by plotting the points on an XY plot. If there are any differences, explain these in a comment directly under the cell with your plot.\n",
    "\n",
    "- For the case where n_components = 1, compare the dataset resulting from your transform method with the original dataset by plotting the points on an XY plot. Comment on the differences between original and transformed data in the cell directly below your plot. In your comment, explain why and how PCA can be used for dimensionality reduction"
   ]
  },
  {
   "cell_type": "code",
   "execution_count": 108,
   "metadata": {
    "collapsed": true
   },
   "outputs": [],
   "source": [
    "%matplotlib inline\n",
    "import numpy as np\n",
    "import random as rand\n",
    "import matplotlib.pyplot as plt\n",
    "from numpy.linalg import eig\n",
    "from sklearn.decomposition import PCA"
   ]
  },
  {
   "cell_type": "markdown",
   "metadata": {},
   "source": [
    "As per E-tivity instructions: Use of the matrix class is discouraged, but to allow us to simplify the code slightly, we will use it this week. Its first use will be to store the data that you will perform the PCA transform on. Note that you will likely obtain a higher score if your final version does not use the matrix class."
   ]
  },
  {
   "cell_type": "code",
   "execution_count": 109,
   "metadata": {
    "collapsed": true
   },
   "outputs": [],
   "source": [
    "a_x = 0.05\n",
    "a_y= 10"
   ]
  },
  {
   "cell_type": "code",
   "execution_count": 110,
   "metadata": {
    "collapsed": true
   },
   "outputs": [],
   "source": [
    "data =  np.matrix([[n*(1+a_x*(rand.random()-0.5)),4*n+ a_y*(rand.random()-0.5)] for n in range(20)])"
   ]
  },
  {
   "cell_type": "code",
   "execution_count": 111,
   "metadata": {
    "collapsed": false
   },
   "outputs": [
    {
     "data": {
      "text/plain": [
       "(20, 2)"
      ]
     },
     "execution_count": 111,
     "metadata": {},
     "output_type": "execute_result"
    }
   ],
   "source": [
    "data.shape"
   ]
  },
  {
   "cell_type": "markdown",
   "metadata": {},
   "source": [
    "### Create a class to find PCA using numpy\n",
    "- Making use of Numpy, creating a Python class to apply the PCA transform to the provided data set. \n",
    "\n",
    "Following the steps from the links below: \n",
    "    - http://www.cs.otago.ac.nz/cosc453/student_tutorials/principal_components.pdf \n",
    "    - https://machinelearningmastery.com/calculate-principal-component-analysis-scratch-python/\n",
    "    \n",
    "- Step 1: Get some data\n",
    "- Step 2: Subtract the mean\n",
    "- Step 3: Calculate the covariance matrix\n",
    "- Step 4: Calculate the eigenvectors and eigenvalues of the covariance matrix\n",
    "- Step 5: Choosing components and forming a feature vector\n",
    "- Step 6: Deriving the new data set"
   ]
  },
  {
   "cell_type": "code",
   "execution_count": 112,
   "metadata": {
    "collapsed": true
   },
   "outputs": [],
   "source": [
    "class New_PCA:\n",
    "    \"\"\"Principal component analysis (PCA)\n",
    "     \n",
    "    Linear dimensionality reduction using Singular Value Decomposition of the\n",
    "    data to project it to a lower dimensional space.\n",
    "    \"\"\"\n",
    "    \n",
    "    def __init__(self,n_components=None):\n",
    "        self.n_components = n_components\n",
    "        self.components_ = []\n",
    "        \n",
    "    def fit(self, data):\n",
    "        \"\"\"Fit the model with provided data\"\"\"\n",
    "        \n",
    "        # Step 1: Get the data\n",
    "        self.data = data\n",
    "       \n",
    "        # Step 2: Get mean of data and centre around zero mean\n",
    "        self.mean_data = self.data.mean(axis=0)\n",
    "        \n",
    "        # Center data\n",
    "        self.data_with_zero_mean = self.data - self.mean_data\n",
    "\n",
    "        # Step 3: Calculate the covariance matrix of the Centred Data\n",
    "        self.covariance_matrix = np.cov(self.data_with_zero_mean, rowvar=False)\n",
    "        \n",
    "        # Step 4: Calculate the eigenvectors and eigenvalues of the covariance matrix\n",
    "        eigen_values, eigen_vectors = eig(self.covariance_matrix)    \n",
    "        \n",
    "        # Sort the eigen valuess and eigen vectors    \n",
    "        sort_index = eigen_values.argsort()[::-1]\n",
    "        sorted_eig_vals = eigen_values[sort_index]\n",
    "        sorted_eig_vecs = eigen_vectors[:, sort_index]\n",
    "        \n",
    "        # n_components will filter the eigen vectors\n",
    "        self.eigen_vals= sorted_eig_vals[:self.n_components]\n",
    "        self.eigen_vecs = sorted_eig_vecs[:, :self.n_components]         \n",
    "        self.components_ = self.eigen_vecs\n",
    "        \n",
    "        return self.eigen_vals, self.eigen_vecs\n",
    "    \n",
    "    def transform(self, data):\n",
    "        \"\"\"Transform the data by calculating the projection\"\"\" \n",
    "        \n",
    "        # Step 5: Choosing components and forming a feature vector and applying Projection\n",
    "        self.projected_data = self.data_with_zero_mean.dot(self.eigen_vecs)\n",
    "        print(self.projected_data)\n",
    "        return self.projected_data\n",
    "    "
   ]
  },
  {
   "cell_type": "markdown",
   "metadata": {},
   "source": [
    "### Function to check PCA using Scikit Learn modules"
   ]
  },
  {
   "cell_type": "code",
   "execution_count": 113,
   "metadata": {
    "collapsed": true
   },
   "outputs": [],
   "source": [
    "def scikitlearn_pca(n):\n",
    "    \"\"\"Function that call Scikit learn PCA for dimensionality reduction\"\"\"\n",
    "    \n",
    "    pca = PCA(n_components=n)  #, whiten=True : scale and center data\n",
    "    pca.fit(data)\n",
    "    scikit_projected_data = pca.transform(data)\n",
    "    scikit_data_reduced = pca.inverse_transform(projected_data)\n",
    "    return scikit_projected_data, scikit_data_reduced\n"
   ]
  },
  {
   "cell_type": "markdown",
   "metadata": {},
   "source": [
    "### Test the code"
   ]
  },
  {
   "cell_type": "code",
   "execution_count": 114,
   "metadata": {
    "collapsed": false
   },
   "outputs": [
    {
     "name": "stdout",
     "output_type": "stream",
     "text": [
      " Select the n_componenets for PCA : 2\n",
      "\n",
      "********* PCA Implemented for 2 component ***********\n",
      "[[ 4.27143727e+01 -4.65201981e-01]\n",
      " [ 3.66262062e+01 -6.47874212e-02]\n",
      " [ 3.55674287e+01 -7.75733438e-01]\n",
      " [ 2.80732173e+01 -4.45543309e-03]\n",
      " [ 2.05435931e+01  6.94225840e-01]\n",
      " [ 1.60390045e+01  7.90852617e-01]\n",
      " [ 1.00307290e+01  1.18554009e+00]\n",
      " [ 9.28740626e+00  3.04551850e-01]\n",
      " [ 6.33013254e+00 -1.71038665e-01]\n",
      " [ 4.22093276e+00 -3.45729654e-01]\n",
      " [-5.10778492e+00  7.87785543e-01]\n",
      " [-2.19676196e+00 -9.14826556e-01]\n",
      " [-8.29180619e+00 -6.81156570e-01]\n",
      " [-1.86177981e+01  6.80889187e-01]\n",
      " [-2.10802585e+01  2.73276932e-01]\n",
      " [-2.16835808e+01 -2.72927363e-01]\n",
      " [-2.34258290e+01 -1.00193096e+00]\n",
      " [-3.59146228e+01  6.09464131e-01]\n",
      " [-3.18964313e+01 -8.34590542e-01]\n",
      " [-4.12181494e+01  2.05792391e-01]]\n"
     ]
    }
   ],
   "source": [
    "n = int(input(\" Select the n_componenets for PCA : \"))\n",
    "if n == 1 or n == 2:\n",
    "    pass\n",
    "else:\n",
    "    raise Exception(\"Please input n_componenets as 1 or 2\")\n",
    "    \n",
    "    \n",
    "print(\"\\n********* PCA Implemented for {} component ***********\".format(n))\n",
    "derived_pca = New_PCA(n)\n",
    "derived_pca.fit(data)\n",
    "projected_data = derived_pca.transform(data)"
   ]
  },
  {
   "cell_type": "code",
   "execution_count": 115,
   "metadata": {
    "collapsed": false
   },
   "outputs": [
    {
     "name": "stdout",
     "output_type": "stream",
     "text": [
      "\n",
      "********** Scikitlean PCA  for 2 component **********\n",
      "[[ 4.27143727e+01 -4.65201981e-01]\n",
      " [ 3.66262062e+01 -6.47874212e-02]\n",
      " [ 3.55674287e+01 -7.75733438e-01]\n",
      " [ 2.80732173e+01 -4.45543309e-03]\n",
      " [ 2.05435931e+01  6.94225840e-01]\n",
      " [ 1.60390045e+01  7.90852617e-01]\n",
      " [ 1.00307290e+01  1.18554009e+00]\n",
      " [ 9.28740626e+00  3.04551850e-01]\n",
      " [ 6.33013254e+00 -1.71038665e-01]\n",
      " [ 4.22093276e+00 -3.45729654e-01]\n",
      " [-5.10778492e+00  7.87785543e-01]\n",
      " [-2.19676196e+00 -9.14826556e-01]\n",
      " [-8.29180619e+00 -6.81156570e-01]\n",
      " [-1.86177981e+01  6.80889187e-01]\n",
      " [-2.10802585e+01  2.73276932e-01]\n",
      " [-2.16835808e+01 -2.72927363e-01]\n",
      " [-2.34258290e+01 -1.00193096e+00]\n",
      " [-3.59146228e+01  6.09464131e-01]\n",
      " [-3.18964313e+01 -8.34590542e-01]\n",
      " [-4.12181494e+01  2.05792391e-01]]\n"
     ]
    }
   ],
   "source": [
    "print(\"\\n********** Scikitlean PCA  for {} component **********\".format(n))\n",
    "scikit_projected_data, scikit_pca_result = scikitlearn_pca(n)\n",
    "print(scikit_projected_data)"
   ]
  },
  {
   "cell_type": "code",
   "execution_count": 116,
   "metadata": {
    "collapsed": false
   },
   "outputs": [
    {
     "data": {
      "text/plain": [
       "[<matplotlib.lines.Line2D at 0x7fc797e35ef0>]"
      ]
     },
     "execution_count": 116,
     "metadata": {},
     "output_type": "execute_result"
    },
    {
     "data": {
      "image/png": "[encoded data removed]",
      "text/plain": [
       "<Figure size 432x288 with 1 Axes>"
      ]
     },
     "metadata": {},
     "output_type": "display_data"
    }
   ],
   "source": [
    "# Reconstruct the data on Implemented PCA\n",
    "my_data = np.dot(projected_data, derived_pca.components_.T) + np.mean(data, axis=0)\n",
    "\n",
    "plt.title(\"Reconstructed data on Impleneted PCA with {} principal component\".format(n))\n",
    "plt.plot(data[:,0], data[:,1], 'ro')\n",
    "plt.plot(my_data[:,0], my_data[:,1], 'bx')"
   ]
  },
  {
   "cell_type": "code",
   "execution_count": 117,
   "metadata": {
    "collapsed": false
   },
   "outputs": [
    {
     "data": {
      "text/plain": [
       "[<matplotlib.lines.Line2D at 0x7fc797ee6a20>]"
      ]
     },
     "execution_count": 117,
     "metadata": {},
     "output_type": "execute_result"
    },
    {
     "data": {
      "image/png": "[encoded data removed]",
      "text/plain": [
       "<Figure size 432x288 with 1 Axes>"
      ]
     },
     "metadata": {},
     "output_type": "display_data"
    }
   ],
   "source": [
    "# Reconstruct the data on Scikit Learn PCA\n",
    "plt.title(\"Reconstructed data on Scikit Learn PCA with {} principal component\".format(n))\n",
    "plt.plot(data[:,0], data[:,1], 'ro')\n",
    "plt.plot(scikit_pca_result[:,0], scikit_pca_result[:,1], 'bx')"
   ]
  },
  {
   "cell_type": "markdown",
   "metadata": {},
   "source": [
    "###### Observation when n_component =1:\n",
    "- The reconstructed data with one eigen vector doesnt excatly match the original data, but its very similar to the original data.\n",
    "\n",
    "###### Observation when n_component =2:\n",
    "- The reconstructed data almost match the original data.\n"
   ]
  }
 ],
 "metadata": {
  "kernelspec": {
   "display_name": "Python 2",
   "language": "python",
   "name": "python2"
  }
 },
 "nbformat": 4,
 "nbformat_minor": 1
}
