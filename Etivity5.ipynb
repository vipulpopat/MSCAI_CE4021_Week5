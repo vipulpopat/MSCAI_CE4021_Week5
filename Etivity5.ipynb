{
 "cells": [
  {
   "cell_type": "markdown",
   "metadata": {},
   "source": [
    "Student Name:\n",
    "Student ID:"
   ]
  },
  {
   "cell_type": "markdown",
   "metadata": {},
   "source": [
    "- The 'as' keyword allows you to invoke functionality from the module using an alias for the module name. For example: np.mean() instead of numpy.mean()\n",
    "- The from keyword allows you to only import the functionality of interest, for example above we import only the PCA class from the sklearn.decomposition module"
   ]
  },
  {
   "cell_type": "code",
   "execution_count": 5,
   "metadata": {},
   "outputs": [],
   "source": [
    "import numpy as np\n",
    "import random as rand\n",
    "import matplotlib.pyplot as plt\n",
    "from numpy.linalg import eig\n",
    "from sklearn.decomposition import PCA"
   ]
  },
  {
   "cell_type": "markdown",
   "metadata": {},
   "source": [
    "As per E-tivity instructions: Use of the matrix class is discouraged, but to allow us to simplify the code slightly, we will use it this week. Its first use will be to store the data that you will perform the PCA transform on. Note that you will likely obtain a higher score if your final version does not use the matrix class."
   ]
  },
  {
   "cell_type": "code",
   "execution_count": 4,
   "metadata": {},
   "outputs": [],
   "source": [
    "a_x = 0.05\n",
    "a_y= 10"
   ]
  },
  {
   "cell_type": "code",
   "execution_count": 6,
   "metadata": {},
   "outputs": [],
   "source": [
    "data =  np.matrix([[n*(1+a_x*(rand.random()-0.5)),4*n+ a_y*(rand.random()-0.5)] for n in range(20)])"
   ]
  },
  {
   "cell_type": "markdown",
   "metadata": {},
   "source": [
    "The numpy shape property is very useful to get an insight in the dimensions of your data, for example to check whether the features (in this case 2) or the samples (in this case 20) are in the rows or the columns. The notation used here (with columns containing the features and rows containing separate examples) is the standard for Scikitlearn and many other machine learning algorithms.\n"
   ]
  },
  {
   "cell_type": "code",
   "execution_count": 7,
   "metadata": {},
   "outputs": [
    {
     "name": "stdout",
     "output_type": "stream",
     "text": [
      "(20, 2)\n",
      "[[ 0.         -4.47486838]\n",
      " [ 0.98123426  5.19633353]\n",
      " [ 1.97430116  9.46083104]\n",
      " [ 3.04784878 14.90114796]\n",
      " [ 4.06430319 18.98621909]\n",
      " [ 4.9488205  18.95737004]\n",
      " [ 5.88523145 21.10055316]\n",
      " [ 7.00112891 25.50299491]\n",
      " [ 8.1311536  32.55682855]\n",
      " [ 8.86105657 35.7805234 ]\n",
      " [ 9.92343346 40.53317222]\n",
      " [10.93522528 48.95336523]\n",
      " [11.81243101 46.41650324]\n",
      " [13.12689654 54.49028051]\n",
      " [14.16611381 60.33345459]\n",
      " [15.06718061 61.70099637]\n",
      " [16.27860729 66.14034024]\n",
      " [16.72397682 67.13219655]\n",
      " [17.93406676 68.57758743]\n",
      " [19.2756039  77.26360553]]\n"
     ]
    }
   ],
   "source": [
    "print (data.shape)\n",
    "print (data)"
   ]
  },
  {
   "cell_type": "code",
   "execution_count": 8,
   "metadata": {},
   "outputs": [],
   "source": [
    "class my_PCA():\n",
    "    def __init__(self, n_components=None, ):\n",
    "        self.n_components = n_components\n",
    "        self.components_ = np.ndarray\n",
    "        self.mean_ = np.ndarray\n",
    "\n",
    "    def fit(self, X, y=None):\n",
    "        self.mean_ = np.mean(X, axis=0)\n",
    "        X = X - self.mean_\n",
    "        #    Factors the matrix X as U * np.diag(S) * V, where U and V\n",
    "        #   are unitary and S is a 1-d array of X's singular values.\n",
    "        U, S, V = np.linalg.svd(X, full_matrices=False)\n",
    "        U, V = self.u_v_manage(U, V)\n",
    "        self.components_ = V[:self.n_components]\n",
    "        return self\n",
    "\n",
    "    def transform(self, X):\n",
    "        if self.mean_ is not None:\n",
    "            X = X - self.mean_\n",
    "\n",
    "        X = np.dot(X, self.components_.T)\n",
    "        return X\n",
    "\n",
    "    def u_v_manage(self, u, v, u_based_decision=True):\n",
    "        u = np.array(u)\n",
    "        v = np.array(v)\n",
    "        if u_based_decision:\n",
    "            # columns of u, rows of v\n",
    "            # get max of every comp\n",
    "            max_abs_cols = np.array(np.argmax(np.abs(u), axis=0))[0]\n",
    "            # get signs\n",
    "            signs = np.array(np.sign(u[max_abs_cols, range(u.shape[1])]))[0]\n",
    "            u *= signs\n",
    "            v *= np.expand_dims(signs, axis=1)\n",
    "        else:\n",
    "            # rows of v, columns of u\n",
    "            max_abs_rows = np.argmax(np.abs(v), axis=1)\n",
    "            signs = np.sign(v[range(v.shape[0]), max_abs_rows])\n",
    "            u *= signs\n",
    "            v *= signs[:, np.newaxis]\n",
    "        return u, v"
   ]
  },
  {
   "cell_type": "code",
   "execution_count": 9,
   "metadata": {},
   "outputs": [
    {
     "name": "stdout",
     "output_type": "stream",
     "text": [
      "component\n",
      " [[-0.23813881 -0.97123113]]\n"
     ]
    }
   ],
   "source": [
    "pca = PCA(n_components=1)\n",
    "pca.fit(data)\n",
    "component = pca.components_\n",
    "data_pca = pca.transform(data)\n",
    "data_reduced = pca.inverse_transform(data_pca)\n",
    "print('component\\n', component)"
   ]
  },
  {
   "cell_type": "code",
   "execution_count": 10,
   "metadata": {},
   "outputs": [
    {
     "name": "stdout",
     "output_type": "stream",
     "text": [
      "my component\n",
      " [[-0.23813881 -0.97123113]]\n"
     ]
    },
    {
     "name": "stderr",
     "output_type": "stream",
     "text": [
      "C:\\Users\\tienial1\\AppData\\Local\\Continuum\\anaconda3\\lib\\site-packages\\ipykernel_launcher.py:34: DeprecationWarning: Both axis > a.ndim and axis < -a.ndim - 1 are deprecated and will raise an AxisError in the future.\n"
     ]
    }
   ],
   "source": [
    "my_pca = my_PCA(n_components=1)\n",
    "my_pca.fit(data)\n",
    "my_component = my_pca.components_\n",
    "my_data_pca = my_pca.transform(data)\n",
    "print('my component\\n',my_component)"
   ]
  },
  {
   "cell_type": "code",
   "execution_count": 11,
   "metadata": {},
   "outputs": [
    {
     "data": {
      "image/png": "[encoded data removed]",
      "text/plain": [
       "<Figure size 432x288 with 1 Axes>"
      ]
     },
     "metadata": {},
     "output_type": "display_data"
    }
   ],
   "source": [
    "plt.plot(data[:,0], data[:,1], 'or')\n",
    "plt.plot(data_reduced[:,0], data_reduced[:,1],'xb')\n",
    "plt.show()"
   ]
  },
  {
   "cell_type": "code",
   "execution_count": null,
   "metadata": {},
   "outputs": [],
   "source": []
  }
 ],
 "metadata": {
  "kernelspec": {
   "display_name": "Python 3",
   "language": "python",
   "name": "python3"
  },
  "language_info": {
   "codemirror_mode": {
    "name": "ipython",
    "version": 3
   },
   "file_extension": ".py",
   "mimetype": "text/x-python",
   "name": "python",
   "nbconvert_exporter": "python",
   "pygments_lexer": "ipython3",
   "version": "3.6.5"
  }
 },
 "nbformat": 4,
 "nbformat_minor": 1
}
