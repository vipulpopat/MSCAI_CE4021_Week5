{
 "cells": [
  {
   "cell_type": "markdown",
   "metadata": {},
   "source": [
    "Student Name: Fergus Mc Hale\n",
    "Student ID: 18203485"
   ]
  },
  {
   "cell_type": "markdown",
   "metadata": {},
   "source": [
    "- Making use of Numpy, write a Python class to apply the PCA transform to the provided (see Notebook) data set. Compare the output of your implementation to the PCA functionality provided by the Scikitlearn module.\n",
    "\n",
    "- Create a 'fit' method that calculates the eigen vectors and eigen values of your dataset. Compare your results to the output of Scikitlearn's fit method and document your findings as a comment (use markdown) directly under the cell with your PCA class.\n",
    "- Use the Scikitlean's PCA class with n_components=2 and n_components=1 and observe the differences. In the cell directly below, comment on what you have observed.\n",
    "- Add a property to your class and initialise this property in a suitable fashion to allow you to choose the number of principal components similar to the Scikitlearn PCA class.\n",
    "- Store those results from your fit method that are required to transform the data set, in suitable class properties.\n",
    "- Create a 'transform' method to perform the PCA data transformation on your data set using the parameters obtained using your 'fit' method.\n",
    " \n",
    "\n",
    "- N.B.:\n",
    "\n",
    "- Limit your code to the aspects explicitly listed. \n",
    "- Use the Jupyter Notebook provided in the repository for week 5. This notebook contains the data that needs to be transformed.\n",
    "- The required modules have already been imported for you. You should not import any other modules.\n",
    "- If you find creating a class with this functionality daunting, please start by creating normal functions in your notebook. If time permits, you can then change to use of a class later. \n",
    " \n",
    "\n",
    "- HINTS:\n",
    "\n",
    "- Numpy.mean() will 'flatten' your tensor by default. To obtain the mean along a given axis, you may use the axis parameter.\n",
    "\n",
    "- Numpy.cov() assumes by default that data is presented with one observation per column. This can be changed using the rowvar parameter. \n",
    "\n",
    "- A Numpy.matrix is a convenient way of performing the matrix operations required for PCA whilst retaining a matrix/vector like structure. Use of this class is discouraged, but would form a good starting point for tackling this week's challenge. Once you have the code working with the matrix class, changing to arrays is relatively straight forward.\n",
    "\n",
    "- You can use Scikitlearn as follows to check the Eigen vectors that you have found with your 'fit' mehod:\n",
    "\n",
    "- pca = PCA(n_components=2)\n",
    "- pca.fit(data)\n",
    "- print(pca.components_)\n",
    "\n",
    "- You can use Scikitlearn to obtain \n",
    "- GIT push your implementation and post your manual calculations to E-tivity 5: Linear Algebra in Numpy and Beyond and provide the name of your branch.\n",
    "\n",
    "- Respond (Complete by Wednesday Week 6)\n",
    "\n",
    "- Respond to a post of one of your peers with a respectful and in-depth assessment of the implementation with a view to pointing out potential improvements or sound alternative solutions.\n",
    "\n",
    "- Reflect (Complete by Saturday Week 6)\n",
    "\n",
    "- With your code (containing any corrections you have made based on your peers’ feedback), do the following:\n",
    "\n",
    "- For the case where n_components = 1, compare the resulting dataset of your transform method with the resulting dataset from Scikitlearn’s transform method by plotting the points on an XY plot. If there are any differences, explain these in a comment directly under the cell with your plot.\n",
    " - For the case where n_components = 1, compare the dataset resulting from your transform method with the original dataset by plotting the points on an XY plot. Comment on the differences between original and transformed data in the cell directly below your plot. In your comment, explain why and how PCA can be used for dimensionality reduction\n",
    " \n",
    "- HINTS:\n",
    "\n",
    "- You can use Scitkitlean as follows to calculate the new values of the data points in the original dataset when you reduce the dimensions of the data (from 2) to 1: \n",
    "- pca = PCA(n_components=1)\n",
    "- pca.fit(data)\n",
    "- data_pca = pca.transform(data)\n",
    "- data_reduced = pca.inverse_transform(data_pca)\n",
    "\n",
    "- You can use plots to compare the values in your original dataset with the dataset with reduced dimensionality:\n",
    "- plt.plot(data[:,0], data[:,1], 'or')\n",
    "- plt.plot(data_reduced[:,0], data_reduced[:,1],'xb')\n",
    " - plt.show()\n",
    "\n",
    "- You can use your own PCA results to calculate the new values of the data points int the original dataset when you reduce the dimensions of the data (from 2) to 1:\n",
    "- reduced = np.dot(features[:,0],red_highvar.T)+mean.T\n",
    "\n",
    "- with:\n",
    "\n",
    "- reduced: a 2x20 matrix of the new values of the dataset with dimensionality reduction applied\n",
    "- features[:,0]: the 2x1 matrix (or column vector) which contains the Eigen vector associated with the highest variance\n",
    "- red_highvar: a 20x1 matrix containing the reduced dataset which is the output of your transform method with n_components set to 1. \n",
    "- mean: a 1x2 matrix of the per-column mean values of your original data\n",
    "- T: the transform operator as provided by Numpy"
   ]
  },
  {
   "cell_type": "markdown",
   "metadata": {},
   "source": [
    "- The 'as' keyword allows you to invoke functionality from the module using an alias for the module name. For example: np.mean() instead of numpy.mean()\n",
    "- The from keyword allows you to only import the functionality of interest, for example above we import only the PCA class from the sklearn.decomposition module\n",
    "- As per E-tivity instructions: Use of the matrix class is discouraged, but to allow us to simplify the code slightly, we will use it this week. \n",
    "- Its first use will be to store the data that you will perform the PCA transform on. Note that you will likely obtain a higher score if your final version does not use the matrix class.\n",
    "- The numpy shape property is very useful to get an insight in the dimensions of your data, for example to check whether the features (in this case 2) or the samples (in this case 20) are in the rows or the columns. The notation used here (with columns containing the features and rows containing separate examples) is the standard for Scikitlearn and many other machine learning algorithms.\n",
    "- data.shape"
   ]
  },
  {
   "cell_type": "markdown",
   "metadata": {},
   "source": [
    "2. Use the Scikitlean's PCA class with n_components=2 and n_components=1 and observe the differences. In the cell directly below, comment on what you have observed"
   ]
  },
  {
   "cell_type": "code",
   "execution_count": 105,
   "metadata": {},
   "outputs": [
    {
     "name": "stdout",
     "output_type": "stream",
     "text": [
      "PCA(copy=True, iterated_power='auto', n_components=1, random_state=None,\n",
      "  svd_solver='auto', tol=0.0, whiten=False)\n",
      "[[ 38.67690266]\n",
      " [ 30.47956274]\n",
      " [ 28.54256184]\n",
      " [ 31.09520995]\n",
      " [ 23.99588525]\n",
      " [ 13.88353223]\n",
      " [ 10.16489211]\n",
      " [  7.58407835]\n",
      " [  7.18851284]\n",
      " [  5.46636286]\n",
      " [ -6.73837855]\n",
      " [ -2.16872686]\n",
      " [ -6.55628363]\n",
      " [-14.58509954]\n",
      " [-19.38714855]\n",
      " [-18.74318123]\n",
      " [-22.77241586]\n",
      " [-32.17984008]\n",
      " [-38.50623883]\n",
      " [-35.44018772]]\n",
      "[[-0.12666973  0.55996457]\n",
      " [ 1.90771684  8.50084947]\n",
      " [ 2.38843481 10.37725101]\n",
      " [ 1.75492771  7.90446288]\n",
      " [ 3.51681278 14.78168413]\n",
      " [ 6.02646047 24.57767067]\n",
      " [ 6.9493393  28.17997257]\n",
      " [ 7.58983645 30.68004519]\n",
      " [ 7.68800649 31.06323536]\n",
      " [ 8.11540352 32.73150762]\n",
      " [11.14433269 44.55442185]\n",
      " [10.01025284 40.12773241]\n",
      " [11.09914102 44.37802381]\n",
      " [13.09170391 52.155657  ]\n",
      " [14.28345929 56.80747318]\n",
      " [14.12364178 56.18365248]\n",
      " [15.12360285 60.08683189]\n",
      " [17.45830382 69.19994342]\n",
      " [19.02836689 75.32841984]\n",
      " [18.26744527 72.3582906 ]]\n"
     ]
    },
    {
     "data": {
      "image/png": "[encoded data removed]",
      "text/plain": [
       "<Figure size 432x288 with 1 Axes>"
      ]
     },
     "metadata": {},
     "output_type": "display_data"
    }
   ],
   "source": [
    "from sklearn.decomposition import PCA\n",
    "import numpy as np\n",
    "import random as rand\n",
    "import matplotlib.pyplot as plt\n",
    "\n",
    "a_x = 0.05\n",
    "a_y= 10\n",
    "data =  np.matrix([[n*(1+a_x*(rand.random()-0.5)),4*n+ a_y*(rand.random()-0.5)] for n in range(20)])\n",
    "\n",
    "pca = PCA(n_components=1)\n",
    "pca_fit = pca.fit(data)\n",
    "print(pca_fit)\n",
    "data_pca = pca.transform(data)\n",
    "print(data_pca)\n",
    "data_reduced = pca.inverse_transform(data_pca)\n",
    "print(data_reduced)\n",
    "\n",
    "plt.plot(data[:,0], data[:,1], 'or')\n",
    "plt.plot(data_reduced[:,0], data_reduced[:,1],'xb')\n",
    "plt.show()"
   ]
  },
  {
   "cell_type": "code",
   "execution_count": 43,
   "metadata": {},
   "outputs": [
    {
     "name": "stdout",
     "output_type": "stream",
     "text": [
      "[[ 41.31264433   0.80015661]\n",
      " [ 34.73090535   0.11017547]\n",
      " [ 27.71453359  -0.68264269]\n",
      " [ 25.65227967  -0.12223533]\n",
      " [ 20.42037727  -0.38266191]\n",
      " [ 15.53414583  -0.78739574]\n",
      " [ 15.69080796   0.30660507]\n",
      " [  8.89872696  -0.39907169]\n",
      " [  3.78019397  -0.54053592]\n",
      " [  6.30924428   0.92634133]\n",
      " [ -4.4418096   -0.55772707]\n",
      " [ -1.16202422   1.32095868]\n",
      " [-11.75319543  -0.35839994]\n",
      " [-17.13979892  -0.67733326]\n",
      " [-17.41644737   0.32919107]\n",
      " [-21.43198088   0.20405724]\n",
      " [-23.74310992   0.76839357]\n",
      " [-29.11553902   0.44614058]\n",
      " [-35.81608084  -0.92247716]\n",
      " [-38.023873     0.21846109]]\n",
      "[[ 1.77635684e-15 -7.69213707e-01]\n",
      " [ 9.84268470e-01  5.77498812e+00]\n",
      " [ 1.97809475e+00  1.27657208e+01]\n",
      " [ 3.03822863e+00  1.46212702e+01]\n",
      " [ 4.09946009e+00  1.97510278e+01]\n",
      " [ 4.93423398e+00  2.45824064e+01]\n",
      " [ 5.95388101e+00  2.41561427e+01]\n",
      " [ 6.97575677e+00  3.09078917e+01]\n",
      " [ 8.12368344e+00  3.58980476e+01]\n",
      " [ 8.90874772e+00  3.30817560e+01]\n",
      " [ 1.01709417e+01  4.38611106e+01]\n",
      " [ 1.11661785e+01  4.02147485e+01]\n",
      " [ 1.21992012e+01  5.08883617e+01]\n",
      " [ 1.32426325e+01  5.61825535e+01]\n",
      " [ 1.42863741e+01  5.61976849e+01]\n",
      " [ 1.51732318e+01  6.01160584e+01]\n",
      " [ 1.62996419e+01  6.22115281e+01]\n",
      " [ 1.73363017e+01  6.74928327e+01]\n",
      " [ 1.76934846e+01  7.43223858e+01]\n",
      " [ 1.93520948e+01  7.61730879e+01]]\n"
     ]
    },
    {
     "data": {
      "image/png": "[encoded data removed]",
      "text/plain": [
       "<Figure size 432x288 with 1 Axes>"
      ]
     },
     "metadata": {},
     "output_type": "display_data"
    }
   ],
   "source": [
    "from sklearn.decomposition import PCA\n",
    "import numpy as np\n",
    "import random as rand\n",
    "\n",
    "a_x = 0.05\n",
    "a_y= 10\n",
    "\n",
    "pca = PCA(n_components=2)\n",
    "pca.fit(data)\n",
    "data_pca = pca.transform(data)\n",
    "print(data_pca)\n",
    "data_reduced = pca.inverse_transform(data_pca)\n",
    "print(data_reduced)\n",
    "\n",
    "plt.plot(data[:,0], data[:,1], 'or')\n",
    "plt.plot(data_reduced[:,0], data_reduced[:,1],'xb')\n",
    "plt.show()"
   ]
  },
  {
   "cell_type": "markdown",
   "metadata": {},
   "source": [
    "- Observation:\n",
    "When the principal component is set to one the lines on the graph are more sparsly parsed out not on with blue x not in line with the red dot. As for when the principal components is set to two the blue dots x are more in line with the red dots meaning the dataset is more in line. The dimensions of the data has increased from 1 dimension the datset is more in line with the actual data as there are two dimensions in the dataset. "
   ]
  },
  {
   "cell_type": "code",
   "execution_count": 45,
   "metadata": {},
   "outputs": [
    {
     "data": {
      "text/plain": [
       "[<matplotlib.lines.Line2D at 0x1c4bd27ba20>]"
      ]
     },
     "execution_count": 45,
     "metadata": {},
     "output_type": "execute_result"
    },
    {
     "data": {
      "image/png": "[encoded data removed]",
      "text/plain": [
       "<Figure size 432x288 with 1 Axes>"
      ]
     },
     "metadata": {},
     "output_type": "display_data"
    }
   ],
   "source": [
    "import matplotlib.pyplot as plt\n",
    "data =  np.matrix([[n*(1+a_x*(rand.random()-0.5)),4*n+ a_y*(rand.random()-0.5)] for n in range(20)])\n",
    "plt.plot(data[:, 0], data[:, 1], 'go')"
   ]
  },
  {
   "cell_type": "code",
   "execution_count": null,
   "metadata": {},
   "outputs": [],
   "source": [
    "- Fit Method Implementation"
   ]
  },
  {
   "cell_type": "code",
   "execution_count": 151,
   "metadata": {},
   "outputs": [
    {
     "name": "stdout",
     "output_type": "stream",
     "text": [
      "[ 9.5030293  38.58032097]\n",
      "[[ 35.56657553 142.62097799]\n",
      " [142.62097799 578.35355708]]\n",
      "PCA Implementation Fit\n",
      "[[0.2395718 ]\n",
      " [0.97087865]]\n",
      "Scikitlean fit\n",
      "[[-0.2395718  -0.97087865]]\n"
     ]
    }
   ],
   "source": [
    "from sklearn.decomposition import PCA\n",
    "import numpy as np\n",
    "from numpy.linalg import linalg as nla\n",
    "import random as rand\n",
    "import matplotlib.pyplot as plt\n",
    "\n",
    "a_x = 0.05\n",
    "a_y= 10\n",
    "data =  np.array([[n*(1+a_x*(rand.random()-0.5)),4*n+ a_y*(rand.random()-0.5)] for n in range(20)])\n",
    "\n",
    "\n",
    "class pca:\n",
    "    \n",
    "    def __init__(self,n_components=None):\n",
    "        self.n_components = n_components\n",
    "        self.components_ = []\n",
    "        \n",
    "    def fit(self, data):\n",
    "        # get mean of data\n",
    "        self.mean_data = data.mean(axis=0)\n",
    "        print(self.mean_data)\n",
    "        # get covariance from data\n",
    "        self.covariance_data = np.cov(data, rowvar=False)\n",
    "        print(self.covariance_data)\n",
    "        # get eigenvectors and values from covariance matrix\n",
    "        self.eigenvalues, self.eigenvectors = np.linalg.eigh(self.covariance_data)\n",
    "        # sort eigenvectors and value\n",
    "        index = self.eigenvalues.argsort()[::-1]   \n",
    "        eigenValues = self.eigenvalues[index]\n",
    "        eigenVectors = self.eigenvectors[:,index]\n",
    "        eigenVectors = eigenVectors[:, :self.n_components]\n",
    "        self.components_ = eigenVectors\n",
    "        return (eigenValues, eigenVectors)\n",
    "        \n",
    "        \n",
    "implementated_pca = pca(1)\n",
    "implementated_pca.fit(data)\n",
    "print(\"PCA Implementation Fit\")\n",
    "print(implementated_pca.components_)\n",
    "pca = PCA(1)\n",
    "print(\"Scikitlean fit\")\n",
    "pca.fit(data)\n",
    "print(pca.components_)"
   ]
  },
  {
   "cell_type": "markdown",
   "metadata": {},
   "source": [
    "- 1. Comment\n",
    "The results from the implementation of PCA Implementation Fit that i have worked on and Scikits learn implementation of it are both the same values but my implementation has positive for x1 and y2 whereas the scikit learn fit method has them both as negative values for a 2x2 Matrix/Array"
   ]
  },
  {
   "cell_type": "markdown",
   "metadata": {},
   "source": [
    " - Transform Implementation"
   ]
  },
  {
   "cell_type": "code",
   "execution_count": 159,
   "metadata": {},
   "outputs": [
    {
     "name": "stdout",
     "output_type": "stream",
     "text": [
      "PCA Implementation\n",
      "Fit\n",
      "[ 9.50376561 38.17431345]\n",
      "[[ 34.51917104 134.88081413]\n",
      " [134.88081413 534.74089012]]\n",
      "[[0.24477674]\n",
      " [0.96957947]]\n",
      "Transform\n",
      "[[ 0.          0.99129879  2.04066336  2.9764098   3.93307544  4.99358534\n",
      "   6.0014984   7.12871985  7.98353298  9.08332997 10.24579266 11.18242002\n",
      "  12.26852672 12.98863976 13.8382187  15.05029965 15.95482756 16.7886999\n",
      "  17.85930885 18.76646454]\n",
      " [-1.54442553  4.68567115 11.20655037 14.76154698 18.33590579 24.08538411\n",
      "  24.1070721  24.14473337 30.90229888 34.08323598 35.7516664  44.76930772\n",
      "  50.74331789 52.09851638 60.11078884 64.40986524 62.48511186 64.91400271\n",
      "  70.69528051 72.74043835]]\n",
      "Scikitlean\n",
      "Fit\n",
      "[[-0.24477674 -0.96957947]]\n",
      "Transform\n"
     ]
    },
    {
     "data": {
      "text/plain": [
       "array([[ 40.83677464],\n",
       "       [ 34.55355391],\n",
       "       [ 27.97418326],\n",
       "       [ 24.29828257],\n",
       "       [ 20.59848816],\n",
       "       [ 14.76432386],\n",
       "       [ 14.49658196],\n",
       "       [ 14.18414877],\n",
       "       [  7.42291362],\n",
       "       [  4.0695376 ],\n",
       "       [  2.16731789],\n",
       "       [ -6.80526659],\n",
       "       [-12.86339786],\n",
       "       [-14.35363741],\n",
       "       [-22.33012947],\n",
       "       [-26.7951149 ],\n",
       "       [-25.15032093],\n",
       "       [-27.70943618],\n",
       "       [-33.57690462],\n",
       "       [-35.78189828]])"
      ]
     },
     "execution_count": 159,
     "metadata": {},
     "output_type": "execute_result"
    }
   ],
   "source": [
    "from sklearn.decomposition import PCA\n",
    "import numpy as np\n",
    "from numpy.linalg import linalg as nla\n",
    "import random as rand\n",
    "import matplotlib.pyplot as plt\n",
    "\n",
    "a_x = 0.05\n",
    "a_y= 10\n",
    "data =  np.array([[n*(1+a_x*(rand.random()-0.5)),4*n+ a_y*(rand.random()-0.5)] for n in range(20)])\n",
    "\n",
    "\n",
    "class pca:\n",
    "    \n",
    "    def __init__(self,n_components=None):\n",
    "        self.n_components = n_components\n",
    "        self.components_ = []\n",
    "        \n",
    "    def fit(self, data):\n",
    "        self.data = data\n",
    "        # get mean of data\n",
    "        self.mean_data = self.data.mean(axis=0)\n",
    "        print(self.mean_data)\n",
    "        # get covariance from data\n",
    "        self.covariance_data = np.cov(self.data, rowvar=False)\n",
    "        print(self.covariance_data)\n",
    "        # get eigenvectors and values from covariance matrix\n",
    "        self.eigenvalues, self.eigenvectors = np.linalg.eigh(self.covariance_data)\n",
    "        # sort eigenvectors and value\n",
    "        index = self.eigenvalues.argsort()[::-1]   \n",
    "        eigenValues = self.eigenvalues[index]\n",
    "        eigenVectors = self.eigenvectors[:,index]\n",
    "        eigenVectors = eigenVectors[:, :self.n_components]\n",
    "        self.components_ = eigenVectors\n",
    "        return (eigenValues, eigenVectors)\n",
    "    \n",
    "    def transform(self, data):\n",
    "        transposed_data = data.transpose()\n",
    "        print(transposed_data)\n",
    "        \n",
    "print(\"PCA Implementation\")     \n",
    "implementated_pca = pca(1)\n",
    "print(\"Fit\")\n",
    "implementated_pca.fit(data)\n",
    "print(implementated_pca.components_)\n",
    "print(\"Transform\")\n",
    "implementated_pca.transform(data)\n",
    "\n",
    "\n",
    "print(\"Scikitlean\")\n",
    "pca = PCA(1)\n",
    "print(\"Fit\")\n",
    "pca.fit(data)\n",
    "print(pca.components_)\n",
    "print(\"Transform\")\n",
    "pca.transform(data)\n"
   ]
  },
  {
   "cell_type": "code",
   "execution_count": null,
   "metadata": {},
   "outputs": [],
   "source": []
  }
 ],
 "metadata": {
  "kernelspec": {
   "display_name": "Python 3",
   "language": "python",
   "name": "python3"
  },
  "language_info": {
   "codemirror_mode": {
    "name": "ipython",
    "version": 3
   },
   "file_extension": ".py",
   "mimetype": "text/x-python",
   "name": "python",
   "nbconvert_exporter": "python",
   "pygments_lexer": "ipython3",
   "version": "3.6.5"
  }
 },
 "nbformat": 4,
 "nbformat_minor": 1
}
