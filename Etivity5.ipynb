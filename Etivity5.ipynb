{
 "cells": [
  {
   "cell_type": "markdown",
   "metadata": {},
   "source": [
    "Student Name: Garret Molloy\n",
    "\n",
    "Student ID: 9021906"
   ]
  },
  {
   "cell_type": "markdown",
   "metadata": {},
   "source": [
    "- The 'as' keyword allows you to invoke functionality from the module using an alias for the module name. For example: np.mean() instead of numpy.mean()\n",
    "- The from keyword allows you to only import the functionality of interest, for example above we import only the PCA class from the sklearn.decomposition module"
   ]
  },
  {
   "cell_type": "code",
   "execution_count": 10,
   "metadata": {},
   "outputs": [],
   "source": [
    "import numpy as np\n",
    "import random as rand\n",
    "import matplotlib.pyplot as plt\n",
    "from numpy.linalg import eig\n",
    "from sklearn.decomposition import PCA\n",
    "\n"
   ]
  },
  {
   "cell_type": "markdown",
   "metadata": {},
   "source": [
    "As per E-tivity instructions: Use of the matrix class is discouraged, but to allow us to simplify the code slightly, we will use it this week. Its first use will be to store the data that you will perform the PCA transform on. Note that you will likely obtain a higher score if your final version does not use the matrix class."
   ]
  },
  {
   "cell_type": "code",
   "execution_count": 11,
   "metadata": {},
   "outputs": [],
   "source": [
    "a_x = 0.05\n",
    "a_y= 10"
   ]
  },
  {
   "cell_type": "code",
   "execution_count": 210,
   "metadata": {},
   "outputs": [
    {
     "name": "stdout",
     "output_type": "stream",
     "text": [
      "[[ 0.         -2.0194807 ]\n",
      " [ 0.99659202  8.708197  ]\n",
      " [ 2.00842767  7.88956363]\n",
      " [ 3.06826015  8.46955062]\n",
      " [ 3.9044002  19.57792152]\n",
      " [ 5.09345385 22.77674623]\n",
      " [ 5.93625636 25.01725005]\n",
      " [ 7.00992238 29.44845262]\n",
      " [ 8.10779196 33.62710937]\n",
      " [ 9.19028529 31.94856812]\n",
      " [10.01404089 36.81408785]\n",
      " [11.00761003 39.77820259]\n",
      " [12.03996216 48.41364219]\n",
      " [12.82786491 49.35345531]\n",
      " [13.78370098 54.97968451]\n",
      " [14.66587216 55.55528173]\n",
      " [15.90298169 64.88517208]\n",
      " [16.73488828 72.51846605]\n",
      " [17.93364995 70.94800758]\n",
      " [19.40493055 77.10668531]]\n"
     ]
    }
   ],
   "source": [
    "data =  np.matrix([[n*(1+a_x*(rand.random()-0.5)),4*n+ a_y*(rand.random()-0.5)] for n in range(20)])\n",
    "\n",
    "\n",
    "data_mismatch = [[ 0.        ,  2.57954403],\n",
    " [ 0.99602858,  1.5891675 ],\n",
    " [ 2.00112747,  7.04934137],\n",
    " [ 3.04256979, 10.03312726],\n",
    " [ 3.99531939, 16.83382039],\n",
    " [ 5.10202822, 20.04686856],\n",
    " [ 5.93455135, 26.55804204],\n",
    " [ 7.04142915, 25.50506341],\n",
    " [ 8.1638985 , 36.82785476],\n",
    " [ 9.13959776, 40.0216595 ],\n",
    " [ 9.90507378, 42.29831748],\n",
    " [11.21936106, 45.83983932],\n",
    " [11.98328563, 44.00701208],\n",
    " [12.95721169, 53.10886973],\n",
    " [14.28910774, 60.66606368],\n",
    " [14.98275733, 63.65309928],\n",
    " [15.80839385, 67.05027827],\n",
    " [17.04139441, 63.140417  ],\n",
    " [18.19773422, 70.98823542],\n",
    " [19.30860273, 77.68153201]]\n",
    "\n",
    "data_match = [[ 0.,         -4.22830278],\n",
    " [ 1.01505178,  2.22688934],\n",
    " [ 1.99873554, 10.81453781],\n",
    " [ 3.02864052, 13.35797879],\n",
    " [ 3.9869405 , 12.57558693],\n",
    " [ 4.90162102, 21.03062467],\n",
    " [ 5.90072729, 20.6964779 ],\n",
    " [ 7.07184393, 29.05295731],\n",
    " [ 8.07977457, 35.89149058],\n",
    " [ 8.98537757, 40.30033969],\n",
    " [10.10816146, 39.41500296],\n",
    " [11.19544781, 46.75547936],\n",
    " [12.04701742, 49.17473117],\n",
    " [13.0677893 , 49.7899254 ],\n",
    " [14.18069188, 56.78281782],\n",
    " [15.33737312, 63.70410606],\n",
    " [15.85364707, 61.80037181],\n",
    " [17.14309877, 63.98445754],\n",
    " [17.99313303, 69.06361475],\n",
    " [18.88932212, 73.25528261]]\n",
    "\n",
    "# To see a mismatched result between scikit and My PCA\n",
    "# data = data_mismatch\n",
    "\n",
    "# To see a perfect matched result for scikit and My PCA\n",
    "# dta = data_match\n",
    "\n",
    "\n",
    "print(data)\n"
   ]
  },
  {
   "cell_type": "markdown",
   "metadata": {},
   "source": [
    "The numpy shape property is very useful to get an insight in the dimensions of your data, for example to check whether the features (in this case 2) or the samples (in this case 20) are in the rows or the columns. The notation used here (with columns containing the features and rows containing separate examples) is the standard for Scikitlearn and many other machine learning algorithms.\n"
   ]
  },
  {
   "cell_type": "code",
   "execution_count": 20,
   "metadata": {},
   "outputs": [
    {
     "data": {
      "text/plain": [
       "(20, 2)"
      ]
     },
     "execution_count": 20,
     "metadata": {},
     "output_type": "execute_result"
    }
   ],
   "source": [
    "data.shape"
   ]
  },
  {
   "cell_type": "markdown",
   "metadata": {},
   "source": [
    "## My PCA Class"
   ]
  },
  {
   "cell_type": "code",
   "execution_count": 211,
   "metadata": {},
   "outputs": [
    {
     "name": "stdout",
     "output_type": "stream",
     "text": [
      "MATCH!\n",
      "\n",
      "My_PCA versus SKLEARN Comparison:\n",
      "=== My eigen vectors\n",
      "[[-0.24177287 -0.97033287]\n",
      " [-0.97033287  0.24177287]]\n",
      "=== SKLEARN eigen vectors\n",
      "[[-0.24177287 -0.97033287]\n",
      " [-0.97033287  0.24177287]]\n",
      "=== My eigen values\n",
      "[5.85431170e+02 5.13400478e-01]\n",
      "=== SKLEARN eigen values\n",
      "[5.85431170e+02 5.13400478e-01]\n",
      "My PCA Calculation:\n",
      "[[ 4.09206612e+01 -4.24556308e-01]\n",
      " [ 3.02702940e+01  1.20207908e+00]\n",
      " [ 3.08200065e+01  2.23383465e-02]\n",
      " [ 3.00009873e+01 -8.65826834e-01]\n",
      " [ 1.90200139e+01  1.00854165e+00]\n",
      " [ 1.56286082e+01  6.28152829e-01]\n",
      " [ 1.32508069e+01  3.52046883e-01]\n",
      " [ 8.69148208e+00  3.81577987e-01]\n",
      " [ 4.37135901e+00  3.26564867e-01]\n",
      " [ 5.73838524e+00 -1.12963972e+00]\n",
      " [ 8.18049761e-01 -7.52606217e-01]\n",
      " [-2.29834626e+00 -1.00005650e+00]\n",
      " [-1.09271919e+01  8.60332713e-02]\n",
      " [-1.20296170e+01 -4.51273358e-01]\n",
      " [-1.77200273e+01 -1.84829611e-02]\n",
      " [-1.84918333e+01 -7.35318865e-01]\n",
      " [-2.78440321e+01  3.19987421e-01]\n",
      " [-3.54520006e+01  1.35828447e+00]\n",
      " [-3.42179612e+01 -1.84607634e-01]\n",
      " [-4.05496443e+01 -1.23238402e-01]]\n",
      "PCA:\n",
      "[[ 4.09206612e+01 -4.24556308e-01]\n",
      " [ 3.02702940e+01  1.20207908e+00]\n",
      " [ 3.08200065e+01  2.23383465e-02]\n",
      " [ 3.00009873e+01 -8.65826834e-01]\n",
      " [ 1.90200139e+01  1.00854165e+00]\n",
      " [ 1.56286082e+01  6.28152829e-01]\n",
      " [ 1.32508069e+01  3.52046883e-01]\n",
      " [ 8.69148208e+00  3.81577987e-01]\n",
      " [ 4.37135901e+00  3.26564867e-01]\n",
      " [ 5.73838524e+00 -1.12963972e+00]\n",
      " [ 8.18049761e-01 -7.52606217e-01]\n",
      " [-2.29834626e+00 -1.00005650e+00]\n",
      " [-1.09271919e+01  8.60332713e-02]\n",
      " [-1.20296170e+01 -4.51273358e-01]\n",
      " [-1.77200273e+01 -1.84829611e-02]\n",
      " [-1.84918333e+01 -7.35318865e-01]\n",
      " [-2.78440321e+01  3.19987421e-01]\n",
      " [-3.54520006e+01  1.35828447e+00]\n",
      " [-3.42179612e+01 -1.84607634e-01]\n",
      " [-4.05496443e+01 -1.23238402e-01]]\n"
     ]
    }
   ],
   "source": [
    "from numpy import array\n",
    "from numpy import mean\n",
    "from numpy import cov\n",
    "from numpy.linalg import eig\n",
    "from sklearn.decomposition import PCA\n",
    "\n",
    "# based on tutorial : https://machinelearningmastery.com/calculate-principal-component-analysis-scratch-python/\n",
    "\n",
    "class My_PCA:\n",
    "    def __init__(self, list, n_components = 2):\n",
    "        self.array = array(list)\n",
    "        self.n_components = n_components\n",
    "        \n",
    "    def fit(self, n_components = 0):\n",
    "        # set n_components if passed in\n",
    "        if(n_components != 0):\n",
    "            self.n_components = n_components\n",
    "        # calculate the mean of each column in our array\n",
    "        self.mean = mean(self.array.T, axis=1)\n",
    "        # center columns by subtracting column means\n",
    "        self.centered = self.array - self.mean\n",
    "        # calculate covariance matrix of centered matrix\n",
    "        self.covariance = cov(self.centered.T)\n",
    "        # eigen decomposition of covariance matrix\n",
    "        self.eigenvalues, self.eigenvectors = eig(self.covariance)\n",
    "        # We should sort the eigen vectors by their eigen value\n",
    "        eigen_value_order = self.eigenvalues.argsort()[::-1]\n",
    "        self.eigenvalues = self.eigenvalues[eigen_value_order]\n",
    "        self.eigenvectors = self.eigenvectors[:, eigen_value_order]\n",
    "\n",
    "        # n_components will filter the eigen vectors - Thanks Abhijit Sinha\n",
    "        self.eigenvalues = self.eigenvalues[:self.n_components]\n",
    "        self.eigenvectors = self.eigenvectors[:, :self.n_components]  \n",
    "        \n",
    "    def calculate_pca(self, n_components = 0):\n",
    "        # set n_components if passed in\n",
    "        if(n_components != 0):\n",
    "            self.n_components = n_components\n",
    "        self.fit(self.n_components)\n",
    "\n",
    "        transposed_matrix = self.eigenvectors.T.dot(self.centered.T)\n",
    "        return (transposed_matrix.T)\n",
    "\n",
    "\n",
    "# Array Defined above variable=data\n",
    "\n",
    "# PCA Calculation using my class My_PCA\n",
    "my_pca = My_PCA(data)\n",
    "my_pca_calculation = my_pca.calculate_pca()\n",
    "\n",
    "# PCA calculation using sklearn PCA\n",
    "# create the PCA instance\n",
    "sklearn_array = array(data)\n",
    "sklearn_pca = PCA(2)\n",
    "sklearn_pca.fit(sklearn_array)\n",
    "sklearn_PCA_calculation = sklearn_pca.transform(sklearn_array)\n",
    "\n",
    "if(np.allclose(my_pca.eigenvectors, sklearn_pca.components_)):\n",
    "    print (\"MATCH!\\n\")\n",
    "else:\n",
    "    print(\"POLARITY MISMATCH!!\\n\")\n",
    "           \n",
    "print(\"My_PCA versus SKLEARN Comparison:\")\n",
    "# access values and vectors\n",
    "print(\"=== My eigen vectors\")\n",
    "print(my_pca.eigenvectors)\n",
    "print(\"=== SKLEARN eigen vectors\")\n",
    "print(sklearn_pca.components_)\n",
    "print(\"=== My eigen values\")\n",
    "print(my_pca.eigenvalues)\n",
    "print(\"=== SKLEARN eigen values\")\n",
    "print(sklearn_pca.explained_variance_)\n",
    "print(\"My PCA Calculation:\")\n",
    "print(my_pca_calculation)\n",
    "print(\"PCA:\")\n",
    "print(sklearn_PCA_calculation)\n"
   ]
  },
  {
   "cell_type": "markdown",
   "metadata": {},
   "source": [
    "When creating the random data - some data generation provdes an exact match with ScikitLearns's output.\n",
    "The eigen vectors are a match and the plotting is exact.\n",
    "Run the random data generator again and sometimes the eigenvectors will have different polarities.\n",
    "In these cases teh graph will not overlap directly."
   ]
  },
  {
   "cell_type": "code",
   "execution_count": 212,
   "metadata": {},
   "outputs": [
    {
     "data": {
      "image/png": "[encoded data removed]",
      "text/plain": [
       "<Figure size 432x288 with 1 Axes>"
      ]
     },
     "metadata": {},
     "output_type": "display_data"
    }
   ],
   "source": [
    "plt.title('Comparison of My Transform vs SciKit Transform')\n",
    "plt.plot(my_pca_calculation[:,0], my_pca_calculation[:,1],'xb')\n",
    "plt.plot(sklearn_PCA_calculation[:,0], sklearn_PCA_calculation[:,1],'kv')\n",
    "plt.show()\n",
    " # thanks to Martin Power for plotting tip"
   ]
  },
  {
   "cell_type": "code",
   "execution_count": null,
   "metadata": {},
   "outputs": [],
   "source": [
    "When there is no polarity differntial between the SciKit and My eigenvectors there is an exact match.\n",
    "When they do not match, this is due to the polarity being different."
   ]
  },
  {
   "cell_type": "code",
   "execution_count": 213,
   "metadata": {},
   "outputs": [
    {
     "data": {
      "image/png": "[encoded data removed]",
      "text/plain": [
       "<Figure size 432x288 with 1 Axes>"
      ]
     },
     "metadata": {},
     "output_type": "display_data"
    }
   ],
   "source": [
    "plt.title('Original Data V My Transform Data n_component = 2')\n",
    "plt.plot(data[:,0], data[:,1], 'or')\n",
    "plt.plot(my_pca_calculation[:,0], my_pca_calculation[:,1],'xb')\n",
    "\n",
    "sklearn_pca1 = PCA(1)\n",
    "sklearn_pca1.fit(sklearn_array)\n",
    "sklearn_PCA_calculation1 = sklearn_pca1.transform(sklearn_array)\n",
    "\n",
    "\n",
    "plt.show()"
   ]
  },
  {
   "cell_type": "markdown",
   "metadata": {},
   "source": [
    "## n_component = 1"
   ]
  },
  {
   "cell_type": "code",
   "execution_count": 214,
   "metadata": {},
   "outputs": [
    {
     "name": "stdout",
     "output_type": "stream",
     "text": [
      "My PCA Calculation n_component = 1:\n",
      "=== eigen vectors\n",
      "[[-0.24177287]\n",
      " [-0.97033287]]\n",
      "=== eigen values\n",
      "[585.43116965]\n",
      "PCA:\n",
      "[[ 4.09206612e+01 -4.24556308e-01]\n",
      " [ 3.02702940e+01  1.20207908e+00]\n",
      " [ 3.08200065e+01  2.23383465e-02]\n",
      " [ 3.00009873e+01 -8.65826834e-01]\n",
      " [ 1.90200139e+01  1.00854165e+00]\n",
      " [ 1.56286082e+01  6.28152829e-01]\n",
      " [ 1.32508069e+01  3.52046883e-01]\n",
      " [ 8.69148208e+00  3.81577987e-01]\n",
      " [ 4.37135901e+00  3.26564867e-01]\n",
      " [ 5.73838524e+00 -1.12963972e+00]\n",
      " [ 8.18049761e-01 -7.52606217e-01]\n",
      " [-2.29834626e+00 -1.00005650e+00]\n",
      " [-1.09271919e+01  8.60332713e-02]\n",
      " [-1.20296170e+01 -4.51273358e-01]\n",
      " [-1.77200273e+01 -1.84829611e-02]\n",
      " [-1.84918333e+01 -7.35318865e-01]\n",
      " [-2.78440321e+01  3.19987421e-01]\n",
      " [-3.54520006e+01  1.35828447e+00]\n",
      " [-3.42179612e+01 -1.84607634e-01]\n",
      " [-4.05496443e+01 -1.23238402e-01]]\n"
     ]
    },
    {
     "data": {
      "image/png": "[encoded data removed]",
      "text/plain": [
       "<Figure size 432x288 with 1 Axes>"
      ]
     },
     "metadata": {},
     "output_type": "display_data"
    }
   ],
   "source": [
    "# Remember you can do a n_component = 1 just by secifyinhg this in the calculate function\n",
    "\n",
    "print(\"My PCA Calculation n_component = 1:\")\n",
    "my_pca_calculation_n1 = my_pca.calculate_pca(1)\n",
    "print(\"=== eigen vectors\")\n",
    "print(my_pca.eigenvectors)\n",
    "print(\"=== eigen values\")\n",
    "print(my_pca.eigenvalues)\n",
    "print(\"PCA:\")\n",
    "print(my_pca_calculation)\n",
    "\n",
    "plt.title('Original Data V My Transform Data n_component = 1 ')\n",
    "plt.plot(data[:,0], data[:,1], 'or')\n",
    "plt.plot(my_pca_calculation[:,0], my_pca_calculation[:,1],'xb')\n",
    "plt.plot(my_pca_calculation_n1[:,0], np.zeros_like(my_pca_calculation_n1),'kv')\n",
    "plt.show()"
   ]
  },
  {
   "cell_type": "markdown",
   "metadata": {},
   "source": [
    "We have reduced teh 2 D matrix to a 1 D array.\n",
    "We can suggest that the red diagonal lien and the elements along it have been rotated onto the horizontal axis.\n",
    "As the elements were close to the line, the transform does not lose the variance of the original data (no data loss) from the missing dimension.\n"
   ]
  },
  {
   "cell_type": "markdown",
   "metadata": {},
   "source": [
    "Compare the 2 D transform to the 1D transform and you see it is just mapped to a line.\n"
   ]
  },
  {
   "cell_type": "code",
   "execution_count": 215,
   "metadata": {},
   "outputs": [
    {
     "data": {
      "image/png": "[encoded data removed]",
      "text/plain": [
       "<Figure size 432x288 with 1 Axes>"
      ]
     },
     "metadata": {},
     "output_type": "display_data"
    }
   ],
   "source": [
    "plt.title('My n=2 Transform V My n=1 Transform')\n",
    "plt.plot(my_pca_calculation[:,0], my_pca_calculation[:,1],'xb')\n",
    "plt.plot(my_pca_calculation_n1[:,0], np.zeros_like(my_pca_calculation_n1),'xk')\n",
    "plt.show()"
   ]
  },
  {
   "cell_type": "markdown",
   "metadata": {},
   "source": [
    "Result: Mapped to the x plane. Still no loss of data in our case."
   ]
  },
  {
   "cell_type": "code",
   "execution_count": 216,
   "metadata": {},
   "outputs": [
    {
     "data": {
      "image/png": "[encoded data removed]",
      "text/plain": [
       "<Figure size 432x288 with 1 Axes>"
      ]
     },
     "metadata": {},
     "output_type": "display_data"
    }
   ],
   "source": [
    "plt.title('My n=2 Transform V My n=1 Transform V scikit  n=2 transform V scikit n-1 transform')\n",
    "plt.plot(my_pca_calculation[:,0], my_pca_calculation[:,1],'xb')\n",
    "plt.plot(my_pca_calculation_n1[:,0], np.zeros_like(my_pca_calculation_n1),'xk')\n",
    "\n",
    "# Calculate n_component = 1 with scikit\n",
    "sklearn_pca1 = PCA(1)\n",
    "sklearn_pca1.fit(sklearn_array)\n",
    "sklearn_PCA_calculation1 = sklearn_pca1.transform(sklearn_array)\n",
    "plt.plot(sklearn_PCA_calculation[:,0], sklearn_PCA_calculation[:,1],'ob')\n",
    "plt.plot(sklearn_PCA_calculation1[:,0], np.zeros_like(sklearn_PCA_calculation1),'or')\n",
    "\n",
    "plt.show()"
   ]
  },
  {
   "cell_type": "markdown",
   "metadata": {},
   "source": [
    "We can see - if the polarity is different The 1D plot is differnt - they do not converge.\n",
    "\n"
   ]
  }
 ],
 "metadata": {
  "kernelspec": {
   "display_name": "Python 3",
   "language": "python",
   "name": "python3"
  },
  "language_info": {
   "codemirror_mode": {
    "name": "ipython",
    "version": 3
   },
   "file_extension": ".py",
   "mimetype": "text/x-python",
   "name": "python",
   "nbconvert_exporter": "python",
   "pygments_lexer": "ipython3",
   "version": "3.6.5"
  }
 },
 "nbformat": 4,
 "nbformat_minor": 1
}
