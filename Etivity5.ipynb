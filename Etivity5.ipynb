{
 "cells": [
  {
   "cell_type": "markdown",
   "metadata": {},
   "source": [
    "### Etivity 5- PCA\n",
    "\n",
    "#### Student Name:   Mark Murnane\n",
    "\n",
    "#### Student ID:     18195326"
   ]
  },
  {
   "cell_type": "markdown",
   "metadata": {},
   "source": [
    "- The 'as' keyword allows you to invoke functionality from the module using an alias for the module name. For example: np.mean() instead of numpy.mean()\n",
    "- The from keyword allows you to only import the functionality of interest, for example above we import only the PCA class from the sklearn.decomposition module"
   ]
  },
  {
   "cell_type": "code",
   "execution_count": 1,
   "metadata": {},
   "outputs": [],
   "source": [
    "import numpy as np\n",
    "import random as rand\n",
    "import matplotlib.pyplot as plt\n",
    "from numpy.linalg import eig\n",
    "from sklearn.decomposition import PCA"
   ]
  },
  {
   "cell_type": "markdown",
   "metadata": {},
   "source": [
    "As per E-tivity instructions: Use of the matrix class is discouraged, but to allow us to simplify the code slightly, we will use it this week. Its first use will be to store the data that you will perform the PCA transform on. Note that you will likely obtain a higher score if your final version does not use the matrix class."
   ]
  },
  {
   "cell_type": "code",
   "execution_count": 2,
   "metadata": {},
   "outputs": [],
   "source": [
    "a_x = 0.05\n",
    "a_y= 10"
   ]
  },
  {
   "cell_type": "code",
   "execution_count": 3,
   "metadata": {},
   "outputs": [
    {
     "data": {
      "text/plain": [
       "array([[ 0.        , -3.18613092],\n",
       "       [ 1.0104862 ,  1.5094853 ],\n",
       "       [ 2.01663946,  9.76875596],\n",
       "       [ 2.93121612,  7.16755328],\n",
       "       [ 4.06190361, 12.52850066],\n",
       "       [ 5.05629567, 20.57992167],\n",
       "       [ 5.85562899, 19.56331826],\n",
       "       [ 6.85275118, 29.45643992],\n",
       "       [ 7.86924059, 36.24992678],\n",
       "       [ 9.10414558, 38.98439936],\n",
       "       [ 9.80463888, 42.31621344],\n",
       "       [11.11947162, 43.72258498],\n",
       "       [12.09929153, 44.90361737],\n",
       "       [13.14068206, 51.99208065],\n",
       "       [14.03295783, 51.90266469],\n",
       "       [15.04315859, 63.52263988],\n",
       "       [15.82339483, 60.98636331],\n",
       "       [16.75129064, 64.61505206],\n",
       "       [18.18669161, 68.021875  ],\n",
       "       [19.46049808, 73.63832651]])"
      ]
     },
     "execution_count": 3,
     "metadata": {},
     "output_type": "execute_result"
    }
   ],
   "source": [
    "data =  np.array([[n*(1+a_x*(rand.random()-0.5)),4*n+ a_y*(rand.random()-0.5)] for n in range(20)])\n",
    "data"
   ]
  },
  {
   "cell_type": "markdown",
   "metadata": {},
   "source": [
    "The numpy shape property is very useful to get an insight in the dimensions of your data, for example to check whether the features (in this case 2) or the samples (in this case 20) are in the rows or the columns. The notation used here (with columns containing the features and rows containing separate examples) is the standard for Scikitlearn and many other machine learning algorithms.\n"
   ]
  },
  {
   "cell_type": "code",
   "execution_count": 4,
   "metadata": {},
   "outputs": [
    {
     "data": {
      "text/plain": [
       "(20, 2)"
      ]
     },
     "execution_count": 4,
     "metadata": {},
     "output_type": "execute_result"
    }
   ],
   "source": [
    "data.shape"
   ]
  },
  {
   "cell_type": "markdown",
   "metadata": {},
   "source": [
    "### Scikit\n",
    "\n",
    "The `fit()` values from Scikitlearn are:"
   ]
  },
  {
   "cell_type": "code",
   "execution_count": 9,
   "metadata": {},
   "outputs": [
    {
     "name": "stdout",
     "output_type": "stream",
     "text": [
      "Scikitlearn PCA Eigen vectors\n",
      "\n",
      "[[-0.24226508 -0.9702101 ]\n",
      " [-0.9702101   0.24226508]]\n",
      "\n",
      "Scikitlearn PCA Eigen values\n",
      "\n",
      "[5.96485136e+02 5.56775348e-01]\n"
     ]
    }
   ],
   "source": [
    "pca = PCA(n_components=2)\n",
    "pca.fit(data)\n",
    "\n",
    "print(\"Scikitlearn PCA Eigen vectors\\n\")\n",
    "print(pca.components_)\n",
    "print(\"\\nScikitlearn PCA Eigen values\\n\")\n",
    "print(pca.explained_variance_)\n"
   ]
  },
  {
   "cell_type": "markdown",
   "metadata": {},
   "source": [
    "### My Implementation\n",
    "\n",
    "I changed the definition of the data from an `np.matrix` to an `np.array`."
   ]
  },
  {
   "cell_type": "code",
   "execution_count": 10,
   "metadata": {},
   "outputs": [
    {
     "name": "stdout",
     "output_type": "stream",
     "text": [
      "The Eigen values of the data are [5.56775348e-01 5.96485136e+02]\n",
      "\n",
      "The Eigen vectors of the data are\n",
      "[[-0.9702101  -0.24226508]\n",
      " [ 0.24226508 -0.9702101 ]]\n",
      "\n"
     ]
    }
   ],
   "source": [
    "class myPCA(object):\n",
    "    def __init__(self, n_components):\n",
    "        self.num_components = n_components\n",
    "        \n",
    "    def fit (self, A):\n",
    "        # Here we'll calculate the Eigen vectors and Eigen values\n",
    "        \n",
    "        # First of all, calculate the mean for each of the columns\n",
    "        self.mean = np.array([np.mean(A[:,column]) for column in range(A.shape[1])])\n",
    "        \n",
    "        # Then calculate the centred matrix, which deducts the mean from each value\n",
    "        self.centered = A - self.mean\n",
    "        \n",
    "        # Calculate the covariant matrix for the centered matrix.\n",
    "        self.covariant = np.cov(self.centered, rowvar=False)\n",
    "                \n",
    "        # Next, generate the Eigen values and Eigen vectors for the covariant matrix.\n",
    "        self.e_values, self.e_vectors = eig(self.covariant)\n",
    "        \n",
    "    def transform(self):\n",
    "        pass\n",
    "        \n",
    "myP = myPCA(2)\n",
    "myP.fit(data)\n",
    "print(f\"The Eigen values of the data are {myP.e_values}\\n\")\n",
    "print(f\"The Eigen vectors of the data are\\n{myP.e_vectors}\")\n",
    "print()"
   ]
  },
  {
   "cell_type": "markdown",
   "metadata": {},
   "source": [
    "In the above `fit` method it was necessary to override the default behaviour of NumPy's `cov()` function.  It assumes that each row in the data is a variable, with the column values of that row the data set for that variable.  Our data set is organised with each column representing a variable, and the rows containg the data.  One option was to _transpose_ the centered matrix; the other was to tell `np.cov()` to use columns as data sets.\n",
    "\n",
    "#### Output comparison\n",
    "\n",
    "The Eigen vectors produced by my calculation have components with the same magnitude as those produced by Scikitlean, but not the same sign or position.  Needs further investigation to understand."
   ]
  },
  {
   "cell_type": "markdown",
   "metadata": {},
   "source": [
    "#### Scikitlearn PCA n_components differences\n",
    "\n",
    "The following code shows output from Scitkitlearn PCA with n_components=1 vs. the output earlier."
   ]
  },
  {
   "cell_type": "code",
   "execution_count": 16,
   "metadata": {},
   "outputs": [
    {
     "name": "stdout",
     "output_type": "stream",
     "text": [
      "[[-0.24226508 -0.9702101 ]]\n",
      "[596.48513619]\n"
     ]
    }
   ],
   "source": [
    "pca = PCA(n_components=1)\n",
    "pca.fit(data)\n",
    "print(pca.components_)\n",
    "print(pca.explained_variance_)"
   ]
  },
  {
   "cell_type": "markdown",
   "metadata": {},
   "source": [
    "The components value demonstrates that Scikitlearn can be instructed to deal only with a subset of the dataset."
   ]
  }
 ],
 "metadata": {
  "kernelspec": {
   "display_name": "Python 3",
   "language": "python",
   "name": "python3"
  },
  "language_info": {
   "codemirror_mode": {
    "name": "ipython",
    "version": 3
   },
   "file_extension": ".py",
   "mimetype": "text/x-python",
   "name": "python",
   "nbconvert_exporter": "python",
   "pygments_lexer": "ipython3",
   "version": "3.6.5"
  }
 },
 "nbformat": 4,
 "nbformat_minor": 1
}
