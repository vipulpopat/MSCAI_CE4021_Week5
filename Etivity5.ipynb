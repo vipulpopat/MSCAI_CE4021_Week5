{
 "cells": [
  {
   "cell_type": "markdown",
   "metadata": {},
   "source": [
    "Student Name: Gerard Kerley\n",
    "Student ID: 18195229"
   ]
  },
  {
   "cell_type": "markdown",
   "metadata": {},
   "source": [
    "- The 'as' keyword allows you to invoke functionality from the module using an alias for the module name. For example: np.mean() instead of numpy.mean()\n",
    "- The from keyword allows you to only import the functionality of interest, for example above we import only the PCA class from the sklearn.decomposition module"
   ]
  },
  {
   "cell_type": "code",
   "execution_count": null,
   "metadata": {
    "collapsed": true
   },
   "outputs": [],
   "source": [
    "import numpy as np\n",
    "import random as rand\n",
    "import matplotlib.pyplot as plt\n",
    "from numpy.linalg import eig\n",
    "from sklearn.decomposition import PCA"
   ]
  },
  {
   "cell_type": "markdown",
   "metadata": {},
   "source": [
    "As per E-tivity instructions: Use of the matrix class is discouraged, but to allow us to simplify the code slightly, we will use it this week. Its first use will be to store the data that you will perform the PCA transform on. Note that you will likely obtain a higher score if your final version does not use the matrix class."
   ]
  },
  {
   "cell_type": "code",
   "execution_count": null,
   "metadata": {
    "collapsed": true
   },
   "outputs": [],
   "source": [
    "a_x = 0.05\n",
    "a_y= 10"
   ]
  },
  {
   "cell_type": "code",
   "execution_count": null,
   "metadata": {
    "collapsed": true
   },
   "outputs": [],
   "source": [
    "data =  np.matrix([[n*(1+a_x*(rand.random()-0.5)),4*n+ a_y*(rand.random()-0.5)] for n in range(20)])"
   ]
  },
  {
   "cell_type": "markdown",
   "metadata": {},
   "source": [
    "The numpy shape property is very useful to get an insight in the dimensions of your data, for example to check whether the features (in this case 2) or the samples (in this case 20) are in the rows or the columns. The notation used here (with columns containing the features and rows containing separate examples) is the standard for Scikitlearn and many other machine learning algorithms.\n"
   ]
  },
  {
   "cell_type": "markdown",
   "metadata": {},
   "source": [
    "### MyPCA implementation"
   ]
  },
  {
   "cell_type": "code",
   "execution_count": null,
   "metadata": {
    "collapsed": true
   },
   "outputs": [],
   "source": [
    "class MyPCA():\n",
    "    def __init__(self, n_components=None):\n",
    "        self.n_components = n_components\n",
    "    \n",
    "    def fit(self, data):\n",
    "        \"\"\"fit method\n",
    "        \n",
    "        \"\"\"\n",
    "        # Calculate means\n",
    "        self.data_means = np.mean(data, axis=0)\n",
    "        \n",
    "        # Center data\n",
    "        self.data_centered = data - self.data_means\n",
    "        \n",
    "        # Calculate covariance\n",
    "        data_covariance = np.cov(self.data_centered,rowvar=False)\n",
    "        \n",
    "        # get eigen values and vectors\n",
    "        eigvals, eigvecs = eig(data_covariance)        \n",
    "\n",
    "        #sort eigenvalues\n",
    "        indices_sorted = np.abs(eigvals).argsort()[::-1]   \n",
    "        eigenvalues_sorted = eigvals[indices_sorted]\n",
    "        eigenvectors_sorted = eigvecs.T[:,indices_sorted]\n",
    "\n",
    "        self.eigenvalues = eigenvalues_sorted[:self.n_components]\n",
    "        self.eigenvectors = eigenvectors_sorted[:, :self.n_components]\n",
    "   \n",
    "    def transform(self, data):\n",
    "        \"\"\"projection of data\n",
    "            \n",
    "        \"\"\"\n",
    "        return np.dot(self.data_centered, self.eigenvectors.T)\n",
    "            "
   ]
  },
  {
   "cell_type": "code",
   "execution_count": 1,
   "metadata": {
    "collapsed": false
   },
   "outputs": [
    {
     "ename": "NameError",
     "evalue": "name 'MyPCA' is not defined",
     "output_type": "error",
     "traceback": [
      "\u001b[1;31m---------------------------------------------------------------------------\u001b[0m",
      "\u001b[1;31mNameError\u001b[0m                                 Traceback (most recent call last)",
      "\u001b[1;32m<ipython-input-1-4a676cee4dd3>\u001b[0m in \u001b[0;36m<module>\u001b[1;34m()\u001b[0m\n\u001b[1;32m----> 1\u001b[1;33m \u001b[0mmy_pca\u001b[0m \u001b[1;33m=\u001b[0m \u001b[0mMyPCA\u001b[0m\u001b[1;33m(\u001b[0m\u001b[1;36m2\u001b[0m\u001b[1;33m)\u001b[0m\u001b[1;33m\u001b[0m\u001b[0m\n\u001b[0m\u001b[0;32m      2\u001b[0m \u001b[0mmy_pca_fit\u001b[0m \u001b[1;33m=\u001b[0m \u001b[0mmy_pca\u001b[0m\u001b[1;33m.\u001b[0m\u001b[0mfit\u001b[0m\u001b[1;33m(\u001b[0m\u001b[0mdata\u001b[0m\u001b[1;33m)\u001b[0m\u001b[1;33m\u001b[0m\u001b[0m\n\u001b[0;32m      3\u001b[0m \u001b[0mmy_pca_transform\u001b[0m \u001b[1;33m=\u001b[0m \u001b[0mmy_pca\u001b[0m\u001b[1;33m.\u001b[0m\u001b[0mtransform\u001b[0m\u001b[1;33m(\u001b[0m\u001b[0mdata\u001b[0m\u001b[1;33m)\u001b[0m\u001b[1;33m\u001b[0m\u001b[0m\n",
      "\u001b[1;31mNameError\u001b[0m: name 'MyPCA' is not defined"
     ]
    }
   ],
   "source": [
    "my_pca = MyPCA(2)\n",
    "my_pca_fit = my_pca.fit(data)\n",
    "my_pca_transform = my_pca.transform(data)"
   ]
  },
  {
   "cell_type": "markdown",
   "metadata": {},
   "source": [
    "### Compare fit method output with sklearn fit"
   ]
  },
  {
   "cell_type": "code",
   "execution_count": null,
   "metadata": {
    "collapsed": false
   },
   "outputs": [],
   "source": [
    "pca = PCA(n_components=2)\n",
    "pca.fit(data)\n",
    "\n",
    "print(\"Scikit Learn PCA\\n********************\")\n",
    "print(\"sklearn eigenvalues: \\n{}\\n\".format(pca.explained_variance_))\n",
    "print(\"sklearn eigenvectors: \\n{}\\n\".format(pca.components_))\n",
    "\n",
    "print(\"Custom PCA\\n********************\")\n",
    "print(\"eigenvalues: \\n{}\\n\".format(my_pca.eigenvalues))\n",
    "print(\"eigenvectors: \\n{}\\n\".format(my_pca.eigenvectors))"
   ]
  },
  {
   "cell_type": "markdown",
   "metadata": {},
   "source": [
    "The eigen values match those from Scikit Learn.<br>\n",
    "The eigen vectors magnitudes also match but the signs are reverse for two of the values.<br>\n",
    "I have seen discussions about polarity reversal in some PCA implementations but I wasn't able to get mine to be exactly the same.<br>"
   ]
  },
  {
   "cell_type": "code",
   "execution_count": null,
   "metadata": {
    "collapsed": false
   },
   "outputs": [],
   "source": [
    "# Reduce dimensions to n = 1\n",
    "pca = PCA(n_components=1)\n",
    "pca.fit(data)\n",
    "data_pca = pca.transform(data)\n",
    "data_reduced = pca.inverse_transform(data_pca)\n",
    "\n",
    "# Plot data\n",
    "plt.plot(data[:,0], data[:,1], 'or')\n",
    "plt.plot(data_reduced[:,0], data_reduced[:,1],'xb')\n",
    "plt.show()"
   ]
  }
 ],
 "metadata": {
  "kernelspec": {
   "display_name": "Python 2",
   "language": "python",
   "name": "python2"
  },
  "language_info": {
   "codemirror_mode": {
    "name": "ipython",
    "version": 3
   },
   "file_extension": ".py",
   "mimetype": "text/x-python",
   "name": "python",
   "nbconvert_exporter": "python",
   "pygments_lexer": "ipython3",
   "version": "3.4.9"
  }
 },
 "nbformat": 4,
 "nbformat_minor": 1
}
