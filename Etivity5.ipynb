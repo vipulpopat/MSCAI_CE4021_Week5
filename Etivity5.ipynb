{
 "cells": [
  {
   "cell_type": "markdown",
   "metadata": {},
   "source": [
    "Student Name: Abhijit Sinha\n",
    "Student ID: 18195067"
   ]
  },
  {
   "cell_type": "markdown",
   "metadata": {},
   "source": [
    "## Task\n",
    "\n",
    "###### Making use of Numpy, write a Python class to apply the PCA transform to the provided (see Notebook) data set. Compare the output of your implementation to the PCA functionality provided by the Scikitlearn module.\n",
    "\n",
    "- Create a 'fit' method that calculates the eigen vectors and eigen values of your dataset. Compare your results to the output of Scikitlearn's fit method and document your findings as a comment (use markdown) directly under the cell with your PCA class.\n",
    "- Use the Scikitlean's PCA class with n_components=2 and n_components=1 and observe the differences. In the cell directly below, comment on what you have observed.\n",
    "- Add a property to your class and initialise this property in a suitable fashion to allow you to choose the number of principal components similar to the Scikitlearn PCA class.\n",
    "- Store those results from your fit method that are required to transform the data set, in suitable class properties.\n",
    "- Create a 'transform' method to perform the PCA data transformation on your data set using the parameters obtained using your 'fit' method."
   ]
  },
  {
   "cell_type": "markdown",
   "metadata": {},
   "source": [
    "###### N.B.:\n",
    "\n",
    "- Limit your code to the aspects explicitly listed. \n",
    "- Use the Jupyter Notebook provided in the repository for week 5. This notebook contains the data that needs to be transformed.\n",
    "- The required modules have already been imported for you. You should not import any other modules.\n",
    "- If you find creating a class with this functionality daunting, please start by creating normal functions in your notebook. If time permits, you can then change to use of a class later."
   ]
  },
  {
   "cell_type": "markdown",
   "metadata": {},
   "source": [
    "### Reflection:\n",
    "\n",
    "##### With your code (containing any corrections you have made based on your peers’ feedback), do the following:\n",
    "\n",
    "- For the case where n_components = 1, compare the resulting dataset of your transform method with the resulting dataset from Scikitlearn’s transform method by plotting the points on an XY plot. If there are any differences, explain these in a comment directly under the cell with your plot.\n",
    "\n",
    "- For the case where n_components = 1, compare the dataset resulting from your transform method with the original dataset by plotting the points on an XY plot. Comment on the differences between original and transformed data in the cell directly below your plot. In your comment, explain why and how PCA can be used for dimensionality reduction"
   ]
  },
  {
   "cell_type": "code",
   "execution_count": 12,
   "metadata": {
    "collapsed": true
   },
   "outputs": [],
   "source": [
    "%matplotlib inline\n",
    "import numpy as np\n",
    "import random as rand\n",
    "import matplotlib.pyplot as plt\n",
    "from numpy.linalg import eig\n",
    "from sklearn.decomposition import PCA"
   ]
  },
  {
   "cell_type": "markdown",
   "metadata": {},
   "source": [
    "As per E-tivity instructions: Use of the matrix class is discouraged, but to allow us to simplify the code slightly, we will use it this week. Its first use will be to store the data that you will perform the PCA transform on. Note that you will likely obtain a higher score if your final version does not use the matrix class."
   ]
  },
  {
   "cell_type": "code",
   "execution_count": 13,
   "metadata": {
    "collapsed": true
   },
   "outputs": [],
   "source": [
    "a_x = 0.05\n",
    "a_y= 10"
   ]
  },
  {
   "cell_type": "code",
   "execution_count": 14,
   "metadata": {
    "collapsed": true
   },
   "outputs": [],
   "source": [
    "data =  np.matrix([[n*(1+a_x*(rand.random()-0.5)),4*n+ a_y*(rand.random()-0.5)] for n in range(20)])"
   ]
  },
  {
   "cell_type": "code",
   "execution_count": 15,
   "metadata": {
    "collapsed": false
   },
   "outputs": [
    {
     "data": {
      "text/plain": [
       "(20, 2)"
      ]
     },
     "execution_count": 15,
     "metadata": {},
     "output_type": "execute_result"
    }
   ],
   "source": [
    "data.shape"
   ]
  },
  {
   "cell_type": "markdown",
   "metadata": {},
   "source": [
    "### Create a class to find PCA using numpy\n",
    "- Making use of Numpy, creating a Python class to apply the PCA transform to the provided data set. \n",
    "\n",
    "Following the steps from the links below: \n",
    "    - http://www.cs.otago.ac.nz/cosc453/student_tutorials/principal_components.pdf \n",
    "    - https://machinelearningmastery.com/calculate-principal-component-analysis-scratch-python/\n",
    "    \n",
    "- Step 1: Get some data\n",
    "- Step 2: Subtract the mean\n",
    "- Step 3: Calculate the covariance matrix\n",
    "- Step 4: Calculate the eigenvectors and eigenvalues of the covariance matrix\n",
    "- Step 5: Choosing components and forming a feature vector\n",
    "- Step 6: Deriving the new data set"
   ]
  },
  {
   "cell_type": "code",
   "execution_count": 16,
   "metadata": {
    "collapsed": true
   },
   "outputs": [],
   "source": [
    "import numpy as np\n",
    "import random as rand\n",
    "import matplotlib.pyplot as plt\n",
    "from numpy.linalg import eig\n",
    "from sklearn.decomposition import PCA\n",
    "\n",
    "a_x = 0.05\n",
    "a_y= 10\n",
    "data =  np.array([[n*(1+a_x*(rand.random()-0.5)),4*n+ a_y*(rand.random()-0.5)] for n in range(20)])\n",
    "\n",
    "class New_PCA:\n",
    "    \"\"\"Principal component analysis (PCA)\n",
    "     \n",
    "    Linear dimensionality reduction using Singular Value Decomposition of the\n",
    "    data to project it to a lower dimensional space.\n",
    "    \"\"\"\n",
    "    \n",
    "    def __init__(self,n_components=None):\n",
    "        self.n_components = n_components\n",
    "        self.components_ = []\n",
    "        \n",
    "    def fit(self, data):\n",
    "        \"\"\"Fit the model with provided data\"\"\"\n",
    "        # Step 1: Get the data\n",
    "        self.data = data\n",
    "        print(\"DATA\")\n",
    "        print(self.data)\n",
    "       \n",
    "        # Step 2: Get mean of data and centre around zero mean\n",
    "        self.mean_data = self.data.mean(axis=0)\n",
    "        print(\"MEAN\")\n",
    "        print(self.mean_data)\n",
    "        \n",
    "        # Center data\n",
    "        self.data_with_zero_mean = self.data - self.mean_data\n",
    "        print(\"CENTERED_DATA\")\n",
    "        print(self.data_with_zero_mean)\n",
    "\n",
    "        # Step 3: Calculate the covariance matrix of the Centred Data\n",
    "        self.covariance_matrix = np.cov(self.data_with_zero_mean, rowvar=False)\n",
    "        print(\"COVARIANCE_MATRIX\")\n",
    "        print(self.covariance_matrix)\n",
    "        \n",
    "        # Step 4: Calculate the eigenvectors and eigenvalues of the covariance matrix\n",
    "        self.eigen_values, self.eigen_vectors = eig(self.covariance_matrix) \n",
    "        \n",
    "        print(\"EIGEN_VALUES\")\n",
    "        print(self.eigen_values)\n",
    "        print(\"EIGEN_VECTORS\")      \n",
    "        print(self.eigen_vectors)\n",
    "        print(\"EIGEN_VECTORS_SHAPE\")\n",
    "        print(self.eigen_vectors.shape)\n",
    "\n",
    "        # Sort eigen valuess and eigen vectors    \n",
    "        sort_index = self.eigen_values.argsort()[::-1]   \n",
    "        sorted_eig_vals = self.eigen_values[sort_index]\n",
    "        sorted_eig_vecs = self.eigen_vectors[sort_index]\n",
    "        print(\"SORTED EIGEN VALUES\")\n",
    "        print(sorted_eig_vals)\n",
    "        print(\"SORTED EIGEN VECTORS\")\n",
    "        print(sorted_eig_vecs)\n",
    "        \n",
    "        # n_components will filter the eigen vectors\n",
    "        eigen_vals= sorted_eig_vals[:self.n_components]\n",
    "        eigen_vecs = sorted_eig_vecs[:self.n_components] \n",
    "        print(\"FINAL EIGEN VALUES\")\n",
    "        print(eigen_vals)\n",
    "        print(\"FINAL EIGEN VECTORS\")\n",
    "        print(eigen_vecs)\n",
    "        \n",
    "        self.components_ = eigen_vecs\n",
    "        return eigen_vals, eigen_vecs\n",
    "    \n",
    "    def transform(self, data):\n",
    "        \"\"\"Transform the data by calculating the projection\n",
    "        \n",
    "        Projection = vectors.T.dot(C.T)\n",
    "        \"\"\"\n",
    "    \n",
    "        # Step 5: Choosing components and forming a feature vector and applying Projection\n",
    "        self.projected_data = self.eigen_vectors.T.dot(self.data_with_zero_mean.T)\n",
    "        \n",
    "        plt.plot(data[:,0], data[:,1], 'ro')\n",
    "        plt.plot(self.projected_data[:,0], self.projected_data[:,1], 'bx')\n",
    "        plt.show()\n"
   ]
  },
  {
   "cell_type": "markdown",
   "metadata": {},
   "source": [
    "### Function to check PCA using Scikit Learn modules"
   ]
  },
  {
   "cell_type": "code",
   "execution_count": 17,
   "metadata": {
    "collapsed": true
   },
   "outputs": [],
   "source": [
    "def scikitlearn_pca(n):\n",
    "    pca = PCA(n_components=n)  #, whiten=True : scale and center data\n",
    "    pca.fit(data)\n",
    "    data_pca = pca.transform(data)\n",
    "    data_reduced = pca.inverse_transform(data_pca)\n",
    "    print(pca.components_)\n",
    "    print(pca.explained_variance_)\n",
    "    return data_reduced\n"
   ]
  },
  {
   "cell_type": "markdown",
   "metadata": {},
   "source": [
    "### Test the code"
   ]
  },
  {
   "cell_type": "code",
   "execution_count": 18,
   "metadata": {
    "collapsed": false
   },
   "outputs": [
    {
     "name": "stdout",
     "output_type": "stream",
     "text": [
      " Select the n_componenets for PCA : 2\n",
      "\n",
      "********* PCA Implemented for 2 component ***********\n",
      "PCA Fit\n",
      "DATA\n",
      "[[ 0.         -1.83222326]\n",
      " [ 0.98801608  1.17917886]\n",
      " [ 2.03137775  6.8833331 ]\n",
      " [ 2.94104692 14.49584082]\n",
      " [ 3.9769767  13.82047862]\n",
      " [ 4.98167414 20.18027997]\n",
      " [ 6.06601234 28.08904602]\n",
      " [ 6.96898507 30.05704536]\n",
      " [ 7.97014102 35.33732762]\n",
      " [ 8.96826607 31.3581664 ]\n",
      " [ 9.873771   44.29018814]\n",
      " [11.12407419 44.92509293]\n",
      " [12.02068544 43.67875961]\n",
      " [13.18555173 56.03144859]\n",
      " [13.94689944 53.60360505]\n",
      " [14.90876556 60.84937266]\n",
      " [16.01560906 60.03121768]\n",
      " [17.03782241 63.88583621]\n",
      " [17.86656701 71.93360096]\n",
      " [18.90001735 76.03477371]]\n",
      "MEAN\n",
      "[ 9.48861296 37.74161845]\n",
      "CENTERED_DATA\n",
      "[[ -9.48861296 -39.57384171]\n",
      " [ -8.50059688 -36.56243959]\n",
      " [ -7.45723521 -30.85828535]\n",
      " [ -6.54756605 -23.24577763]\n",
      " [ -5.51163626 -23.92113984]\n",
      " [ -4.50693883 -17.56133848]\n",
      " [ -3.42260062  -9.65257243]\n",
      " [ -2.51962789  -7.68457309]\n",
      " [ -1.51847194  -2.40429083]\n",
      " [ -0.52034689  -6.38345205]\n",
      " [  0.38515804   6.54856969]\n",
      " [  1.63546122   7.18347448]\n",
      " [  2.53207248   5.93714116]\n",
      " [  3.69693876  18.28983013]\n",
      " [  4.45828648  15.86198659]\n",
      " [  5.4201526   23.10775421]\n",
      " [  6.5269961   22.28959923]\n",
      " [  7.54920945  26.14421776]\n",
      " [  8.37795405  34.19198251]\n",
      " [  9.41140439  38.29315525]]\n",
      "COVARIANCE_MATRIX\n",
      "[[ 34.87462415 137.97772914]\n",
      " [137.97772914 554.76340054]]\n",
      "EIGEN_VALUES\n",
      "[5.25045892e-01 5.89112979e+02]\n",
      "EIGEN_VECTORS\n",
      "[[-0.97038173 -0.24157669]\n",
      " [ 0.24157669 -0.97038173]]\n",
      "EIGEN_VECTORS_SHAPE\n",
      "(2, 2)\n",
      "SORTED EIGEN VALUES\n",
      "[5.89112979e+02 5.25045892e-01]\n",
      "SORTED EIGEN VECTORS\n",
      "[[ 0.24157669 -0.97038173]\n",
      " [-0.97038173 -0.24157669]]\n",
      "FINAL EIGEN VALUES\n",
      "[5.89112979e+02 5.25045892e-01]\n",
      "FINAL EIGEN VECTORS\n",
      "[[ 0.24157669 -0.97038173]\n",
      " [-0.97038173 -0.24157669]]\n",
      "DERIVED PCA COMPONENTS\n",
      "[[ 0.24157669 -0.97038173]\n",
      " [-0.97038173 -0.24157669]]\n",
      "PCA Transform\n"
     ]
    },
    {
     "data": {
      "image/png": "[encoded data removed]",
      "text/plain": [
       "<Figure size 432x288 with 1 Axes>"
      ]
     },
     "metadata": {},
     "output_type": "display_data"
    }
   ],
   "source": [
    "n = int(input(\" Select the n_componenets for PCA : \"))\n",
    "if n == 1 or n == 2:\n",
    "    pass\n",
    "else:\n",
    "    raise Exception(\"Please input n_componenets as 1 or 2\")\n",
    "    \n",
    "    \n",
    "print(\"\\n********* PCA Implemented for {} component ***********\".format(n))     \n",
    "derived_pca = New_PCA(n)\n",
    "print(\"PCA Fit\")\n",
    "derived_pca.fit(data)\n",
    "print(\"DERIVED PCA COMPONENTS\")\n",
    "print(derived_pca.components_)\n",
    "print(\"PCA Transform\")\n",
    "derived_pca.transform(data)\n"
   ]
  },
  {
   "cell_type": "code",
   "execution_count": 19,
   "metadata": {
    "collapsed": false
   },
   "outputs": [
    {
     "name": "stdout",
     "output_type": "stream",
     "text": [
      "\n",
      "********** Scikitlean PCA  for 2 component **********\n",
      "[[-0.24157669 -0.97038173]\n",
      " [-0.97038173  0.24157669]]\n",
      "[5.89112979e+02 5.25045892e-01]\n"
     ]
    },
    {
     "data": {
      "text/plain": [
       "[<matplotlib.lines.Line2D at 0x7fef2f48ab00>]"
      ]
     },
     "execution_count": 19,
     "metadata": {},
     "output_type": "execute_result"
    },
    {
     "data": {
      "image/png": "[encoded data removed]",
      "text/plain": [
       "<Figure size 432x288 with 1 Axes>"
      ]
     },
     "metadata": {},
     "output_type": "display_data"
    }
   ],
   "source": [
    "print(\"\\n********** Scikitlean PCA  for {} component **********\".format(n))\n",
    "pca_result = scikitlearn_pca(n)\n",
    "plt.title(\"PCA with {} component\".format(n))\n",
    "plt.plot(data[:,0], data[:,1], 'ro')\n",
    "plt.plot(pca_result[:,0], pca_result[:,1],\"bx\")"
   ]
  },
  {
   "cell_type": "markdown",
   "metadata": {},
   "source": [
    "###### Observation when n_component =1:\n",
    "- The reconstructed data with one eigen vector doesnt excatly match the original data, but its very similar to the original data.\n",
    "\n",
    "###### Observation when n_component =2:\n",
    "- The reconstructed data almost match the original data.\n"
   ]
  },
  {
   "cell_type": "code",
   "execution_count": null,
   "metadata": {
    "collapsed": true
   },
   "outputs": [],
   "source": []
  }
 ],
 "metadata": {
  "kernelspec": {
   "display_name": "Python 2",
   "language": "python",
   "name": "python2"
  },
  "language_info": {
   "codemirror_mode": {
    "name": "ipython",
    "version": 3
   },
   "file_extension": ".py",
   "mimetype": "text/x-python",
   "name": "python",
   "nbconvert_exporter": "python",
   "pygments_lexer": "ipython3",
   "version": "3.4.9"
  }
 },
 "nbformat": 4,
 "nbformat_minor": 1
}
