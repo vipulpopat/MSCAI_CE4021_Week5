{
 "cells": [
  {
   "cell_type": "markdown",
   "metadata": {},
   "source": [
    "Student Name: Vipul Popat\n",
    "Student ID: 18195121"
   ]
  },
  {
   "cell_type": "markdown",
   "metadata": {},
   "source": [
    "- The 'as' keyword allows you to invoke functionality from the module using an alias for the module name. For example: np.mean() instead of numpy.mean()\n",
    "- The from keyword allows you to only import the functionality of interest, for example above we import only the PCA class from the sklearn.decomposition module"
   ]
  },
  {
   "cell_type": "code",
   "execution_count": 1,
   "metadata": {
    "collapsed": false
   },
   "outputs": [],
   "source": [
    "import numpy as np\n",
    "import random as rand\n",
    "\n",
    "from numpy import array\n",
    "from numpy import mean\n",
    "from numpy import cov\n",
    "\n",
    "import matplotlib.pyplot as plt\n",
    "from numpy.linalg import eig\n",
    "from sklearn.decomposition import PCA\n",
    "\n",
    "\n"
   ]
  },
  {
   "cell_type": "markdown",
   "metadata": {},
   "source": [
    "As per E-tivity instructions: Use of the matrix class is discouraged, but to allow us to simplify the code slightly, we will use it this week. Its first use will be to store the data that you will perform the PCA transform on. Note that you will likely obtain a higher score if your final version does not use the matrix class."
   ]
  },
  {
   "cell_type": "code",
   "execution_count": 2,
   "metadata": {
    "collapsed": true
   },
   "outputs": [],
   "source": [
    "a_x = 0.05\n",
    "a_y= 10"
   ]
  },
  {
   "cell_type": "code",
   "execution_count": 3,
   "metadata": {
    "collapsed": true
   },
   "outputs": [],
   "source": [
    "data =  np.array([[n*(1+a_x*(rand.random()-0.5)),4*n+ a_y*(rand.random()-0.5)] for n in range(20)])"
   ]
  },
  {
   "cell_type": "markdown",
   "metadata": {},
   "source": [
    "The numpy shape property is very useful to get an insight in the dimensions of your data, for example to check whether the features (in this case 2) or the samples (in this case 20) are in the rows or the columns. The notation used here (with columns containing the features and rows containing separate examples) is the standard for Scikitlearn and many other machine learning algorithms.\n"
   ]
  },
  {
   "cell_type": "code",
   "execution_count": 4,
   "metadata": {
    "collapsed": false
   },
   "outputs": [
    {
     "data": {
      "text/plain": [
       "(20, 2)"
      ]
     },
     "execution_count": 4,
     "metadata": {},
     "output_type": "execute_result"
    }
   ],
   "source": [
    "data.shape"
   ]
  },
  {
   "cell_type": "code",
   "execution_count": 5,
   "metadata": {
    "collapsed": false
   },
   "outputs": [
    {
     "name": "stdout",
     "output_type": "stream",
     "text": [
      "[[ 0.          2.39020818]\n",
      " [ 1.00048781  8.81357074]\n",
      " [ 1.95420739 10.45945636]\n",
      " [ 3.04889708  9.19195707]\n",
      " [ 3.94533398 15.26428645]\n",
      " [ 5.09212251 22.38684028]\n",
      " [ 6.09127915 21.04900296]\n",
      " [ 6.89974107 24.55633294]\n",
      " [ 8.17399165 32.96115994]\n",
      " [ 9.09350262 36.93087781]\n",
      " [ 9.86689707 43.41356517]\n",
      " [11.02369318 44.12122349]\n",
      " [11.81609325 45.66665083]\n",
      " [12.67974885 49.73868418]\n",
      " [13.72841149 58.76302063]\n",
      " [15.18817964 62.47162917]\n",
      " [15.60241922 63.40702649]\n",
      " [17.39537652 70.73780947]\n",
      " [17.81788669 76.92521857]\n",
      " [18.99449594 77.70097812]]\n"
     ]
    },
    {
     "data": {
      "text/plain": [
       "[<matplotlib.lines.Line2D at 0x7f9c6ba5f8d0>]"
      ]
     },
     "execution_count": 5,
     "metadata": {},
     "output_type": "execute_result"
    },
    {
     "data": {
      "image/png": "[encoded data removed]",
      "text/plain": [
       "<Figure size 432x288 with 1 Axes>"
      ]
     },
     "metadata": {},
     "output_type": "display_data"
    }
   ],
   "source": [
    "print(data)\n",
    "plt.plot(data[:, 0], data[:, 1], 'go')"
   ]
  },
  {
   "cell_type": "code",
   "execution_count": 14,
   "metadata": {
    "collapsed": false
   },
   "outputs": [],
   "source": [
    "class CustomPCA:\n",
    "    \n",
    "    def __init__(self, n_components):\n",
    "        self.n_components = n_components\n",
    "\n",
    "\n",
    "    def custom_fit(self, matrix):\n",
    "        # derive mean of each column and substract from original data\n",
    "        self.mean_data = np.mean(data, axis=0)\n",
    "        centered_data = data - self.mean_data\n",
    "        # calculate the covariance\n",
    "        covariance_data = np.cov(centered_data,rowvar=False)\n",
    "        values, vectors = eig(covariance_data) \n",
    "        #(square each value so that magnitude and not sign is taken into account when ordering)\n",
    "        # thanks to Cormac\n",
    "        sorted_eigen_values_indexes = values.argsort()[::-1]\n",
    "        sorted_eigen_values = values[sorted_eigen_values_indexes]\n",
    "        sorted_eigen_vectors = vectors[: ,sorted_eigen_values_indexes]\n",
    "        self.eigen_values = sorted_eigen_values[:self.n_components]\n",
    "        # because linalg generates the vectors in columns rather than rows, hence the transpose\n",
    "        self.eigen_vectors = sorted_eigen_vectors.T[:, :self.n_components]\n",
    "        \n",
    "    def transform(self, matrix):\n",
    "        # learnt from url posted by Abhijit that transform should be dot product of eigen vector and input data\n",
    "        matrix = matrix - self.mean_data\n",
    "        return np.dot(matrix, self.eigen_vectors)"
   ]
  },
  {
   "cell_type": "markdown",
   "metadata": {},
   "source": [
    "- The eigen vectors generated by linalg algorithm are generated in rows rather than in columns as in sklean PCA. Chaning it to transpose gets the correct vectors and hence the transformed data is equal"
   ]
  },
  {
   "cell_type": "code",
   "execution_count": 16,
   "metadata": {
    "collapsed": false
   },
   "outputs": [
    {
     "name": "stdout",
     "output_type": "stream",
     "text": [
      " Select the num_componenets for PCA : 2\n",
      "\n",
      "********* PCA Implemented for 2 components ***********\n"
     ]
    }
   ],
   "source": [
    "num_components = int(input(\" Select the num_componenets for PCA : \"))\n",
    "if num_components == 1 or num_components == 2:\n",
    "    pass\n",
    "else:\n",
    "    raise Exception(\"Please input num_components as 1 or 2\")\n",
    "    \n",
    "    \n",
    "print(\"\\n********* PCA Implemented for {} components ***********\".format(num_components))\n",
    "pca = PCA(n_components=num_components)\n",
    "pca_custom = CustomPCA(num_components)"
   ]
  },
  {
   "cell_type": "code",
   "execution_count": 8,
   "metadata": {
    "collapsed": false
   },
   "outputs": [
    {
     "name": "stdout",
     "output_type": "stream",
     "text": [
      "PCA Eigen Vectors =  [[ 0.23607436  0.97173499]\n",
      " [-0.97173499  0.23607436]]\n",
      "PCA Custom Eigen Vectors =  [[-0.23607436 -0.97173499]\n",
      " [-0.97173499  0.23607436]]\n",
      "PCA Eigen Values =  [6.15946525e+02 3.60808599e-01]\n",
      "PCA Custom Eigen Values =  [6.15946525e+02 3.60808599e-01]\n",
      "PCA Transformed data =  [[-3.76625767e+01  5.96324653e-01]\n",
      " [-3.11845810e+01  1.14050685e+00]\n",
      " [-2.93600676e+01  6.02295554e-01]\n",
      " [-3.03333129e+01 -7.60676809e-01]\n",
      " [-2.42209922e+01 -1.98254639e-01]\n",
      " [-1.70290300e+01  3.68823159e-01]\n",
      " [-1.80931781e+01 -9.17921402e-01]\n",
      " [-1.44941257e+01 -8.75541459e-01]\n",
      " [-6.02604329e+00 -1.29611167e-01]\n",
      " [-1.95145655e+00 -8.59835531e-02]\n",
      " [ 4.53057620e+00  6.92878271e-01]\n",
      " [ 5.49132246e+00 -2.64160998e-01]\n",
      " [ 7.18013362e+00 -6.69328101e-01]\n",
      " [ 1.13409579e+01 -5.47269801e-01]\n",
      " [ 2.03577837e+01  5.64122474e-01]\n",
      " [ 2.43061823e+01  2.11220698e-02]\n",
      " [ 2.53129319e+01 -1.60585695e-01]\n",
      " [ 3.28597815e+01 -1.72255145e-01]\n",
      " [ 3.89720473e+01  8.77865592e-01]\n",
      " [ 4.00036472e+01 -8.23498540e-02]]\n",
      "PCA Custom Transformed data =  [[ 3.76625767e+01  5.96324653e-01]\n",
      " [ 3.11845810e+01  1.14050685e+00]\n",
      " [ 2.93600676e+01  6.02295554e-01]\n",
      " [ 3.03333129e+01 -7.60676809e-01]\n",
      " [ 2.42209922e+01 -1.98254639e-01]\n",
      " [ 1.70290300e+01  3.68823159e-01]\n",
      " [ 1.80931781e+01 -9.17921402e-01]\n",
      " [ 1.44941257e+01 -8.75541459e-01]\n",
      " [ 6.02604329e+00 -1.29611167e-01]\n",
      " [ 1.95145655e+00 -8.59835531e-02]\n",
      " [-4.53057620e+00  6.92878271e-01]\n",
      " [-5.49132246e+00 -2.64160998e-01]\n",
      " [-7.18013362e+00 -6.69328101e-01]\n",
      " [-1.13409579e+01 -5.47269801e-01]\n",
      " [-2.03577837e+01  5.64122474e-01]\n",
      " [-2.43061823e+01  2.11220698e-02]\n",
      " [-2.53129319e+01 -1.60585695e-01]\n",
      " [-3.28597815e+01 -1.72255145e-01]\n",
      " [-3.89720473e+01  8.77865592e-01]\n",
      " [-4.00036472e+01 -8.23498540e-02]]\n"
     ]
    }
   ],
   "source": [
    "pca_fit = pca.fit(data)\n",
    "pca_custom_fit = pca_custom.custom_fit(data)\n",
    "    \n",
    "print(\"PCA Eigen Vectors = \", pca_fit.components_)\n",
    "print(\"PCA Custom Eigen Vectors = \", pca_custom.eigen_vectors)\n",
    "print(\"PCA Eigen Values = \", pca_fit.explained_variance_)\n",
    "print(\"PCA Custom Eigen Values = \", pca_custom.eigen_values)\n",
    "    \n",
    "data_pca_transform = pca.transform(data)\n",
    "data_pca_reduced = pca.inverse_transform(data_pca_transform)\n",
    "data_pca_custom_transform = pca_custom.transform(data)\n",
    "\n",
    "print(\"PCA Transformed data = \", data_pca_transform)\n",
    "print(\"PCA Custom Transformed data = \" , data_pca_custom_transform)\n",
    "    \n"
   ]
  },
  {
   "cell_type": "code",
   "execution_count": 9,
   "metadata": {
    "collapsed": false
   },
   "outputs": [
    {
     "data": {
      "text/plain": [
       "[<matplotlib.lines.Line2D at 0x7f9c6b9dbba8>]"
      ]
     },
     "execution_count": 9,
     "metadata": {},
     "output_type": "execute_result"
    },
    {
     "data": {
      "image/png": "[encoded data removed]",
      "text/plain": [
       "<Figure size 432x288 with 1 Axes>"
      ]
     },
     "metadata": {},
     "output_type": "display_data"
    }
   ],
   "source": [
    "# Reconstruct the data on Implemented PCA\n",
    "my_data = np.dot(data_pca_custom_transform, pca_custom.eigen_vectors.T) + np.mean(data, axis=0)\n",
    "plt.title(\"Reconstructed data on Custom PCA with {} principal components\".format(num_components))\n",
    "plt.plot(data[:,0], data[:,1], 'ro')\n",
    "plt.plot(my_data[:,0], my_data[:,1], 'bx')\n",
    "\n"
   ]
  },
  {
   "cell_type": "code",
   "execution_count": 10,
   "metadata": {
    "collapsed": false
   },
   "outputs": [
    {
     "data": {
      "text/plain": [
       "[<matplotlib.lines.Line2D at 0x7f9c6b99aef0>]"
      ]
     },
     "execution_count": 10,
     "metadata": {},
     "output_type": "execute_result"
    },
    {
     "data": {
      "image/png": "[encoded data removed]",
      "text/plain": [
       "<Figure size 432x288 with 1 Axes>"
      ]
     },
     "metadata": {},
     "output_type": "display_data"
    }
   ],
   "source": [
    "# Reconstruct the data on Scikit Learn PCA\n",
    "plt.title(\"Reconstructed data on Scikit Learn PCA with {} principal components\".format(num_components))\n",
    "plt.plot(data[:,0], data[:,1], 'ro')\n",
    "plt.plot(data_pca_reduced[:,0], data_pca_reduced[:,1], 'bx')\n"
   ]
  },
  {
   "cell_type": "code",
   "execution_count": 11,
   "metadata": {
    "collapsed": false
   },
   "outputs": [
    {
     "data": {
      "image/png": "[encoded data removed]",
      "text/plain": [
       "<Figure size 432x288 with 1 Axes>"
      ]
     },
     "metadata": {},
     "output_type": "display_data"
    }
   ],
   "source": [
    "f, ax = plt.subplots(1)\n",
    "ax.scatter(data_pca_transform[:, 0], data_pca_transform[:, 1], color=['r'])\n",
    "ax.scatter(data_pca_custom_transform[:, 0], data_pca_custom_transform[:, 1], color=['g'])\n",
    "ax.scatter(data[:,0],data[:,1])\n",
    "plt.show()"
   ]
  },
  {
   "cell_type": "markdown",
   "metadata": {},
   "source": [
    "The Plot able shows the original data v/s the transformed data which looks like in 1 dimension only as all the co-ordinates are in the same line"
   ]
  },
  {
   "cell_type": "code",
   "execution_count": null,
   "metadata": {
    "collapsed": true
   },
   "outputs": [],
   "source": []
  }
 ],
 "metadata": {
  "kernelspec": {
   "display_name": "Python 3",
   "language": "python",
   "name": "python3"
  },
  "language_info": {
   "codemirror_mode": {
    "name": "ipython",
    "version": 3
   },
   "file_extension": ".py",
   "mimetype": "text/x-python",
   "name": "python",
   "nbconvert_exporter": "python",
   "pygments_lexer": "ipython3",
   "version": "3.4.9"
  }
 },
 "nbformat": 4,
 "nbformat_minor": 1
}
