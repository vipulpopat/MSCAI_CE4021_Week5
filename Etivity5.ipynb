{
 "cells": [
  {
   "cell_type": "markdown",
   "metadata": {},
   "source": [
    "Student Name: Martin Power\n",
    "\n",
    "Student ID: 9939245"
   ]
  },
  {
   "cell_type": "markdown",
   "metadata": {},
   "source": [
    "### Purpose\n",
    "\n",
    "The purpose of this E-tivity is to help you become confident in using Numpy’s functionality for matrix manipulation and to learn about a very useful data processing technique: principal components analysis, or PCA. You will find that using Numpy is much easier for matrix manipulation than what you have done to date!\n",
    "\n",
    "### Task (Complete by Saturday Week 5)\n",
    "\n",
    "Making use of Numpy, write a Python class to apply the PCA transform to the provided (see Notebook) data set. Compare the output of your implementation to the PCA functionality provided by the Scikitlearn module.\n",
    "\n",
    "Create a 'fit' method that calculates the eigen vectors and eigen values of your dataset. Compare your results to the output of Scikitlearn's fit method and document your findings as a comment (use markdown) directly under the cell with your PCA class.\n",
    "Use the Scikitlean's PCA class with n_components=2 and n_components=1 and observe the differences. In the cell directly below, comment on what you have observed.\n",
    "Add a property to your class and initialise this property in a suitable fashion to allow you to choose the number of principal components similar to the Scikitlearn PCA class.\n",
    "Store those results from your fit method that are required to transform the data set, in suitable class properties.\n",
    "Create a 'transform' method to perform the PCA data transformation on your data set using the parameters obtained using your 'fit' method.\n",
    " \n",
    "\n",
    "N.B.:\n",
    "\n",
    "Limit your code to the aspects explicitly listed. \n",
    "Use the Jupyter Notebook provided in the repository for week 5. This notebook contains the data that needs to be transformed.\n",
    "The required modules have already been imported for you. You should not import any other modules.\n",
    "If you find creating a class with this functionality daunting, please start by creating normal functions in your notebook. If time permits, you can then change to use of a class later. \n",
    " \n",
    "\n",
    "HINTS:\n",
    "\n",
    "Numpy.mean() will 'flatten' your tensor by default. To obtain the mean along a given axis, you may use the axis parameter.\n",
    "\n",
    "Numpy.cov() assumes by default that data is presented with one observation per column. This can be changed using the rowvar parameter. \n",
    "\n",
    "A Numpy.matrix is a convenient way of performing the matrix operations required for PCA whilst retaining a matrix/vector like structure. Use of this class is discouraged, but would form a good starting point for tackling this week's challenge. Once you have the code working with the matrix class, changing to arrays is relatively straight forward.\n",
    "\n",
    "You can use Scikitlearn as follows to check the Eigen vectors that you have found with your 'fit' mehod:\n",
    "\n",
    "pca = PCA(n_components=2)\n",
    "pca.fit(data)\n",
    "print(pca.components_)\n",
    "\n",
    "You can use Scikitlearn to obtain \n",
    "GIT push your implementation and post your manual calculations to E-tivity 5: Linear Algebra in Numpy and Beyond and provide the name of your branch.\n",
    "\n",
    "### Respond (Complete by Wednesday Week 6)\n",
    "\n",
    "Respond to a post of one of your peers with a respectful and in-depth assessment of the implementation with a view to pointing out potential improvements or sound alternative solutions.\n",
    "\n",
    "### Reflect (Complete by Saturday Week 6)\n",
    "\n",
    "With your code (containing any corrections you have made based on your peers’ feedback), do the following:\n",
    "\n",
    "For the case where n_components = 1, compare the resulting dataset of your transform method with the resulting dataset from Scikitlearn’s transform method by plotting the points on an XY plot. If there are any differences, explain these in a comment directly under the cell with your plot.\n",
    "For the case where n_components = 1, compare the dataset resulting from your transform method with the original dataset by plotting the points on an XY plot. Comment on the differences between original and transformed data in the cell directly below your plot. In your comment, explain why and how PCA can be used for dimensionality reduction\n",
    " \n",
    "\n",
    "## HINTS:\n",
    "\n",
    "You can use Scitkitlean as follows to calculate the new values of the data points in the original dataset when you reduce the dimensions of the data (from 2) to 1: \n",
    "pca = PCA(n_components=1)\n",
    "pca.fit(data)\n",
    "data_pca = pca.transform(data)\n",
    "data_reduced = pca.inverse_transform(data_pca)\n",
    "\n",
    "You can use plots to compare the values in your original dataset with the dataset with reduced dimensionality:\n",
    "plt.plot(data[:,0], data[:,1], 'or')\n",
    "plt.plot(data_reduced[:,0], data_reduced[:,1],'xb')\n",
    "plt.show()\n",
    "\n",
    "You can use your own PCA results to calculate the new values of the data points int the original dataset when you reduce the dimensions of the data (from 2) to 1:\n",
    "reduced = np.dot(features[:,0],red_highvar.T)+mean.T\n",
    "\n",
    "with:\n",
    "\n",
    "reduced: a 2x20 matrix of the new values of the dataset with dimensionality reduction applied\n",
    "features[:,0]: the 2x1 matrix (or column vector) which contains the Eigen vector associated with the highest variance\n",
    "red_highvar: a 20x1 matrix containing the reduced dataset which is the output of your transform method with n_components set to 1. \n",
    "mean: a 1x2 matrix of the per-column mean values of your original data\n",
    "T: the transform operator as provided by Numpy"
   ]
  },
  {
   "cell_type": "markdown",
   "metadata": {},
   "source": [
    "### Rubric\n",
    "\n",
    "#### Accomplished\n",
    "Solution exceeding Developing level with 'fit' and 'transform' function. Correctly working implementation with efficient use of flow control elements, data types and operators. All required comments present with reasonable explanations of observations and all required graphs present. Solution may use the numpy matrix class.\n",
    "\n",
    "#### Exemplary\n",
    "Solution exceeding Accomplished level without use of the numpy matrix class. High quality content for required comments, and graphs displaying salient information to compare the two approaches."
   ]
  },
  {
   "cell_type": "markdown",
   "metadata": {},
   "source": [
    "- The 'as' keyword allows you to invoke functionality from the module using an alias for the module name. For example: np.mean() instead of numpy.mean()\n",
    "- The from keyword allows you to only import the functionality of interest, for example above we import only the PCA class from the sklearn.decomposition module"
   ]
  },
  {
   "cell_type": "code",
   "execution_count": 183,
   "metadata": {
    "collapsed": true
   },
   "outputs": [],
   "source": [
    "import numpy as np\n",
    "import random as rand\n",
    "import matplotlib.pyplot as plt\n",
    "from numpy.linalg import eig\n",
    "from numpy.linalg import eigh\n",
    "from sklearn.decomposition import PCA"
   ]
  },
  {
   "cell_type": "markdown",
   "metadata": {},
   "source": [
    "As per E-tivity instructions: Use of the matrix class is discouraged, but to allow us to simplify the code slightly, we will use it this week. Its first use will be to store the data that you will perform the PCA transform on. Note that you will likely obtain a higher score if your final version does not use the matrix class."
   ]
  },
  {
   "cell_type": "code",
   "execution_count": 184,
   "metadata": {
    "collapsed": true
   },
   "outputs": [],
   "source": [
    "a_x = 0.05\n",
    "a_y= 10"
   ]
  },
  {
   "cell_type": "code",
   "execution_count": 185,
   "metadata": {
    "collapsed": true
   },
   "outputs": [],
   "source": [
    "rand.seed(0) # MPP DEBUG Seed with 0 to keep random data constant during debug\n",
    "data =  np.matrix([[n*(1+a_x*(rand.random()-0.5)),4*n+ a_y*(rand.random()-0.5)] for n in range(20)])\n",
    "#data =  np.matrix([[n*(1+a_x*(rand.random()-0.5)),4*n+ a_y*(rand.random()-0.5)] for n in range(4)]) # MPP REDUCE TO 4 TO HELP DEBUGTEMP TODO"
   ]
  },
  {
   "cell_type": "markdown",
   "metadata": {},
   "source": [
    "The numpy shape property is very useful to get an insight in the dimensions of your data, for example to check whether the features (in this case 2) or the samples (in this case 20) are in the rows or the columns. The notation used here (with columns containing the features and rows containing separate examples) is the standard for Scikitlearn and many other machine learning algorithms.\n"
   ]
  },
  {
   "cell_type": "code",
   "execution_count": 186,
   "metadata": {
    "collapsed": false,
    "scrolled": true
   },
   "outputs": [
    {
     "data": {
      "text/plain": [
       "(20, 2)"
      ]
     },
     "execution_count": 186,
     "metadata": {},
     "output_type": "execute_result"
    }
   ],
   "source": [
    "data.shape"
   ]
  },
  {
   "cell_type": "code",
   "execution_count": 187,
   "metadata": {
    "collapsed": false
   },
   "outputs": [],
   "source": [
    "# You can use Scikitlearn as follows to check the Eigen vectors \n",
    "# that you have found with your 'fit' method:\n",
    "\n",
    "pca = PCA(n_components=2)\n",
    "pca.fit(data)\n",
    "data_pca = pca.transform(data)\n",
    "data_reduced = pca.inverse_transform(data_pca)\n"
   ]
  },
  {
   "cell_type": "code",
   "execution_count": 188,
   "metadata": {
    "collapsed": false
   },
   "outputs": [
    {
     "name": "stdout",
     "output_type": "stream",
     "text": [
      "\n",
      "My Eigenvalues\n",
      " [6.15317105e+02 4.59156121e-01]\n",
      "SciKit Eigenvalues\n",
      " [6.15317105e+02 4.59156121e-01]\n",
      "\n",
      "My Eigenvectors\n",
      " [[ 0.23854968 -0.97113029]\n",
      " [-0.97113029 -0.23854968]]\n",
      "SciKit Eigenvectors\n",
      " [[ 0.23854968  0.97113029]\n",
      " [ 0.97113029 -0.23854968]]\n"
     ]
    },
    {
     "data": {
      "image/png": "[encoded data removed]",
      "text/plain": [
       "<Figure size 432x288 with 1 Axes>"
      ]
     },
     "metadata": {},
     "output_type": "display_data"
    }
   ],
   "source": [
    "class MyPCA(object):\n",
    "    \n",
    "    \n",
    "    def __init__(self, n_components=None):\n",
    "        self.n_components = n_components\n",
    "        \n",
    "    def fit(self, X):\n",
    "        # Calculate the mean of each column in D\n",
    "        M = np.mean(X, axis=0)\n",
    "        # Centre the columns by subtracting the means\n",
    "        self.C = X - M\n",
    "        # Calculate Covariance matrix of Centered matrix\n",
    "        V = np.cov(self.C, rowvar=False)\n",
    "        raw_values, raw_vectors = eig(V)\n",
    "        \n",
    "        # Sort Eigenvales to determine which Eigenvector is the PCA\n",
    "        #sorted_indices = np.argsort(values)\n",
    "        # Credit to Cormac Lavery - replace basic sort with sort of squared values\n",
    "        sorted_indices = np.argsort(np.square(values))\n",
    "        self.values = raw_values[sorted_indices[::-1]]\n",
    "        self.vectors = raw_vectors[sorted_indices[::-1]]\n",
    "    \n",
    "        \n",
    "    def transform(self, X):\n",
    "        X_new = np.dot(self.C, self.vectors.T) # MPP why not vectors X C\n",
    "        return X_new\n",
    "    \n",
    "    def upd_eigen_vectors(self, new_vectors):\n",
    "        \"\"\"This is a debug function to allow the eigen vectors to be updated.\n",
    "           This allows the eigenvectors from SciKit to be used in place of\n",
    "           the manually calculated Eigenvectors.\n",
    "           Currently, debugging an issue where different data is obtained from\n",
    "           both methods\n",
    "        \"\"\"\n",
    "        self.vectors = new_vectors\n",
    "\n",
    "# Perform PCA on data using this class\n",
    "my_pca = MyPCA()\n",
    "my_pca.fit(data)\n",
    "data_my_pca = my_pca.transform(data)    \n",
    "\n",
    "# Compare Eigenvalues and Eigenvectors from both methods\n",
    "print(\"\\nMy Eigenvalues\\n\",my_pca.values)\n",
    "print(\"SciKit Eigenvalues\\n\",pca.explained_variance_)\n",
    "\n",
    "\n",
    "print(\"\\nMy Eigenvectors\\n\",my_pca.vectors)\n",
    "print(\"SciKit Eigenvectors\\n\",pca.components_)\n",
    "\n",
    "plt.title('Comparison of Original Data vs SciKit Transformed Data vs My Transformed Data')\n",
    "plt.plot(data[:,0], data[:,1], 'or')\n",
    "plt.plot(data_pca[:,0], data_pca[:,1],'xb')\n",
    "plt.plot(data_my_pca[:,0], data_my_pca[:,1],'kv')\n",
    "plt.show()"
   ]
  },
  {
   "cell_type": "markdown",
   "metadata": {},
   "source": [
    "### Comparison of Eigen Vectors and Eigen Values using SciKit and my own Class\n",
    "\n",
    "The Eigenvalues match but the Eigenvectors do not.\n",
    "The Eigenvector components have the same magnitude but the polarities differ.\n",
    "\n",
    "After reading around and viewing other solutions, I cannot find the source or a definitive reason for the mismatch"
   ]
  },
  {
   "cell_type": "code",
   "execution_count": 189,
   "metadata": {
    "collapsed": false
   },
   "outputs": [
    {
     "name": "stdout",
     "output_type": "stream",
     "text": [
      "\n",
      "Eigen Vectors obtained using Scikitlearn with n_components set to 2\n",
      "[[ 0.23854968  0.97113029]\n",
      " [ 0.97113029 -0.23854968]]\n",
      "\n",
      "Eigen Values obtained using Scikitlearn with n_components set to 2\n",
      "[6.15317105e+02 4.59156121e-01]\n",
      "\n",
      "Eigen Vectors obtained using Scikitlearn with n_components set to 1\n",
      "[[0.23854968 0.97113029]]\n",
      "\n",
      "Eigen Values obtained using Scikitlearn with n_components set to 1\n",
      "[615.31710539]\n"
     ]
    },
    {
     "data": {
      "image/png": "[encoded data removed]",
      "text/plain": [
       "<Figure size 432x288 with 1 Axes>"
      ]
     },
     "metadata": {},
     "output_type": "display_data"
    },
    {
     "data": {
      "image/png": "[encoded data removed]",
      "text/plain": [
       "<Figure size 432x288 with 1 Axes>"
      ]
     },
     "metadata": {},
     "output_type": "display_data"
    }
   ],
   "source": [
    "# Re-running SciKit with n_components set to 1\n",
    "pca1 = PCA(n_components=1)\n",
    "pca1.fit(data)\n",
    "data_pca1 = pca1.transform(data)\n",
    "data_reduced1 = pca1.inverse_transform(data_pca1)\n",
    "\n",
    "\n",
    "print(\"\\nEigen Vectors obtained using Scikitlearn with n_components set to 2\")\n",
    "print(pca.components_)\n",
    "print(\"\\nEigen Values obtained using Scikitlearn with n_components set to 2\")\n",
    "print(pca.explained_variance_)\n",
    "\n",
    "print(\"\\nEigen Vectors obtained using Scikitlearn with n_components set to 1\")\n",
    "print(pca1.components_)\n",
    "print(\"\\nEigen Values obtained using Scikitlearn with n_components set to 1\")\n",
    "print(pca1.explained_variance_)\n",
    "\n",
    "plt.title('Original Dataset versus SciKit Dataset with n_components=2')\n",
    "plt.plot(data[:,0], data[:,1], 'or')\n",
    "plt.plot(data_reduced[:,0], data_reduced[:,1],'xb')\n",
    "plt.show()\n",
    "\n",
    "plt.title('Original Dataset versus SciKit Dataset with n_components=1')\n",
    "plt.plot(data[:,0], data[:,1], 'or')\n",
    "plt.plot(data_reduced1[:,0], data_reduced1[:,1],'kv')\n",
    "plt.show()"
   ]
  },
  {
   "cell_type": "markdown",
   "metadata": {},
   "source": [
    "### Differences Between Using n_components=2 and n_components=1 with SciKit\n",
    "\n",
    "In the first plot, the original data and the data from SciKit almost align exactly - there has been no reduction in the data\n",
    "\n",
    "In the second plot, with n_components=1 there has been a reduction in the data. The Y values look almost identical for the various data points but the X values have been shifted left or right of the original X value"
   ]
  },
  {
   "cell_type": "markdown",
   "metadata": {},
   "source": [
    "### Still To Do\n",
    "* Replace matrix usage with arrays\n",
    "* Add a property to your class and initialise this property in a suitable fashion to allow you to choose the number of principal components similar to the Scikitlearn PCA class.\n"
   ]
  },
  {
   "cell_type": "code",
   "execution_count": null,
   "metadata": {
    "collapsed": true
   },
   "outputs": [],
   "source": []
  }
 ],
 "metadata": {
  "kernelspec": {
   "display_name": "Python 3.6",
   "language": "python",
   "name": "python3.6"
  },
  "language_info": {
   "codemirror_mode": {
    "name": "ipython",
    "version": 3
   },
   "file_extension": ".py",
   "mimetype": "text/x-python",
   "name": "python",
   "nbconvert_exporter": "python",
   "pygments_lexer": "ipython3",
   "version": "3.6.6"
  }
 },
 "nbformat": 4,
 "nbformat_minor": 1
}
