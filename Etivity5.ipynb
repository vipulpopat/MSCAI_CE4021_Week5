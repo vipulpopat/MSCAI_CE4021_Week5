{
 "cells": [
  {
   "cell_type": "markdown",
   "metadata": {},
   "source": [
    "Student Name: Gerard Kerley\n",
    "Student ID: 18195229"
   ]
  },
  {
   "cell_type": "markdown",
   "metadata": {},
   "source": [
    "- The 'as' keyword allows you to invoke functionality from the module using an alias for the module name. For example: np.mean() instead of numpy.mean()\n",
    "- The from keyword allows you to only import the functionality of interest, for example above we import only the PCA class from the sklearn.decomposition module"
   ]
  },
  {
   "cell_type": "code",
   "execution_count": 3,
   "metadata": {
    "collapsed": true
   },
   "outputs": [],
   "source": [
    "import numpy as np\n",
    "import random as rand\n",
    "import matplotlib.pyplot as plt\n",
    "from numpy.linalg import eig\n",
    "from sklearn.decomposition import PCA"
   ]
  },
  {
   "cell_type": "markdown",
   "metadata": {},
   "source": [
    "As per E-tivity instructions: Use of the matrix class is discouraged, but to allow us to simplify the code slightly, we will use it this week. Its first use will be to store the data that you will perform the PCA transform on. Note that you will likely obtain a higher score if your final version does not use the matrix class."
   ]
  },
  {
   "cell_type": "code",
   "execution_count": 4,
   "metadata": {
    "collapsed": true
   },
   "outputs": [],
   "source": [
    "a_x = 0.05\n",
    "a_y= 10"
   ]
  },
  {
   "cell_type": "code",
   "execution_count": 5,
   "metadata": {
    "collapsed": true
   },
   "outputs": [],
   "source": [
    "data =  np.matrix([[n*(1+a_x*(rand.random()-0.5)),4*n+ a_y*(rand.random()-0.5)] for n in range(20)])"
   ]
  },
  {
   "cell_type": "markdown",
   "metadata": {},
   "source": [
    "The numpy shape property is very useful to get an insight in the dimensions of your data, for example to check whether the features (in this case 2) or the samples (in this case 20) are in the rows or the columns. The notation used here (with columns containing the features and rows containing separate examples) is the standard for Scikitlearn and many other machine learning algorithms.\n"
   ]
  },
  {
   "cell_type": "markdown",
   "metadata": {},
   "source": [
    "### MyPCA implementation"
   ]
  },
  {
   "cell_type": "code",
   "execution_count": 6,
   "metadata": {
    "collapsed": true
   },
   "outputs": [],
   "source": [
    "class MyPCA():\n",
    "    def __init__(self, n_components=None):\n",
    "        self.n_components = n_components\n",
    "    \n",
    "    def fit(self, data):\n",
    "        \"\"\"fit method\n",
    "        \n",
    "        \"\"\"\n",
    "        # Calculate means\n",
    "        self.data_means = np.mean(data, axis=0)\n",
    "        \n",
    "        # Center data\n",
    "        self.data_centered = data - self.data_means\n",
    "        \n",
    "        # Calculate covariance\n",
    "        data_covariance = np.cov(self.data_centered,rowvar=False)\n",
    "        \n",
    "        # get eigen values and vectors\n",
    "        eigvals, eigvecs = eig(data_covariance)        \n",
    "\n",
    "        #sort eigenvalues\n",
    "        indexes_sorted = np.abs(eigvals).argsort()[::-1]   \n",
    "        eigenvalues_sorted = eigvals[indexes_sorted]\n",
    "        eigenvectors_sorted = eigvecs.T[:,indexes_sorted]\n",
    "\n",
    "        self.eigenvalues = eigenvalues_sorted[:self.n_components]\n",
    "        self.eigenvectors = eigenvectors_sorted[:,:self.n_components]\n",
    "   \n",
    "    def transform(self, data):\n",
    "        \"\"\"projection of data\n",
    "            \n",
    "        \"\"\"\n",
    "        return np.dot(self.data_centered, self.eigenvectors.T)\n",
    "            "
   ]
  },
  {
   "cell_type": "code",
   "execution_count": 8,
   "metadata": {
    "collapsed": false
   },
   "outputs": [
    {
     "name": "stdout",
     "output_type": "stream",
     "text": [
      "data_means: \n",
      "[[ 9.50321606 37.65710102]]\n",
      "\n",
      "eigenvalues: \n",
      "[576.85569962   0.5875811 ]\n",
      "\n",
      "eigenvectors: \n",
      "[[ 0.246485   -0.96914661]\n",
      " [-0.96914661 -0.246485  ]]\n",
      "\n"
     ]
    }
   ],
   "source": [
    "my_pca = MyPCA(2)\n",
    "my_pca_fit = my_pca.fit(data)\n",
    "my_pca_transform = my_pca.transform(data)\n",
    "print(\"data_means: \\n{}\\n\".format(my_pca.data_means))\n",
    "print(\"eigenvalues: \\n{}\\n\".format(my_pca.eigenvalues))\n",
    "print(\"eigenvectors: \\n{}\\n\".format(my_pca.eigenvectors))"
   ]
  },
  {
   "cell_type": "markdown",
   "metadata": {},
   "source": [
    "### Compare fit method output with sklearn fit"
   ]
  },
  {
   "cell_type": "code",
   "execution_count": 11,
   "metadata": {
    "collapsed": false
   },
   "outputs": [
    {
     "name": "stdout",
     "output_type": "stream",
     "text": [
      "sklearn eigenvalues: \n",
      "[576.85569962   0.5875811 ]\n",
      "\n",
      "sklearn eigenvectors: \n",
      "[[ 0.246485    0.96914661]\n",
      " [-0.96914661  0.246485  ]]\n",
      "\n"
     ]
    },
    {
     "data": {
      "image/png": "[encoded data removed]",
      "text/plain": [
       "<Figure size 432x288 with 1 Axes>"
      ]
     },
     "metadata": {},
     "output_type": "display_data"
    }
   ],
   "source": [
    "pca = PCA(n_components=2)\n",
    "pca.fit(data)\n",
    "print(\"sklearn eigenvalues: \\n{}\\n\".format(pca.explained_variance_))\n",
    "print(\"sklearn eigenvectors: \\n{}\\n\".format(pca.components_))\n",
    "\n",
    "# Reduce dimensions to n = 1\n",
    "pca = PCA(n_components=1)\n",
    "pca.fit(data)\n",
    "data_pca = pca.transform(data)\n",
    "data_reduced = pca.inverse_transform(data_pca)\n",
    "\n",
    "# Plot data\n",
    "plt.plot(data[:,0], data[:,1], 'or')\n",
    "plt.plot(data_reduced[:,0], data_reduced[:,1],'xb')\n",
    "plt.show()"
   ]
  },
  {
   "cell_type": "code",
   "execution_count": null,
   "metadata": {
    "collapsed": true
   },
   "outputs": [],
   "source": []
  }
 ],
 "metadata": {
  "kernelspec": {
   "display_name": "Python 2",
   "language": "python",
   "name": "python2"
  },
  "language_info": {
   "codemirror_mode": {
    "name": "ipython",
    "version": 3
   },
   "file_extension": ".py",
   "mimetype": "text/x-python",
   "name": "python",
   "nbconvert_exporter": "python",
   "pygments_lexer": "ipython3",
   "version": "3.4.9"
  }
 },
 "nbformat": 4,
 "nbformat_minor": 1
}
