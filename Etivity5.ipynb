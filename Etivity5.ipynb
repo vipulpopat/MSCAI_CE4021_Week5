{
 "cells": [
  {
   "cell_type": "markdown",
   "metadata": {},
   "source": [
    "## Student Name:Ganapathy S\n",
    "## Student ID:18202799\n",
    "\n",
    "Making use of Numpy, write a Python class to apply the PCA transform to the provided (see Notebook) data set. Compare the output of your implementation to the PCA functionality provided by the Scikitlearn module.\n",
    "\n",
    " - Create a 'fit' method that calculates the eigen vectors and eigen values of your dataset. Compare your results to the output of Scikitlearn's fit method and document your findings as a comment (use markdown) directly under the cell with your PCA class.\n",
    " - Use the Scikitlean's PCA class with n_components=2 and n_components=1 and observe the differences. In the cell directly below, comment on what you have observed.\n",
    " - Add a property to your class and initialise this property in a suitable fashion to allow you to choose the number of principal components similar to the Scikitlearn PCA class.\n",
    " - Store those results from your fit method that are required to transform the data set, in suitable class properties.\n",
    " - Create a 'transform' method to perform the PCA data transformation on your data set using the parameters obtained using your 'fit' method.\n"
   ]
  },
  {
   "cell_type": "markdown",
   "metadata": {},
   "source": [
    "- The 'as' keyword allows you to invoke functionality from the module using an alias for the module name. For example: np.mean() instead of numpy.mean()\n",
    "- The from keyword allows you to only import the functionality of interest, for example above we import only the PCA class from the sklearn.decomposition module"
   ]
  },
  {
   "cell_type": "code",
   "execution_count": 1,
   "metadata": {
    "ExecuteTime": {
     "end_time": "2018-10-14T11:04:46.564792Z",
     "start_time": "2018-10-14T11:04:45.460018Z"
    }
   },
   "outputs": [],
   "source": [
    "import numpy as np\n",
    "import random as rand\n",
    "import matplotlib.pyplot as plt\n",
    "from numpy.linalg import eig\n",
    "from sklearn.decomposition import PCA\n",
    "\n",
    "from IPython.core.interactiveshell import InteractiveShell\n",
    "InteractiveShell.ast_node_interactivity = \"all\""
   ]
  },
  {
   "cell_type": "markdown",
   "metadata": {},
   "source": [
    "As per E-tivity instructions: Use of the matrix class is discouraged, but to allow us to simplify the code slightly, we will use it this week. Its first use will be to store the data that you will perform the PCA transform on. Note that you will likely obtain a higher score if your final version does not use the matrix class."
   ]
  },
  {
   "cell_type": "code",
   "execution_count": 2,
   "metadata": {
    "ExecuteTime": {
     "end_time": "2018-10-14T11:04:47.063136Z",
     "start_time": "2018-10-14T11:04:47.059134Z"
    }
   },
   "outputs": [],
   "source": [
    "a_x = 0.05\n",
    "a_y = 10"
   ]
  },
  {
   "cell_type": "code",
   "execution_count": 3,
   "metadata": {
    "ExecuteTime": {
     "end_time": "2018-10-14T11:04:47.832655Z",
     "start_time": "2018-10-14T11:04:47.827651Z"
    }
   },
   "outputs": [],
   "source": [
    "data = np.array([[n*(1+a_x*(rand.random()-0.5)), 4*n + a_y *\n",
    "                  (rand.random()-0.5)] for n in range(20)])"
   ]
  },
  {
   "cell_type": "markdown",
   "metadata": {},
   "source": [
    "The numpy shape property is very useful to get an insight in the dimensions of your data, for example to check whether the features (in this case 2) or the samples (in this case 20) are in the rows or the columns. The notation used here (with columns containing the features and rows containing separate examples) is the standard for Scikitlearn and many other machine learning algorithms.\n"
   ]
  },
  {
   "cell_type": "code",
   "execution_count": 4,
   "metadata": {
    "ExecuteTime": {
     "end_time": "2018-10-14T11:04:51.584639Z",
     "start_time": "2018-10-14T11:04:51.397504Z"
    }
   },
   "outputs": [
    {
     "data": {
      "text/plain": [
       "<matplotlib.collections.PathCollection at 0x7f0ae6848630>"
      ]
     },
     "execution_count": 4,
     "metadata": {},
     "output_type": "execute_result"
    },
    {
     "data": {
      "image/png": "[encoded data removed]",
      "text/plain": [
       "<Figure size 432x288 with 1 Axes>"
      ]
     },
     "metadata": {},
     "output_type": "display_data"
    }
   ],
   "source": [
    "plt.scatter(data[:, 0], data[:, 1])\n",
    "plt.show()"
   ]
  },
  {
   "cell_type": "markdown",
   "metadata": {},
   "source": [
    "## Development of my own PCA class"
   ]
  },
  {
   "cell_type": "code",
   "execution_count": 5,
   "metadata": {
    "ExecuteTime": {
     "end_time": "2018-10-14T11:04:54.908214Z",
     "start_time": "2018-10-14T11:04:54.895207Z"
    }
   },
   "outputs": [],
   "source": [
    "class PCA_own:\n",
    "\n",
    "    def __init__(self, n_components=None):\n",
    "        # Setting up the property of class of number of components similar to sklearn library\n",
    "        self.n_components = n_components\n",
    "\n",
    "    def fit(self, X):\n",
    "        # Storing the number of observations and number of columns from the dataset\n",
    "        n_samples, n_features = X.shape\n",
    "        if self.n_components == None:\n",
    "            # Error message in case number of components is not provided\n",
    "            raise ValueError(\"Please mention the number of components\")\n",
    "        elif self.n_components > n_features:\n",
    "            # Error message in case number of components are greater than number of features\n",
    "            raise ValueError(\n",
    "                \"Number of components can not be greater than number of features\")\n",
    "        else:\n",
    "            X = X - np.mean(X, axis=0)\n",
    "            # Standardize the input data\n",
    "            cov = np.cov(X, rowvar=False)\n",
    "            # calculate the covariance matrix\n",
    "\n",
    "            eigen_value, eigen_vector = np.linalg.eig(cov)\n",
    "            # calculate the eigen value and eigen vectors of the covariance matrix\n",
    "\n",
    "            idx = np.argsort(eigen_value)[::-1]\n",
    "            # getting the index to sort the eigen values in the descending order\n",
    "\n",
    "            eigen_value = eigen_value[idx]\n",
    "            # sorting the eigen value vector using the index created above\n",
    "\n",
    "            eigen_vector = eigen_vector[:, idx]\n",
    "            # reordering the eigen vector as well in the same order\n",
    "\n",
    "            eigen_vector = eigen_vector[:, :self.n_components]\n",
    "            # Taking as many values of eigen vectors as many components are needed\n",
    "\n",
    "            self.explained_variance_ratio_ = eigen_value / eigen_value.sum()\n",
    "            self.explained_variance_ratio_ = self.explained_variance_ratio_[\n",
    "                :self.n_components]\n",
    "            # calculating the percentage variance explained by various components of PCA\n",
    "\n",
    "            # Storing the eigen values and vectors as class attributes so as to use them in transform method\n",
    "            self.eigen_value = eigen_value\n",
    "            self.eigen_vector = eigen_vector\n",
    "\n",
    "            return self.eigen_value, self.eigen_vector\n",
    "            # return the final eigen value and vector for further use\n",
    "\n",
    "    def transform(self, X):\n",
    "\n",
    "        n_samples, n_features = X.shape\n",
    "\n",
    "        if self.n_components == None:\n",
    "            # Error message in case number of components is not provided\n",
    "            raise ValueError(\"Please mention the number of components\")\n",
    "\n",
    "        elif self.n_components > n_features:\n",
    "            # Error message in case number of components are greater than number of features\n",
    "            raise ValueError(\n",
    "                \"Number of components can not be greater than number of features\")\n",
    "\n",
    "        else:\n",
    "\n",
    "            # calcualte the required eigen value and eigen vector for the given dataset\n",
    "            # Need to work on how i can go around fitting the data again\n",
    "            #eigen_value, eigen_vector = self.fit(X)\n",
    "\n",
    "            X = X - np.mean(X, axis=0)\n",
    "\n",
    "            # taking the dot product of scaled data and eigen vector to get the transformed data\n",
    "            transformed = np.dot(X, self.eigen_vector)\n",
    "\n",
    "            return transformed"
   ]
  },
  {
   "cell_type": "markdown",
   "metadata": {},
   "source": [
    "## Getting the PCA results from my own class"
   ]
  },
  {
   "cell_type": "code",
   "execution_count": 6,
   "metadata": {
    "ExecuteTime": {
     "end_time": "2018-10-14T11:04:58.346026Z",
     "start_time": "2018-10-14T11:04:58.343022Z"
    }
   },
   "outputs": [],
   "source": [
    "trial = PCA_own(2)"
   ]
  },
  {
   "cell_type": "code",
   "execution_count": 7,
   "metadata": {
    "ExecuteTime": {
     "end_time": "2018-10-14T11:05:13.595823Z",
     "start_time": "2018-10-14T11:05:13.586817Z"
    }
   },
   "outputs": [
    {
     "data": {
      "text/plain": [
       "array([5.86548828e+02, 4.44248724e-01])"
      ]
     },
     "execution_count": 7,
     "metadata": {},
     "output_type": "execute_result"
    }
   ],
   "source": [
    "trial.fit(data)[0]"
   ]
  },
  {
   "cell_type": "code",
   "execution_count": 8,
   "metadata": {
    "ExecuteTime": {
     "end_time": "2018-10-14T11:05:14.506074Z",
     "start_time": "2018-10-14T11:05:14.500072Z"
    }
   },
   "outputs": [
    {
     "data": {
      "text/plain": [
       "array([[-0.24013826, -0.9707387 ],\n",
       "       [-0.9707387 ,  0.24013826]])"
      ]
     },
     "execution_count": 8,
     "metadata": {},
     "output_type": "execute_result"
    }
   ],
   "source": [
    "trial.fit(data)[1]"
   ]
  },
  {
   "cell_type": "code",
   "execution_count": 9,
   "metadata": {
    "ExecuteTime": {
     "end_time": "2018-10-14T11:05:15.570166Z",
     "start_time": "2018-10-14T11:05:15.561141Z"
    }
   },
   "outputs": [
    {
     "data": {
      "text/plain": [
       "array([[ 38.68448011,   0.16935354],\n",
       "       [ 29.66404625,   1.38097017],\n",
       "       [ 33.39744193,  -0.54468657],\n",
       "       [ 30.03014345,  -0.71637945],\n",
       "       [ 18.77724322,   0.92546326],\n",
       "       [ 21.14403372,  -0.7314653 ],\n",
       "       [ 11.44562399,   0.63661094],\n",
       "       [ 13.85213102,  -0.82235897],\n",
       "       [  9.88393026,  -0.98513721],\n",
       "       [  1.87469872,  -0.09654514],\n",
       "       [ -4.93319786,   0.85720389],\n",
       "       [ -8.12773735,   0.55799269],\n",
       "       [ -9.78193762,  -0.13426468],\n",
       "       [-13.18760528,  -0.18972397],\n",
       "       [-18.62176189,  -0.37308228],\n",
       "       [-25.10950643,   0.30620692],\n",
       "       [-28.01375363,   0.1178547 ],\n",
       "       [-32.92200667,   0.6195448 ],\n",
       "       [-32.39575586,  -0.35929601],\n",
       "       [-35.66051008,  -0.61826132]])"
      ]
     },
     "execution_count": 9,
     "metadata": {},
     "output_type": "execute_result"
    }
   ],
   "source": [
    "trial.transform(data)"
   ]
  },
  {
   "cell_type": "code",
   "execution_count": 10,
   "metadata": {
    "ExecuteTime": {
     "end_time": "2018-10-14T11:05:21.033008Z",
     "start_time": "2018-10-14T11:05:21.024982Z"
    }
   },
   "outputs": [
    {
     "data": {
      "text/plain": [
       "array([9.99243179e-01, 7.56821063e-04])"
      ]
     },
     "execution_count": 10,
     "metadata": {},
     "output_type": "execute_result"
    }
   ],
   "source": [
    "trial.explained_variance_ratio_"
   ]
  },
  {
   "cell_type": "markdown",
   "metadata": {},
   "source": [
    "## Getting the PCA results from my Sklearn class"
   ]
  },
  {
   "cell_type": "code",
   "execution_count": 11,
   "metadata": {
    "ExecuteTime": {
     "end_time": "2018-10-14T11:01:02.247121Z",
     "start_time": "2018-10-14T11:01:02.183984Z"
    }
   },
   "outputs": [],
   "source": [
    "# using 2 compnonents\n",
    "pca = PCA(2)\n",
    "pcafit = pca.fit(data)"
   ]
  },
  {
   "cell_type": "code",
   "execution_count": 12,
   "metadata": {
    "ExecuteTime": {
     "end_time": "2018-10-14T11:01:03.571563Z",
     "start_time": "2018-10-14T11:01:03.565558Z"
    }
   },
   "outputs": [
    {
     "data": {
      "text/plain": [
       "array([5.86548828e+02, 4.44248724e-01])"
      ]
     },
     "execution_count": 12,
     "metadata": {},
     "output_type": "execute_result"
    }
   ],
   "source": [
    "pcafit.explained_variance_"
   ]
  },
  {
   "cell_type": "code",
   "execution_count": 13,
   "metadata": {},
   "outputs": [
    {
     "data": {
      "text/plain": [
       "array([[-0.24013826, -0.9707387 ],\n",
       "       [-0.9707387 ,  0.24013826]])"
      ]
     },
     "execution_count": 13,
     "metadata": {},
     "output_type": "execute_result"
    }
   ],
   "source": [
    "pcafit.components_"
   ]
  },
  {
   "cell_type": "code",
   "execution_count": 14,
   "metadata": {
    "ExecuteTime": {
     "end_time": "2018-10-14T11:01:10.230820Z",
     "start_time": "2018-10-14T11:01:10.223813Z"
    }
   },
   "outputs": [
    {
     "data": {
      "text/plain": [
       "array([9.99243179e-01, 7.56821063e-04])"
      ]
     },
     "execution_count": 14,
     "metadata": {},
     "output_type": "execute_result"
    }
   ],
   "source": [
    "pcafit.explained_variance_ratio_"
   ]
  },
  {
   "cell_type": "code",
   "execution_count": 15,
   "metadata": {
    "ExecuteTime": {
     "end_time": "2018-10-14T11:01:11.358766Z",
     "start_time": "2018-10-14T11:01:11.350759Z"
    }
   },
   "outputs": [
    {
     "data": {
      "text/plain": [
       "array([[ 38.68448011,   0.16935354],\n",
       "       [ 29.66404625,   1.38097017],\n",
       "       [ 33.39744193,  -0.54468657],\n",
       "       [ 30.03014345,  -0.71637945],\n",
       "       [ 18.77724322,   0.92546326],\n",
       "       [ 21.14403372,  -0.7314653 ],\n",
       "       [ 11.44562399,   0.63661094],\n",
       "       [ 13.85213102,  -0.82235897],\n",
       "       [  9.88393026,  -0.98513721],\n",
       "       [  1.87469872,  -0.09654514],\n",
       "       [ -4.93319786,   0.85720389],\n",
       "       [ -8.12773735,   0.55799269],\n",
       "       [ -9.78193762,  -0.13426468],\n",
       "       [-13.18760528,  -0.18972397],\n",
       "       [-18.62176189,  -0.37308228],\n",
       "       [-25.10950643,   0.30620692],\n",
       "       [-28.01375363,   0.1178547 ],\n",
       "       [-32.92200667,   0.6195448 ],\n",
       "       [-32.39575586,  -0.35929601],\n",
       "       [-35.66051008,  -0.61826132]])"
      ]
     },
     "execution_count": 15,
     "metadata": {},
     "output_type": "execute_result"
    }
   ],
   "source": [
    "pcafit.transform(data)"
   ]
  },
  {
   "cell_type": "markdown",
   "metadata": {},
   "source": [
    "## Analysis of comparison of two results"
   ]
  },
  {
   "cell_type": "markdown",
   "metadata": {},
   "source": [
    "After getting both the results, it is clear that eigen values are same for both the results, however the eigen vectors have\n",
    "different directions. this might be due to different implementation in sklearn but since eigen values are same, eigen vectors\n",
    "can be in any direction\n",
    "Since the eigen values are same across both classes the explained variance ratio is also same"
   ]
  },
  {
   "cell_type": "markdown",
   "metadata": {},
   "source": [
    "## PCA with n_components =1 using sklearn"
   ]
  },
  {
   "cell_type": "code",
   "execution_count": 16,
   "metadata": {},
   "outputs": [],
   "source": [
    "pca = PCA(1)\n",
    "pcafit = pca.fit(data)"
   ]
  },
  {
   "cell_type": "code",
   "execution_count": 17,
   "metadata": {},
   "outputs": [
    {
     "data": {
      "text/plain": [
       "array([586.54882832])"
      ]
     },
     "execution_count": 17,
     "metadata": {},
     "output_type": "execute_result"
    }
   ],
   "source": [
    "pcafit.explained_variance_"
   ]
  },
  {
   "cell_type": "code",
   "execution_count": 18,
   "metadata": {},
   "outputs": [
    {
     "data": {
      "text/plain": [
       "array([[-0.24013826, -0.9707387 ]])"
      ]
     },
     "execution_count": 18,
     "metadata": {},
     "output_type": "execute_result"
    }
   ],
   "source": [
    "pcafit.components_"
   ]
  },
  {
   "cell_type": "code",
   "execution_count": 19,
   "metadata": {},
   "outputs": [
    {
     "data": {
      "text/plain": [
       "array([0.99924318])"
      ]
     },
     "execution_count": 19,
     "metadata": {},
     "output_type": "execute_result"
    }
   ],
   "source": [
    "pcafit.explained_variance_ratio_"
   ]
  },
  {
   "cell_type": "code",
   "execution_count": 20,
   "metadata": {},
   "outputs": [
    {
     "data": {
      "text/plain": [
       "array([[ 38.68448011],\n",
       "       [ 29.66404625],\n",
       "       [ 33.39744193],\n",
       "       [ 30.03014345],\n",
       "       [ 18.77724322],\n",
       "       [ 21.14403372],\n",
       "       [ 11.44562399],\n",
       "       [ 13.85213102],\n",
       "       [  9.88393026],\n",
       "       [  1.87469872],\n",
       "       [ -4.93319786],\n",
       "       [ -8.12773735],\n",
       "       [ -9.78193762],\n",
       "       [-13.18760528],\n",
       "       [-18.62176189],\n",
       "       [-25.10950643],\n",
       "       [-28.01375363],\n",
       "       [-32.92200667],\n",
       "       [-32.39575586],\n",
       "       [-35.66051008]])"
      ]
     },
     "execution_count": 20,
     "metadata": {},
     "output_type": "execute_result"
    }
   ],
   "source": [
    "pcafit.transform(data)"
   ]
  },
  {
   "cell_type": "markdown",
   "metadata": {},
   "source": [
    "The results seems to be same as the first component when sklearn with 2 components was fitted"
   ]
  },
  {
   "cell_type": "code",
   "execution_count": null,
   "metadata": {
    "scrolled": true
   },
   "outputs": [],
   "source": []
  },
  {
   "cell_type": "code",
   "execution_count": null,
   "metadata": {},
   "outputs": [],
   "source": []
  },
  {
   "cell_type": "code",
   "execution_count": null,
   "metadata": {},
   "outputs": [],
   "source": []
  },
  {
   "cell_type": "code",
   "execution_count": null,
   "metadata": {},
   "outputs": [],
   "source": []
  }
 ],
 "metadata": {
  "kernelspec": {
   "display_name": "Python 3",
   "language": "python",
   "name": "python3"
  },
  "language_info": {
   "codemirror_mode": {
    "name": "ipython",
    "version": 3
   },
   "file_extension": ".py",
   "mimetype": "text/x-python",
   "name": "python",
   "nbconvert_exporter": "python",
   "pygments_lexer": "ipython3",
   "version": "3.5.2"
  }
 },
 "nbformat": 4,
 "nbformat_minor": 1
}
