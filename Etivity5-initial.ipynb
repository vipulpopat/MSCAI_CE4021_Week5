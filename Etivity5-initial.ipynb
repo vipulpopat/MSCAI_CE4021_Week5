{
 "cells": [
  {
   "cell_type": "markdown",
   "metadata": {},
   "source": [
    "Student Name: Gerard Kerley\n",
    "Student ID: 18195229"
   ]
  },
  {
   "cell_type": "markdown",
   "metadata": {},
   "source": [
    "Task (Complete by Saturday Week 5)\n",
    "\n",
    "Making use of Numpy, write a Python class to apply the PCA transform to the provided (see Notebook) data set. Compare the output of your implementation to the PCA functionality provided by the Scikitlearn module.\n",
    "\n",
    "Create a 'fit' method that calculates the eigen vectors and eigen values of your dataset. Compare your results to the output of Scikitlearn's fit method and document your findings as a comment (use markdown) directly under the cell with your PCA class.\n",
    "Use the Scikitlean's PCA class with n_components=2 and n_components=1 and observe the differences. In the cell directly below, comment on what you have observed.\n",
    "Add a property to your class and initialise this property in a suitable fashion to allow you to choose the number of principal components similar to the Scikitlearn PCA class.\n",
    "Store those results from your fit method that are required to transform the data set, in suitable class properties.\n",
    "Create a 'transform' method to perform the PCA data transformation on your data set using the parameters obtained using your 'fit' method.\n",
    " \n",
    "\n",
    "N.B.:\n",
    "\n",
    "Limit your code to the aspects explicitly listed. \n",
    "Use the Jupyter Notebook provided in the repository for week 5. This notebook contains the data that needs to be transformed.\n",
    "The required modules have already been imported for you. You should not import any other modules.\n",
    "If you find creating a class with this functionality daunting, please start by creating normal functions in your notebook. If time permits, you can then change to use of a class later. \n",
    " \n",
    "\n",
    "HINTS:\n",
    "\n",
    "Numpy.mean() will 'flatten' your tensor by default. To obtain the mean along a given axis, you may use the axis parameter.\n",
    "\n",
    "Numpy.cov() assumes by default that data is presented with one observation per column. This can be changed using the rowvar parameter. \n",
    "\n",
    "A Numpy.matrix is a convenient way of performing the matrix operations required for PCA whilst retaining a matrix/vector like structure. Use of this class is discouraged, but would form a good starting point for tackling this week's challenge. Once you have the code working with the matrix class, changing to arrays is relatively straight forward.\n",
    "\n",
    "You can use Scikitlearn as follows to check the Eigen vectors that you have found with your 'fit' mehod:\n",
    "\n",
    "pca = PCA(n_components=2)\n",
    "pca.fit(data)\n",
    "print(pca.components_)\n",
    "\n",
    "You can use Scikitlearn to obtain \n",
    "GIT push your implementation and post your manual calculations to E-tivity 5: Linear Algebra in Numpy and Beyond and provide the name of your branch.\n",
    "\n"
   ]
  },
  {
   "cell_type": "markdown",
   "metadata": {},
   "source": [
    "- The 'as' keyword allows you to invoke functionality from the module using an alias for the module name. For example: np.mean() instead of numpy.mean()\n",
    "- The from keyword allows you to only import the functionality of interest, for example above we import only the PCA class from the sklearn.decomposition module"
   ]
  },
  {
   "cell_type": "code",
   "execution_count": 17,
   "metadata": {
    "collapsed": true
   },
   "outputs": [],
   "source": [
    "import numpy as np\n",
    "import random as rand\n",
    "import matplotlib.pyplot as plt\n",
    "from numpy.linalg import eig\n",
    "from sklearn.decomposition import PCA"
   ]
  },
  {
   "cell_type": "markdown",
   "metadata": {},
   "source": [
    "As per E-tivity instructions: Use of the matrix class is discouraged, but to allow us to simplify the code slightly, we will use it this week. Its first use will be to store the data that you will perform the PCA transform on. Note that you will likely obtain a higher score if your final version does not use the matrix class."
   ]
  },
  {
   "cell_type": "code",
   "execution_count": 18,
   "metadata": {
    "collapsed": true
   },
   "outputs": [],
   "source": [
    "a_x = 0.05\n",
    "a_y= 10"
   ]
  },
  {
   "cell_type": "code",
   "execution_count": 19,
   "metadata": {
    "collapsed": true
   },
   "outputs": [],
   "source": [
    "data =  np.matrix([[n*(1+a_x*(rand.random()-0.5)),4*n+ a_y*(rand.random()-0.5)] for n in range(20)])"
   ]
  },
  {
   "cell_type": "markdown",
   "metadata": {},
   "source": [
    "The numpy shape property is very useful to get an insight in the dimensions of your data, for example to check whether the features (in this case 2) or the samples (in this case 20) are in the rows or the columns. The notation used here (with columns containing the features and rows containing separate examples) is the standard for Scikitlearn and many other machine learning algorithms.\n"
   ]
  },
  {
   "cell_type": "code",
   "execution_count": 36,
   "metadata": {
    "collapsed": false
   },
   "outputs": [
    {
     "name": "stdout",
     "output_type": "stream",
     "text": [
      "(20, 2)\n",
      "[[ 0.         -2.20685746]\n",
      " [ 1.02294355  6.81761128]\n",
      " [ 1.9505356  11.25902766]\n",
      " [ 3.06546657  9.08055308]\n",
      " [ 3.91348872 13.5326669 ]\n",
      " [ 4.92997798 15.96803571]\n",
      " [ 5.92015605 24.08764665]\n",
      " [ 7.09416919 32.96174085]\n",
      " [ 8.01223342 35.260778  ]\n",
      " [ 9.17655762 38.96615011]\n",
      " [ 9.90666607 39.46467087]\n",
      " [10.95388064 39.55819248]\n",
      " [11.72952612 45.0452084 ]\n",
      " [13.21634375 47.79153155]\n",
      " [13.65348866 60.99651611]\n",
      " [14.89586382 61.80208803]\n",
      " [15.99476334 60.54108797]\n",
      " [17.27900032 72.44713956]\n",
      " [18.21387275 76.20386046]\n",
      " [18.78335749 80.77491481]]\n"
     ]
    }
   ],
   "source": [
    "print (data.shape)\n",
    "print (data)"
   ]
  },
  {
   "cell_type": "markdown",
   "metadata": {},
   "source": [
    "### SKLearn PCA\n",
    "n = 2"
   ]
  },
  {
   "cell_type": "code",
   "execution_count": 28,
   "metadata": {
    "collapsed": false
   },
   "outputs": [
    {
     "name": "stdout",
     "output_type": "stream",
     "text": [
      "[[ 0.23917316  0.97097693]\n",
      " [ 0.97097693 -0.23917316]]\n"
     ]
    }
   ],
   "source": [
    "pca = PCA(n_components=2)\n",
    "pca.fit(data)\n",
    "print(pca.components_)"
   ]
  },
  {
   "cell_type": "code",
   "execution_count": 29,
   "metadata": {
    "collapsed": false
   },
   "outputs": [
    {
     "data": {
      "image/png": "[encoded data removed]",
      "text/plain": [
       "<Figure size 432x288 with 1 Axes>"
      ]
     },
     "metadata": {},
     "output_type": "display_data"
    }
   ],
   "source": [
    "# Reduce dimensions to n = 1\n",
    "pca = PCA(n_components=1)\n",
    "pca.fit(data)\n",
    "data_pca = pca.transform(data)\n",
    "data_reduced = pca.inverse_transform(data_pca)\n",
    "\n",
    "# Plot data\n",
    "plt.plot(data[:,0], data[:,1], 'or')\n",
    "plt.plot(data_reduced[:,0], data_reduced[:,1],'xb')\n",
    "plt.show()"
   ]
  },
  {
   "cell_type": "markdown",
   "metadata": {},
   "source": [
    "### MyPCA implementation"
   ]
  },
  {
   "cell_type": "code",
   "execution_count": 31,
   "metadata": {
    "collapsed": true
   },
   "outputs": [],
   "source": [
    "from sklearn.decomposition import PCA\n",
    "import numpy as np\n",
    "from numpy.linalg import linalg as nla\n",
    "import random as rand\n",
    "import matplotlib.pyplot as plt\n",
    "\n",
    "a_x = 0.05\n",
    "a_y= 10\n",
    "\n",
    "data =  np.array([[n*(1+a_x*(rand.random()-0.5)),4*n+ a_y*(rand.random()-0.5)] for n in range(20)])"
   ]
  },
  {
   "cell_type": "code",
   "execution_count": 50,
   "metadata": {
    "collapsed": false
   },
   "outputs": [],
   "source": [
    "class MyPCA():\n",
    "    def __init__(self, n_components=None):\n",
    "        self.n_components = n_components\n",
    "    \n",
    "    def fit(self, data):\n",
    "        \"\"\"\n",
    "        \n",
    "        \"\"\"\n",
    "        # Calculate means\n",
    "        data_means = np.mean(data.T, axis=1)\n",
    "        print(\"data_means\")\n",
    "        print(data_means)\n",
    "        \n",
    "        # Center data\n",
    "        data_centered = data - data_means\n",
    "        print(\"data_centered\")\n",
    "        print(data_centered)\n",
    "        \n",
    "        # Calculate covariance\n",
    "        data_covariance = np.cov(data_centered,rowvar=False)\n",
    "        print(\"data_covariance\")\n",
    "        print(data_covariance)\n",
    "        \n",
    "        # get eigen values and vectors\n",
    "        eigenvalues, eigenvectors = eig(data_covariance)        \n",
    "        print(\"eigenvalues\")\n",
    "        print(eigenvalues)\n",
    "        print(\"eigenvectors\")\n",
    "        print(eigenvectors)        \n",
    "\n",
    "        #sort eigenvalues\n",
    "        indexes_sorted = eigenvalues.argsort()[::-1]   \n",
    "        eigenvalues_sorted = eigenvalues[indexes_sorted]\n",
    "        eigenvectors_sorted = eigenvectors[:,indexes_sorted]\n",
    "        eigenvectors = eigenvectors_sorted[:, :self.n_components]\n",
    "        print(\"eigenvalues\")\n",
    "        print(eigenvalues)\n",
    "        print(\"eigenvectors\")\n",
    "        print(eigenvectors)        \n",
    "\n",
    "        return (eigenvalues, eigenvectors)\n",
    "        \n",
    "    \n",
    "    def transform(self, data):\n",
    "        \"\"\"\n",
    "        \n",
    "        \"\"\"\n",
    "        #TODO: use np.dot to do projection\n",
    "            "
   ]
  },
  {
   "cell_type": "code",
   "execution_count": 51,
   "metadata": {
    "collapsed": false
   },
   "outputs": [
    {
     "name": "stdout",
     "output_type": "stream",
     "text": [
      "data_means\n",
      "[ 9.48561458 38.51762815]\n",
      "data_centered\n",
      "[[ -9.48561458 -40.72448561]\n",
      " [ -8.46267103 -31.70001687]\n",
      " [ -7.53507898 -27.25860049]\n",
      " [ -6.42014802 -29.43707507]\n",
      " [ -5.57212586 -24.98496125]\n",
      " [ -4.55563661 -22.54959244]\n",
      " [ -3.56545853 -14.4299815 ]\n",
      " [ -2.39144539  -5.5558873 ]\n",
      " [ -1.47338116  -3.25685015]\n",
      " [ -0.30905696   0.44852196]\n",
      " [  0.42105149   0.94704272]\n",
      " [  1.46826606   1.04056433]\n",
      " [  2.24391154   6.52758025]\n",
      " [  3.73072917   9.2739034 ]\n",
      " [  4.16787407  22.47888796]\n",
      " [  5.41024923  23.28445988]\n",
      " [  6.50914876  22.02345982]\n",
      " [  7.79338574  33.92951141]\n",
      " [  8.72825817  37.68623231]\n",
      " [  9.29774291  42.25728666]]\n",
      "data_covariance\n",
      "[[ 35.03971677 145.30217663]\n",
      " [145.30217663 614.51663297]]\n",
      "eigenvalues\n",
      "[6.46879505e-01 6.48909470e+02]\n",
      "eigenvectors\n",
      "[[-0.97311157 -0.23033425]\n",
      " [ 0.23033425 -0.97311157]]\n",
      "eigenvalues\n",
      "[6.46879505e-01 6.48909470e+02]\n",
      "eigenvectors\n",
      "[[-0.23033425 -0.97311157]\n",
      " [-0.97311157  0.23033425]]\n"
     ]
    }
   ],
   "source": [
    "my_pca = MyPCA(2)\n",
    "my_pca_fit = my_pca.fit(data)\n",
    "my_pca_transform = my_pca.transform(data)"
   ]
  },
  {
   "cell_type": "markdown",
   "metadata": {},
   "source": [
    "Compare fit method output with sklearn fit"
   ]
  },
  {
   "cell_type": "code",
   "execution_count": null,
   "metadata": {
    "collapsed": true
   },
   "outputs": [],
   "source": []
  }
 ],
 "metadata": {
  "kernelspec": {
   "display_name": "Python 2",
   "language": "python",
   "name": "python2"
  },
  "language_info": {
   "codemirror_mode": {
    "name": "ipython",
    "version": 3
   },
   "file_extension": ".py",
   "mimetype": "text/x-python",
   "name": "python",
   "nbconvert_exporter": "python",
   "pygments_lexer": "ipython3",
   "version": "3.4.9"
  }
 },
 "nbformat": 4,
 "nbformat_minor": 1
}
