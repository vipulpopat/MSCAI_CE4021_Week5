{
 "cells": [
  {
   "cell_type": "markdown",
   "metadata": {},
   "source": [
    "# Student Name: Brian Parle\n",
    "# Student ID:   18200036\n",
    "\n",
    "\n",
    "## Initial attempt: Sat Oct 13\n",
    "\n",
    "### Purpose\n",
    "\n",
    "The purpose of this E-tivity is to help you become confident in using Numpy’s functionality for matrix manipulation and to learn about a very useful data processing technique: principal components analysis, or PCA. You will find that using Numpy is much easier for matrix manipulation than what you have done to date!\n",
    "\n",
    "### Task (Complete by Saturday Week 5)\n",
    "\n",
    "Making use of Numpy, write a Python class to apply the PCA transform to the provided (see Notebook) data set. Compare the output of your implementation to the PCA functionality provided by the Scikitlearn module.\n",
    "\n",
    "1. Create a 'fit' method that calculates the eigen vectors and eigen values of your dataset. Compare your results to the output of Scikitlearn's fit method and document your findings as a comment (use markdown) directly under the cell with your PCA class.\n",
    "2. Use the Scikitlean's PCA class with n_components=2 and n_components=1 and observe the differences. In the cell directly below, comment on what you have observed.\n",
    "3. Add a property to your class and initialise this property in a suitable fashion to allow you to choose the number of principal components similar to the Scikitlearn PCA class.\n",
    "4. Store those results from your fit method that are required to transform the data set, in suitable class properties.\n",
    "5. Create a 'transform' method to perform the PCA data transformation on your data set using the parameters obtained using your 'fit' method.\n",
    " \n",
    "\n",
    "N.B.:\n",
    "\n",
    "* Limit your code to the aspects explicitly listed. \n",
    "* Use the Jupyter Notebook provided in the repository for week 5. This notebook contains the data that needs to be transformed.\n",
    "* The required modules have already been imported for you. You should not import any other modules.\n",
    "* If you find creating a class with this functionality daunting, please start by creating normal functions in your notebook. If time permits, you can then change to use of a class later. \n",
    " \n",
    "\n",
    "HINTS:\n",
    "\n",
    "- Numpy.mean() will 'flatten' your tensor by default. To obtain the mean along a given axis, you may use the axis parameter.\n",
    "- Numpy.cov() assumes by default that data is presented with one observation per column. This can be changed using the rowvar parameter. \n",
    "- A Numpy.matrix is a convenient way of performing the matrix operations required for PCA whilst retaining a matrix/vector like structure. Use of this class is discouraged, but would form a good starting point for tackling this week's challenge. Once you have the code working with the matrix class, changing to arrays is relatively straight forward.\n",
    "- You can use Scikitlearn as follows to check the Eigen vectors that you have found with your 'fit' mehod:\n",
    "    pca = PCA(n_components=2)\n",
    "    pca.fit(data)\n",
    "    print(pca.components_)\n",
    "\n",
    "You can use Scikitlearn to obtain \n",
    "GIT push your implementation and post your manual calculations to E-tivity 5: Linear Algebra in Numpy and Beyond and provide the name of your branch."
   ]
  },
  {
   "cell_type": "markdown",
   "metadata": {},
   "source": [
    "- The 'as' keyword allows you to invoke functionality from the module using an alias for the module name. For example: np.mean() instead of numpy.mean()\n",
    "- The from keyword allows you to only import the functionality of interest, for example above we import only the PCA class from the sklearn.decomposition module"
   ]
  },
  {
   "cell_type": "code",
   "execution_count": 2,
   "metadata": {},
   "outputs": [],
   "source": [
    "import numpy as np\n",
    "import random as rand\n",
    "import matplotlib.pyplot as plt\n",
    "from numpy.linalg import eig\n",
    "from sklearn.decomposition import PCA"
   ]
  },
  {
   "cell_type": "markdown",
   "metadata": {},
   "source": [
    "As per E-tivity instructions: Use of the matrix class is discouraged, but to allow us to simplify the code slightly, we will use it this week. Its first use will be to store the data that you will perform the PCA transform on. Note that you will likely obtain a higher score if your final version does not use the matrix class."
   ]
  },
  {
   "cell_type": "code",
   "execution_count": 3,
   "metadata": {},
   "outputs": [],
   "source": [
    "a_x = 0.05\n",
    "a_y= 10"
   ]
  },
  {
   "cell_type": "code",
   "execution_count": 4,
   "metadata": {},
   "outputs": [],
   "source": [
    "data =  np.array([[n*(1+a_x*(rand.random()-0.5)),4*n+ a_y*(rand.random()-0.5)] for n in range(20)])"
   ]
  },
  {
   "cell_type": "markdown",
   "metadata": {},
   "source": [
    "The numpy shape property is very useful to get an insight in the dimensions of your data, for example to check whether the features (in this case 2) or the samples (in this case 20) are in the rows or the columns. The notation used here (with columns containing the features and rows containing separate examples) is the standard for Scikitlearn and many other machine learning algorithms.\n"
   ]
  },
  {
   "cell_type": "code",
   "execution_count": 5,
   "metadata": {},
   "outputs": [
    {
     "data": {
      "text/plain": [
       "(20, 2)"
      ]
     },
     "execution_count": 5,
     "metadata": {},
     "output_type": "execute_result"
    }
   ],
   "source": [
    "data.shape"
   ]
  },
  {
   "cell_type": "code",
   "execution_count": 6,
   "metadata": {},
   "outputs": [
    {
     "name": "stdout",
     "output_type": "stream",
     "text": [
      "[[ 0.          3.30649714]\n",
      " [ 1.02234573  2.62075349]\n",
      " [ 2.04865344 10.80992737]\n",
      " [ 3.0605403  13.91013541]\n",
      " [ 4.09314028 18.47385509]\n",
      " [ 4.96644467 18.71130212]\n",
      " [ 5.98963474 20.37603054]\n",
      " [ 6.87854018 31.54484907]\n",
      " [ 7.97167273 30.70933628]\n",
      " [ 9.08350935 35.81948019]\n",
      " [ 9.79118695 35.97582225]\n",
      " [11.03972883 40.50663654]\n",
      " [12.13771634 44.46381866]\n",
      " [13.31422563 48.9982566 ]\n",
      " [13.99430174 59.83105658]\n",
      " [14.7954468  60.33366355]\n",
      " [15.63051301 60.47909893]\n",
      " [16.89384245 66.23894532]\n",
      " [17.66758517 71.22500674]\n",
      " [19.41107512 79.13692456]]\n"
     ]
    }
   ],
   "source": [
    "print (data)"
   ]
  },
  {
   "cell_type": "code",
   "execution_count": 152,
   "metadata": {},
   "outputs": [],
   "source": [
    "class myPCA():\n",
    "    \n",
    "    def __init__(self, num_components):\n",
    "        \"\"\"\n",
    "        Set the number of components we want returned.\n",
    "        This value will be used in fit() to strip out the top num_components vectors\n",
    "        \"\"\"\n",
    "        self.n_components = num_components\n",
    "        \n",
    "    def __str__(self):\n",
    "        \"\"\"\n",
    "        provide access to the tensor's internal matrix\n",
    "        \"\"\"\n",
    "        return str(self.np_matrix)\n",
    "        \n",
    "    def fit(self, data):\n",
    "        \"\"\"\n",
    "        The fit method needs to calculate the eigenvectors and eigenvalues of the data in matrix\n",
    "            #1. calc mean\n",
    "            #2. centre columns\n",
    "            #3. calc covariance\n",
    "            #4. calc eigenvalues and eigenvectors usnig numpy eig function\n",
    "            #5. calc the projection\n",
    "        \"\"\"   \n",
    "        self.np_matrix = data\n",
    "        self.shape = self.np_matrix.shape\n",
    "        #1. calc mean\n",
    "        self.np_mean = np.mean(self.np_matrix.T, axis=1).T\n",
    "        #2. centre\n",
    "        self.np_centre = self.np_matrix - self.np_mean\n",
    "        #3. calculate covariance\n",
    "        self.np_cov = np.cov(self.np_centre, rowvar=False)\n",
    "        #4. calculate eigenvectors and eigenvalues\n",
    "        self.np_eigenvalues, self.np_eigenvectors = eig(self.np_cov)\n",
    "        #- sort eigenvectors by absolute value of eigenvalues - ascending\n",
    "        array_sort = np.argsort(abs(self.np_eigenvalues))\n",
    "        # reverse sort order so index of largest eigenvector is first\n",
    "        array_sort = array_sort[::-1]\n",
    "        self.np_eigenvalues = self.np_eigenvalues[array_sort]\n",
    "        #transpose the eigenvectors as linalg returns the vectors in columns\n",
    "        self.np_eigenvectors = self.np_eigenvectors.T[array_sort]\n",
    "        # reduce to number of components specified\n",
    "        self.np_eigenvalues = self.np_eigenvalues[:self.n_components]\n",
    "        self.np_eigenvectors = self.np_eigenvectors[:self.n_components]\n",
    "        \n",
    "        return self.np_eigenvalues, self.np_eigenvectors\n",
    "    \n",
    "    def transform(self, data):\n",
    "        \"\"\"\n",
    "        The transform function transforms the data using results from fit.\n",
    "        \"\"\"\n",
    "        #5. calculate the projection\n",
    "        data = data - self.np_mean\n",
    "        self.np_projection = self.np_eigenvectors.dot(data.T)\n",
    "        \n",
    "        #return the projection\n",
    "        return self.np_projection.T\n",
    "    \n",
    "    def inverse_transform(self, data):\n",
    "        \"\"\"\n",
    "        Return the Original Data Reduced with Mean added\n",
    "        \"\"\"\n",
    "        return np.dot(self.np_eigenvectors.T, self.np_projection).T + self.np_mean\n",
    "\n",
    "#\n",
    "#  ignore\n",
    "#\n",
    "#A = myPCA(2)\n",
    "#A.fit(data)\n",
    "#print (A.np_eigenvalues)\n",
    "#print (A.np_eigenvectors)\n",
    "#print (A.transform(data))\n",
    "#A.transform(data)\n",
    "#print (A.inverse_transform(data))\n",
    "\n",
    "#now calculate using scikit\n",
    "#pca = PCA(n_components=2)\n",
    "#pca.fit(data)\n",
    "#print(pca.explained_variance_)\n",
    "#print(pca.components_)\n",
    "#print(pca.transform(data))\n",
    "#pca.transform(data)\n",
    "#print(pca.inverse_transform(data))"
   ]
  },
  {
   "cell_type": "code",
   "execution_count": 154,
   "metadata": {},
   "outputs": [
    {
     "name": "stdout",
     "output_type": "stream",
     "text": [
      "[5.70291891e+02 4.30455976e-01]\n",
      "[[-0.24535793 -0.96943256]\n",
      " [-0.96943256  0.24535793]]\n",
      "[5.70291891e+02 4.30455976e-01]\n",
      "[[ 0.24535793  0.96943256]\n",
      " [-0.96943256  0.24535793]]\n"
     ]
    }
   ],
   "source": [
    "#Create a 'fit' method that calculates the eigen vectors and eigen values of your dataset. \n",
    "#Compare your results to the output of Scikitlearn's fit method and document your findings \n",
    "#as a comment (use markdown) directly under the cell with your PCA class.\n",
    "A = myPCA(2)\n",
    "A.fit(data)\n",
    "print (A.np_eigenvalues)\n",
    "print (A.np_eigenvectors)\n",
    "\n",
    "#now calculate using scikit\n",
    "pca = PCA(n_components=2)\n",
    "pca.fit(data)\n",
    "print(pca.explained_variance_)\n",
    "print(pca.components_)"
   ]
  },
  {
   "cell_type": "markdown",
   "metadata": {},
   "source": [
    "These are the output eigenvectors from my class and the scikit PCA:\n",
    "\n",
    "My Class: \n",
    "\n",
    "[[-0.24535793 -0.96943256]\n",
    " [-0.96943256  0.24535793]]\n",
    " \n",
    "scikit PCA:\n",
    "\n",
    "[[ 0.24535793  0.96943256]\n",
    " [-0.96943256  0.24535793]]\n",
    " \n",
    "The sign of the eigenvector is different, indicating that the vectors are pointing in opposite directions, but the magnitiudes are the same.\n",
    "\n",
    "These are the output eigenvalues frommy class and the scikit PCA:\n",
    "\n",
    "MyPCA [5.70291891e+02 4.30455976e-01]\n",
    "\n",
    "Scikit PCA: [5.70291891e+02 4.30455976e-01]\n",
    "\n",
    "The eigenvalues are exactly the same. The eigen values are sorted by size."
   ]
  },
  {
   "cell_type": "code",
   "execution_count": 156,
   "metadata": {},
   "outputs": [
    {
     "name": "stdout",
     "output_type": "stream",
     "text": [
      "* PCA Components: 2\n",
      "[[ 0.24535793  0.96943256]\n",
      " [-0.96943256  0.24535793]]\n",
      "[5.70291891e+02 4.30455976e-01]\n",
      "* PCA Components: 1\n",
      "[[0.24535793 0.96943256]]\n",
      "[570.29189123]\n"
     ]
    }
   ],
   "source": [
    "#2. Use the Scikitlearn's PCA class with n_components=2 and n_components=1 and observe the differences. \n",
    "#   In the cell directly below, comment on what you have observed.\n",
    "pca = PCA(n_components=2)\n",
    "pca.fit(data)\n",
    "print(\"* PCA Components: 2\")\n",
    "print(pca.components_)\n",
    "print(pca.explained_variance_)\n",
    "pca = PCA(n_components=1)\n",
    "pca.fit(data)\n",
    "print(\"* PCA Components: 1\")\n",
    "print(pca.components_)\n",
    "print(pca.explained_variance_)"
   ]
  },
  {
   "cell_type": "markdown",
   "metadata": {},
   "source": [
    "With n_components=2, scikit has returned a 2x1 matrix of eigenvectors ordered by the eigenvalues of the vectors\n",
    "With n_components=1, scikit has returned a 1x2 matrix with only the eigenvector with the highest eigenvalue returned. "
   ]
  },
  {
   "cell_type": "markdown",
   "metadata": {},
   "source": [
    "#### Reflect (Complete by Saturday Week 6)\n",
    "\n",
    "With your code (containing any corrections you have made based on your peers’ feedback), do the following:\n",
    "\n",
    "1. For the case where n_components = 1, compare the resulting dataset of your transform method with the resulting dataset from Scikitlearn’s transform method by plotting the points on an XY plot. If there are any differences, explain these in a comment directly under the cell with your plot.\n",
    "2. For the case where n_components = 1, compare the dataset resulting from your transform method with the original dataset by plotting the points on an XY plot. Comment on the differences between original and transformed data in the cell directly below your plot. In your comment, explain why and how PCA can be used for dimensionality reduction\n",
    " \n",
    "\n",
    "HINTS:\n",
    "\n",
    "You can use Scitkitlean as follows to calculate the new values of the data points in the original dataset when you reduce the dimensions of the data (from 2) to 1: \n",
    "pca = PCA(n_components=1)\n",
    "pca.fit(data)\n",
    "data_pca = pca.transform(data)\n",
    "data_reduced = pca.inverse_transform(data_pca)\n",
    "\n",
    "You can use plots to compare the values in your original dataset with the dataset with reduced dimensionality:\n",
    "plt.plot(data[:,0], data[:,1], 'or')\n",
    "plt.plot(data_reduced[:,0], data_reduced[:,1],'xb')\n",
    "plt.show()\n",
    "\n",
    "You can use your own PCA results to calculate the new values of the data points int the original dataset when you reduce the dimensions of the data (from 2) to 1:\n",
    "reduced = np.dot(features[:,0],red_highvar.T)+mean.T\n",
    "\n",
    "with:\n",
    "- reduced: a 2x20 matrix of the new values of the dataset with dimensionality reduction applied\n",
    "- features[:,0]: the 2x1 matrix (or column vector) which contains the Eigen vector associated with the highest variance\n",
    "- red_highvar: a 20x1 matrix containing the reduced dataset which is the output of your transform method with n_components set to 1. \n",
    "- mean: a 1x2 matrix of the per-column mean values of your original data\n",
    "- T: the transform operator as provided by Numpy"
   ]
  },
  {
   "cell_type": "code",
   "execution_count": 159,
   "metadata": {},
   "outputs": [
    {
     "data": {
      "image/png": "[encoded data removed]",
      "text/plain": [
       "<Figure size 432x288 with 1 Axes>"
      ]
     },
     "metadata": {},
     "output_type": "display_data"
    }
   ],
   "source": [
    "#1. For the case where n_components = 1, compare the resulting dataset of your transform \n",
    "#method with the resulting dataset from Scikitlearn’s transform method by plotting the \n",
    "#points on an XY plot. If there are any differences, explain these in a comment directly \n",
    "#under the cell with your plot.\n",
    "\n",
    "#Re-using the dataset above, with components=1, plot output from my class and Scikitlean\n",
    "pca = PCA(n_components=1) \n",
    "pca.fit(data) \n",
    "scikit_data_pca = pca.transform(data) \n",
    "scikit_data_reduced = pca.inverse_transform(scikit_data_pca)\n",
    "\n",
    "A = myPCA(1)\n",
    "A.fit(data)\n",
    "my_data_pca = A.transform(data)\n",
    "my_data_reduced = A.inverse_transform(data)\n",
    "\n",
    "#generate the plot\n",
    "plt.plot(my_data_reduced[:,0], my_data_reduced[:,1], 'or') \n",
    "plt.plot(scikit_data_reduced[:,0], scikit_data_reduced[:,1],'xb') \n",
    "plt.show()"
   ]
  },
  {
   "cell_type": "markdown",
   "metadata": {},
   "source": [
    "The data from myPCA and the scikit PCA is (visually) identical as the data points from the 2 datasets correlate."
   ]
  },
  {
   "cell_type": "code",
   "execution_count": 161,
   "metadata": {},
   "outputs": [
    {
     "data": {
      "image/png": "[encoded data removed]",
      "text/plain": [
       "<Figure size 432x288 with 1 Axes>"
      ]
     },
     "metadata": {},
     "output_type": "display_data"
    }
   ],
   "source": [
    "#2. For the case where n_components = 1, compare the dataset resulting from your transform \n",
    "#method with the original dataset by plotting the points on an XY plot. Comment on the \n",
    "#differences between original and transformed data in the cell directly below your plot. \n",
    "#In your comment, explain why and how PCA can be used for dimensionality reduction.\n",
    "\n",
    "#Re-using the dataset above, with components=1, plot output from my class and Scikitlean\n",
    "pca = PCA(n_components=1) \n",
    "pca.fit(data) \n",
    "scikit_data_pca = pca.transform(data) \n",
    "scikit_data_reduced = pca.inverse_transform(scikit_data_pca)\n",
    "\n",
    "A = myPCA(1)\n",
    "A.fit(data)\n",
    "my_data_pca = A.transform(data)\n",
    "my_data_reduced = A.inverse_transform(data)\n",
    "\n",
    "#generate the plots\n",
    "plt.plot(data[:,0], data[:,1], 'or') \n",
    "plt.plot(my_data_reduced[:,0], my_data_reduced[:,1],'xb') \n",
    "plt.show()"
   ]
  },
  {
   "cell_type": "markdown",
   "metadata": {},
   "source": [
    "Since only 1 component is being used, we are losing some data from the original dataset in the final transformed dataset. This loss is visually apparent as the data pooints form the 2 datasets are misaligned. The loss is equivalent to the sum of the ratios of the eliminated components."
   ]
  },
  {
   "cell_type": "code",
   "execution_count": null,
   "metadata": {},
   "outputs": [],
   "source": []
  }
 ],
 "metadata": {
  "kernelspec": {
   "display_name": "Python 3",
   "language": "python",
   "name": "python3"
  },
  "language_info": {
   "codemirror_mode": {
    "name": "ipython",
    "version": 3
   },
   "file_extension": ".py",
   "mimetype": "text/x-python",
   "name": "python",
   "nbconvert_exporter": "python",
   "pygments_lexer": "ipython3",
   "version": "3.6.5"
  }
 },
 "nbformat": 4,
 "nbformat_minor": 1
}
